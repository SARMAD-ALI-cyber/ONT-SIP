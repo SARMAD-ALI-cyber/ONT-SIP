{
 "cells": [
  {
   "cell_type": "code",
   "execution_count": 32,
   "id": "5cb3eaf9",
   "metadata": {},
   "outputs": [
    {
     "data": {
      "text/html": [
       "\n",
       "        <style>\n",
       "            .support_message_main_box {\n",
       "                position: relative;\n",
       "                display: table-cell;\n",
       "                vertical-align: middle;\n",
       "                width: 100%;\n",
       "                height: 8em;\n",
       "                padding: 1em;\n",
       "                padding-left: 11em;\n",
       "                background-color: #f7f7f7;\n",
       "                border: 1px solid #cfcfcf;\n",
       "                border-radius: 2px;\n",
       "            }\n",
       "            .support_message_main_box img {\n",
       "                position: absolute;\n",
       "                height: 9em;\n",
       "                width: 9em;\n",
       "                left: 0.5em;\n",
       "                top: 0.5em;\n",
       "                border-radius: 1em;\n",
       "            }\n",
       "        </style>\n",
       "        <div class=\"support_message_main_box\">\n",
       "            <img src=\"https://avatars.githubusercontent.com/u/7738570?v=4\" />\n",
       "            <p>\n",
       "            <b>Hi!</b><br/>\n",
       "            <span>I am the author of\n",
       "            <a href=\"https://github.com/LucaCappelletti94/plot_keras_history\" target=\"_blank\">\n",
       "                plot_keras_history\n",
       "            </a>, which you use in this Notebook.\n",
       "            </span><br/>\n",
       "            \n",
       "        <span>I hope my work has saved you some time!</span><br/>\n",
       "        \n",
       "            <span>I love to code, but I also need coffee.</span>\n",
       "            <a href=\"https://github.com/sponsors/LucaCappelletti94\" target=\"_blank\">\n",
       "                Please sponsor me on GitHub ❤️\n",
       "            </a><br/>\n",
       "            <i>Good luck in your coding 🍀!</i>\n",
       "            <br/>\n",
       "            <i>- Luca</i>\n",
       "            </p>\n",
       "        <div>\n",
       "        "
      ],
      "text/plain": [
       "<IPython.core.display.HTML object>"
      ]
     },
     "metadata": {},
     "output_type": "display_data"
    }
   ],
   "source": [
    "import numpy as np\n",
    "import matplotlib.pyplot as plt\n",
    "import pandas as pd\n",
    "from sklearn.model_selection import train_test_split\n",
    "from sklearn.preprocessing import MinMaxScaler\n",
    "from sklearn.preprocessing import StandardScaler\n",
    "import tensorflow as tf,keras,keras.losses,keras.metrics\n",
    "from  tensorflow.keras.applications  import VGG16\n",
    "from tensorflow.keras.models import Sequential,Model\n",
    "from tensorflow.keras.layers import Input, Dense, concatenate, Flatten\n",
    "from plot_keras_history import plot_history\n",
    "import logging\n",
    "logging.getLogger(\"tensorflow\").setLevel(logging.ERROR)\n",
    "tf.autograph.set_verbosity(0)\n",
    "from scipy.special import expit\n",
    "from sklearn.metrics import mean_squared_error\n"
   ]
  },
  {
   "cell_type": "markdown",
   "id": "6f7093aa",
   "metadata": {},
   "source": [
    "## Data Related Stuff"
   ]
  },
  {
   "cell_type": "code",
   "execution_count": 2,
   "id": "5a7d8a98",
   "metadata": {},
   "outputs": [
    {
     "data": {
      "text/plain": [
       "(33000, 307)"
      ]
     },
     "execution_count": 2,
     "metadata": {},
     "output_type": "execute_result"
    }
   ],
   "source": [
    "data=pd.read_csv(\"USA.csv\")\n",
    "data.shape"
   ]
  },
  {
   "cell_type": "code",
   "execution_count": 3,
   "id": "4b24dbcd",
   "metadata": {},
   "outputs": [
    {
     "data": {
      "text/plain": [
       "11    6000\n",
       "23    3000\n",
       "30    3000\n",
       "25    3000\n",
       "46    3000\n",
       "24    3000\n",
       "6     3000\n",
       "57    3000\n",
       "22    3000\n",
       "44    3000\n",
       "Name: No. Spans, dtype: int64"
      ]
     },
     "execution_count": 3,
     "metadata": {},
     "output_type": "execute_result"
    }
   ],
   "source": [
    "data['No. Spans'].value_counts()"
   ]
  },
  {
   "cell_type": "code",
   "execution_count": 4,
   "id": "06b4477f",
   "metadata": {},
   "outputs": [
    {
     "data": {
      "text/html": [
       "<div>\n",
       "<style scoped>\n",
       "    .dataframe tbody tr th:only-of-type {\n",
       "        vertical-align: middle;\n",
       "    }\n",
       "\n",
       "    .dataframe tbody tr th {\n",
       "        vertical-align: top;\n",
       "    }\n",
       "\n",
       "    .dataframe thead th {\n",
       "        text-align: right;\n",
       "    }\n",
       "</style>\n",
       "<table border=\"1\" class=\"dataframe\">\n",
       "  <thead>\n",
       "    <tr style=\"text-align: right;\">\n",
       "      <th></th>\n",
       "      <th>Power_1</th>\n",
       "      <th>Power_2</th>\n",
       "      <th>Power_3</th>\n",
       "      <th>Power_4</th>\n",
       "      <th>Power_5</th>\n",
       "      <th>Power_6</th>\n",
       "      <th>Power_7</th>\n",
       "      <th>Power_8</th>\n",
       "      <th>Power_9</th>\n",
       "      <th>Power_10</th>\n",
       "      <th>...</th>\n",
       "      <th>GSNR_71</th>\n",
       "      <th>GSNR_72</th>\n",
       "      <th>GSNR_73</th>\n",
       "      <th>GSNR_74</th>\n",
       "      <th>GSNR_75</th>\n",
       "      <th>GSNR_76</th>\n",
       "      <th>No. Spans</th>\n",
       "      <th>Total Distance(m)</th>\n",
       "      <th>GSNR_1</th>\n",
       "      <th>GSNR_class</th>\n",
       "    </tr>\n",
       "  </thead>\n",
       "  <tbody>\n",
       "    <tr>\n",
       "      <th>0</th>\n",
       "      <td>0.000000</td>\n",
       "      <td>0.000000</td>\n",
       "      <td>0.000096</td>\n",
       "      <td>0.000096</td>\n",
       "      <td>0.000096</td>\n",
       "      <td>0.000000</td>\n",
       "      <td>0.000096</td>\n",
       "      <td>0.0</td>\n",
       "      <td>0.000096</td>\n",
       "      <td>0.0</td>\n",
       "      <td>...</td>\n",
       "      <td>0.000000</td>\n",
       "      <td>0.000000</td>\n",
       "      <td>0.000000</td>\n",
       "      <td>26.391513</td>\n",
       "      <td>0.000000</td>\n",
       "      <td>0.000000</td>\n",
       "      <td>23</td>\n",
       "      <td>2050305</td>\n",
       "      <td>0.000000</td>\n",
       "      <td>0</td>\n",
       "    </tr>\n",
       "    <tr>\n",
       "      <th>1</th>\n",
       "      <td>0.000000</td>\n",
       "      <td>0.000096</td>\n",
       "      <td>0.000000</td>\n",
       "      <td>0.000096</td>\n",
       "      <td>0.000000</td>\n",
       "      <td>0.000096</td>\n",
       "      <td>0.000000</td>\n",
       "      <td>0.0</td>\n",
       "      <td>0.000000</td>\n",
       "      <td>0.0</td>\n",
       "      <td>...</td>\n",
       "      <td>0.000000</td>\n",
       "      <td>0.000000</td>\n",
       "      <td>25.764675</td>\n",
       "      <td>0.000000</td>\n",
       "      <td>0.000000</td>\n",
       "      <td>0.000000</td>\n",
       "      <td>23</td>\n",
       "      <td>2050305</td>\n",
       "      <td>0.000000</td>\n",
       "      <td>0</td>\n",
       "    </tr>\n",
       "    <tr>\n",
       "      <th>2</th>\n",
       "      <td>0.000000</td>\n",
       "      <td>0.000000</td>\n",
       "      <td>0.000000</td>\n",
       "      <td>0.000096</td>\n",
       "      <td>0.000000</td>\n",
       "      <td>0.000000</td>\n",
       "      <td>0.000000</td>\n",
       "      <td>0.0</td>\n",
       "      <td>0.000096</td>\n",
       "      <td>0.0</td>\n",
       "      <td>...</td>\n",
       "      <td>25.759626</td>\n",
       "      <td>0.000000</td>\n",
       "      <td>0.000000</td>\n",
       "      <td>0.000000</td>\n",
       "      <td>24.616361</td>\n",
       "      <td>24.297057</td>\n",
       "      <td>23</td>\n",
       "      <td>2050305</td>\n",
       "      <td>0.000000</td>\n",
       "      <td>0</td>\n",
       "    </tr>\n",
       "    <tr>\n",
       "      <th>3</th>\n",
       "      <td>0.000096</td>\n",
       "      <td>0.000096</td>\n",
       "      <td>0.000096</td>\n",
       "      <td>0.000096</td>\n",
       "      <td>0.000096</td>\n",
       "      <td>0.000000</td>\n",
       "      <td>0.000000</td>\n",
       "      <td>0.0</td>\n",
       "      <td>0.000096</td>\n",
       "      <td>0.0</td>\n",
       "      <td>...</td>\n",
       "      <td>21.235013</td>\n",
       "      <td>22.810189</td>\n",
       "      <td>0.000000</td>\n",
       "      <td>0.000000</td>\n",
       "      <td>0.000000</td>\n",
       "      <td>0.000000</td>\n",
       "      <td>23</td>\n",
       "      <td>2050305</td>\n",
       "      <td>22.651367</td>\n",
       "      <td>1</td>\n",
       "    </tr>\n",
       "    <tr>\n",
       "      <th>4</th>\n",
       "      <td>0.000000</td>\n",
       "      <td>0.000000</td>\n",
       "      <td>0.000096</td>\n",
       "      <td>0.000000</td>\n",
       "      <td>0.000096</td>\n",
       "      <td>0.000000</td>\n",
       "      <td>0.000000</td>\n",
       "      <td>0.0</td>\n",
       "      <td>0.000096</td>\n",
       "      <td>0.0</td>\n",
       "      <td>...</td>\n",
       "      <td>22.666472</td>\n",
       "      <td>21.211149</td>\n",
       "      <td>21.131602</td>\n",
       "      <td>21.349516</td>\n",
       "      <td>22.572032</td>\n",
       "      <td>0.000000</td>\n",
       "      <td>23</td>\n",
       "      <td>2050305</td>\n",
       "      <td>0.000000</td>\n",
       "      <td>0</td>\n",
       "    </tr>\n",
       "  </tbody>\n",
       "</table>\n",
       "<p>5 rows × 307 columns</p>\n",
       "</div>"
      ],
      "text/plain": [
       "    Power_1   Power_2   Power_3   Power_4   Power_5   Power_6   Power_7  \\\n",
       "0  0.000000  0.000000  0.000096  0.000096  0.000096  0.000000  0.000096   \n",
       "1  0.000000  0.000096  0.000000  0.000096  0.000000  0.000096  0.000000   \n",
       "2  0.000000  0.000000  0.000000  0.000096  0.000000  0.000000  0.000000   \n",
       "3  0.000096  0.000096  0.000096  0.000096  0.000096  0.000000  0.000000   \n",
       "4  0.000000  0.000000  0.000096  0.000000  0.000096  0.000000  0.000000   \n",
       "\n",
       "   Power_8   Power_9  Power_10  ...    GSNR_71    GSNR_72    GSNR_73  \\\n",
       "0      0.0  0.000096       0.0  ...   0.000000   0.000000   0.000000   \n",
       "1      0.0  0.000000       0.0  ...   0.000000   0.000000  25.764675   \n",
       "2      0.0  0.000096       0.0  ...  25.759626   0.000000   0.000000   \n",
       "3      0.0  0.000096       0.0  ...  21.235013  22.810189   0.000000   \n",
       "4      0.0  0.000096       0.0  ...  22.666472  21.211149  21.131602   \n",
       "\n",
       "     GSNR_74    GSNR_75    GSNR_76  No. Spans  Total Distance(m)     GSNR_1  \\\n",
       "0  26.391513   0.000000   0.000000         23            2050305   0.000000   \n",
       "1   0.000000   0.000000   0.000000         23            2050305   0.000000   \n",
       "2   0.000000  24.616361  24.297057         23            2050305   0.000000   \n",
       "3   0.000000   0.000000   0.000000         23            2050305  22.651367   \n",
       "4  21.349516  22.572032   0.000000         23            2050305   0.000000   \n",
       "\n",
       "   GSNR_class  \n",
       "0           0  \n",
       "1           0  \n",
       "2           0  \n",
       "3           1  \n",
       "4           0  \n",
       "\n",
       "[5 rows x 307 columns]"
      ]
     },
     "execution_count": 4,
     "metadata": {},
     "output_type": "execute_result"
    }
   ],
   "source": [
    "data.head(5)"
   ]
  },
  {
   "cell_type": "code",
   "execution_count": 5,
   "id": "822a3f74",
   "metadata": {},
   "outputs": [
    {
     "name": "stdout",
     "output_type": "stream",
     "text": [
      "X  (33000, 306)\n",
      "y  (33000,)\n"
     ]
    },
    {
     "data": {
      "text/plain": [
       "0    22182\n",
       "1    10818\n",
       "Name: GSNR_class, dtype: int64"
      ]
     },
     "execution_count": 5,
     "metadata": {},
     "output_type": "execute_result"
    }
   ],
   "source": [
    "X=data.iloc[:,:-1]\n",
    "y=data.iloc[:,-1]\n",
    "print(\"X \",X.shape)\n",
    "print(\"y \",y.shape)\n",
    "y.value_counts()"
   ]
  },
  {
   "cell_type": "code",
   "execution_count": 6,
   "id": "b860174f",
   "metadata": {},
   "outputs": [
    {
     "name": "stdout",
     "output_type": "stream",
     "text": [
      "(26400, 306)\n",
      "(26400, 1)\n",
      "(6600, 306)\n",
      "(6600, 1)\n"
     ]
    }
   ],
   "source": [
    "#splitting the data set\n",
    "X_train,X_test,y_train,y_test=train_test_split(X,y,test_size=0.2,random_state=42)\n",
    "#=========converting to array===================\n",
    "X_train=np.array(X_train)\n",
    "X_test=np.array(X_test)\n",
    "y_train=np.array(y_train)\n",
    "y_test=np.array(y_test)\n",
    "#=========reshaping=============================\n",
    "y_train=y_train.reshape(-1,1)\n",
    "y_test=y_test.reshape(-1,1)\n",
    "#===========printing Shapes======\n",
    "print(X_train.shape)\n",
    "print(y_train.shape)\n",
    "print(X_test.shape)\n",
    "print(y_test.shape)"
   ]
  },
  {
   "cell_type": "code",
   "execution_count": 7,
   "id": "431ae900",
   "metadata": {},
   "outputs": [],
   "source": [
    "#===========scalling================\n",
    "scaler=StandardScaler()\n",
    "X_train=scaler.fit_transform(X_train)\n",
    "X_test=scaler.transform(X_test)"
   ]
  },
  {
   "cell_type": "markdown",
   "id": "4727f89e",
   "metadata": {},
   "source": [
    "## Teacher Model Stuff"
   ]
  },
  {
   "cell_type": "code",
   "execution_count": 22,
   "id": "4b9b5856",
   "metadata": {},
   "outputs": [],
   "source": [
    "teacher= keras.models.load_model('USA-MODEL.h5')"
   ]
  },
  {
   "cell_type": "code",
   "execution_count": 9,
   "id": "0adfb474",
   "metadata": {},
   "outputs": [],
   "source": [
    "teacher._name='teacher'\n",
    "teacher.trainable=False"
   ]
  },
  {
   "cell_type": "code",
   "execution_count": 23,
   "id": "bd8c742c",
   "metadata": {},
   "outputs": [
    {
     "name": "stdout",
     "output_type": "stream",
     "text": [
      "Model: \"USA-Teacher\"\n",
      "_________________________________________________________________\n",
      " Layer (type)                Output Shape              Param #   \n",
      "=================================================================\n",
      " dense_6 (Dense)             (None, 256)               78592     \n",
      "                                                                 \n",
      " dense_7 (Dense)             (None, 128)               32896     \n",
      "                                                                 \n",
      " dense_8 (Dense)             (None, 64)                8256      \n",
      "                                                                 \n",
      " dense_9 (Dense)             (None, 32)                2080      \n",
      "                                                                 \n",
      " dense_10 (Dense)            (None, 16)                528       \n",
      "                                                                 \n",
      " dense_11 (Dense)            (None, 1)                 17        \n",
      "                                                                 \n",
      "=================================================================\n",
      "Total params: 122,369\n",
      "Trainable params: 122,369\n",
      "Non-trainable params: 0\n",
      "_________________________________________________________________\n"
     ]
    }
   ],
   "source": [
    "teacher.summary()"
   ]
  },
  {
   "cell_type": "code",
   "execution_count": 11,
   "id": "14c0fe53",
   "metadata": {},
   "outputs": [
    {
     "name": "stdout",
     "output_type": "stream",
     "text": [
      "207/207 [==============================] - 1s 2ms/step - loss: 0.0043 - accuracy: 0.9995\n"
     ]
    },
    {
     "data": {
      "text/plain": [
       "[0.004253116436302662, 0.9995454549789429]"
      ]
     },
     "execution_count": 11,
     "metadata": {},
     "output_type": "execute_result"
    }
   ],
   "source": [
    "teacher.evaluate(X_test,y_test)"
   ]
  },
  {
   "cell_type": "markdown",
   "id": "423a50e2",
   "metadata": {},
   "source": [
    "# Student Model Stuff"
   ]
  },
  {
   "cell_type": "code",
   "execution_count": 26,
   "id": "93edc39d",
   "metadata": {},
   "outputs": [],
   "source": [
    "student= tf.keras.Sequential([\n",
    "    tf.keras.layers.Dense(128, activation='relu', input_shape=(X_train.shape[1],),kernel_initializer='he_normal'),\n",
    "    tf.keras.layers.Dense(64, activation='relu',kernel_initializer='he_normal'),\n",
    "    tf.keras.layers.Dense(32, activation='relu',kernel_initializer='he_normal'),\n",
    "    tf.keras.layers.Dense(16, activation='relu',kernel_initializer='he_normal'),\n",
    "    tf.keras.layers.Dense(1, activation='sigmoid',kernel_initializer='he_normal')\n",
    "])"
   ]
  },
  {
   "cell_type": "code",
   "execution_count": 27,
   "id": "07438585",
   "metadata": {},
   "outputs": [],
   "source": [
    "student._name='student'"
   ]
  },
  {
   "cell_type": "code",
   "execution_count": 28,
   "id": "013d1839",
   "metadata": {},
   "outputs": [
    {
     "name": "stdout",
     "output_type": "stream",
     "text": [
      "Model: \"student\"\n",
      "_________________________________________________________________\n",
      " Layer (type)                Output Shape              Param #   \n",
      "=================================================================\n",
      " dense_15 (Dense)            (None, 128)               39296     \n",
      "                                                                 \n",
      " dense_16 (Dense)            (None, 64)                8256      \n",
      "                                                                 \n",
      " dense_17 (Dense)            (None, 32)                2080      \n",
      "                                                                 \n",
      " dense_18 (Dense)            (None, 16)                528       \n",
      "                                                                 \n",
      " dense_19 (Dense)            (None, 1)                 17        \n",
      "                                                                 \n",
      "=================================================================\n",
      "Total params: 50,177\n",
      "Trainable params: 50,177\n",
      "Non-trainable params: 0\n",
      "_________________________________________________________________\n"
     ]
    }
   ],
   "source": [
    "student.summary()"
   ]
  },
  {
   "cell_type": "code",
   "execution_count": 29,
   "id": "a5255575",
   "metadata": {},
   "outputs": [],
   "source": [
    "scratch_student=keras.models.clone_model(student)"
   ]
  },
  {
   "cell_type": "code",
   "execution_count": 16,
   "id": "ad6332a6",
   "metadata": {},
   "outputs": [],
   "source": [
    "optimizer = tf.keras.optimizers.Adam(learning_rate=0.001)#0.001\n",
    "scratch_student.compile(optimizer=optimizer, loss='binary_crossentropy', metrics=['accuracy'])"
   ]
  },
  {
   "cell_type": "code",
   "execution_count": 17,
   "id": "d573822e",
   "metadata": {},
   "outputs": [
    {
     "name": "stdout",
     "output_type": "stream",
     "text": [
      "Epoch 1/50\n",
      "1/1 [==============================] - 1s 1s/step - loss: 0.7366 - accuracy: 0.4591 - val_loss: 0.6833 - val_accuracy: 0.5695\n",
      "Epoch 2/50\n",
      "1/1 [==============================] - 0s 116ms/step - loss: 0.6791 - accuracy: 0.5751 - val_loss: 0.6397 - val_accuracy: 0.6383\n",
      "Epoch 3/50\n",
      "1/1 [==============================] - 0s 150ms/step - loss: 0.6346 - accuracy: 0.6509 - val_loss: 0.6088 - val_accuracy: 0.6733\n",
      "Epoch 4/50\n",
      "1/1 [==============================] - 0s 251ms/step - loss: 0.6030 - accuracy: 0.6833 - val_loss: 0.5879 - val_accuracy: 0.6809\n",
      "Epoch 5/50\n",
      "1/1 [==============================] - 0s 133ms/step - loss: 0.5815 - accuracy: 0.6909 - val_loss: 0.5733 - val_accuracy: 0.6836\n",
      "Epoch 6/50\n",
      "1/1 [==============================] - 0s 112ms/step - loss: 0.5661 - accuracy: 0.6917 - val_loss: 0.5617 - val_accuracy: 0.6891\n",
      "Epoch 7/50\n",
      "1/1 [==============================] - 0s 112ms/step - loss: 0.5538 - accuracy: 0.6953 - val_loss: 0.5514 - val_accuracy: 0.6932\n",
      "Epoch 8/50\n",
      "1/1 [==============================] - 0s 123ms/step - loss: 0.5427 - accuracy: 0.6981 - val_loss: 0.5410 - val_accuracy: 0.6945\n",
      "Epoch 9/50\n",
      "1/1 [==============================] - 0s 242ms/step - loss: 0.5315 - accuracy: 0.7022 - val_loss: 0.5301 - val_accuracy: 0.7011\n",
      "Epoch 10/50\n",
      "1/1 [==============================] - 0s 135ms/step - loss: 0.5197 - accuracy: 0.7080 - val_loss: 0.5187 - val_accuracy: 0.7045\n",
      "Epoch 11/50\n",
      "1/1 [==============================] - 0s 95ms/step - loss: 0.5074 - accuracy: 0.7153 - val_loss: 0.5070 - val_accuracy: 0.7121\n",
      "Epoch 12/50\n",
      "1/1 [==============================] - 0s 102ms/step - loss: 0.4949 - accuracy: 0.7239 - val_loss: 0.4953 - val_accuracy: 0.7197\n",
      "Epoch 13/50\n",
      "1/1 [==============================] - 0s 282ms/step - loss: 0.4827 - accuracy: 0.7333 - val_loss: 0.4838 - val_accuracy: 0.7273\n",
      "Epoch 14/50\n",
      "1/1 [==============================] - 0s 130ms/step - loss: 0.4707 - accuracy: 0.7428 - val_loss: 0.4724 - val_accuracy: 0.7368\n",
      "Epoch 15/50\n",
      "1/1 [==============================] - 0s 102ms/step - loss: 0.4589 - accuracy: 0.7535 - val_loss: 0.4609 - val_accuracy: 0.7491\n",
      "Epoch 16/50\n",
      "1/1 [==============================] - 0s 112ms/step - loss: 0.4472 - accuracy: 0.7661 - val_loss: 0.4489 - val_accuracy: 0.7661\n",
      "Epoch 17/50\n",
      "1/1 [==============================] - 0s 230ms/step - loss: 0.4353 - accuracy: 0.7828 - val_loss: 0.4365 - val_accuracy: 0.7826\n",
      "Epoch 18/50\n",
      "1/1 [==============================] - 0s 136ms/step - loss: 0.4230 - accuracy: 0.8000 - val_loss: 0.4237 - val_accuracy: 0.7989\n",
      "Epoch 19/50\n",
      "1/1 [==============================] - 0s 110ms/step - loss: 0.4102 - accuracy: 0.8148 - val_loss: 0.4106 - val_accuracy: 0.8150\n",
      "Epoch 20/50\n",
      "1/1 [==============================] - 0s 97ms/step - loss: 0.3967 - accuracy: 0.8278 - val_loss: 0.3969 - val_accuracy: 0.8258\n",
      "Epoch 21/50\n",
      "1/1 [==============================] - 0s 122ms/step - loss: 0.3825 - accuracy: 0.8410 - val_loss: 0.3830 - val_accuracy: 0.8379\n",
      "Epoch 22/50\n",
      "1/1 [==============================] - 0s 232ms/step - loss: 0.3679 - accuracy: 0.8535 - val_loss: 0.3687 - val_accuracy: 0.8482\n",
      "Epoch 23/50\n",
      "1/1 [==============================] - 0s 122ms/step - loss: 0.3529 - accuracy: 0.8648 - val_loss: 0.3538 - val_accuracy: 0.8585\n",
      "Epoch 24/50\n",
      "1/1 [==============================] - 0s 101ms/step - loss: 0.3377 - accuracy: 0.8746 - val_loss: 0.3383 - val_accuracy: 0.8702\n",
      "Epoch 25/50\n",
      "1/1 [==============================] - 0s 123ms/step - loss: 0.3220 - accuracy: 0.8844 - val_loss: 0.3224 - val_accuracy: 0.8827\n",
      "Epoch 26/50\n",
      "1/1 [==============================] - 0s 181ms/step - loss: 0.3059 - accuracy: 0.8953 - val_loss: 0.3058 - val_accuracy: 0.8941\n",
      "Epoch 27/50\n",
      "1/1 [==============================] - 0s 150ms/step - loss: 0.2894 - accuracy: 0.9070 - val_loss: 0.2887 - val_accuracy: 0.9085\n",
      "Epoch 28/50\n",
      "1/1 [==============================] - 0s 126ms/step - loss: 0.2726 - accuracy: 0.9200 - val_loss: 0.2710 - val_accuracy: 0.9218\n",
      "Epoch 29/50\n",
      "1/1 [==============================] - 0s 109ms/step - loss: 0.2555 - accuracy: 0.9338 - val_loss: 0.2531 - val_accuracy: 0.9355\n",
      "Epoch 30/50\n",
      "1/1 [==============================] - 0s 114ms/step - loss: 0.2383 - accuracy: 0.9444 - val_loss: 0.2351 - val_accuracy: 0.9476\n",
      "Epoch 31/50\n",
      "1/1 [==============================] - 0s 243ms/step - loss: 0.2211 - accuracy: 0.9533 - val_loss: 0.2170 - val_accuracy: 0.9550\n",
      "Epoch 32/50\n",
      "1/1 [==============================] - 0s 132ms/step - loss: 0.2036 - accuracy: 0.9609 - val_loss: 0.1989 - val_accuracy: 0.9605\n",
      "Epoch 33/50\n",
      "1/1 [==============================] - 0s 100ms/step - loss: 0.1858 - accuracy: 0.9675 - val_loss: 0.1812 - val_accuracy: 0.9662\n",
      "Epoch 34/50\n",
      "1/1 [==============================] - 0s 105ms/step - loss: 0.1683 - accuracy: 0.9727 - val_loss: 0.1642 - val_accuracy: 0.9694\n",
      "Epoch 35/50\n",
      "1/1 [==============================] - 0s 131ms/step - loss: 0.1516 - accuracy: 0.9770 - val_loss: 0.1479 - val_accuracy: 0.9738\n",
      "Epoch 36/50\n",
      "1/1 [==============================] - 0s 208ms/step - loss: 0.1358 - accuracy: 0.9798 - val_loss: 0.1327 - val_accuracy: 0.9764\n",
      "Epoch 37/50\n",
      "1/1 [==============================] - 0s 123ms/step - loss: 0.1211 - accuracy: 0.9820 - val_loss: 0.1185 - val_accuracy: 0.9785\n",
      "Epoch 38/50\n",
      "1/1 [==============================] - 0s 107ms/step - loss: 0.1073 - accuracy: 0.9850 - val_loss: 0.1052 - val_accuracy: 0.9809\n",
      "Epoch 39/50\n",
      "1/1 [==============================] - 0s 127ms/step - loss: 0.0944 - accuracy: 0.9878 - val_loss: 0.0927 - val_accuracy: 0.9830\n",
      "Epoch 40/50\n",
      "1/1 [==============================] - 0s 273ms/step - loss: 0.0824 - accuracy: 0.9901 - val_loss: 0.0809 - val_accuracy: 0.9867\n",
      "Epoch 41/50\n",
      "1/1 [==============================] - 0s 125ms/step - loss: 0.0715 - accuracy: 0.9919 - val_loss: 0.0705 - val_accuracy: 0.9898\n",
      "Epoch 42/50\n",
      "1/1 [==============================] - 0s 95ms/step - loss: 0.0617 - accuracy: 0.9938 - val_loss: 0.0613 - val_accuracy: 0.9917\n",
      "Epoch 43/50\n",
      "1/1 [==============================] - 0s 101ms/step - loss: 0.0529 - accuracy: 0.9956 - val_loss: 0.0533 - val_accuracy: 0.9936\n",
      "Epoch 44/50\n",
      "1/1 [==============================] - 0s 188ms/step - loss: 0.0452 - accuracy: 0.9968 - val_loss: 0.0461 - val_accuracy: 0.9948\n",
      "Epoch 45/50\n",
      "1/1 [==============================] - 0s 125ms/step - loss: 0.0385 - accuracy: 0.9978 - val_loss: 0.0399 - val_accuracy: 0.9961\n",
      "Epoch 46/50\n",
      "1/1 [==============================] - 0s 110ms/step - loss: 0.0328 - accuracy: 0.9983 - val_loss: 0.0346 - val_accuracy: 0.9967\n",
      "Epoch 47/50\n",
      "1/1 [==============================] - 0s 96ms/step - loss: 0.0278 - accuracy: 0.9987 - val_loss: 0.0302 - val_accuracy: 0.9971\n",
      "Epoch 48/50\n",
      "1/1 [==============================] - 0s 108ms/step - loss: 0.0237 - accuracy: 0.9991 - val_loss: 0.0262 - val_accuracy: 0.9977\n",
      "Epoch 49/50\n",
      "1/1 [==============================] - 0s 121ms/step - loss: 0.0201 - accuracy: 0.9994 - val_loss: 0.0229 - val_accuracy: 0.9983\n",
      "Epoch 50/50\n",
      "1/1 [==============================] - 0s 180ms/step - loss: 0.0171 - accuracy: 0.9995 - val_loss: 0.0200 - val_accuracy: 0.9985\n"
     ]
    }
   ],
   "source": [
    "model_history=scratch_student.fit(X_train, y_train, epochs=50, batch_size=X_train.shape[0],validation_data=(X_test,y_test))"
   ]
  },
  {
   "cell_type": "code",
   "execution_count": 18,
   "id": "ad0b8d5e",
   "metadata": {},
   "outputs": [
    {
     "name": "stdout",
     "output_type": "stream",
     "text": [
      "207/207 [==============================] - 0s 1ms/step - loss: 0.0200 - accuracy: 0.9985\n"
     ]
    },
    {
     "data": {
      "text/plain": [
       "[0.020042840391397476, 0.9984848499298096]"
      ]
     },
     "execution_count": 18,
     "metadata": {},
     "output_type": "execute_result"
    }
   ],
   "source": [
    "scratch_student.evaluate(X_test,y_test)"
   ]
  },
  {
   "cell_type": "markdown",
   "id": "0966bf76",
   "metadata": {},
   "source": [
    "Graph For Scratch Student"
   ]
  },
  {
   "cell_type": "code",
   "execution_count": 33,
   "id": "f2e0a540",
   "metadata": {},
   "outputs": [
    {
     "data": {
      "text/plain": [
       "(<Figure size 1000x500 with 2 Axes>,\n",
       " array([<Axes: title={'center': 'Loss'}, xlabel='Epochs', ylabel='Loss'>,\n",
       "        <Axes: title={'center': 'Accuracy'}, xlabel='Epochs', ylabel='Accuracy'>],\n",
       "       dtype=object))"
      ]
     },
     "execution_count": 33,
     "metadata": {},
     "output_type": "execute_result"
    },
    {
     "data": {
      "image/png": "[encoded data removed]",
      "text/plain": [
       "<Figure size 1000x500 with 2 Axes>"
      ]
     },
     "metadata": {},
     "output_type": "display_data"
    }
   ],
   "source": [
    "plot_history(model_history,show_standard_deviation=False,show_average=True)"
   ]
  },
  {
   "cell_type": "code",
   "execution_count": 37,
   "id": "9187caac",
   "metadata": {},
   "outputs": [],
   "source": [
    "scratch_student.save('Student-Model-USAdataset-for-KD.h5')"
   ]
  },
  {
   "cell_type": "markdown",
   "id": "fcb00682",
   "metadata": {},
   "source": [
    "KNOWLEDGE DISTILLATION"
   ]
  },
  {
   "cell_type": "code",
   "execution_count": 30,
   "id": "9442b555",
   "metadata": {},
   "outputs": [],
   "source": [
    "class Distiller(keras.Model):\n",
    "    def __init__(self,student,teacher):\n",
    "        super(Distiller,self).__init__()\n",
    "        self.student=student\n",
    "        self.teacher=teacher\n",
    "    def compile(self,optimizer,metrics,student_loss_fn,distillation_loss_fn,alpha=0.1,temperature=3):\n",
    "        super(Distiller,self).compile(optimizer=optimizer,metrics=metrics)\n",
    "        self.student_loss_fn=student_loss_fn\n",
    "        self.distillation_loss_fn=distillation_loss_fn\n",
    "        self.alpha=alpha\n",
    "        self.temperature=temperature\n",
    "    def train_step(self,data1):\n",
    "        x,y=data1\n",
    "        teacher_predictions=self.teacher(x,training=False)\n",
    "        with tf.GradientTape() as tape:\n",
    "            student_predictions=self.student(x,training=True)\n",
    "            student_loss=self.student_loss_fn(y,student_predictions)\n",
    "            #distillation_loss=self.distillation_loss_fn(tf.nn.softmax(teacher_predictions/self.temperature,axis=1),tf.nn.softmax(student_predictions/self.temperature,axis=1))\n",
    "            distillation_loss=self.distillation_loss_fn(teacher_predictions,student_predictions)\n",
    "            loss=self.alpha*student_loss+(1-self.alpha)*distillation_loss\n",
    "        modelParameters=self.student.trainable_variables\n",
    "        gradients=tape.gradient(loss,modelParameters)\n",
    "        self.optimizer.apply_gradients(zip(gradients,modelParameters))\n",
    "        self.compiled_metrics.update_state(y,student_predictions)\n",
    "        \n",
    "        results={m.name:m.result() for m in self.metrics}\n",
    "        results.update(\n",
    "            {'student_loss':student_loss,'distillation_loss':distillation_loss}\n",
    "        )\n",
    "        return results\n",
    "    def test_step(self,data1):\n",
    "        x,y=data1\n",
    "        predictions=self.student(x)\n",
    "        student_loss=self.student_loss_fn(y,predictions)\n",
    "        self.compiled_metrics.update_state(y, predictions)\n",
    "        \n",
    "        results={m.name:m.result() for m in self.metrics}\n",
    "        results.update(\n",
    "            {'student_loss': student_loss}\n",
    "        )\n",
    "        return results\n",
    "        \n",
    "    \n",
    "            \n",
    "            \n",
    "    \n",
    "            "
   ]
  },
  {
   "cell_type": "code",
   "execution_count": 31,
   "id": "97ec4e0d",
   "metadata": {},
   "outputs": [
    {
     "name": "stdout",
     "output_type": "stream",
     "text": [
      "Epoch 1/40\n",
      "1/1 [==============================] - 1s 1s/step - binary_accuracy: 0.6681 - student_loss: 0.6235 - distillation_loss: 0.6234 - val_binary_accuracy: 0.6689 - val_student_loss: 0.5951\n",
      "Epoch 2/40\n",
      "1/1 [==============================] - 0s 141ms/step - binary_accuracy: 0.6734 - student_loss: 0.5951 - distillation_loss: 0.5950 - val_binary_accuracy: 0.6745 - val_student_loss: 0.5734\n",
      "Epoch 3/40\n",
      "1/1 [==============================] - 0s 256ms/step - binary_accuracy: 0.6797 - student_loss: 0.5713 - distillation_loss: 0.5713 - val_binary_accuracy: 0.6844 - val_student_loss: 0.5527\n",
      "Epoch 4/40\n",
      "1/1 [==============================] - 0s 229ms/step - binary_accuracy: 0.6892 - student_loss: 0.5494 - distillation_loss: 0.5495 - val_binary_accuracy: 0.6945 - val_student_loss: 0.5328\n",
      "Epoch 5/40\n",
      "1/1 [==============================] - 0s 154ms/step - binary_accuracy: 0.6999 - student_loss: 0.5286 - distillation_loss: 0.5288 - val_binary_accuracy: 0.7082 - val_student_loss: 0.5137\n",
      "Epoch 6/40\n",
      "1/1 [==============================] - 0s 132ms/step - binary_accuracy: 0.7130 - student_loss: 0.5090 - distillation_loss: 0.5092 - val_binary_accuracy: 0.7214 - val_student_loss: 0.4956\n",
      "Epoch 7/40\n",
      "1/1 [==============================] - 0s 139ms/step - binary_accuracy: 0.7259 - student_loss: 0.4905 - distillation_loss: 0.4908 - val_binary_accuracy: 0.7383 - val_student_loss: 0.4782\n",
      "Epoch 8/40\n",
      "1/1 [==============================] - 0s 153ms/step - binary_accuracy: 0.7413 - student_loss: 0.4723 - distillation_loss: 0.4726 - val_binary_accuracy: 0.7533 - val_student_loss: 0.4610\n",
      "Epoch 9/40\n",
      "1/1 [==============================] - 0s 221ms/step - binary_accuracy: 0.7613 - student_loss: 0.4537 - distillation_loss: 0.4542 - val_binary_accuracy: 0.7718 - val_student_loss: 0.4438\n",
      "Epoch 10/40\n",
      "1/1 [==============================] - 0s 177ms/step - binary_accuracy: 0.7833 - student_loss: 0.4352 - distillation_loss: 0.4358 - val_binary_accuracy: 0.7908 - val_student_loss: 0.4265\n",
      "Epoch 11/40\n",
      "1/1 [==============================] - 0s 146ms/step - binary_accuracy: 0.8039 - student_loss: 0.4168 - distillation_loss: 0.4174 - val_binary_accuracy: 0.8073 - val_student_loss: 0.4084\n",
      "Epoch 12/40\n",
      "1/1 [==============================] - 0s 127ms/step - binary_accuracy: 0.8208 - student_loss: 0.3977 - distillation_loss: 0.3985 - val_binary_accuracy: 0.8209 - val_student_loss: 0.3895\n",
      "Epoch 13/40\n",
      "1/1 [==============================] - 0s 139ms/step - binary_accuracy: 0.8372 - student_loss: 0.3779 - distillation_loss: 0.3787 - val_binary_accuracy: 0.8376 - val_student_loss: 0.3698\n",
      "Epoch 14/40\n",
      "1/1 [==============================] - 0s 310ms/step - binary_accuracy: 0.8525 - student_loss: 0.3575 - distillation_loss: 0.3584 - val_binary_accuracy: 0.8564 - val_student_loss: 0.3494\n",
      "Epoch 15/40\n",
      "1/1 [==============================] - 0s 134ms/step - binary_accuracy: 0.8698 - student_loss: 0.3365 - distillation_loss: 0.3375 - val_binary_accuracy: 0.8711 - val_student_loss: 0.3285\n",
      "Epoch 16/40\n",
      "1/1 [==============================] - 0s 125ms/step - binary_accuracy: 0.8869 - student_loss: 0.3146 - distillation_loss: 0.3157 - val_binary_accuracy: 0.8867 - val_student_loss: 0.3073\n",
      "Epoch 17/40\n",
      "1/1 [==============================] - 0s 268ms/step - binary_accuracy: 0.9033 - student_loss: 0.2922 - distillation_loss: 0.2934 - val_binary_accuracy: 0.9017 - val_student_loss: 0.2857\n",
      "Epoch 18/40\n",
      "1/1 [==============================] - 0s 161ms/step - binary_accuracy: 0.9181 - student_loss: 0.2698 - distillation_loss: 0.2711 - val_binary_accuracy: 0.9144 - val_student_loss: 0.2638\n",
      "Epoch 19/40\n",
      "1/1 [==============================] - 0s 134ms/step - binary_accuracy: 0.9322 - student_loss: 0.2473 - distillation_loss: 0.2487 - val_binary_accuracy: 0.9267 - val_student_loss: 0.2415\n",
      "Epoch 20/40\n",
      "1/1 [==============================] - 0s 130ms/step - binary_accuracy: 0.9450 - student_loss: 0.2252 - distillation_loss: 0.2267 - val_binary_accuracy: 0.9385 - val_student_loss: 0.2196\n",
      "Epoch 21/40\n",
      "1/1 [==============================] - 0s 228ms/step - binary_accuracy: 0.9559 - student_loss: 0.2037 - distillation_loss: 0.2053 - val_binary_accuracy: 0.9517 - val_student_loss: 0.1978\n",
      "Epoch 22/40\n",
      "1/1 [==============================] - 0s 222ms/step - binary_accuracy: 0.9649 - student_loss: 0.1825 - distillation_loss: 0.1843 - val_binary_accuracy: 0.9626 - val_student_loss: 0.1765\n",
      "Epoch 23/40\n",
      "1/1 [==============================] - 0s 162ms/step - binary_accuracy: 0.9723 - student_loss: 0.1619 - distillation_loss: 0.1639 - val_binary_accuracy: 0.9721 - val_student_loss: 0.1558\n",
      "Epoch 24/40\n",
      "1/1 [==============================] - 0s 135ms/step - binary_accuracy: 0.9781 - student_loss: 0.1421 - distillation_loss: 0.1443 - val_binary_accuracy: 0.9774 - val_student_loss: 0.1361\n",
      "Epoch 25/40\n",
      "1/1 [==============================] - 0s 145ms/step - binary_accuracy: 0.9841 - student_loss: 0.1234 - distillation_loss: 0.1257 - val_binary_accuracy: 0.9821 - val_student_loss: 0.1179\n",
      "Epoch 26/40\n",
      "1/1 [==============================] - 0s 167ms/step - binary_accuracy: 0.9876 - student_loss: 0.1063 - distillation_loss: 0.1088 - val_binary_accuracy: 0.9850 - val_student_loss: 0.1013\n",
      "Epoch 27/40\n",
      "1/1 [==============================] - 0s 268ms/step - binary_accuracy: 0.9900 - student_loss: 0.0908 - distillation_loss: 0.0936 - val_binary_accuracy: 0.9882 - val_student_loss: 0.0865\n",
      "Epoch 28/40\n",
      "1/1 [==============================] - 0s 171ms/step - binary_accuracy: 0.9923 - student_loss: 0.0770 - distillation_loss: 0.0800 - val_binary_accuracy: 0.9912 - val_student_loss: 0.0734\n",
      "Epoch 29/40\n",
      "1/1 [==============================] - 0s 144ms/step - binary_accuracy: 0.9944 - student_loss: 0.0649 - distillation_loss: 0.0682 - val_binary_accuracy: 0.9927 - val_student_loss: 0.0619\n",
      "Epoch 30/40\n",
      "1/1 [==============================] - 0s 166ms/step - binary_accuracy: 0.9957 - student_loss: 0.0543 - distillation_loss: 0.0578 - val_binary_accuracy: 0.9939 - val_student_loss: 0.0522\n",
      "Epoch 31/40\n",
      "1/1 [==============================] - 0s 232ms/step - binary_accuracy: 0.9969 - student_loss: 0.0451 - distillation_loss: 0.0489 - val_binary_accuracy: 0.9955 - val_student_loss: 0.0438\n",
      "Epoch 32/40\n",
      "1/1 [==============================] - 0s 153ms/step - binary_accuracy: 0.9973 - student_loss: 0.0373 - distillation_loss: 0.0414 - val_binary_accuracy: 0.9962 - val_student_loss: 0.0369\n",
      "Epoch 33/40\n",
      "1/1 [==============================] - 0s 118ms/step - binary_accuracy: 0.9978 - student_loss: 0.0308 - distillation_loss: 0.0352 - val_binary_accuracy: 0.9970 - val_student_loss: 0.0311\n",
      "Epoch 34/40\n",
      "1/1 [==============================] - 0s 130ms/step - binary_accuracy: 0.9983 - student_loss: 0.0254 - distillation_loss: 0.0300 - val_binary_accuracy: 0.9971 - val_student_loss: 0.0263\n",
      "Epoch 35/40\n",
      "1/1 [==============================] - 0s 240ms/step - binary_accuracy: 0.9986 - student_loss: 0.0210 - distillation_loss: 0.0259 - val_binary_accuracy: 0.9980 - val_student_loss: 0.0223\n",
      "Epoch 36/40\n",
      "1/1 [==============================] - 0s 149ms/step - binary_accuracy: 0.9990 - student_loss: 0.0173 - distillation_loss: 0.0225 - val_binary_accuracy: 0.9983 - val_student_loss: 0.0190\n",
      "Epoch 37/40\n",
      "1/1 [==============================] - 0s 137ms/step - binary_accuracy: 0.9993 - student_loss: 0.0143 - distillation_loss: 0.0197 - val_binary_accuracy: 0.9985 - val_student_loss: 0.0163\n",
      "Epoch 38/40\n",
      "1/1 [==============================] - 0s 115ms/step - binary_accuracy: 0.9995 - student_loss: 0.0119 - distillation_loss: 0.0175 - val_binary_accuracy: 0.9985 - val_student_loss: 0.0141\n",
      "Epoch 39/40\n",
      "1/1 [==============================] - 0s 145ms/step - binary_accuracy: 0.9995 - student_loss: 0.0099 - distillation_loss: 0.0158 - val_binary_accuracy: 0.9986 - val_student_loss: 0.0123\n",
      "Epoch 40/40\n",
      "1/1 [==============================] - 0s 247ms/step - binary_accuracy: 0.9998 - student_loss: 0.0083 - distillation_loss: 0.0144 - val_binary_accuracy: 0.9988 - val_student_loss: 0.0109\n",
      "207/207 [==============================] - 0s 957us/step - binary_accuracy: 0.9988 - student_loss: 0.0108\n"
     ]
    },
    {
     "data": {
      "text/plain": [
       "[0.9987878799438477, 0.0015997325535863638]"
      ]
     },
     "execution_count": 31,
     "metadata": {},
     "output_type": "execute_result"
    }
   ],
   "source": [
    "distiller=Distiller(student=student,teacher=teacher)\n",
    "distiller.compile(\n",
    "    optimizer=keras.optimizers.Adam(learning_rate=0.001),\n",
    "    metrics=[tf.keras.metrics.BinaryAccuracy()],\n",
    "    student_loss_fn=tf.keras.losses.BinaryCrossentropy(from_logits=True),\n",
    "    distillation_loss_fn=tf.keras.losses.BinaryCrossentropy(),\n",
    "    alpha=0.2,\n",
    "    temperature=10,\n",
    "    \n",
    "    \n",
    ")\n",
    "kd_history=distiller.fit(X_train,y_train,epochs=40,batch_size=X_train.shape[0],validation_data=(X_test,y_test))\n",
    "distiller.evaluate(X_test,y_test)"
   ]
  },
  {
   "cell_type": "markdown",
   "id": "160d40aa",
   "metadata": {},
   "source": [
    "GRAPH FOR KD"
   ]
  },
  {
   "cell_type": "code",
   "execution_count": 34,
   "id": "26433158",
   "metadata": {},
   "outputs": [
    {
     "data": {
      "text/plain": [
       "(<Figure size 1500x500 with 3 Axes>,\n",
       " array([<Axes: title={'center': 'Binary Accuracy'}, xlabel='Epochs', ylabel='Binary Accuracy'>,\n",
       "        <Axes: title={'center': 'Student loss'}, xlabel='Epochs', ylabel='Student loss'>,\n",
       "        <Axes: title={'center': 'Distillation loss'}, xlabel='Epochs', ylabel='Distillation loss'>],\n",
       "       dtype=object))"
      ]
     },
     "execution_count": 34,
     "metadata": {},
     "output_type": "execute_result"
    },
    {
     "data": {
      "image/png": "[encoded data removed]",
      "text/plain": [
       "<Figure size 1500x500 with 3 Axes>"
      ]
     },
     "metadata": {},
     "output_type": "display_data"
    }
   ],
   "source": [
    "plot_history(kd_history,show_standard_deviation=False,show_average=True)"
   ]
  },
  {
   "cell_type": "code",
   "execution_count": 41,
   "id": "ac558ba3",
   "metadata": {},
   "outputs": [],
   "source": [
    "distiller.save_weights('KDweights-USA-DATA$MODEL.h5')"
   ]
  }
 ],
 "metadata": {
  "kernelspec": {
   "display_name": "Python 3 (ipykernel)",
   "language": "python",
   "name": "python3"
  },
  "language_info": {
   "codemirror_mode": {
    "name": "ipython",
    "version": 3
   },
   "file_extension": ".py",
   "mimetype": "text/x-python",
   "name": "python",
   "nbconvert_exporter": "python",
   "pygments_lexer": "ipython3",
   "version": "3.10.7"
  }
 },
 "nbformat": 4,
 "nbformat_minor": 5
}
