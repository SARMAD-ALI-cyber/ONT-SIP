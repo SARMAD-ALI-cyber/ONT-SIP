{
 "cells": [
  {
   "cell_type": "code",
   "execution_count": 3,
   "metadata": {},
   "outputs": [],
   "source": [
    "import numpy as np\n",
    "import matplotlib.pyplot as plt\n",
    "import pandas as pd\n",
    "from sklearn.model_selection import train_test_split\n",
    "from sklearn.metrics import classification_report\n",
    "from sklearn.preprocessing import MinMaxScaler\n",
    "from sklearn.preprocessing import StandardScaler\n",
    "import tensorflow as tf,keras\n",
    "from tensorflow.keras.models import Sequential,Model\n",
    "from tensorflow.keras.layers import Input, Dense\n",
    "import logging\n",
    "logging.getLogger(\"tensorflow\").setLevel(logging.ERROR)\n",
    "tf.autograph.set_verbosity(0)"
   ]
  },
  {
   "cell_type": "code",
   "execution_count": 4,
   "metadata": {},
   "outputs": [],
   "source": [
    "train_data=pd.read_csv('E:\\ONT-Classification\\Datasets\\EU_train_class.csv')\n",
    "test_data=pd.read_csv('E:\\ONT-Classification\\Datasets\\EU_test_class.csv')"
   ]
  },
  {
   "cell_type": "code",
   "execution_count": 5,
   "metadata": {},
   "outputs": [
    {
     "data": {
      "text/plain": [
       "(8722, 307)"
      ]
     },
     "execution_count": 5,
     "metadata": {},
     "output_type": "execute_result"
    }
   ],
   "source": [
    "train_data.shape"
   ]
  },
  {
   "cell_type": "code",
   "execution_count": 6,
   "metadata": {},
   "outputs": [
    {
     "data": {
      "text/html": [
       "<div>\n",
       "<style scoped>\n",
       "    .dataframe tbody tr th:only-of-type {\n",
       "        vertical-align: middle;\n",
       "    }\n",
       "\n",
       "    .dataframe tbody tr th {\n",
       "        vertical-align: top;\n",
       "    }\n",
       "\n",
       "    .dataframe thead th {\n",
       "        text-align: right;\n",
       "    }\n",
       "</style>\n",
       "<table border=\"1\" class=\"dataframe\">\n",
       "  <thead>\n",
       "    <tr style=\"text-align: right;\">\n",
       "      <th></th>\n",
       "      <th>Power_1</th>\n",
       "      <th>Power_2</th>\n",
       "      <th>Power_3</th>\n",
       "      <th>Power_4</th>\n",
       "      <th>Power_5</th>\n",
       "      <th>Power_6</th>\n",
       "      <th>Power_7</th>\n",
       "      <th>Power_8</th>\n",
       "      <th>Power_9</th>\n",
       "      <th>Power_10</th>\n",
       "      <th>...</th>\n",
       "      <th>GSNR_Delta_69</th>\n",
       "      <th>GSNR_Delta_70</th>\n",
       "      <th>GSNR_Delta_71</th>\n",
       "      <th>GSNR_Delta_72</th>\n",
       "      <th>GSNR_Delta_73</th>\n",
       "      <th>GSNR_Delta_74</th>\n",
       "      <th>GSNR_Delta_75</th>\n",
       "      <th>GSNR_Delta_76</th>\n",
       "      <th>GSNR_Delta_1</th>\n",
       "      <th>GSNR_class</th>\n",
       "    </tr>\n",
       "  </thead>\n",
       "  <tbody>\n",
       "    <tr>\n",
       "      <th>0</th>\n",
       "      <td>0.000000</td>\n",
       "      <td>0.000000</td>\n",
       "      <td>0.000007</td>\n",
       "      <td>0.000007</td>\n",
       "      <td>0.000007</td>\n",
       "      <td>0.000000</td>\n",
       "      <td>0.000007</td>\n",
       "      <td>0.0</td>\n",
       "      <td>0.000007</td>\n",
       "      <td>0.0</td>\n",
       "      <td>...</td>\n",
       "      <td>-13.774944</td>\n",
       "      <td>76.420186</td>\n",
       "      <td>76.973044</td>\n",
       "      <td>77.437920</td>\n",
       "      <td>78.127092</td>\n",
       "      <td>-16.022501</td>\n",
       "      <td>80.294749</td>\n",
       "      <td>83.797208</td>\n",
       "      <td>85.178047</td>\n",
       "      <td>1</td>\n",
       "    </tr>\n",
       "    <tr>\n",
       "      <th>1</th>\n",
       "      <td>0.000000</td>\n",
       "      <td>0.000007</td>\n",
       "      <td>0.000000</td>\n",
       "      <td>0.000007</td>\n",
       "      <td>0.000000</td>\n",
       "      <td>0.000007</td>\n",
       "      <td>0.000000</td>\n",
       "      <td>0.0</td>\n",
       "      <td>0.000000</td>\n",
       "      <td>0.0</td>\n",
       "      <td>...</td>\n",
       "      <td>76.286340</td>\n",
       "      <td>-16.140680</td>\n",
       "      <td>76.973044</td>\n",
       "      <td>77.437920</td>\n",
       "      <td>-11.417882</td>\n",
       "      <td>79.023288</td>\n",
       "      <td>80.294749</td>\n",
       "      <td>83.797208</td>\n",
       "      <td>85.178047</td>\n",
       "      <td>1</td>\n",
       "    </tr>\n",
       "    <tr>\n",
       "      <th>2</th>\n",
       "      <td>0.000000</td>\n",
       "      <td>0.000000</td>\n",
       "      <td>0.000000</td>\n",
       "      <td>0.000007</td>\n",
       "      <td>0.000000</td>\n",
       "      <td>0.000000</td>\n",
       "      <td>0.000000</td>\n",
       "      <td>0.0</td>\n",
       "      <td>0.000007</td>\n",
       "      <td>0.0</td>\n",
       "      <td>...</td>\n",
       "      <td>76.286340</td>\n",
       "      <td>76.420186</td>\n",
       "      <td>-14.018933</td>\n",
       "      <td>77.437920</td>\n",
       "      <td>78.127092</td>\n",
       "      <td>79.023288</td>\n",
       "      <td>-5.217650</td>\n",
       "      <td>0.683095</td>\n",
       "      <td>85.178047</td>\n",
       "      <td>1</td>\n",
       "    </tr>\n",
       "    <tr>\n",
       "      <th>3</th>\n",
       "      <td>0.000007</td>\n",
       "      <td>0.000007</td>\n",
       "      <td>0.000007</td>\n",
       "      <td>0.000007</td>\n",
       "      <td>0.000007</td>\n",
       "      <td>0.000000</td>\n",
       "      <td>0.000000</td>\n",
       "      <td>0.0</td>\n",
       "      <td>0.000007</td>\n",
       "      <td>0.0</td>\n",
       "      <td>...</td>\n",
       "      <td>-0.123243</td>\n",
       "      <td>2.755271</td>\n",
       "      <td>2.321344</td>\n",
       "      <td>-1.633296</td>\n",
       "      <td>78.127092</td>\n",
       "      <td>79.023288</td>\n",
       "      <td>80.294749</td>\n",
       "      <td>83.797208</td>\n",
       "      <td>7.086314</td>\n",
       "      <td>0</td>\n",
       "    </tr>\n",
       "    <tr>\n",
       "      <th>4</th>\n",
       "      <td>0.000000</td>\n",
       "      <td>0.000000</td>\n",
       "      <td>0.000007</td>\n",
       "      <td>0.000000</td>\n",
       "      <td>0.000007</td>\n",
       "      <td>0.000000</td>\n",
       "      <td>0.000000</td>\n",
       "      <td>0.0</td>\n",
       "      <td>0.000007</td>\n",
       "      <td>0.0</td>\n",
       "      <td>...</td>\n",
       "      <td>76.286340</td>\n",
       "      <td>76.420186</td>\n",
       "      <td>-1.326394</td>\n",
       "      <td>2.527156</td>\n",
       "      <td>6.096186</td>\n",
       "      <td>5.233024</td>\n",
       "      <td>-0.895690</td>\n",
       "      <td>83.797208</td>\n",
       "      <td>85.178047</td>\n",
       "      <td>1</td>\n",
       "    </tr>\n",
       "  </tbody>\n",
       "</table>\n",
       "<p>5 rows × 307 columns</p>\n",
       "</div>"
      ],
      "text/plain": [
       "    Power_1   Power_2   Power_3   Power_4   Power_5   Power_6   Power_7  \\\n",
       "0  0.000000  0.000000  0.000007  0.000007  0.000007  0.000000  0.000007   \n",
       "1  0.000000  0.000007  0.000000  0.000007  0.000000  0.000007  0.000000   \n",
       "2  0.000000  0.000000  0.000000  0.000007  0.000000  0.000000  0.000000   \n",
       "3  0.000007  0.000007  0.000007  0.000007  0.000007  0.000000  0.000000   \n",
       "4  0.000000  0.000000  0.000007  0.000000  0.000007  0.000000  0.000000   \n",
       "\n",
       "   Power_8   Power_9  Power_10  ...  GSNR_Delta_69  GSNR_Delta_70  \\\n",
       "0      0.0  0.000007       0.0  ...     -13.774944      76.420186   \n",
       "1      0.0  0.000000       0.0  ...      76.286340     -16.140680   \n",
       "2      0.0  0.000007       0.0  ...      76.286340      76.420186   \n",
       "3      0.0  0.000007       0.0  ...      -0.123243       2.755271   \n",
       "4      0.0  0.000007       0.0  ...      76.286340      76.420186   \n",
       "\n",
       "   GSNR_Delta_71  GSNR_Delta_72  GSNR_Delta_73  GSNR_Delta_74  GSNR_Delta_75  \\\n",
       "0      76.973044      77.437920      78.127092     -16.022501      80.294749   \n",
       "1      76.973044      77.437920     -11.417882      79.023288      80.294749   \n",
       "2     -14.018933      77.437920      78.127092      79.023288      -5.217650   \n",
       "3       2.321344      -1.633296      78.127092      79.023288      80.294749   \n",
       "4      -1.326394       2.527156       6.096186       5.233024      -0.895690   \n",
       "\n",
       "   GSNR_Delta_76  GSNR_Delta_1  GSNR_class  \n",
       "0      83.797208     85.178047           1  \n",
       "1      83.797208     85.178047           1  \n",
       "2       0.683095     85.178047           1  \n",
       "3      83.797208      7.086314           0  \n",
       "4      83.797208     85.178047           1  \n",
       "\n",
       "[5 rows x 307 columns]"
      ]
     },
     "execution_count": 6,
     "metadata": {},
     "output_type": "execute_result"
    }
   ],
   "source": [
    "test_data.head(5)"
   ]
  },
  {
   "cell_type": "code",
   "execution_count": 7,
   "metadata": {},
   "outputs": [],
   "source": [
    "X_train=train_data.iloc[:,:-1]\n",
    "y_train=train_data.iloc[:,-1]"
   ]
  },
  {
   "cell_type": "code",
   "execution_count": 8,
   "metadata": {},
   "outputs": [
    {
     "data": {
      "text/plain": [
       "0"
      ]
     },
     "execution_count": 8,
     "metadata": {},
     "output_type": "execute_result"
    }
   ],
   "source": [
    "y_train[76]"
   ]
  },
  {
   "cell_type": "code",
   "execution_count": 9,
   "metadata": {},
   "outputs": [],
   "source": [
    "X_test=test_data.iloc[:,:-1]\n",
    "y_test=test_data.iloc[:,-1]"
   ]
  },
  {
   "cell_type": "code",
   "execution_count": 10,
   "metadata": {},
   "outputs": [
    {
     "data": {
      "text/plain": [
       "1"
      ]
     },
     "execution_count": 10,
     "metadata": {},
     "output_type": "execute_result"
    }
   ],
   "source": [
    "y_test[76]"
   ]
  },
  {
   "cell_type": "code",
   "execution_count": 11,
   "metadata": {},
   "outputs": [
    {
     "name": "stdout",
     "output_type": "stream",
     "text": [
      "(8722, 306)\n",
      "(8722, 1)\n",
      "(7579, 306)\n",
      "(7579, 1)\n"
     ]
    }
   ],
   "source": [
    "#=========converting to array===================\n",
    "X_train=np.array(X_train)\n",
    "X_test=np.array(X_test)\n",
    "y_train=np.array(y_train)\n",
    "y_test=np.array(y_test)\n",
    "#=========reshaping=============================\n",
    "y_train=y_train.reshape(-1,1)\n",
    "y_test=y_test.reshape(-1,1)\n",
    "#===========printing Shapes======\n",
    "print(X_train.shape)\n",
    "print(y_train.shape)\n",
    "print(X_test.shape)\n",
    "print(y_test.shape)"
   ]
  },
  {
   "cell_type": "code",
   "execution_count": 12,
   "metadata": {},
   "outputs": [],
   "source": [
    "scaler=StandardScaler()\n",
    "X_train=scaler.fit_transform(X_train)\n",
    "X_test=scaler.transform(X_test)"
   ]
  },
  {
   "cell_type": "code",
   "execution_count": 11,
   "metadata": {},
   "outputs": [],
   "source": [
    "model=tf.keras.Sequential([\n",
    "tf.keras.layers.Dense(256,activation='relu',input_shape=(X_train.shape[1],),kernel_initializer='he_normal'),\n",
    "tf.keras.layers.Dense(128,activation='relu',kernel_initializer='he_normal'),\n",
    "tf.keras.layers.Dense(64,activation='relu',kernel_initializer='he_normal'),\n",
    "tf.keras.layers.Dense(32,activation='relu',kernel_initializer='he_normal'),\n",
    "tf.keras.layers.Dense(16,activation='relu',kernel_initializer='he_normal'),\n",
    "tf.keras.layers.Dense(1,activation='sigmoid',kernel_initializer='he_normal')\n",
    "],name='Teacher')"
   ]
  },
  {
   "cell_type": "code",
   "execution_count": 12,
   "metadata": {},
   "outputs": [
    {
     "name": "stdout",
     "output_type": "stream",
     "text": [
      "Model: \"Teacher\"\n",
      "_________________________________________________________________\n",
      " Layer (type)                Output Shape              Param #   \n",
      "=================================================================\n",
      " dense (Dense)               (None, 256)               78592     \n",
      "                                                                 \n",
      " dense_1 (Dense)             (None, 128)               32896     \n",
      "                                                                 \n",
      " dense_2 (Dense)             (None, 64)                8256      \n",
      "                                                                 \n",
      " dense_3 (Dense)             (None, 32)                2080      \n",
      "                                                                 \n",
      " dense_4 (Dense)             (None, 16)                528       \n",
      "                                                                 \n",
      " dense_5 (Dense)             (None, 1)                 17        \n",
      "                                                                 \n",
      "=================================================================\n",
      "Total params: 122,369\n",
      "Trainable params: 122,369\n",
      "Non-trainable params: 0\n",
      "_________________________________________________________________\n"
     ]
    }
   ],
   "source": [
    "model.summary()"
   ]
  },
  {
   "cell_type": "code",
   "execution_count": 13,
   "metadata": {},
   "outputs": [],
   "source": [
    "optimizer=tf.keras.optimizers.Adam(learning_rate=0.001)\n",
    "model.compile(optimizer=optimizer, loss='binary_crossentropy', metrics=['accuracy'])"
   ]
  },
  {
   "cell_type": "code",
   "execution_count": 14,
   "metadata": {},
   "outputs": [
    {
     "name": "stdout",
     "output_type": "stream",
     "text": [
      "Epoch 1/100\n",
      "1/1 [==============================] - 2s 2s/step - loss: 0.8186 - accuracy: 0.4097 - val_loss: 0.7150 - val_accuracy: 0.5261\n",
      "Epoch 2/100\n",
      "1/1 [==============================] - 0s 116ms/step - loss: 0.6925 - accuracy: 0.5892 - val_loss: 0.6628 - val_accuracy: 0.6226\n",
      "Epoch 3/100\n",
      "1/1 [==============================] - 0s 139ms/step - loss: 0.6608 - accuracy: 0.6399 - val_loss: 0.6507 - val_accuracy: 0.6440\n",
      "Epoch 4/100\n",
      "1/1 [==============================] - 0s 222ms/step - loss: 0.6501 - accuracy: 0.6497 - val_loss: 0.6417 - val_accuracy: 0.6509\n",
      "Epoch 5/100\n",
      "1/1 [==============================] - 0s 159ms/step - loss: 0.6423 - accuracy: 0.6532 - val_loss: 0.6355 - val_accuracy: 0.6598\n",
      "Epoch 6/100\n",
      "1/1 [==============================] - 0s 102ms/step - loss: 0.6371 - accuracy: 0.6565 - val_loss: 0.6302 - val_accuracy: 0.6662\n",
      "Epoch 7/100\n",
      "1/1 [==============================] - 0s 103ms/step - loss: 0.6336 - accuracy: 0.6595 - val_loss: 0.6200 - val_accuracy: 0.6770\n",
      "Epoch 8/100\n",
      "1/1 [==============================] - 0s 112ms/step - loss: 0.6278 - accuracy: 0.6636 - val_loss: 0.6017 - val_accuracy: 0.7022\n",
      "Epoch 9/100\n",
      "1/1 [==============================] - 0s 104ms/step - loss: 0.6173 - accuracy: 0.6744 - val_loss: 0.5802 - val_accuracy: 0.7179\n",
      "Epoch 10/100\n",
      "1/1 [==============================] - 0s 105ms/step - loss: 0.6049 - accuracy: 0.6841 - val_loss: 0.5609 - val_accuracy: 0.7253\n",
      "Epoch 11/100\n",
      "1/1 [==============================] - 0s 212ms/step - loss: 0.5947 - accuracy: 0.6869 - val_loss: 0.5292 - val_accuracy: 0.7571\n",
      "Epoch 12/100\n",
      "1/1 [==============================] - 0s 186ms/step - loss: 0.5795 - accuracy: 0.7027 - val_loss: 0.4985 - val_accuracy: 0.7787\n",
      "Epoch 13/100\n",
      "1/1 [==============================] - 0s 117ms/step - loss: 0.5651 - accuracy: 0.7098 - val_loss: 0.4697 - val_accuracy: 0.7955\n",
      "Epoch 14/100\n",
      "1/1 [==============================] - 0s 99ms/step - loss: 0.5506 - accuracy: 0.7166 - val_loss: 0.4332 - val_accuracy: 0.8245\n",
      "Epoch 15/100\n",
      "1/1 [==============================] - 0s 103ms/step - loss: 0.5315 - accuracy: 0.7305 - val_loss: 0.4052 - val_accuracy: 0.8314\n",
      "Epoch 16/100\n",
      "1/1 [==============================] - 0s 98ms/step - loss: 0.5166 - accuracy: 0.7337 - val_loss: 0.3673 - val_accuracy: 0.8521\n",
      "Epoch 17/100\n",
      "1/1 [==============================] - 0s 111ms/step - loss: 0.4965 - accuracy: 0.7438 - val_loss: 0.3402 - val_accuracy: 0.8574\n",
      "Epoch 18/100\n",
      "1/1 [==============================] - 0s 123ms/step - loss: 0.4816 - accuracy: 0.7456 - val_loss: 0.3054 - val_accuracy: 0.8718\n",
      "Epoch 19/100\n",
      "1/1 [==============================] - 0s 252ms/step - loss: 0.4617 - accuracy: 0.7537 - val_loss: 0.2795 - val_accuracy: 0.8816\n",
      "Epoch 20/100\n",
      "1/1 [==============================] - 0s 105ms/step - loss: 0.4465 - accuracy: 0.7579 - val_loss: 0.2506 - val_accuracy: 0.8897\n",
      "Epoch 21/100\n",
      "1/1 [==============================] - 0s 103ms/step - loss: 0.4280 - accuracy: 0.7624 - val_loss: 0.2314 - val_accuracy: 0.8904\n",
      "Epoch 22/100\n",
      "1/1 [==============================] - 0s 96ms/step - loss: 0.4142 - accuracy: 0.7621 - val_loss: 0.2043 - val_accuracy: 0.8993\n",
      "Epoch 23/100\n",
      "1/1 [==============================] - 0s 110ms/step - loss: 0.3973 - accuracy: 0.7659 - val_loss: 0.1851 - val_accuracy: 0.9041\n",
      "Epoch 24/100\n",
      "1/1 [==============================] - 0s 114ms/step - loss: 0.3844 - accuracy: 0.7681 - val_loss: 0.1719 - val_accuracy: 0.9025\n",
      "Epoch 25/100\n",
      "1/1 [==============================] - 0s 105ms/step - loss: 0.3695 - accuracy: 0.7706 - val_loss: 0.1615 - val_accuracy: 0.9099\n",
      "Epoch 26/100\n",
      "1/1 [==============================] - 0s 265ms/step - loss: 0.3564 - accuracy: 0.7825 - val_loss: 0.1385 - val_accuracy: 0.9363\n",
      "Epoch 27/100\n",
      "1/1 [==============================] - 0s 110ms/step - loss: 0.3398 - accuracy: 0.8081 - val_loss: 0.1216 - val_accuracy: 0.9588\n",
      "Epoch 28/100\n",
      "1/1 [==============================] - 0s 106ms/step - loss: 0.3248 - accuracy: 0.8380 - val_loss: 0.1131 - val_accuracy: 0.9648\n",
      "Epoch 29/100\n",
      "1/1 [==============================] - 0s 91ms/step - loss: 0.3077 - accuracy: 0.8573 - val_loss: 0.1085 - val_accuracy: 0.9612\n",
      "Epoch 30/100\n",
      "1/1 [==============================] - 0s 94ms/step - loss: 0.2940 - accuracy: 0.8613 - val_loss: 0.0934 - val_accuracy: 0.9679\n",
      "Epoch 31/100\n",
      "1/1 [==============================] - 0s 110ms/step - loss: 0.2784 - accuracy: 0.8741 - val_loss: 0.0788 - val_accuracy: 0.9811\n",
      "Epoch 32/100\n",
      "1/1 [==============================] - 0s 107ms/step - loss: 0.2635 - accuracy: 0.8986 - val_loss: 0.0720 - val_accuracy: 0.9828\n",
      "Epoch 33/100\n",
      "1/1 [==============================] - 0s 128ms/step - loss: 0.2477 - accuracy: 0.9108 - val_loss: 0.0707 - val_accuracy: 0.9765\n",
      "Epoch 34/100\n",
      "1/1 [==============================] - 0s 255ms/step - loss: 0.2319 - accuracy: 0.9099 - val_loss: 0.0602 - val_accuracy: 0.9802\n",
      "Epoch 35/100\n",
      "1/1 [==============================] - 0s 113ms/step - loss: 0.2160 - accuracy: 0.9160 - val_loss: 0.0462 - val_accuracy: 0.9900\n",
      "Epoch 36/100\n",
      "1/1 [==============================] - 0s 103ms/step - loss: 0.2022 - accuracy: 0.9258 - val_loss: 0.0475 - val_accuracy: 0.9854\n",
      "Epoch 37/100\n",
      "1/1 [==============================] - 0s 95ms/step - loss: 0.1864 - accuracy: 0.9269 - val_loss: 0.0474 - val_accuracy: 0.9834\n",
      "Epoch 38/100\n",
      "1/1 [==============================] - 0s 104ms/step - loss: 0.1736 - accuracy: 0.9289 - val_loss: 0.0355 - val_accuracy: 0.9894\n",
      "Epoch 39/100\n",
      "1/1 [==============================] - 0s 114ms/step - loss: 0.1638 - accuracy: 0.9340 - val_loss: 0.0571 - val_accuracy: 0.9751\n",
      "Epoch 40/100\n",
      "1/1 [==============================] - 0s 115ms/step - loss: 0.1608 - accuracy: 0.9279 - val_loss: 0.0227 - val_accuracy: 0.9955\n",
      "Epoch 41/100\n",
      "1/1 [==============================] - 0s 315ms/step - loss: 0.1639 - accuracy: 0.9336 - val_loss: 0.0396 - val_accuracy: 0.9865\n",
      "Epoch 42/100\n",
      "1/1 [==============================] - 0s 112ms/step - loss: 0.1415 - accuracy: 0.9382 - val_loss: 0.0527 - val_accuracy: 0.9784\n",
      "Epoch 43/100\n",
      "1/1 [==============================] - 0s 116ms/step - loss: 0.1446 - accuracy: 0.9383 - val_loss: 0.0217 - val_accuracy: 0.9949\n",
      "Epoch 44/100\n",
      "1/1 [==============================] - 0s 114ms/step - loss: 0.1416 - accuracy: 0.9395 - val_loss: 0.0265 - val_accuracy: 0.9926\n",
      "Epoch 45/100\n",
      "1/1 [==============================] - 0s 116ms/step - loss: 0.1285 - accuracy: 0.9437 - val_loss: 0.0611 - val_accuracy: 0.9724\n",
      "Epoch 46/100\n",
      "1/1 [==============================] - 0s 120ms/step - loss: 0.1381 - accuracy: 0.9415 - val_loss: 0.0293 - val_accuracy: 0.9913\n",
      "Epoch 47/100\n",
      "1/1 [==============================] - 0s 246ms/step - loss: 0.1199 - accuracy: 0.9475 - val_loss: 0.0200 - val_accuracy: 0.9942\n",
      "Epoch 48/100\n",
      "1/1 [==============================] - 0s 136ms/step - loss: 0.1261 - accuracy: 0.9438 - val_loss: 0.0336 - val_accuracy: 0.9885\n",
      "Epoch 49/100\n",
      "1/1 [==============================] - 0s 102ms/step - loss: 0.1139 - accuracy: 0.9512 - val_loss: 0.0447 - val_accuracy: 0.9814\n",
      "Epoch 50/100\n",
      "1/1 [==============================] - 0s 139ms/step - loss: 0.1176 - accuracy: 0.9504 - val_loss: 0.0228 - val_accuracy: 0.9925\n",
      "Epoch 51/100\n",
      "1/1 [==============================] - 0s 104ms/step - loss: 0.1103 - accuracy: 0.9515 - val_loss: 0.0211 - val_accuracy: 0.9929\n",
      "Epoch 52/100\n",
      "1/1 [==============================] - 0s 107ms/step - loss: 0.1087 - accuracy: 0.9515 - val_loss: 0.0395 - val_accuracy: 0.9854\n",
      "Epoch 53/100\n",
      "1/1 [==============================] - 0s 113ms/step - loss: 0.1052 - accuracy: 0.9553 - val_loss: 0.0366 - val_accuracy: 0.9865\n",
      "Epoch 54/100\n",
      "1/1 [==============================] - 0s 250ms/step - loss: 0.1007 - accuracy: 0.9568 - val_loss: 0.0216 - val_accuracy: 0.9931\n",
      "Epoch 55/100\n",
      "1/1 [==============================] - 0s 137ms/step - loss: 0.1007 - accuracy: 0.9557 - val_loss: 0.0242 - val_accuracy: 0.9914\n",
      "Epoch 56/100\n",
      "1/1 [==============================] - 0s 102ms/step - loss: 0.0947 - accuracy: 0.9575 - val_loss: 0.0380 - val_accuracy: 0.9852\n",
      "Epoch 57/100\n",
      "1/1 [==============================] - 0s 95ms/step - loss: 0.0962 - accuracy: 0.9607 - val_loss: 0.0277 - val_accuracy: 0.9904\n",
      "Epoch 58/100\n",
      "1/1 [==============================] - 0s 97ms/step - loss: 0.0892 - accuracy: 0.9611 - val_loss: 0.0214 - val_accuracy: 0.9925\n",
      "Epoch 59/100\n",
      "1/1 [==============================] - 0s 95ms/step - loss: 0.0907 - accuracy: 0.9600 - val_loss: 0.0303 - val_accuracy: 0.9896\n",
      "Epoch 60/100\n",
      "1/1 [==============================] - 0s 106ms/step - loss: 0.0847 - accuracy: 0.9637 - val_loss: 0.0390 - val_accuracy: 0.9854\n",
      "Epoch 61/100\n",
      "1/1 [==============================] - 0s 260ms/step - loss: 0.0856 - accuracy: 0.9645 - val_loss: 0.0259 - val_accuracy: 0.9909\n",
      "Epoch 62/100\n",
      "1/1 [==============================] - 0s 214ms/step - loss: 0.0811 - accuracy: 0.9655 - val_loss: 0.0245 - val_accuracy: 0.9913\n",
      "Epoch 63/100\n",
      "1/1 [==============================] - 0s 91ms/step - loss: 0.0799 - accuracy: 0.9650 - val_loss: 0.0364 - val_accuracy: 0.9868\n",
      "Epoch 64/100\n",
      "1/1 [==============================] - 0s 91ms/step - loss: 0.0775 - accuracy: 0.9690 - val_loss: 0.0343 - val_accuracy: 0.9876\n",
      "Epoch 65/100\n",
      "1/1 [==============================] - 0s 125ms/step - loss: 0.0746 - accuracy: 0.9717 - val_loss: 0.0254 - val_accuracy: 0.9910\n",
      "Epoch 66/100\n",
      "1/1 [==============================] - 0s 124ms/step - loss: 0.0739 - accuracy: 0.9679 - val_loss: 0.0311 - val_accuracy: 0.9890\n",
      "Epoch 67/100\n",
      "1/1 [==============================] - 0s 130ms/step - loss: 0.0701 - accuracy: 0.9739 - val_loss: 0.0403 - val_accuracy: 0.9858\n",
      "Epoch 68/100\n",
      "1/1 [==============================] - 0s 300ms/step - loss: 0.0699 - accuracy: 0.9743 - val_loss: 0.0311 - val_accuracy: 0.9889\n",
      "Epoch 69/100\n",
      "1/1 [==============================] - 0s 104ms/step - loss: 0.0666 - accuracy: 0.9749 - val_loss: 0.0298 - val_accuracy: 0.9893\n",
      "Epoch 70/100\n",
      "1/1 [==============================] - 0s 94ms/step - loss: 0.0652 - accuracy: 0.9740 - val_loss: 0.0393 - val_accuracy: 0.9868\n",
      "Epoch 71/100\n",
      "1/1 [==============================] - 0s 103ms/step - loss: 0.0635 - accuracy: 0.9791 - val_loss: 0.0352 - val_accuracy: 0.9877\n",
      "Epoch 72/100\n",
      "1/1 [==============================] - 0s 105ms/step - loss: 0.0607 - accuracy: 0.9795 - val_loss: 0.0300 - val_accuracy: 0.9889\n",
      "Epoch 73/100\n",
      "1/1 [==============================] - 0s 98ms/step - loss: 0.0599 - accuracy: 0.9765 - val_loss: 0.0384 - val_accuracy: 0.9871\n",
      "Epoch 74/100\n",
      "1/1 [==============================] - 0s 124ms/step - loss: 0.0572 - accuracy: 0.9819 - val_loss: 0.0402 - val_accuracy: 0.9871\n",
      "Epoch 75/100\n",
      "1/1 [==============================] - 0s 279ms/step - loss: 0.0555 - accuracy: 0.9827 - val_loss: 0.0328 - val_accuracy: 0.9888\n",
      "Epoch 76/100\n",
      "1/1 [==============================] - 0s 118ms/step - loss: 0.0541 - accuracy: 0.9799 - val_loss: 0.0380 - val_accuracy: 0.9872\n",
      "Epoch 77/100\n",
      "1/1 [==============================] - 0s 97ms/step - loss: 0.0514 - accuracy: 0.9836 - val_loss: 0.0415 - val_accuracy: 0.9868\n",
      "Epoch 78/100\n",
      "1/1 [==============================] - 0s 88ms/step - loss: 0.0501 - accuracy: 0.9844 - val_loss: 0.0342 - val_accuracy: 0.9883\n",
      "Epoch 79/100\n",
      "1/1 [==============================] - 0s 107ms/step - loss: 0.0485 - accuracy: 0.9830 - val_loss: 0.0396 - val_accuracy: 0.9875\n",
      "Epoch 80/100\n",
      "1/1 [==============================] - 0s 117ms/step - loss: 0.0460 - accuracy: 0.9857 - val_loss: 0.0441 - val_accuracy: 0.9864\n",
      "Epoch 81/100\n",
      "1/1 [==============================] - 0s 113ms/step - loss: 0.0447 - accuracy: 0.9869 - val_loss: 0.0370 - val_accuracy: 0.9884\n",
      "Epoch 82/100\n",
      "1/1 [==============================] - 0s 219ms/step - loss: 0.0431 - accuracy: 0.9864 - val_loss: 0.0431 - val_accuracy: 0.9871\n",
      "Epoch 83/100\n",
      "1/1 [==============================] - 0s 222ms/step - loss: 0.0407 - accuracy: 0.9878 - val_loss: 0.0446 - val_accuracy: 0.9867\n",
      "Epoch 84/100\n",
      "1/1 [==============================] - 0s 111ms/step - loss: 0.0390 - accuracy: 0.9885 - val_loss: 0.0391 - val_accuracy: 0.9879\n",
      "Epoch 85/100\n",
      "1/1 [==============================] - 0s 103ms/step - loss: 0.0376 - accuracy: 0.9886 - val_loss: 0.0477 - val_accuracy: 0.9864\n",
      "Epoch 86/100\n",
      "1/1 [==============================] - 0s 99ms/step - loss: 0.0358 - accuracy: 0.9913 - val_loss: 0.0444 - val_accuracy: 0.9873\n",
      "Epoch 87/100\n",
      "1/1 [==============================] - 0s 98ms/step - loss: 0.0338 - accuracy: 0.9917 - val_loss: 0.0444 - val_accuracy: 0.9875\n",
      "Epoch 88/100\n",
      "1/1 [==============================] - 0s 109ms/step - loss: 0.0323 - accuracy: 0.9917 - val_loss: 0.0517 - val_accuracy: 0.9859\n",
      "Epoch 89/100\n",
      "1/1 [==============================] - 0s 147ms/step - loss: 0.0311 - accuracy: 0.9931 - val_loss: 0.0454 - val_accuracy: 0.9876\n",
      "Epoch 90/100\n",
      "1/1 [==============================] - 0s 217ms/step - loss: 0.0295 - accuracy: 0.9931 - val_loss: 0.0522 - val_accuracy: 0.9867\n",
      "Epoch 91/100\n",
      "1/1 [==============================] - 0s 150ms/step - loss: 0.0278 - accuracy: 0.9939 - val_loss: 0.0516 - val_accuracy: 0.9871\n",
      "Epoch 92/100\n",
      "1/1 [==============================] - 0s 106ms/step - loss: 0.0262 - accuracy: 0.9943 - val_loss: 0.0497 - val_accuracy: 0.9876\n",
      "Epoch 93/100\n",
      "1/1 [==============================] - 0s 108ms/step - loss: 0.0250 - accuracy: 0.9954 - val_loss: 0.0569 - val_accuracy: 0.9865\n",
      "Epoch 94/100\n",
      "1/1 [==============================] - 0s 102ms/step - loss: 0.0239 - accuracy: 0.9959 - val_loss: 0.0517 - val_accuracy: 0.9879\n",
      "Epoch 95/100\n",
      "1/1 [==============================] - 0s 102ms/step - loss: 0.0225 - accuracy: 0.9963 - val_loss: 0.0568 - val_accuracy: 0.9872\n",
      "Epoch 96/100\n",
      "1/1 [==============================] - 0s 112ms/step - loss: 0.0212 - accuracy: 0.9969 - val_loss: 0.0579 - val_accuracy: 0.9872\n",
      "Epoch 97/100\n",
      "1/1 [==============================] - 0s 304ms/step - loss: 0.0200 - accuracy: 0.9971 - val_loss: 0.0554 - val_accuracy: 0.9879\n",
      "Epoch 98/100\n",
      "1/1 [==============================] - 0s 95ms/step - loss: 0.0190 - accuracy: 0.9976 - val_loss: 0.0611 - val_accuracy: 0.9875\n",
      "Epoch 99/100\n",
      "1/1 [==============================] - 0s 103ms/step - loss: 0.0180 - accuracy: 0.9976 - val_loss: 0.0587 - val_accuracy: 0.9876\n",
      "Epoch 100/100\n",
      "1/1 [==============================] - 0s 98ms/step - loss: 0.0169 - accuracy: 0.9982 - val_loss: 0.0598 - val_accuracy: 0.9877\n"
     ]
    }
   ],
   "source": [
    "model_history=model.fit(X_train,y_train,epochs=100,batch_size=X_train.shape[0],validation_data=(X_test,y_test))"
   ]
  },
  {
   "cell_type": "code",
   "execution_count": 15,
   "metadata": {},
   "outputs": [
    {
     "name": "stdout",
     "output_type": "stream",
     "text": [
      "237/237 [==============================] - 0s 2ms/step - loss: 0.0598 - accuracy: 0.9877\n"
     ]
    },
    {
     "data": {
      "text/plain": [
       "[0.059820756316185, 0.9877292513847351]"
      ]
     },
     "execution_count": 15,
     "metadata": {},
     "output_type": "execute_result"
    }
   ],
   "source": [
    "model.evaluate(X_test, y_test, verbose=1)"
   ]
  },
  {
   "cell_type": "code",
   "execution_count": 16,
   "metadata": {},
   "outputs": [
    {
     "data": {
      "text/plain": [
       "(<Figure size 1000x500 with 2 Axes>,\n",
       " array([<Axes: title={'center': 'Loss'}, xlabel='Epochs', ylabel='Loss'>,\n",
       "        <Axes: title={'center': 'Accuracy'}, xlabel='Epochs', ylabel='Accuracy'>],\n",
       "       dtype=object))"
      ]
     },
     "execution_count": 16,
     "metadata": {},
     "output_type": "execute_result"
    },
    {
     "data": {
      "image/png": "[encoded data removed]",
      "text/plain": [
       "<Figure size 1000x500 with 2 Axes>"
      ]
     },
     "metadata": {},
     "output_type": "display_data"
    }
   ],
   "source": [
    "from plot_keras_history import plot_history\n",
    "plot_history(model_history,show_standard_deviation=False,show_average=True)"
   ]
  },
  {
   "cell_type": "code",
   "execution_count": 17,
   "metadata": {},
   "outputs": [
    {
     "name": "stdout",
     "output_type": "stream",
     "text": [
      "237/237 [==============================] - 1s 2ms/step\n",
      "              precision    recall  f1-score   support\n",
      "\n",
      "           0       1.00      0.96      0.98      2635\n",
      "           1       0.98      1.00      0.99      4944\n",
      "\n",
      "    accuracy                           0.99      7579\n",
      "   macro avg       0.99      0.98      0.99      7579\n",
      "weighted avg       0.99      0.99      0.99      7579\n",
      "\n"
     ]
    }
   ],
   "source": [
    "y_pred=model.predict(X_test)\n",
    "y_pred=np.round(y_pred)\n",
    "report = classification_report(y_test, y_pred)\n",
    "print(report)"
   ]
  },
  {
   "cell_type": "code",
   "execution_count": 2,
   "metadata": {},
   "outputs": [],
   "source": [
    "#model.save(\"Teacher-Model.h5\")"
   ]
  },
  {
   "cell_type": "markdown",
   "metadata": {},
   "source": [
    "Checking Again EU Model\n"
   ]
  },
  {
   "cell_type": "code",
   "execution_count": 16,
   "metadata": {},
   "outputs": [],
   "source": [
    "eu_model= keras.models.load_model('EU-MODEL.h5')"
   ]
  },
  {
   "cell_type": "code",
   "execution_count": 17,
   "metadata": {},
   "outputs": [
    {
     "name": "stdout",
     "output_type": "stream",
     "text": [
      "Model: \"Teacher\"\n",
      "_________________________________________________________________\n",
      " Layer (type)                Output Shape              Param #   \n",
      "=================================================================\n",
      " dense (Dense)               (None, 256)               78592     \n",
      "                                                                 \n",
      " dense_1 (Dense)             (None, 128)               32896     \n",
      "                                                                 \n",
      " dense_2 (Dense)             (None, 64)                8256      \n",
      "                                                                 \n",
      " dense_3 (Dense)             (None, 32)                2080      \n",
      "                                                                 \n",
      " dense_4 (Dense)             (None, 16)                528       \n",
      "                                                                 \n",
      " dense_5 (Dense)             (None, 1)                 17        \n",
      "                                                                 \n",
      "=================================================================\n",
      "Total params: 122,369\n",
      "Trainable params: 122,369\n",
      "Non-trainable params: 0\n",
      "_________________________________________________________________\n"
     ]
    }
   ],
   "source": [
    "eu_model.summary()"
   ]
  },
  {
   "cell_type": "code",
   "execution_count": 18,
   "metadata": {},
   "outputs": [
    {
     "name": "stdout",
     "output_type": "stream",
     "text": [
      "237/237 [==============================] - 0s 996us/step - loss: 0.0598 - accuracy: 0.9877\n"
     ]
    },
    {
     "data": {
      "text/plain": [
       "[0.059820756316185, 0.9877292513847351]"
      ]
     },
     "execution_count": 18,
     "metadata": {},
     "output_type": "execute_result"
    }
   ],
   "source": [
    "eu_model.evaluate(X_test, y_test, verbose=1)"
   ]
  },
  {
   "cell_type": "code",
   "execution_count": null,
   "metadata": {},
   "outputs": [],
   "source": []
  }
 ],
 "metadata": {
  "kernelspec": {
   "display_name": "Python 3",
   "language": "python",
   "name": "python3"
  },
  "language_info": {
   "codemirror_mode": {
    "name": "ipython",
    "version": 3
   },
   "file_extension": ".py",
   "mimetype": "text/x-python",
   "name": "python",
   "nbconvert_exporter": "python",
   "pygments_lexer": "ipython3",
   "version": "3.10.7"
  },
  "orig_nbformat": 4
 },
 "nbformat": 4,
 "nbformat_minor": 2
}
