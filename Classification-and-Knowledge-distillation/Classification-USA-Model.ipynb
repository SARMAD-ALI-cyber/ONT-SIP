{
 "cells": [
  {
   "cell_type": "code",
   "execution_count": 2,
   "metadata": {},
   "outputs": [],
   "source": [
    "import numpy as np\n",
    "import matplotlib.pyplot as plt\n",
    "import pandas as pd\n",
    "from sklearn.model_selection import train_test_split\n",
    "from sklearn.metrics import classification_report\n",
    "from sklearn.preprocessing import MinMaxScaler\n",
    "from sklearn.preprocessing import StandardScaler\n",
    "import tensorflow as tf,keras\n",
    "from tensorflow.keras.models import Sequential,Model\n",
    "from tensorflow.keras.layers import Input, Dense\n",
    "import logging\n",
    "logging.getLogger(\"tensorflow\").setLevel(logging.ERROR)\n",
    "tf.autograph.set_verbosity(0)"
   ]
  },
  {
   "cell_type": "code",
   "execution_count": 3,
   "metadata": {},
   "outputs": [],
   "source": [
    "data=pd.read_csv('USA.csv')"
   ]
  },
  {
   "cell_type": "code",
   "execution_count": 4,
   "metadata": {},
   "outputs": [
    {
     "data": {
      "text/plain": [
       "11    6000\n",
       "23    3000\n",
       "30    3000\n",
       "25    3000\n",
       "46    3000\n",
       "24    3000\n",
       "6     3000\n",
       "57    3000\n",
       "22    3000\n",
       "44    3000\n",
       "Name: No. Spans, dtype: int64"
      ]
     },
     "execution_count": 4,
     "metadata": {},
     "output_type": "execute_result"
    }
   ],
   "source": [
    "#data.drop(\"GSNR_1\", axis=1, inplace=True)\n",
    "data['No. Spans'].value_counts()"
   ]
  },
  {
   "cell_type": "code",
   "execution_count": 5,
   "metadata": {},
   "outputs": [
    {
     "data": {
      "text/html": [
       "<div>\n",
       "<style scoped>\n",
       "    .dataframe tbody tr th:only-of-type {\n",
       "        vertical-align: middle;\n",
       "    }\n",
       "\n",
       "    .dataframe tbody tr th {\n",
       "        vertical-align: top;\n",
       "    }\n",
       "\n",
       "    .dataframe thead th {\n",
       "        text-align: right;\n",
       "    }\n",
       "</style>\n",
       "<table border=\"1\" class=\"dataframe\">\n",
       "  <thead>\n",
       "    <tr style=\"text-align: right;\">\n",
       "      <th></th>\n",
       "      <th>Power_1</th>\n",
       "      <th>Power_2</th>\n",
       "      <th>Power_3</th>\n",
       "      <th>Power_4</th>\n",
       "      <th>Power_5</th>\n",
       "      <th>Power_6</th>\n",
       "      <th>Power_7</th>\n",
       "      <th>Power_8</th>\n",
       "      <th>Power_9</th>\n",
       "      <th>Power_10</th>\n",
       "      <th>...</th>\n",
       "      <th>GSNR_71</th>\n",
       "      <th>GSNR_72</th>\n",
       "      <th>GSNR_73</th>\n",
       "      <th>GSNR_74</th>\n",
       "      <th>GSNR_75</th>\n",
       "      <th>GSNR_76</th>\n",
       "      <th>No. Spans</th>\n",
       "      <th>Total Distance(m)</th>\n",
       "      <th>GSNR_1</th>\n",
       "      <th>GSNR_class</th>\n",
       "    </tr>\n",
       "  </thead>\n",
       "  <tbody>\n",
       "    <tr>\n",
       "      <th>0</th>\n",
       "      <td>0.000000</td>\n",
       "      <td>0.000000</td>\n",
       "      <td>0.000096</td>\n",
       "      <td>0.000096</td>\n",
       "      <td>0.000096</td>\n",
       "      <td>0.000000</td>\n",
       "      <td>0.000096</td>\n",
       "      <td>0.0</td>\n",
       "      <td>0.000096</td>\n",
       "      <td>0.0</td>\n",
       "      <td>...</td>\n",
       "      <td>0.000000</td>\n",
       "      <td>0.000000</td>\n",
       "      <td>0.000000</td>\n",
       "      <td>26.391513</td>\n",
       "      <td>0.000000</td>\n",
       "      <td>0.000000</td>\n",
       "      <td>23</td>\n",
       "      <td>2050305</td>\n",
       "      <td>0.000000</td>\n",
       "      <td>0</td>\n",
       "    </tr>\n",
       "    <tr>\n",
       "      <th>1</th>\n",
       "      <td>0.000000</td>\n",
       "      <td>0.000096</td>\n",
       "      <td>0.000000</td>\n",
       "      <td>0.000096</td>\n",
       "      <td>0.000000</td>\n",
       "      <td>0.000096</td>\n",
       "      <td>0.000000</td>\n",
       "      <td>0.0</td>\n",
       "      <td>0.000000</td>\n",
       "      <td>0.0</td>\n",
       "      <td>...</td>\n",
       "      <td>0.000000</td>\n",
       "      <td>0.000000</td>\n",
       "      <td>25.764675</td>\n",
       "      <td>0.000000</td>\n",
       "      <td>0.000000</td>\n",
       "      <td>0.000000</td>\n",
       "      <td>23</td>\n",
       "      <td>2050305</td>\n",
       "      <td>0.000000</td>\n",
       "      <td>0</td>\n",
       "    </tr>\n",
       "    <tr>\n",
       "      <th>2</th>\n",
       "      <td>0.000000</td>\n",
       "      <td>0.000000</td>\n",
       "      <td>0.000000</td>\n",
       "      <td>0.000096</td>\n",
       "      <td>0.000000</td>\n",
       "      <td>0.000000</td>\n",
       "      <td>0.000000</td>\n",
       "      <td>0.0</td>\n",
       "      <td>0.000096</td>\n",
       "      <td>0.0</td>\n",
       "      <td>...</td>\n",
       "      <td>25.759626</td>\n",
       "      <td>0.000000</td>\n",
       "      <td>0.000000</td>\n",
       "      <td>0.000000</td>\n",
       "      <td>24.616361</td>\n",
       "      <td>24.297057</td>\n",
       "      <td>23</td>\n",
       "      <td>2050305</td>\n",
       "      <td>0.000000</td>\n",
       "      <td>0</td>\n",
       "    </tr>\n",
       "    <tr>\n",
       "      <th>3</th>\n",
       "      <td>0.000096</td>\n",
       "      <td>0.000096</td>\n",
       "      <td>0.000096</td>\n",
       "      <td>0.000096</td>\n",
       "      <td>0.000096</td>\n",
       "      <td>0.000000</td>\n",
       "      <td>0.000000</td>\n",
       "      <td>0.0</td>\n",
       "      <td>0.000096</td>\n",
       "      <td>0.0</td>\n",
       "      <td>...</td>\n",
       "      <td>21.235013</td>\n",
       "      <td>22.810189</td>\n",
       "      <td>0.000000</td>\n",
       "      <td>0.000000</td>\n",
       "      <td>0.000000</td>\n",
       "      <td>0.000000</td>\n",
       "      <td>23</td>\n",
       "      <td>2050305</td>\n",
       "      <td>22.651367</td>\n",
       "      <td>1</td>\n",
       "    </tr>\n",
       "    <tr>\n",
       "      <th>4</th>\n",
       "      <td>0.000000</td>\n",
       "      <td>0.000000</td>\n",
       "      <td>0.000096</td>\n",
       "      <td>0.000000</td>\n",
       "      <td>0.000096</td>\n",
       "      <td>0.000000</td>\n",
       "      <td>0.000000</td>\n",
       "      <td>0.0</td>\n",
       "      <td>0.000096</td>\n",
       "      <td>0.0</td>\n",
       "      <td>...</td>\n",
       "      <td>22.666472</td>\n",
       "      <td>21.211149</td>\n",
       "      <td>21.131602</td>\n",
       "      <td>21.349516</td>\n",
       "      <td>22.572032</td>\n",
       "      <td>0.000000</td>\n",
       "      <td>23</td>\n",
       "      <td>2050305</td>\n",
       "      <td>0.000000</td>\n",
       "      <td>0</td>\n",
       "    </tr>\n",
       "  </tbody>\n",
       "</table>\n",
       "<p>5 rows × 307 columns</p>\n",
       "</div>"
      ],
      "text/plain": [
       "    Power_1   Power_2   Power_3   Power_4   Power_5   Power_6   Power_7  \\\n",
       "0  0.000000  0.000000  0.000096  0.000096  0.000096  0.000000  0.000096   \n",
       "1  0.000000  0.000096  0.000000  0.000096  0.000000  0.000096  0.000000   \n",
       "2  0.000000  0.000000  0.000000  0.000096  0.000000  0.000000  0.000000   \n",
       "3  0.000096  0.000096  0.000096  0.000096  0.000096  0.000000  0.000000   \n",
       "4  0.000000  0.000000  0.000096  0.000000  0.000096  0.000000  0.000000   \n",
       "\n",
       "   Power_8   Power_9  Power_10  ...    GSNR_71    GSNR_72    GSNR_73  \\\n",
       "0      0.0  0.000096       0.0  ...   0.000000   0.000000   0.000000   \n",
       "1      0.0  0.000000       0.0  ...   0.000000   0.000000  25.764675   \n",
       "2      0.0  0.000096       0.0  ...  25.759626   0.000000   0.000000   \n",
       "3      0.0  0.000096       0.0  ...  21.235013  22.810189   0.000000   \n",
       "4      0.0  0.000096       0.0  ...  22.666472  21.211149  21.131602   \n",
       "\n",
       "     GSNR_74    GSNR_75    GSNR_76  No. Spans  Total Distance(m)     GSNR_1  \\\n",
       "0  26.391513   0.000000   0.000000         23            2050305   0.000000   \n",
       "1   0.000000   0.000000   0.000000         23            2050305   0.000000   \n",
       "2   0.000000  24.616361  24.297057         23            2050305   0.000000   \n",
       "3   0.000000   0.000000   0.000000         23            2050305  22.651367   \n",
       "4  21.349516  22.572032   0.000000         23            2050305   0.000000   \n",
       "\n",
       "   GSNR_class  \n",
       "0           0  \n",
       "1           0  \n",
       "2           0  \n",
       "3           1  \n",
       "4           0  \n",
       "\n",
       "[5 rows x 307 columns]"
      ]
     },
     "execution_count": 5,
     "metadata": {},
     "output_type": "execute_result"
    }
   ],
   "source": [
    "data.head(5)"
   ]
  },
  {
   "cell_type": "code",
   "execution_count": 6,
   "metadata": {},
   "outputs": [],
   "source": [
    "X=data.iloc[:,:-1]\n",
    "y=data.iloc[:,-1]"
   ]
  },
  {
   "cell_type": "code",
   "execution_count": 7,
   "metadata": {},
   "outputs": [
    {
     "name": "stdout",
     "output_type": "stream",
     "text": [
      "X  (33000, 306)\n",
      "y  (33000,)\n"
     ]
    },
    {
     "data": {
      "text/plain": [
       "0    22182\n",
       "1    10818\n",
       "Name: GSNR_class, dtype: int64"
      ]
     },
     "execution_count": 7,
     "metadata": {},
     "output_type": "execute_result"
    }
   ],
   "source": [
    "print(\"X \",X.shape)\n",
    "print(\"y \",y.shape)\n",
    "y.value_counts()"
   ]
  },
  {
   "cell_type": "code",
   "execution_count": 14,
   "metadata": {},
   "outputs": [
    {
     "name": "stdout",
     "output_type": "stream",
     "text": [
      "(26400, 306)\n",
      "(26400, 1)\n",
      "(6600, 306)\n",
      "(6600, 1)\n"
     ]
    }
   ],
   "source": [
    "#splitting the data set\n",
    "X_train,X_test,y_train,y_test=train_test_split(X,y,test_size=0.2,random_state=42)\n",
    "#=========converting to array===================\n",
    "X_train=np.array(X_train)\n",
    "X_test=np.array(X_test)\n",
    "y_train=np.array(y_train)\n",
    "y_test=np.array(y_test)\n",
    "#=========reshaping=============================\n",
    "y_train=y_train.reshape(-1,1)\n",
    "y_test=y_test.reshape(-1,1)\n",
    "#===========printing Shapes======\n",
    "print(X_train.shape)\n",
    "print(y_train.shape)\n",
    "print(X_test.shape)\n",
    "print(y_test.shape)"
   ]
  },
  {
   "cell_type": "code",
   "execution_count": 15,
   "metadata": {},
   "outputs": [],
   "source": [
    "#===========scalling================\n",
    "scaler=StandardScaler()\n",
    "X_train=scaler.fit_transform(X_train)\n",
    "X_test=scaler.transform(X_test)"
   ]
  },
  {
   "cell_type": "code",
   "execution_count": 16,
   "metadata": {},
   "outputs": [],
   "source": [
    "model=tf.keras.Sequential([\n",
    "tf.keras.layers.Dense(256,activation='relu',input_shape=(X_train.shape[1],),kernel_initializer='he_normal'),\n",
    "tf.keras.layers.Dense(128,activation='relu',kernel_initializer='he_normal'),\n",
    "tf.keras.layers.Dense(64,activation='relu',kernel_initializer='he_normal'),\n",
    "tf.keras.layers.Dense(32,activation='relu',kernel_initializer='he_normal'),\n",
    "tf.keras.layers.Dense(16,activation='relu',kernel_initializer='he_normal'),\n",
    "tf.keras.layers.Dense(1,activation='sigmoid',kernel_initializer='he_normal')\n",
    "],name='USA-Teacher')\n"
   ]
  },
  {
   "cell_type": "code",
   "execution_count": 17,
   "metadata": {},
   "outputs": [
    {
     "name": "stdout",
     "output_type": "stream",
     "text": [
      "Model: \"USA-Teacher\"\n",
      "_________________________________________________________________\n",
      " Layer (type)                Output Shape              Param #   \n",
      "=================================================================\n",
      " dense_6 (Dense)             (None, 256)               78592     \n",
      "                                                                 \n",
      " dense_7 (Dense)             (None, 128)               32896     \n",
      "                                                                 \n",
      " dense_8 (Dense)             (None, 64)                8256      \n",
      "                                                                 \n",
      " dense_9 (Dense)             (None, 32)                2080      \n",
      "                                                                 \n",
      " dense_10 (Dense)            (None, 16)                528       \n",
      "                                                                 \n",
      " dense_11 (Dense)            (None, 1)                 17        \n",
      "                                                                 \n",
      "=================================================================\n",
      "Total params: 122,369\n",
      "Trainable params: 122,369\n",
      "Non-trainable params: 0\n",
      "_________________________________________________________________\n"
     ]
    }
   ],
   "source": [
    "model.summary()"
   ]
  },
  {
   "cell_type": "code",
   "execution_count": 18,
   "metadata": {},
   "outputs": [],
   "source": [
    "optimizer=tf.keras.optimizers.Adam(learning_rate=0.001)\n",
    "model.compile(optimizer=optimizer, loss='binary_crossentropy', metrics=['accuracy'])"
   ]
  },
  {
   "cell_type": "code",
   "execution_count": 19,
   "metadata": {},
   "outputs": [
    {
     "name": "stdout",
     "output_type": "stream",
     "text": [
      "Epoch 1/40\n",
      "1/1 [==============================] - 2s 2s/step - loss: 0.7738 - accuracy: 0.6584 - val_loss: 0.6424 - val_accuracy: 0.6203\n",
      "Epoch 2/40\n",
      "1/1 [==============================] - 0s 158ms/step - loss: 0.6354 - accuracy: 0.6366 - val_loss: 0.5962 - val_accuracy: 0.6526\n",
      "Epoch 3/40\n",
      "1/1 [==============================] - 0s 235ms/step - loss: 0.5866 - accuracy: 0.6717 - val_loss: 0.5472 - val_accuracy: 0.6844\n",
      "Epoch 4/40\n",
      "1/1 [==============================] - 0s 226ms/step - loss: 0.5361 - accuracy: 0.7030 - val_loss: 0.5169 - val_accuracy: 0.6955\n",
      "Epoch 5/40\n",
      "1/1 [==============================] - 0s 181ms/step - loss: 0.5048 - accuracy: 0.7110 - val_loss: 0.4990 - val_accuracy: 0.7065\n",
      "Epoch 6/40\n",
      "1/1 [==============================] - 0s 166ms/step - loss: 0.4860 - accuracy: 0.7215 - val_loss: 0.4747 - val_accuracy: 0.7202\n",
      "Epoch 7/40\n",
      "1/1 [==============================] - 0s 200ms/step - loss: 0.4615 - accuracy: 0.7365 - val_loss: 0.4448 - val_accuracy: 0.7483\n",
      "Epoch 8/40\n",
      "1/1 [==============================] - 0s 221ms/step - loss: 0.4329 - accuracy: 0.7642 - val_loss: 0.4193 - val_accuracy: 0.7789\n",
      "Epoch 9/40\n",
      "1/1 [==============================] - 0s 189ms/step - loss: 0.4094 - accuracy: 0.7967 - val_loss: 0.4004 - val_accuracy: 0.8082\n",
      "Epoch 10/40\n",
      "1/1 [==============================] - 0s 163ms/step - loss: 0.3919 - accuracy: 0.8227 - val_loss: 0.3804 - val_accuracy: 0.8283\n",
      "Epoch 11/40\n",
      "1/1 [==============================] - 0s 162ms/step - loss: 0.3720 - accuracy: 0.8387 - val_loss: 0.3549 - val_accuracy: 0.8420\n",
      "Epoch 12/40\n",
      "1/1 [==============================] - 0s 244ms/step - loss: 0.3456 - accuracy: 0.8519 - val_loss: 0.3295 - val_accuracy: 0.8539\n",
      "Epoch 13/40\n",
      "1/1 [==============================] - 0s 185ms/step - loss: 0.3183 - accuracy: 0.8639 - val_loss: 0.3076 - val_accuracy: 0.8648\n",
      "Epoch 14/40\n",
      "1/1 [==============================] - 0s 179ms/step - loss: 0.2947 - accuracy: 0.8745 - val_loss: 0.2842 - val_accuracy: 0.8795\n",
      "Epoch 15/40\n",
      "1/1 [==============================] - 0s 174ms/step - loss: 0.2703 - accuracy: 0.8907 - val_loss: 0.2535 - val_accuracy: 0.9052\n",
      "Epoch 16/40\n",
      "1/1 [==============================] - 0s 184ms/step - loss: 0.2402 - accuracy: 0.9129 - val_loss: 0.2214 - val_accuracy: 0.9283\n",
      "Epoch 17/40\n",
      "1/1 [==============================] - 0s 228ms/step - loss: 0.2097 - accuracy: 0.9354 - val_loss: 0.1957 - val_accuracy: 0.9470\n",
      "Epoch 18/40\n",
      "1/1 [==============================] - 0s 197ms/step - loss: 0.1854 - accuracy: 0.9481 - val_loss: 0.1737 - val_accuracy: 0.9527\n",
      "Epoch 19/40\n",
      "1/1 [==============================] - 0s 156ms/step - loss: 0.1646 - accuracy: 0.9547 - val_loss: 0.1521 - val_accuracy: 0.9564\n",
      "Epoch 20/40\n",
      "1/1 [==============================] - 0s 169ms/step - loss: 0.1433 - accuracy: 0.9613 - val_loss: 0.1327 - val_accuracy: 0.9611\n",
      "Epoch 21/40\n",
      "1/1 [==============================] - 0s 185ms/step - loss: 0.1231 - accuracy: 0.9668 - val_loss: 0.1158 - val_accuracy: 0.9664\n",
      "Epoch 22/40\n",
      "1/1 [==============================] - 0s 310ms/step - loss: 0.1046 - accuracy: 0.9700 - val_loss: 0.1016 - val_accuracy: 0.9689\n",
      "Epoch 23/40\n",
      "1/1 [==============================] - 0s 193ms/step - loss: 0.0893 - accuracy: 0.9727 - val_loss: 0.0840 - val_accuracy: 0.9738\n",
      "Epoch 24/40\n",
      "1/1 [==============================] - 0s 169ms/step - loss: 0.0726 - accuracy: 0.9774 - val_loss: 0.0689 - val_accuracy: 0.9783\n",
      "Epoch 25/40\n",
      "1/1 [==============================] - 0s 193ms/step - loss: 0.0600 - accuracy: 0.9817 - val_loss: 0.0598 - val_accuracy: 0.9818\n",
      "Epoch 26/40\n",
      "1/1 [==============================] - 0s 299ms/step - loss: 0.0521 - accuracy: 0.9831 - val_loss: 0.0512 - val_accuracy: 0.9832\n",
      "Epoch 27/40\n",
      "1/1 [==============================] - 0s 286ms/step - loss: 0.0420 - accuracy: 0.9873 - val_loss: 0.0472 - val_accuracy: 0.9845\n",
      "Epoch 28/40\n",
      "1/1 [==============================] - 0s 174ms/step - loss: 0.0366 - accuracy: 0.9889 - val_loss: 0.0366 - val_accuracy: 0.9882\n",
      "Epoch 29/40\n",
      "1/1 [==============================] - 0s 174ms/step - loss: 0.0283 - accuracy: 0.9915 - val_loss: 0.0312 - val_accuracy: 0.9891\n",
      "Epoch 30/40\n",
      "1/1 [==============================] - 0s 179ms/step - loss: 0.0249 - accuracy: 0.9924 - val_loss: 0.0259 - val_accuracy: 0.9924\n",
      "Epoch 31/40\n",
      "1/1 [==============================] - 0s 335ms/step - loss: 0.0186 - accuracy: 0.9947 - val_loss: 0.0244 - val_accuracy: 0.9920\n",
      "Epoch 32/40\n",
      "1/1 [==============================] - 0s 234ms/step - loss: 0.0159 - accuracy: 0.9955 - val_loss: 0.0178 - val_accuracy: 0.9956\n",
      "Epoch 33/40\n",
      "1/1 [==============================] - 0s 168ms/step - loss: 0.0113 - accuracy: 0.9975 - val_loss: 0.0137 - val_accuracy: 0.9968\n",
      "Epoch 34/40\n",
      "1/1 [==============================] - 0s 168ms/step - loss: 0.0094 - accuracy: 0.9981 - val_loss: 0.0112 - val_accuracy: 0.9973\n",
      "Epoch 35/40\n",
      "1/1 [==============================] - 0s 183ms/step - loss: 0.0072 - accuracy: 0.9985 - val_loss: 0.0103 - val_accuracy: 0.9977\n",
      "Epoch 36/40\n",
      "1/1 [==============================] - 0s 291ms/step - loss: 0.0055 - accuracy: 0.9991 - val_loss: 0.0095 - val_accuracy: 0.9974\n",
      "Epoch 37/40\n",
      "1/1 [==============================] - 0s 228ms/step - loss: 0.0048 - accuracy: 0.9993 - val_loss: 0.0069 - val_accuracy: 0.9986\n",
      "Epoch 38/40\n",
      "1/1 [==============================] - 0s 184ms/step - loss: 0.0033 - accuracy: 0.9995 - val_loss: 0.0058 - val_accuracy: 0.9989\n",
      "Epoch 39/40\n",
      "1/1 [==============================] - 0s 169ms/step - loss: 0.0029 - accuracy: 0.9996 - val_loss: 0.0051 - val_accuracy: 0.9991\n",
      "Epoch 40/40\n",
      "1/1 [==============================] - 0s 177ms/step - loss: 0.0024 - accuracy: 0.9997 - val_loss: 0.0043 - val_accuracy: 0.9995\n"
     ]
    }
   ],
   "source": [
    "model_history=model.fit(X_train,y_train,epochs=40,batch_size=X_train.shape[0],validation_data=(X_test,y_test))"
   ]
  },
  {
   "cell_type": "code",
   "execution_count": 20,
   "metadata": {},
   "outputs": [
    {
     "name": "stdout",
     "output_type": "stream",
     "text": [
      "207/207 [==============================] - 0s 1ms/step - loss: 0.0043 - accuracy: 0.9995\n"
     ]
    },
    {
     "data": {
      "text/plain": [
       "[0.004253116436302662, 0.9995454549789429]"
      ]
     },
     "execution_count": 20,
     "metadata": {},
     "output_type": "execute_result"
    }
   ],
   "source": [
    "model.evaluate(X_test, y_test, verbose=1)"
   ]
  },
  {
   "cell_type": "code",
   "execution_count": 21,
   "metadata": {},
   "outputs": [
    {
     "data": {
      "text/plain": [
       "(<Figure size 1000x500 with 2 Axes>,\n",
       " array([<Axes: title={'center': 'Loss'}, xlabel='Epochs', ylabel='Loss'>,\n",
       "        <Axes: title={'center': 'Accuracy'}, xlabel='Epochs', ylabel='Accuracy'>],\n",
       "       dtype=object))"
      ]
     },
     "execution_count": 21,
     "metadata": {},
     "output_type": "execute_result"
    },
    {
     "data": {
      "image/png": "[encoded data removed]",
      "text/plain": [
       "<Figure size 1000x500 with 2 Axes>"
      ]
     },
     "metadata": {},
     "output_type": "display_data"
    }
   ],
   "source": [
    "from plot_keras_history import plot_history\n",
    "plot_history(model_history,show_standard_deviation=False,show_average=True)"
   ]
  },
  {
   "cell_type": "code",
   "execution_count": 22,
   "metadata": {},
   "outputs": [
    {
     "name": "stdout",
     "output_type": "stream",
     "text": [
      "207/207 [==============================] - 0s 2ms/step\n",
      "              precision    recall  f1-score   support\n",
      "\n",
      "           0       1.00      1.00      1.00      4422\n",
      "           1       1.00      1.00      1.00      2178\n",
      "\n",
      "    accuracy                           1.00      6600\n",
      "   macro avg       1.00      1.00      1.00      6600\n",
      "weighted avg       1.00      1.00      1.00      6600\n",
      "\n"
     ]
    }
   ],
   "source": [
    "y_pred=model.predict(X_test)\n",
    "y_pred=np.round(y_pred)\n",
    "report = classification_report(y_test, y_pred)\n",
    "print(report)"
   ]
  },
  {
   "cell_type": "code",
   "execution_count": 26,
   "metadata": {},
   "outputs": [],
   "source": [
    "model.save('USA-MODEL.h5')"
   ]
  },
  {
   "cell_type": "code",
   "execution_count": null,
   "metadata": {},
   "outputs": [],
   "source": []
  }
 ],
 "metadata": {
  "kernelspec": {
   "display_name": "Python 3",
   "language": "python",
   "name": "python3"
  },
  "language_info": {
   "codemirror_mode": {
    "name": "ipython",
    "version": 3
   },
   "file_extension": ".py",
   "mimetype": "text/x-python",
   "name": "python",
   "nbconvert_exporter": "python",
   "pygments_lexer": "ipython3",
   "version": "3.10.7"
  },
  "orig_nbformat": 4
 },
 "nbformat": 4,
 "nbformat_minor": 2
}
