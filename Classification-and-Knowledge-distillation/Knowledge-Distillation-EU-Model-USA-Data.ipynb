{
 "cells": [
  {
   "cell_type": "code",
   "execution_count": 1,
   "metadata": {},
   "outputs": [],
   "source": [
    "import numpy as np\n",
    "import matplotlib.pyplot as plt\n",
    "import pandas as pd\n",
    "from sklearn.model_selection import train_test_split\n",
    "from sklearn.preprocessing import MinMaxScaler\n",
    "from sklearn.preprocessing import StandardScaler\n",
    "import tensorflow as tf,keras,keras.losses,keras.metrics\n",
    "from  tensorflow.keras.applications  import VGG16\n",
    "from tensorflow.keras.models import Sequential,Model\n",
    "from tensorflow.keras.layers import Input, Dense, concatenate, Flatten\n",
    "from plot_keras_history import plot_history\n",
    "import logging\n",
    "logging.getLogger(\"tensorflow\").setLevel(logging.ERROR)\n",
    "tf.autograph.set_verbosity(0)\n",
    "from scipy.special import expit\n",
    "from sklearn.metrics import mean_squared_error"
   ]
  },
  {
   "cell_type": "code",
   "execution_count": 2,
   "metadata": {},
   "outputs": [
    {
     "data": {
      "text/plain": [
       "(33000, 307)"
      ]
     },
     "execution_count": 2,
     "metadata": {},
     "output_type": "execute_result"
    }
   ],
   "source": [
    "data=pd.read_csv(\"USA.csv\")\n",
    "data.shape"
   ]
  },
  {
   "cell_type": "code",
   "execution_count": 3,
   "metadata": {},
   "outputs": [
    {
     "data": {
      "text/plain": [
       "11    6000\n",
       "23    3000\n",
       "30    3000\n",
       "25    3000\n",
       "46    3000\n",
       "24    3000\n",
       "6     3000\n",
       "57    3000\n",
       "22    3000\n",
       "44    3000\n",
       "Name: No. Spans, dtype: int64"
      ]
     },
     "execution_count": 3,
     "metadata": {},
     "output_type": "execute_result"
    }
   ],
   "source": [
    "data['No. Spans'].value_counts()"
   ]
  },
  {
   "cell_type": "code",
   "execution_count": 4,
   "metadata": {},
   "outputs": [
    {
     "name": "stdout",
     "output_type": "stream",
     "text": [
      "X  (33000, 306)\n",
      "y  (33000,)\n"
     ]
    },
    {
     "data": {
      "text/plain": [
       "0    22182\n",
       "1    10818\n",
       "Name: GSNR_class, dtype: int64"
      ]
     },
     "execution_count": 4,
     "metadata": {},
     "output_type": "execute_result"
    }
   ],
   "source": [
    "X=data.iloc[:,:-1]\n",
    "y=data.iloc[:,-1]\n",
    "print(\"X \",X.shape)\n",
    "print(\"y \",y.shape)\n",
    "y.value_counts()"
   ]
  },
  {
   "cell_type": "code",
   "execution_count": 23,
   "metadata": {},
   "outputs": [
    {
     "name": "stdout",
     "output_type": "stream",
     "text": [
      "(26400, 306)\n",
      "(26400, 1)\n",
      "(6600, 306)\n",
      "(6600, 1)\n"
     ]
    }
   ],
   "source": [
    "#splitting the data set\n",
    "X_train,X_test,y_train,y_test=train_test_split(X,y,test_size=0.2,random_state=42)\n",
    "#=========converting to array===================\n",
    "X_train=np.array(X_train)\n",
    "X_test=np.array(X_test)\n",
    "y_train=np.array(y_train)\n",
    "y_test=np.array(y_test)\n",
    "#=========reshaping=============================\n",
    "y_train=y_train.reshape(-1,1)\n",
    "y_test=y_test.reshape(-1,1)\n",
    "#===========printing Shapes======\n",
    "print(X_train.shape)\n",
    "print(y_train.shape)\n",
    "print(X_test.shape)\n",
    "print(y_test.shape)"
   ]
  },
  {
   "cell_type": "code",
   "execution_count": 24,
   "metadata": {},
   "outputs": [],
   "source": [
    "#===========scalling================\n",
    "scaler=StandardScaler()\n",
    "X_train=scaler.fit_transform(X_train)\n",
    "X_test=scaler.transform(X_test)"
   ]
  },
  {
   "cell_type": "code",
   "execution_count": 25,
   "metadata": {},
   "outputs": [],
   "source": [
    "teacher= keras.models.load_model('EU-MODEL.h5')"
   ]
  },
  {
   "cell_type": "code",
   "execution_count": 26,
   "metadata": {},
   "outputs": [],
   "source": [
    "teacher._name='teacher'\n",
    "teacher.trainable=False"
   ]
  },
  {
   "cell_type": "code",
   "execution_count": 27,
   "metadata": {},
   "outputs": [
    {
     "name": "stdout",
     "output_type": "stream",
     "text": [
      "Model: \"teacher\"\n",
      "_________________________________________________________________\n",
      " Layer (type)                Output Shape              Param #   \n",
      "=================================================================\n",
      " dense (Dense)               (None, 256)               78592     \n",
      "                                                                 \n",
      " dense_1 (Dense)             (None, 128)               32896     \n",
      "                                                                 \n",
      " dense_2 (Dense)             (None, 64)                8256      \n",
      "                                                                 \n",
      " dense_3 (Dense)             (None, 32)                2080      \n",
      "                                                                 \n",
      " dense_4 (Dense)             (None, 16)                528       \n",
      "                                                                 \n",
      " dense_5 (Dense)             (None, 1)                 17        \n",
      "                                                                 \n",
      "=================================================================\n",
      "Total params: 122,369\n",
      "Trainable params: 0\n",
      "Non-trainable params: 122,369\n",
      "_________________________________________________________________\n"
     ]
    }
   ],
   "source": [
    "teacher.summary()"
   ]
  },
  {
   "cell_type": "code",
   "execution_count": 28,
   "metadata": {},
   "outputs": [
    {
     "name": "stdout",
     "output_type": "stream",
     "text": [
      "207/207 [==============================] - 1s 2ms/step - loss: 5.2363 - accuracy: 0.3362\n"
     ]
    },
    {
     "data": {
      "text/plain": [
       "[5.236291408538818, 0.3362121284008026]"
      ]
     },
     "execution_count": 28,
     "metadata": {},
     "output_type": "execute_result"
    }
   ],
   "source": [
    "teacher.evaluate(X_test,y_test)"
   ]
  },
  {
   "cell_type": "code",
   "execution_count": 29,
   "metadata": {},
   "outputs": [],
   "source": [
    "student= tf.keras.Sequential([\n",
    "    tf.keras.layers.Dense(128, activation='relu', input_shape=(X_train.shape[1],),kernel_initializer='he_normal'),\n",
    "    tf.keras.layers.Dense(64, activation='relu',kernel_initializer='he_normal'),\n",
    "    tf.keras.layers.Dense(32, activation='relu',kernel_initializer='he_normal'),\n",
    "    tf.keras.layers.Dense(16, activation='relu',kernel_initializer='he_normal'),\n",
    "    tf.keras.layers.Dense(1, activation='sigmoid',kernel_initializer='he_normal')\n",
    "])"
   ]
  },
  {
   "cell_type": "code",
   "execution_count": 30,
   "metadata": {},
   "outputs": [],
   "source": [
    "student._name='student'"
   ]
  },
  {
   "cell_type": "code",
   "execution_count": 31,
   "metadata": {},
   "outputs": [
    {
     "name": "stdout",
     "output_type": "stream",
     "text": [
      "Model: \"student\"\n",
      "_________________________________________________________________\n",
      " Layer (type)                Output Shape              Param #   \n",
      "=================================================================\n",
      " dense_5 (Dense)             (None, 128)               39296     \n",
      "                                                                 \n",
      " dense_6 (Dense)             (None, 64)                8256      \n",
      "                                                                 \n",
      " dense_7 (Dense)             (None, 32)                2080      \n",
      "                                                                 \n",
      " dense_8 (Dense)             (None, 16)                528       \n",
      "                                                                 \n",
      " dense_9 (Dense)             (None, 1)                 17        \n",
      "                                                                 \n",
      "=================================================================\n",
      "Total params: 50,177\n",
      "Trainable params: 50,177\n",
      "Non-trainable params: 0\n",
      "_________________________________________________________________\n"
     ]
    }
   ],
   "source": [
    "student.summary()"
   ]
  },
  {
   "cell_type": "code",
   "execution_count": 14,
   "metadata": {},
   "outputs": [],
   "source": [
    "scratch_student=keras.models.clone_model(student)"
   ]
  },
  {
   "cell_type": "code",
   "execution_count": 15,
   "metadata": {},
   "outputs": [],
   "source": [
    "optimizer = tf.keras.optimizers.Adam(learning_rate=0.001)#0.001\n",
    "scratch_student.compile(optimizer=optimizer, loss='binary_crossentropy', metrics=['accuracy'])"
   ]
  },
  {
   "cell_type": "code",
   "execution_count": 16,
   "metadata": {},
   "outputs": [
    {
     "name": "stdout",
     "output_type": "stream",
     "text": [
      "Epoch 1/50\n",
      "1/1 [==============================] - 2s 2s/step - loss: 0.7504 - accuracy: 0.4947 - val_loss: 0.6628 - val_accuracy: 0.6029\n",
      "Epoch 2/50\n",
      "1/1 [==============================] - 0s 146ms/step - loss: 0.6611 - accuracy: 0.6060 - val_loss: 0.6139 - val_accuracy: 0.6648\n",
      "Epoch 3/50\n",
      "1/1 [==============================] - 0s 127ms/step - loss: 0.6109 - accuracy: 0.6692 - val_loss: 0.5867 - val_accuracy: 0.6867\n",
      "Epoch 4/50\n",
      "1/1 [==============================] - 0s 138ms/step - loss: 0.5825 - accuracy: 0.6912 - val_loss: 0.5700 - val_accuracy: 0.6886\n",
      "Epoch 5/50\n",
      "1/1 [==============================] - 0s 137ms/step - loss: 0.5642 - accuracy: 0.6953 - val_loss: 0.5572 - val_accuracy: 0.6918\n",
      "Epoch 6/50\n",
      "1/1 [==============================] - 0s 130ms/step - loss: 0.5499 - accuracy: 0.6975 - val_loss: 0.5456 - val_accuracy: 0.6959\n",
      "Epoch 7/50\n",
      "1/1 [==============================] - 0s 149ms/step - loss: 0.5370 - accuracy: 0.7024 - val_loss: 0.5340 - val_accuracy: 0.6977\n",
      "Epoch 8/50\n",
      "1/1 [==============================] - 0s 123ms/step - loss: 0.5243 - accuracy: 0.7080 - val_loss: 0.5222 - val_accuracy: 0.7070\n",
      "Epoch 9/50\n",
      "1/1 [==============================] - 0s 156ms/step - loss: 0.5115 - accuracy: 0.7165 - val_loss: 0.5098 - val_accuracy: 0.7147\n",
      "Epoch 10/50\n",
      "1/1 [==============================] - 0s 140ms/step - loss: 0.4984 - accuracy: 0.7247 - val_loss: 0.4969 - val_accuracy: 0.7280\n",
      "Epoch 11/50\n",
      "1/1 [==============================] - 0s 145ms/step - loss: 0.4850 - accuracy: 0.7359 - val_loss: 0.4836 - val_accuracy: 0.7373\n",
      "Epoch 12/50\n",
      "1/1 [==============================] - 0s 124ms/step - loss: 0.4715 - accuracy: 0.7465 - val_loss: 0.4704 - val_accuracy: 0.7492\n",
      "Epoch 13/50\n",
      "1/1 [==============================] - 0s 140ms/step - loss: 0.4583 - accuracy: 0.7589 - val_loss: 0.4574 - val_accuracy: 0.7632\n",
      "Epoch 14/50\n",
      "1/1 [==============================] - 0s 126ms/step - loss: 0.4453 - accuracy: 0.7734 - val_loss: 0.4445 - val_accuracy: 0.7771\n",
      "Epoch 15/50\n",
      "1/1 [==============================] - 0s 128ms/step - loss: 0.4326 - accuracy: 0.7875 - val_loss: 0.4317 - val_accuracy: 0.7933\n",
      "Epoch 16/50\n",
      "1/1 [==============================] - 0s 121ms/step - loss: 0.4199 - accuracy: 0.8023 - val_loss: 0.4186 - val_accuracy: 0.8080\n",
      "Epoch 17/50\n",
      "1/1 [==============================] - 0s 133ms/step - loss: 0.4067 - accuracy: 0.8164 - val_loss: 0.4047 - val_accuracy: 0.8230\n",
      "Epoch 18/50\n",
      "1/1 [==============================] - 0s 143ms/step - loss: 0.3927 - accuracy: 0.8322 - val_loss: 0.3900 - val_accuracy: 0.8367\n",
      "Epoch 19/50\n",
      "1/1 [==============================] - 0s 150ms/step - loss: 0.3776 - accuracy: 0.8465 - val_loss: 0.3746 - val_accuracy: 0.8467\n",
      "Epoch 20/50\n",
      "1/1 [==============================] - 0s 153ms/step - loss: 0.3615 - accuracy: 0.8582 - val_loss: 0.3585 - val_accuracy: 0.8605\n",
      "Epoch 21/50\n",
      "1/1 [==============================] - 0s 137ms/step - loss: 0.3448 - accuracy: 0.8711 - val_loss: 0.3421 - val_accuracy: 0.8698\n",
      "Epoch 22/50\n",
      "1/1 [==============================] - 0s 114ms/step - loss: 0.3279 - accuracy: 0.8819 - val_loss: 0.3254 - val_accuracy: 0.8815\n",
      "Epoch 23/50\n",
      "1/1 [==============================] - 0s 127ms/step - loss: 0.3109 - accuracy: 0.8916 - val_loss: 0.3085 - val_accuracy: 0.8895\n",
      "Epoch 24/50\n",
      "1/1 [==============================] - 0s 119ms/step - loss: 0.2940 - accuracy: 0.8996 - val_loss: 0.2911 - val_accuracy: 0.8995\n",
      "Epoch 25/50\n",
      "1/1 [==============================] - 0s 122ms/step - loss: 0.2767 - accuracy: 0.9089 - val_loss: 0.2731 - val_accuracy: 0.9114\n",
      "Epoch 26/50\n",
      "1/1 [==============================] - 0s 150ms/step - loss: 0.2587 - accuracy: 0.9195 - val_loss: 0.2544 - val_accuracy: 0.9226\n",
      "Epoch 27/50\n",
      "1/1 [==============================] - 0s 129ms/step - loss: 0.2401 - accuracy: 0.9317 - val_loss: 0.2354 - val_accuracy: 0.9333\n",
      "Epoch 28/50\n",
      "1/1 [==============================] - 0s 134ms/step - loss: 0.2211 - accuracy: 0.9434 - val_loss: 0.2163 - val_accuracy: 0.9427\n",
      "Epoch 29/50\n",
      "1/1 [==============================] - 0s 115ms/step - loss: 0.2024 - accuracy: 0.9542 - val_loss: 0.1976 - val_accuracy: 0.9548\n",
      "Epoch 30/50\n",
      "1/1 [==============================] - 0s 186ms/step - loss: 0.1842 - accuracy: 0.9630 - val_loss: 0.1796 - val_accuracy: 0.9630\n",
      "Epoch 31/50\n",
      "1/1 [==============================] - 0s 139ms/step - loss: 0.1668 - accuracy: 0.9696 - val_loss: 0.1624 - val_accuracy: 0.9680\n",
      "Epoch 32/50\n",
      "1/1 [==============================] - 0s 122ms/step - loss: 0.1500 - accuracy: 0.9758 - val_loss: 0.1461 - val_accuracy: 0.9721\n",
      "Epoch 33/50\n",
      "1/1 [==============================] - 0s 134ms/step - loss: 0.1340 - accuracy: 0.9800 - val_loss: 0.1307 - val_accuracy: 0.9767\n",
      "Epoch 34/50\n",
      "1/1 [==============================] - 0s 136ms/step - loss: 0.1191 - accuracy: 0.9830 - val_loss: 0.1163 - val_accuracy: 0.9803\n",
      "Epoch 35/50\n",
      "1/1 [==============================] - 0s 131ms/step - loss: 0.1055 - accuracy: 0.9855 - val_loss: 0.1030 - val_accuracy: 0.9836\n",
      "Epoch 36/50\n",
      "1/1 [==============================] - 0s 132ms/step - loss: 0.0930 - accuracy: 0.9877 - val_loss: 0.0910 - val_accuracy: 0.9859\n",
      "Epoch 37/50\n",
      "1/1 [==============================] - 0s 142ms/step - loss: 0.0816 - accuracy: 0.9895 - val_loss: 0.0801 - val_accuracy: 0.9880\n",
      "Epoch 38/50\n",
      "1/1 [==============================] - 0s 129ms/step - loss: 0.0712 - accuracy: 0.9919 - val_loss: 0.0700 - val_accuracy: 0.9903\n",
      "Epoch 39/50\n",
      "1/1 [==============================] - 0s 121ms/step - loss: 0.0618 - accuracy: 0.9939 - val_loss: 0.0608 - val_accuracy: 0.9915\n",
      "Epoch 40/50\n",
      "1/1 [==============================] - 0s 124ms/step - loss: 0.0533 - accuracy: 0.9955 - val_loss: 0.0529 - val_accuracy: 0.9929\n",
      "Epoch 41/50\n",
      "1/1 [==============================] - 0s 125ms/step - loss: 0.0460 - accuracy: 0.9966 - val_loss: 0.0461 - val_accuracy: 0.9956\n",
      "Epoch 42/50\n",
      "1/1 [==============================] - 0s 138ms/step - loss: 0.0397 - accuracy: 0.9973 - val_loss: 0.0402 - val_accuracy: 0.9970\n",
      "Epoch 43/50\n",
      "1/1 [==============================] - 0s 128ms/step - loss: 0.0343 - accuracy: 0.9978 - val_loss: 0.0350 - val_accuracy: 0.9980\n",
      "Epoch 44/50\n",
      "1/1 [==============================] - 0s 115ms/step - loss: 0.0295 - accuracy: 0.9985 - val_loss: 0.0305 - val_accuracy: 0.9982\n",
      "Epoch 45/50\n",
      "1/1 [==============================] - 0s 129ms/step - loss: 0.0254 - accuracy: 0.9988 - val_loss: 0.0267 - val_accuracy: 0.9982\n",
      "Epoch 46/50\n",
      "1/1 [==============================] - 0s 114ms/step - loss: 0.0219 - accuracy: 0.9991 - val_loss: 0.0235 - val_accuracy: 0.9985\n",
      "Epoch 47/50\n",
      "1/1 [==============================] - 0s 104ms/step - loss: 0.0190 - accuracy: 0.9993 - val_loss: 0.0208 - val_accuracy: 0.9985\n",
      "Epoch 48/50\n",
      "1/1 [==============================] - 0s 110ms/step - loss: 0.0165 - accuracy: 0.9994 - val_loss: 0.0184 - val_accuracy: 0.9983\n",
      "Epoch 49/50\n",
      "1/1 [==============================] - 0s 123ms/step - loss: 0.0144 - accuracy: 0.9995 - val_loss: 0.0165 - val_accuracy: 0.9982\n",
      "Epoch 50/50\n",
      "1/1 [==============================] - 0s 119ms/step - loss: 0.0126 - accuracy: 0.9995 - val_loss: 0.0147 - val_accuracy: 0.9986\n"
     ]
    }
   ],
   "source": [
    "model_history=scratch_student.fit(X_train, y_train, epochs=50, batch_size=X_train.shape[0],validation_data=(X_test,y_test))"
   ]
  },
  {
   "cell_type": "code",
   "execution_count": 17,
   "metadata": {},
   "outputs": [
    {
     "name": "stdout",
     "output_type": "stream",
     "text": [
      "207/207 [==============================] - 0s 2ms/step - loss: 0.0147 - accuracy: 0.9986\n"
     ]
    },
    {
     "data": {
      "text/plain": [
       "[0.014738458208739758, 0.9986363649368286]"
      ]
     },
     "execution_count": 17,
     "metadata": {},
     "output_type": "execute_result"
    }
   ],
   "source": [
    "scratch_student.evaluate(X_test,y_test)"
   ]
  },
  {
   "cell_type": "code",
   "execution_count": 18,
   "metadata": {},
   "outputs": [
    {
     "data": {
      "text/plain": [
       "(<Figure size 1000x500 with 2 Axes>,\n",
       " array([<Axes: title={'center': 'Loss'}, xlabel='Epochs', ylabel='Loss'>,\n",
       "        <Axes: title={'center': 'Accuracy'}, xlabel='Epochs', ylabel='Accuracy'>],\n",
       "       dtype=object))"
      ]
     },
     "execution_count": 18,
     "metadata": {},
     "output_type": "execute_result"
    },
    {
     "data": {
      "image/png": "[encoded data removed]",
      "text/plain": [
       "<Figure size 1000x500 with 2 Axes>"
      ]
     },
     "metadata": {},
     "output_type": "display_data"
    }
   ],
   "source": [
    "plot_history(model_history,show_standard_deviation=False,show_average=True)"
   ]
  },
  {
   "cell_type": "markdown",
   "metadata": {},
   "source": [
    "KNOWLEDGE DISTILLATION"
   ]
  },
  {
   "cell_type": "code",
   "execution_count": 32,
   "metadata": {},
   "outputs": [],
   "source": [
    "class Distiller(keras.Model):\n",
    "    def __init__(self,student,teacher):\n",
    "        super(Distiller,self).__init__()\n",
    "        self.student=student\n",
    "        self.teacher=teacher\n",
    "    def compile(self,optimizer,metrics,student_loss_fn,distillation_loss_fn,alpha=0.1,temperature=3):\n",
    "        super(Distiller,self).compile(optimizer=optimizer,metrics=metrics)\n",
    "        self.student_loss_fn=student_loss_fn\n",
    "        self.distillation_loss_fn=distillation_loss_fn\n",
    "        self.alpha=alpha\n",
    "        self.temperature=temperature\n",
    "    def train_step(self,data1):\n",
    "        x,y=data1\n",
    "        teacher_predictions=self.teacher(x,training=False)\n",
    "        with tf.GradientTape() as tape:\n",
    "            student_predictions=self.student(x,training=True)\n",
    "            student_loss=self.student_loss_fn(y,student_predictions)\n",
    "            #distillation_loss=self.distillation_loss_fn(tf.nn.softmax(teacher_predictions/self.temperature,axis=1),tf.nn.softmax(student_predictions/self.temperature,axis=1))\n",
    "            distillation_loss=self.distillation_loss_fn(teacher_predictions,student_predictions)\n",
    "            loss=self.alpha*student_loss+(1-self.alpha)*distillation_loss\n",
    "        modelParameters=self.student.trainable_variables\n",
    "        gradients=tape.gradient(loss,modelParameters)\n",
    "        self.optimizer.apply_gradients(zip(gradients,modelParameters))\n",
    "        self.compiled_metrics.update_state(y,student_predictions)\n",
    "        \n",
    "        results={m.name:m.result() for m in self.metrics}\n",
    "        results.update(\n",
    "            {'student_loss':student_loss,'distillation_loss':distillation_loss}\n",
    "        )\n",
    "        return results\n",
    "    def test_step(self,data1):\n",
    "        x,y=data1\n",
    "        predictions=self.student(x)\n",
    "        student_loss=self.student_loss_fn(y,predictions)\n",
    "        self.compiled_metrics.update_state(y, predictions)\n",
    "        \n",
    "        results={m.name:m.result() for m in self.metrics}\n",
    "        results.update(\n",
    "            {'student_loss': student_loss}\n",
    "        )\n",
    "        return results\n",
    "        \n",
    "    \n",
    "            \n",
    "            \n",
    "    \n",
    "            "
   ]
  },
  {
   "cell_type": "code",
   "execution_count": 33,
   "metadata": {},
   "outputs": [
    {
     "name": "stdout",
     "output_type": "stream",
     "text": [
      "Epoch 1/20\n"
     ]
    },
    {
     "name": "stderr",
     "output_type": "stream",
     "text": [
      "c:\\Users\\Dell pc\\AppData\\Local\\Programs\\Python\\Python310\\lib\\site-packages\\keras\\backend.py:5703: UserWarning: \"`binary_crossentropy` received `from_logits=True`, but the `output` argument was produced by a Sigmoid activation and thus does not represent logits. Was this intended?\n",
      "  output, from_logits = _get_logits(\n"
     ]
    },
    {
     "name": "stdout",
     "output_type": "stream",
     "text": [
      "1/1 [==============================] - 1s 1s/step - binary_accuracy: 0.4970 - student_loss: 0.7500 - distillation_loss: 0.7751 - val_binary_accuracy: 0.4347 - val_student_loss: 0.8078\n",
      "Epoch 2/20\n",
      "1/1 [==============================] - 0s 171ms/step - binary_accuracy: 0.4363 - student_loss: 0.8107 - distillation_loss: 0.6568 - val_binary_accuracy: 0.4106 - val_student_loss: 0.8671\n",
      "Epoch 3/20\n",
      "1/1 [==============================] - 0s 183ms/step - binary_accuracy: 0.4031 - student_loss: 0.8706 - distillation_loss: 0.6121 - val_binary_accuracy: 0.4112 - val_student_loss: 0.8755\n",
      "Epoch 4/20\n",
      "1/1 [==============================] - 0s 167ms/step - binary_accuracy: 0.4060 - student_loss: 0.8796 - distillation_loss: 0.5918 - val_binary_accuracy: 0.4323 - val_student_loss: 0.8479\n",
      "Epoch 5/20\n",
      "1/1 [==============================] - 0s 166ms/step - binary_accuracy: 0.4248 - student_loss: 0.8528 - distillation_loss: 0.5803 - val_binary_accuracy: 0.4656 - val_student_loss: 0.8071\n",
      "Epoch 6/20\n",
      "1/1 [==============================] - 0s 157ms/step - binary_accuracy: 0.4542 - student_loss: 0.8121 - distillation_loss: 0.5760 - val_binary_accuracy: 0.4964 - val_student_loss: 0.7679\n",
      "Epoch 7/20\n",
      "1/1 [==============================] - 0s 154ms/step - binary_accuracy: 0.4840 - student_loss: 0.7730 - distillation_loss: 0.5781 - val_binary_accuracy: 0.5177 - val_student_loss: 0.7390\n",
      "Epoch 8/20\n",
      "1/1 [==============================] - 0s 151ms/step - binary_accuracy: 0.5060 - student_loss: 0.7443 - distillation_loss: 0.5828 - val_binary_accuracy: 0.5262 - val_student_loss: 0.7236\n",
      "Epoch 9/20\n",
      "1/1 [==============================] - 0s 184ms/step - binary_accuracy: 0.5189 - student_loss: 0.7292 - distillation_loss: 0.5847 - val_binary_accuracy: 0.5276 - val_student_loss: 0.7209\n",
      "Epoch 10/20\n",
      "1/1 [==============================] - 0s 191ms/step - binary_accuracy: 0.5208 - student_loss: 0.7269 - distillation_loss: 0.5801 - val_binary_accuracy: 0.5232 - val_student_loss: 0.7284\n",
      "Epoch 11/20\n",
      "1/1 [==============================] - 0s 199ms/step - binary_accuracy: 0.5161 - student_loss: 0.7347 - distillation_loss: 0.5689 - val_binary_accuracy: 0.5167 - val_student_loss: 0.7433\n",
      "Epoch 12/20\n",
      "1/1 [==============================] - 0s 172ms/step - binary_accuracy: 0.5074 - student_loss: 0.7501 - distillation_loss: 0.5532 - val_binary_accuracy: 0.5068 - val_student_loss: 0.7632\n",
      "Epoch 13/20\n",
      "1/1 [==============================] - 0s 152ms/step - binary_accuracy: 0.4947 - student_loss: 0.7706 - distillation_loss: 0.5359 - val_binary_accuracy: 0.4935 - val_student_loss: 0.7850\n",
      "Epoch 14/20\n",
      "1/1 [==============================] - 0s 153ms/step - binary_accuracy: 0.4812 - student_loss: 0.7930 - distillation_loss: 0.5196 - val_binary_accuracy: 0.4845 - val_student_loss: 0.8051\n",
      "Epoch 15/20\n",
      "1/1 [==============================] - 0s 157ms/step - binary_accuracy: 0.4696 - student_loss: 0.8136 - distillation_loss: 0.5057 - val_binary_accuracy: 0.4767 - val_student_loss: 0.8200\n",
      "Epoch 16/20\n",
      "1/1 [==============================] - 0s 168ms/step - binary_accuracy: 0.4614 - student_loss: 0.8287 - distillation_loss: 0.4947 - val_binary_accuracy: 0.4723 - val_student_loss: 0.8273\n",
      "Epoch 17/20\n",
      "1/1 [==============================] - 0s 172ms/step - binary_accuracy: 0.4578 - student_loss: 0.8360 - distillation_loss: 0.4865 - val_binary_accuracy: 0.4711 - val_student_loss: 0.8266\n",
      "Epoch 18/20\n",
      "1/1 [==============================] - 0s 170ms/step - binary_accuracy: 0.4569 - student_loss: 0.8352 - distillation_loss: 0.4808 - val_binary_accuracy: 0.4726 - val_student_loss: 0.8194\n",
      "Epoch 19/20\n",
      "1/1 [==============================] - 0s 165ms/step - binary_accuracy: 0.4595 - student_loss: 0.8278 - distillation_loss: 0.4775 - val_binary_accuracy: 0.4730 - val_student_loss: 0.8089\n",
      "Epoch 20/20\n",
      "1/1 [==============================] - 0s 147ms/step - binary_accuracy: 0.4618 - student_loss: 0.8170 - distillation_loss: 0.4759 - val_binary_accuracy: 0.4724 - val_student_loss: 0.7982\n",
      "207/207 [==============================] - 0s 2ms/step - binary_accuracy: 0.4724 - student_loss: 0.7971\n"
     ]
    },
    {
     "data": {
      "text/plain": [
       "[0.4724242389202118, 0.6766490340232849]"
      ]
     },
     "execution_count": 33,
     "metadata": {},
     "output_type": "execute_result"
    }
   ],
   "source": [
    "distiller=Distiller(student=student,teacher=teacher)\n",
    "distiller.compile(\n",
    "    optimizer=keras.optimizers.Adam(learning_rate=0.001),\n",
    "    metrics=[tf.keras.metrics.BinaryAccuracy()],\n",
    "    student_loss_fn=tf.keras.losses.BinaryCrossentropy(from_logits=True),\n",
    "    distillation_loss_fn=tf.keras.losses.BinaryCrossentropy(),\n",
    "    alpha=0.3,\n",
    "    temperature=10,\n",
    "    \n",
    "    \n",
    ")\n",
    "kd_history=distiller.fit(X_train,y_train,epochs=20,batch_size=X_train.shape[0],validation_data=(X_test,y_test))\n",
    "distiller.evaluate(X_test,y_test)"
   ]
  },
  {
   "cell_type": "code",
   "execution_count": null,
   "metadata": {},
   "outputs": [],
   "source": []
  }
 ],
 "metadata": {
  "kernelspec": {
   "display_name": "Python 3",
   "language": "python",
   "name": "python3"
  },
  "language_info": {
   "codemirror_mode": {
    "name": "ipython",
    "version": 3
   },
   "file_extension": ".py",
   "mimetype": "text/x-python",
   "name": "python",
   "nbconvert_exporter": "python",
   "pygments_lexer": "ipython3",
   "version": "3.10.7"
  },
  "orig_nbformat": 4
 },
 "nbformat": 4,
 "nbformat_minor": 2
}
