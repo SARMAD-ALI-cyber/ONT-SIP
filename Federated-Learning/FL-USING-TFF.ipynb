{
 "cells": [
  {
   "cell_type": "code",
   "execution_count": 1,
   "outputs": [],
   "source": [
    "import pandas as pd\n",
    "import numpy as np\n",
    "import tensorflow as tf,keras\n",
    "import tensorflow_federated as tff\n",
    "from sklearn.model_selection import train_test_split\n",
    "from sklearn.preprocessing import StandardScaler"
   ],
   "metadata": {
    "collapsed": false,
    "ExecuteTime": {
     "end_time": "2023-08-22T20:15:10.986910600Z",
     "start_time": "2023-08-22T20:14:58.880076Z"
    }
   },
   "id": "723cdc495b01d191"
  },
  {
   "cell_type": "code",
   "execution_count": 2,
   "id": "d26c961e4fa4bb74",
   "metadata": {
    "ExecuteTime": {
     "end_time": "2023-08-22T20:15:14.361906300Z",
     "start_time": "2023-08-22T20:15:13.188631100Z"
    }
   },
   "outputs": [
    {
     "data": {
      "text/plain": "    Power_1   Power_2   Power_3   Power_4   Power_5   Power_6   Power_7  \\\n0  0.000000  0.000000  0.000096  0.000096  0.000096  0.000000  0.000096   \n1  0.000000  0.000096  0.000000  0.000096  0.000000  0.000096  0.000000   \n2  0.000000  0.000000  0.000000  0.000096  0.000000  0.000000  0.000000   \n3  0.000096  0.000096  0.000096  0.000096  0.000096  0.000000  0.000000   \n4  0.000000  0.000000  0.000096  0.000000  0.000096  0.000000  0.000000   \n\n   Power_8   Power_9  Power_10  ...    GSNR_71    GSNR_72    GSNR_73  \\\n0      0.0  0.000096       0.0  ...   0.000000   0.000000   0.000000   \n1      0.0  0.000000       0.0  ...   0.000000   0.000000  25.764675   \n2      0.0  0.000096       0.0  ...  25.759626   0.000000   0.000000   \n3      0.0  0.000096       0.0  ...  21.235013  22.810189   0.000000   \n4      0.0  0.000096       0.0  ...  22.666472  21.211149  21.131602   \n\n     GSNR_74    GSNR_75    GSNR_76  No. Spans  Total Distance(m)     GSNR_1  \\\n0  26.391513   0.000000   0.000000         23            2050305   0.000000   \n1   0.000000   0.000000   0.000000         23            2050305   0.000000   \n2   0.000000  24.616361  24.297057         23            2050305   0.000000   \n3   0.000000   0.000000   0.000000         23            2050305  22.651367   \n4  21.349516  22.572032   0.000000         23            2050305   0.000000   \n\n   GSNR_class  \n0           0  \n1           0  \n2           0  \n3           1  \n4           0  \n\n[5 rows x 307 columns]",
      "text/html": "<div>\n<style scoped>\n    .dataframe tbody tr th:only-of-type {\n        vertical-align: middle;\n    }\n\n    .dataframe tbody tr th {\n        vertical-align: top;\n    }\n\n    .dataframe thead th {\n        text-align: right;\n    }\n</style>\n<table border=\"1\" class=\"dataframe\">\n  <thead>\n    <tr style=\"text-align: right;\">\n      <th></th>\n      <th>Power_1</th>\n      <th>Power_2</th>\n      <th>Power_3</th>\n      <th>Power_4</th>\n      <th>Power_5</th>\n      <th>Power_6</th>\n      <th>Power_7</th>\n      <th>Power_8</th>\n      <th>Power_9</th>\n      <th>Power_10</th>\n      <th>...</th>\n      <th>GSNR_71</th>\n      <th>GSNR_72</th>\n      <th>GSNR_73</th>\n      <th>GSNR_74</th>\n      <th>GSNR_75</th>\n      <th>GSNR_76</th>\n      <th>No. Spans</th>\n      <th>Total Distance(m)</th>\n      <th>GSNR_1</th>\n      <th>GSNR_class</th>\n    </tr>\n  </thead>\n  <tbody>\n    <tr>\n      <th>0</th>\n      <td>0.000000</td>\n      <td>0.000000</td>\n      <td>0.000096</td>\n      <td>0.000096</td>\n      <td>0.000096</td>\n      <td>0.000000</td>\n      <td>0.000096</td>\n      <td>0.0</td>\n      <td>0.000096</td>\n      <td>0.0</td>\n      <td>...</td>\n      <td>0.000000</td>\n      <td>0.000000</td>\n      <td>0.000000</td>\n      <td>26.391513</td>\n      <td>0.000000</td>\n      <td>0.000000</td>\n      <td>23</td>\n      <td>2050305</td>\n      <td>0.000000</td>\n      <td>0</td>\n    </tr>\n    <tr>\n      <th>1</th>\n      <td>0.000000</td>\n      <td>0.000096</td>\n      <td>0.000000</td>\n      <td>0.000096</td>\n      <td>0.000000</td>\n      <td>0.000096</td>\n      <td>0.000000</td>\n      <td>0.0</td>\n      <td>0.000000</td>\n      <td>0.0</td>\n      <td>...</td>\n      <td>0.000000</td>\n      <td>0.000000</td>\n      <td>25.764675</td>\n      <td>0.000000</td>\n      <td>0.000000</td>\n      <td>0.000000</td>\n      <td>23</td>\n      <td>2050305</td>\n      <td>0.000000</td>\n      <td>0</td>\n    </tr>\n    <tr>\n      <th>2</th>\n      <td>0.000000</td>\n      <td>0.000000</td>\n      <td>0.000000</td>\n      <td>0.000096</td>\n      <td>0.000000</td>\n      <td>0.000000</td>\n      <td>0.000000</td>\n      <td>0.0</td>\n      <td>0.000096</td>\n      <td>0.0</td>\n      <td>...</td>\n      <td>25.759626</td>\n      <td>0.000000</td>\n      <td>0.000000</td>\n      <td>0.000000</td>\n      <td>24.616361</td>\n      <td>24.297057</td>\n      <td>23</td>\n      <td>2050305</td>\n      <td>0.000000</td>\n      <td>0</td>\n    </tr>\n    <tr>\n      <th>3</th>\n      <td>0.000096</td>\n      <td>0.000096</td>\n      <td>0.000096</td>\n      <td>0.000096</td>\n      <td>0.000096</td>\n      <td>0.000000</td>\n      <td>0.000000</td>\n      <td>0.0</td>\n      <td>0.000096</td>\n      <td>0.0</td>\n      <td>...</td>\n      <td>21.235013</td>\n      <td>22.810189</td>\n      <td>0.000000</td>\n      <td>0.000000</td>\n      <td>0.000000</td>\n      <td>0.000000</td>\n      <td>23</td>\n      <td>2050305</td>\n      <td>22.651367</td>\n      <td>1</td>\n    </tr>\n    <tr>\n      <th>4</th>\n      <td>0.000000</td>\n      <td>0.000000</td>\n      <td>0.000096</td>\n      <td>0.000000</td>\n      <td>0.000096</td>\n      <td>0.000000</td>\n      <td>0.000000</td>\n      <td>0.0</td>\n      <td>0.000096</td>\n      <td>0.0</td>\n      <td>...</td>\n      <td>22.666472</td>\n      <td>21.211149</td>\n      <td>21.131602</td>\n      <td>21.349516</td>\n      <td>22.572032</td>\n      <td>0.000000</td>\n      <td>23</td>\n      <td>2050305</td>\n      <td>0.000000</td>\n      <td>0</td>\n    </tr>\n  </tbody>\n</table>\n<p>5 rows × 307 columns</p>\n</div>"
     },
     "execution_count": 2,
     "metadata": {},
     "output_type": "execute_result"
    }
   ],
   "source": [
    "data=pd.read_csv('USA.csv')\n",
    "data.head(5)"
   ]
  },
  {
   "cell_type": "code",
   "execution_count": 3,
   "id": "56f5102d02c3eb29",
   "metadata": {
    "ExecuteTime": {
     "end_time": "2023-08-22T20:15:17.020382500Z",
     "start_time": "2023-08-22T20:15:16.958984600Z"
    }
   },
   "outputs": [],
   "source": [
    "train_data,test_data=train_test_split(data,test_size=0.2,random_state=42)"
   ]
  },
  {
   "cell_type": "code",
   "execution_count": 4,
   "id": "d17f6ad905cdbe87",
   "metadata": {
    "ExecuteTime": {
     "end_time": "2023-08-22T20:15:17.935676700Z",
     "start_time": "2023-08-22T20:15:17.906245100Z"
    }
   },
   "outputs": [
    {
     "data": {
      "text/plain": "(26400, 307)"
     },
     "execution_count": 4,
     "metadata": {},
     "output_type": "execute_result"
    }
   ],
   "source": [
    "train_data.shape"
   ]
  },
  {
   "cell_type": "code",
   "execution_count": 5,
   "id": "f1a06190ea1a309e",
   "metadata": {
    "ExecuteTime": {
     "end_time": "2023-08-22T20:15:18.585407500Z",
     "start_time": "2023-08-22T20:15:18.552904600Z"
    }
   },
   "outputs": [
    {
     "data": {
      "text/plain": "(6600, 307)"
     },
     "execution_count": 5,
     "metadata": {},
     "output_type": "execute_result"
    }
   ],
   "source": [
    "test_data.shape"
   ]
  },
  {
   "cell_type": "code",
   "execution_count": 6,
   "id": "8022f8127157a769",
   "metadata": {
    "ExecuteTime": {
     "end_time": "2023-08-22T20:15:19.119058200Z",
     "start_time": "2023-08-22T20:15:19.086324700Z"
    }
   },
   "outputs": [
    {
     "data": {
      "text/plain": "        Power_1   Power_2   Power_3   Power_4   Power_5   Power_6   Power_7  \\\n7223   0.000000  0.000094  0.000094  0.000000  0.000094  0.000000  0.000000   \n5196   0.000000  0.000095  0.000000  0.000095  0.000000  0.000094  0.000094   \n6547   0.000000  0.000000  0.000095  0.000000  0.000095  0.000000  0.000095   \n26890  0.000097  0.000097  0.000097  0.000097  0.000000  0.000000  0.000097   \n30152  0.000092  0.000000  0.000000  0.000000  0.000091  0.000091  0.000000   \n\n        Power_8   Power_9  Power_10  ...    GSNR_71    GSNR_72  GSNR_73  \\\n7223   0.000000  0.000094  0.000000  ...  16.353010  17.166413      0.0   \n5196   0.000000  0.000094  0.000094  ...   0.000000  16.937779      0.0   \n6547   0.000000  0.000000  0.000000  ...   0.000000  17.108380      0.0   \n26890  0.000097  0.000097  0.000097  ...  38.102858  38.508915      0.0   \n30152  0.000000  0.000091  0.000091  ...  10.363795   0.000000      0.0   \n\n         GSNR_74    GSNR_75    GSNR_76  No. Spans  Total Distance(m)  \\\n7223    0.000000   0.000000   0.000000         25            2302221   \n5196    0.000000  17.770900   0.000000         30            2665646   \n6547   17.686473   0.000000   0.000000         25            2302221   \n26890   0.000000   0.000000   0.000000         11             925829   \n30152   0.000000  10.518718  10.630682         44            3980044   \n\n          GSNR_1  GSNR_class  \n7223    0.000000           0  \n5196    0.000000           0  \n6547    0.000000           0  \n26890  36.683427           1  \n30152  11.111929           0  \n\n[5 rows x 307 columns]",
      "text/html": "<div>\n<style scoped>\n    .dataframe tbody tr th:only-of-type {\n        vertical-align: middle;\n    }\n\n    .dataframe tbody tr th {\n        vertical-align: top;\n    }\n\n    .dataframe thead th {\n        text-align: right;\n    }\n</style>\n<table border=\"1\" class=\"dataframe\">\n  <thead>\n    <tr style=\"text-align: right;\">\n      <th></th>\n      <th>Power_1</th>\n      <th>Power_2</th>\n      <th>Power_3</th>\n      <th>Power_4</th>\n      <th>Power_5</th>\n      <th>Power_6</th>\n      <th>Power_7</th>\n      <th>Power_8</th>\n      <th>Power_9</th>\n      <th>Power_10</th>\n      <th>...</th>\n      <th>GSNR_71</th>\n      <th>GSNR_72</th>\n      <th>GSNR_73</th>\n      <th>GSNR_74</th>\n      <th>GSNR_75</th>\n      <th>GSNR_76</th>\n      <th>No. Spans</th>\n      <th>Total Distance(m)</th>\n      <th>GSNR_1</th>\n      <th>GSNR_class</th>\n    </tr>\n  </thead>\n  <tbody>\n    <tr>\n      <th>7223</th>\n      <td>0.000000</td>\n      <td>0.000094</td>\n      <td>0.000094</td>\n      <td>0.000000</td>\n      <td>0.000094</td>\n      <td>0.000000</td>\n      <td>0.000000</td>\n      <td>0.000000</td>\n      <td>0.000094</td>\n      <td>0.000000</td>\n      <td>...</td>\n      <td>16.353010</td>\n      <td>17.166413</td>\n      <td>0.0</td>\n      <td>0.000000</td>\n      <td>0.000000</td>\n      <td>0.000000</td>\n      <td>25</td>\n      <td>2302221</td>\n      <td>0.000000</td>\n      <td>0</td>\n    </tr>\n    <tr>\n      <th>5196</th>\n      <td>0.000000</td>\n      <td>0.000095</td>\n      <td>0.000000</td>\n      <td>0.000095</td>\n      <td>0.000000</td>\n      <td>0.000094</td>\n      <td>0.000094</td>\n      <td>0.000000</td>\n      <td>0.000094</td>\n      <td>0.000094</td>\n      <td>...</td>\n      <td>0.000000</td>\n      <td>16.937779</td>\n      <td>0.0</td>\n      <td>0.000000</td>\n      <td>17.770900</td>\n      <td>0.000000</td>\n      <td>30</td>\n      <td>2665646</td>\n      <td>0.000000</td>\n      <td>0</td>\n    </tr>\n    <tr>\n      <th>6547</th>\n      <td>0.000000</td>\n      <td>0.000000</td>\n      <td>0.000095</td>\n      <td>0.000000</td>\n      <td>0.000095</td>\n      <td>0.000000</td>\n      <td>0.000095</td>\n      <td>0.000000</td>\n      <td>0.000000</td>\n      <td>0.000000</td>\n      <td>...</td>\n      <td>0.000000</td>\n      <td>17.108380</td>\n      <td>0.0</td>\n      <td>17.686473</td>\n      <td>0.000000</td>\n      <td>0.000000</td>\n      <td>25</td>\n      <td>2302221</td>\n      <td>0.000000</td>\n      <td>0</td>\n    </tr>\n    <tr>\n      <th>26890</th>\n      <td>0.000097</td>\n      <td>0.000097</td>\n      <td>0.000097</td>\n      <td>0.000097</td>\n      <td>0.000000</td>\n      <td>0.000000</td>\n      <td>0.000097</td>\n      <td>0.000097</td>\n      <td>0.000097</td>\n      <td>0.000097</td>\n      <td>...</td>\n      <td>38.102858</td>\n      <td>38.508915</td>\n      <td>0.0</td>\n      <td>0.000000</td>\n      <td>0.000000</td>\n      <td>0.000000</td>\n      <td>11</td>\n      <td>925829</td>\n      <td>36.683427</td>\n      <td>1</td>\n    </tr>\n    <tr>\n      <th>30152</th>\n      <td>0.000092</td>\n      <td>0.000000</td>\n      <td>0.000000</td>\n      <td>0.000000</td>\n      <td>0.000091</td>\n      <td>0.000091</td>\n      <td>0.000000</td>\n      <td>0.000000</td>\n      <td>0.000091</td>\n      <td>0.000091</td>\n      <td>...</td>\n      <td>10.363795</td>\n      <td>0.000000</td>\n      <td>0.0</td>\n      <td>0.000000</td>\n      <td>10.518718</td>\n      <td>10.630682</td>\n      <td>44</td>\n      <td>3980044</td>\n      <td>11.111929</td>\n      <td>0</td>\n    </tr>\n  </tbody>\n</table>\n<p>5 rows × 307 columns</p>\n</div>"
     },
     "execution_count": 6,
     "metadata": {},
     "output_type": "execute_result"
    }
   ],
   "source": [
    "train_data.head(5)"
   ]
  },
  {
   "cell_type": "code",
   "execution_count": 7,
   "id": "242626596c1f04d9",
   "metadata": {
    "ExecuteTime": {
     "end_time": "2023-08-22T20:15:20.595436500Z",
     "start_time": "2023-08-22T20:15:20.532921100Z"
    }
   },
   "outputs": [],
   "source": [
    "train_features=train_data.iloc[:,:-1]\n",
    "train_labels=train_data.iloc[:,-1]"
   ]
  },
  {
   "cell_type": "code",
   "execution_count": 8,
   "id": "96be7d14abc51c65",
   "metadata": {
    "ExecuteTime": {
     "end_time": "2023-08-22T20:15:21.211624200Z",
     "start_time": "2023-08-22T20:15:21.187496600Z"
    }
   },
   "outputs": [
    {
     "data": {
      "text/plain": "7223     0\n5196     0\n6547     0\n26890    1\n30152    0\nName: GSNR_class, dtype: int64"
     },
     "execution_count": 8,
     "metadata": {},
     "output_type": "execute_result"
    }
   ],
   "source": [
    "train_labels.head(5)"
   ]
  },
  {
   "cell_type": "code",
   "execution_count": 9,
   "id": "feb55d22b4528a3d",
   "metadata": {
    "ExecuteTime": {
     "end_time": "2023-08-22T20:15:22.034781200Z",
     "start_time": "2023-08-22T20:15:22.008340900Z"
    }
   },
   "outputs": [],
   "source": [
    "test_features=test_data.iloc[:,:-1]\n",
    "test_labels=test_data.iloc[:,-1]"
   ]
  },
  {
   "cell_type": "code",
   "execution_count": 10,
   "id": "91c4bff02ca2037",
   "metadata": {
    "ExecuteTime": {
     "end_time": "2023-08-22T20:15:22.704624400Z",
     "start_time": "2023-08-22T20:15:22.685665600Z"
    }
   },
   "outputs": [
    {
     "data": {
      "text/plain": "7155     0\n16953    0\n31771    0\n9585     0\n9176     0\nName: GSNR_class, dtype: int64"
     },
     "execution_count": 10,
     "metadata": {},
     "output_type": "execute_result"
    }
   ],
   "source": [
    "test_labels.head(5)"
   ]
  },
  {
   "cell_type": "code",
   "execution_count": 11,
   "id": "3d52749617946bd",
   "metadata": {
    "ExecuteTime": {
     "end_time": "2023-08-22T20:15:23.815668200Z",
     "start_time": "2023-08-22T20:15:23.525539700Z"
    }
   },
   "outputs": [],
   "source": [
    "scalar=StandardScaler()\n",
    "train_scaled=scalar.fit_transform(train_features)\n",
    "test_scaled=scalar.transform(test_features)"
   ]
  },
  {
   "cell_type": "code",
   "execution_count": 12,
   "id": "ceb93849dbdc30be",
   "metadata": {
    "ExecuteTime": {
     "end_time": "2023-08-22T20:15:24.650307800Z",
     "start_time": "2023-08-22T20:15:24.627063700Z"
    }
   },
   "outputs": [],
   "source": [
    "scaled_train_df=pd.DataFrame(train_scaled,columns=train_features.columns)"
   ]
  },
  {
   "cell_type": "code",
   "execution_count": 13,
   "id": "c826a74c4d2e55cd",
   "metadata": {
    "ExecuteTime": {
     "end_time": "2023-08-22T20:15:25.981426700Z",
     "start_time": "2023-08-22T20:15:25.957677100Z"
    }
   },
   "outputs": [],
   "source": [
    "scaled_test_df=pd.DataFrame(test_scaled,columns=test_features.columns)"
   ]
  },
  {
   "cell_type": "code",
   "execution_count": 14,
   "id": "8ecb7bb48d5d92a9",
   "metadata": {
    "ExecuteTime": {
     "end_time": "2023-08-22T20:15:26.714085200Z",
     "start_time": "2023-08-22T20:15:26.676127300Z"
    }
   },
   "outputs": [
    {
     "data": {
      "text/plain": "7223     0\n5196     0\n6547     0\n26890    1\n30152    0\nName: GSNR_class, dtype: int64"
     },
     "execution_count": 14,
     "metadata": {},
     "output_type": "execute_result"
    }
   ],
   "source": [
    "train_labels.head(5)"
   ]
  },
  {
   "cell_type": "code",
   "execution_count": 15,
   "id": "33f28a47bb0f0865",
   "metadata": {
    "ExecuteTime": {
     "end_time": "2023-08-22T20:15:28.436989800Z",
     "start_time": "2023-08-22T20:15:27.547053Z"
    }
   },
   "outputs": [],
   "source": [
    "train_data_model=tf.data.Dataset.from_tensor_slices((scaled_train_df.values,train_labels.to_frame().values),name=\"Training_Data\")"
   ]
  },
  {
   "cell_type": "code",
   "execution_count": 16,
   "id": "54ca948589e3ce4",
   "metadata": {
    "ExecuteTime": {
     "end_time": "2023-08-22T20:15:28.472801900Z",
     "start_time": "2023-08-22T20:15:28.443274100Z"
    }
   },
   "outputs": [],
   "source": [
    "test_data_model=tf.data.Dataset.from_tensor_slices((scaled_test_df.values,test_labels.to_frame().values),name=\"Testing_Data\")"
   ]
  },
  {
   "cell_type": "code",
   "execution_count": 17,
   "id": "4a3deeacb7fb0ef9",
   "metadata": {
    "ExecuteTime": {
     "end_time": "2023-08-22T20:15:29.233530300Z",
     "start_time": "2023-08-22T20:15:29.207529900Z"
    }
   },
   "outputs": [
    {
     "data": {
      "text/plain": "<_TensorSliceDataset element_spec=(TensorSpec(shape=(306,), dtype=tf.float64, name=None), TensorSpec(shape=(1,), dtype=tf.int64, name=None))>"
     },
     "execution_count": 17,
     "metadata": {},
     "output_type": "execute_result"
    }
   ],
   "source": [
    "train_data_model"
   ]
  },
  {
   "cell_type": "code",
   "execution_count": 18,
   "id": "853ee4403b0f8969",
   "metadata": {
    "ExecuteTime": {
     "end_time": "2023-08-22T20:15:29.825724900Z",
     "start_time": "2023-08-22T20:15:29.812510500Z"
    }
   },
   "outputs": [
    {
     "data": {
      "text/plain": "<_TensorSliceDataset element_spec=(TensorSpec(shape=(306,), dtype=tf.float64, name=None), TensorSpec(shape=(1,), dtype=tf.int64, name=None))>"
     },
     "execution_count": 18,
     "metadata": {},
     "output_type": "execute_result"
    }
   ],
   "source": [
    "test_data_model"
   ]
  },
  {
   "cell_type": "code",
   "execution_count": 19,
   "id": "ca434964631c945",
   "metadata": {
    "ExecuteTime": {
     "end_time": "2023-08-22T17:56:31.396281400Z",
     "start_time": "2023-08-22T17:56:31.364699300Z"
    }
   },
   "outputs": [],
   "source": [
    "def input_shapes():\n",
    "    return (tf.TensorSpec([None,306],tf.float64),\n",
    "            tf.TensorSpec([None,1],tf.int64)\n",
    "            )"
   ]
  },
  {
   "cell_type": "code",
   "execution_count": 189,
   "id": "2201948858ca59b4",
   "metadata": {
    "ExecuteTime": {
     "end_time": "2023-08-22T14:45:08.740957700Z",
     "start_time": "2023-08-22T14:45:08.693905900Z"
    }
   },
   "outputs": [],
   "source": [
    "def model_fn():\n",
    "    model=tf.keras.Sequential([\n",
    "        tf.keras.layers.Dense(256,activation='relu',input_shape=(306,),kernel_initializer='he_normal'),\n",
    "        tf.keras.layers.Dense(128,activation='relu',kernel_initializer='he_normal'),\n",
    "        tf.keras.layers.Dense(64,activation='relu',kernel_initializer='he_normal'),\n",
    "        tf.keras.layers.Dense(32,activation='relu',kernel_initializer='he_normal'),\n",
    "        tf.keras.layers.Dense(16,activation='relu',kernel_initializer='he_normal'),\n",
    "        tf.keras.layers.Dense(1,activation='sigmoid',kernel_initializer='he_normal')\n",
    "    ],name='USA-Teacher')\n",
    "    return tff.learning.from_keras_model(\n",
    "        model,\n",
    "        input_spec=input_shapes(),\n",
    "        loss=tf.keras.losses.BinaryCrossentropy(),\n",
    "        metrics=[tf.keras.metrics.BinaryAccuracy()]\n",
    "        )\n",
    "    "
   ]
  },
  {
   "cell_type": "code",
   "execution_count": null,
   "id": "f22adb0196a0ae89",
   "metadata": {},
   "outputs": [],
   "source": [
    "trainer = tff.learning.build_federated_averaging_process(\n",
    "    model_fn,\n",
    "    client_optimizer_fn=lambda: tf.keras.optimizers.Adam(),\n",
    "    server_optimizer_fn=lambda: tf.keras.optimizers.Adam()\n",
    ")"
   ]
  },
  {
   "cell_type": "code",
   "execution_count": 3,
   "outputs": [
    {
     "data": {
      "text/plain": "'3.10.7 (tags/v3.10.7:6cc6b13, Sep  5 2022, 14:08:36) [MSC v.1933 64 bit (AMD64)]'"
     },
     "execution_count": 3,
     "metadata": {},
     "output_type": "execute_result"
    }
   ],
   "source": [
    "import sys\n",
    "sys.version"
   ],
   "metadata": {
    "collapsed": false,
    "ExecuteTime": {
     "end_time": "2023-08-22T19:52:54.667345400Z",
     "start_time": "2023-08-22T19:52:54.621007300Z"
    }
   },
   "id": "b629aac71f7448ea"
  },
  {
   "cell_type": "code",
   "execution_count": null,
   "outputs": [],
   "source": [],
   "metadata": {
    "collapsed": false
   },
   "id": "bbab835249c58cdd"
  }
 ],
 "metadata": {
  "kernelspec": {
   "display_name": "Python 3 (ipykernel)",
   "language": "python",
   "name": "python3"
  },
  "language_info": {
   "codemirror_mode": {
    "name": "ipython",
    "version": 3
   },
   "file_extension": ".py",
   "mimetype": "text/x-python",
   "name": "python",
   "nbconvert_exporter": "python",
   "pygments_lexer": "ipython3",
   "version": "3.10.7"
  }
 },
 "nbformat": 4,
 "nbformat_minor": 5
}
