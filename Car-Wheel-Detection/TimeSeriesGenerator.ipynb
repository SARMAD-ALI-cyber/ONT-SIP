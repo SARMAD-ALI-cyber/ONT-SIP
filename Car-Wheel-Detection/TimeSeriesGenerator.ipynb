{
 "cells": [
  {
   "cell_type": "code",
   "execution_count": 1,
   "id": "initial_id",
   "metadata": {
    "collapsed": true,
    "ExecuteTime": {
     "end_time": "2023-09-05T11:41:32.295730100Z",
     "start_time": "2023-09-05T11:41:22.702689200Z"
    }
   },
   "outputs": [],
   "source": [
    "import numpy as np\n",
    "import  pandas as pd\n",
    "import tensorflow as tf,keras\n",
    "from keras.models import Sequential\n",
    "from sklearn.model_selection import train_test_split\n",
    "from keras.utils import pad_sequences\n",
    "from sklearn.metrics import classification_report\n",
    "from plot_keras_history import plot_history\n",
    "from keras.preprocessing.sequence import TimeseriesGenerator"
   ]
  },
  {
   "cell_type": "code",
   "execution_count": 2,
   "outputs": [],
   "source": [
    "data=pd.read_csv('10_minutes_final_processed_gsmfloor_data5.csv')"
   ],
   "metadata": {
    "collapsed": false,
    "ExecuteTime": {
     "end_time": "2023-09-05T11:41:39.693234500Z",
     "start_time": "2023-09-05T11:41:39.647311900Z"
    }
   },
   "id": "33d8ffc78837034c"
  },
  {
   "cell_type": "code",
   "execution_count": 3,
   "outputs": [],
   "source": [
    "data.drop(columns=['Unnamed: 0'],axis=1,inplace=True)"
   ],
   "metadata": {
    "collapsed": false,
    "ExecuteTime": {
     "end_time": "2023-09-05T11:41:42.198031100Z",
     "start_time": "2023-09-05T11:41:42.193226700Z"
    }
   },
   "id": "22a4cf83b655f31"
  },
  {
   "cell_type": "code",
   "execution_count": 4,
   "outputs": [
    {
     "data": {
      "text/plain": "0.0    50045\n1.0     9954\nName: label, dtype: int64"
     },
     "execution_count": 4,
     "metadata": {},
     "output_type": "execute_result"
    }
   ],
   "source": [
    "data['label']=data['label'].replace(2,1)\n",
    "data['label'].value_counts()"
   ],
   "metadata": {
    "collapsed": false,
    "ExecuteTime": {
     "end_time": "2023-09-05T11:41:44.514895900Z",
     "start_time": "2023-09-05T11:41:44.478276Z"
    }
   },
   "id": "537a8b91cd81f5b4"
  },
  {
   "cell_type": "code",
   "execution_count": 5,
   "outputs": [],
   "source": [
    "X=data['combined_result']\n",
    "y=data['label']\n",
    "time_series=data['t_dist']"
   ],
   "metadata": {
    "collapsed": false,
    "ExecuteTime": {
     "end_time": "2023-09-05T11:41:50.845228700Z",
     "start_time": "2023-09-05T11:41:50.830208800Z"
    }
   },
   "id": "19d53dbe4743103b"
  },
  {
   "cell_type": "code",
   "execution_count": 6,
   "outputs": [],
   "source": [
    "# Logic for creating Sequences\n",
    "sequences=[]\n",
    "labels=[]\n",
    "temp=[]\n",
    "time=[]\n",
    "time_temp=[]\n",
    "for index,value in y.items():\n",
    "    if value==1:\n",
    "        temp.append(X[index])\n",
    "        if (index+1)<len(y) and y[index+1]==0:\n",
    "            sequences.append(temp)\n",
    "            labels.append(1)\n",
    "            time_temp.append(time_series[(index+1)-len(temp)])\n",
    "            time_temp.append(time_series[index])\n",
    "            time.append(time_temp)\n",
    "            time_temp=[]\n",
    "            temp=[]\n",
    "    if value==0:\n",
    "        temp.append(X[index])\n",
    "        if (index+1)<len(y) and y[index+1]==1:\n",
    "            sequences.append(temp)\n",
    "            labels.append(0)\n",
    "            temp=[]"
   ],
   "metadata": {
    "collapsed": false,
    "ExecuteTime": {
     "end_time": "2023-09-05T11:42:04.162354100Z",
     "start_time": "2023-09-05T11:42:03.439846800Z"
    }
   },
   "id": "8e219fa6c8d42393"
  },
  {
   "cell_type": "code",
   "execution_count": 7,
   "outputs": [],
   "source": [
    "duration=[]\n",
    "answer=0\n",
    "for i in  range(len(time)):\n",
    "    answer=time[i][1]-time[i][0]\n",
    "    duration.append(answer)\n",
    "    \n",
    "    \n",
    "    "
   ],
   "metadata": {
    "collapsed": false,
    "ExecuteTime": {
     "end_time": "2023-09-05T11:42:11.585685700Z",
     "start_time": "2023-09-05T11:42:11.553787400Z"
    }
   },
   "id": "40e0ccc3941ab386"
  },
  {
   "cell_type": "code",
   "execution_count": 10,
   "outputs": [],
   "source": [
    "X_train,X_test,y_train,y_test=train_test_split(sequences,labels,test_size=0.2,random_state=42)"
   ],
   "metadata": {
    "collapsed": false,
    "ExecuteTime": {
     "end_time": "2023-09-05T11:43:29.445276400Z",
     "start_time": "2023-09-05T11:43:29.403506400Z"
    }
   },
   "id": "db01b64c673e0924"
  },
  {
   "cell_type": "code",
   "execution_count": 9,
   "outputs": [
    {
     "data": {
      "text/plain": "289"
     },
     "execution_count": 9,
     "metadata": {},
     "output_type": "execute_result"
    }
   ],
   "source": [
    "len(sequences)"
   ],
   "metadata": {
    "collapsed": false,
    "ExecuteTime": {
     "end_time": "2023-09-05T11:42:23.858550Z",
     "start_time": "2023-09-05T11:42:23.813999300Z"
    }
   },
   "id": "e49af166b3d5dec0"
  },
  {
   "cell_type": "code",
   "execution_count": 26,
   "outputs": [],
   "source": [
    "count1=0\n",
    "count0=0\n",
    "for i in labels:\n",
    "    if labels[i]==1:\n",
    "        count1+=1\n",
    "    if labels[i]==0:\n",
    "        count0+=1"
   ],
   "metadata": {
    "collapsed": false,
    "ExecuteTime": {
     "end_time": "2023-09-01T14:59:36.571393400Z",
     "start_time": "2023-09-01T14:59:36.544343100Z"
    }
   },
   "id": "e98c3b729c817950"
  },
  {
   "cell_type": "code",
   "execution_count": 27,
   "outputs": [
    {
     "name": "stdout",
     "output_type": "stream",
     "text": [
      "724\n"
     ]
    }
   ],
   "source": [
    "print(count1)"
   ],
   "metadata": {
    "collapsed": false,
    "ExecuteTime": {
     "end_time": "2023-09-01T14:59:36.959946700Z",
     "start_time": "2023-09-01T14:59:36.932421900Z"
    }
   },
   "id": "ee0209463761b184"
  },
  {
   "cell_type": "code",
   "execution_count": 11,
   "outputs": [],
   "source": [
    "X_train=pad_sequences(X_train,padding='post',dtype=float,maxlen=50)\n",
    "X_test=pad_sequences(X_test,padding='post',dtype=float,maxlen=50)"
   ],
   "metadata": {
    "collapsed": false,
    "ExecuteTime": {
     "end_time": "2023-09-05T11:43:34.632969400Z",
     "start_time": "2023-09-05T11:43:34.619097400Z"
    }
   },
   "id": "5c910f36a8d495c8"
  },
  {
   "cell_type": "code",
   "execution_count": 12,
   "outputs": [],
   "source": [
    "y_train=np.array(y_train)\n",
    "y_test=np.array(y_test)\n",
    "y_train=y_train.reshape(-1,1)\n",
    "y_test=y_test.reshape(-1,1)"
   ],
   "metadata": {
    "collapsed": false,
    "ExecuteTime": {
     "end_time": "2023-09-05T11:43:51.646123800Z",
     "start_time": "2023-09-05T11:43:51.626858600Z"
    }
   },
   "id": "5bc1bb19ebf452fa"
  },
  {
   "cell_type": "code",
   "execution_count": 13,
   "outputs": [],
   "source": [
    "X_train=X_train.reshape(X_train.shape[0], X_train.shape[1], 1)\n",
    "X_test=X_test.reshape(X_test.shape[0], X_test.shape[1], 1)"
   ],
   "metadata": {
    "collapsed": false,
    "ExecuteTime": {
     "end_time": "2023-09-05T11:44:05.040188300Z",
     "start_time": "2023-09-05T11:44:04.977568700Z"
    }
   },
   "id": "ea4eae1d8106c4e6"
  },
  {
   "cell_type": "code",
   "execution_count": 14,
   "outputs": [],
   "source": [
    "# Attention Mechanism\n",
    "from keras.layers import *\n",
    "from keras.models import *\n",
    "from keras import backend as K\n",
    "import keras\n",
    "tf.keras.saving.get_custom_objects().clear()"
   ],
   "metadata": {
    "collapsed": false,
    "ExecuteTime": {
     "end_time": "2023-09-05T11:44:06.340096900Z",
     "start_time": "2023-09-05T11:44:06.316424Z"
    }
   },
   "id": "2192a367a142213a"
  },
  {
   "cell_type": "code",
   "execution_count": 15,
   "outputs": [],
   "source": [
    "#@tf.keras.utils.register_keras_serializable(package=\"Attention\")\n",
    "class attention(Layer):\n",
    "    def __init__(self,**kwargs):\n",
    "        super(attention,self).__init__(**kwargs)\n",
    "\n",
    "    def build(self,input_shape):\n",
    "        self.W=self.add_weight(name='attention_weight', shape=(input_shape[-1],1),\n",
    "                               initializer='he_normal', trainable=True)\n",
    "        self.b=self.add_weight(name='attention_bias', shape=(input_shape[1],1),\n",
    "                               initializer='zeros', trainable=True)\n",
    "        super(attention, self).build(input_shape)\n",
    "\n",
    "    def call(self,x):\n",
    "        # Alignment scores. Pass them through tanh function\n",
    "        e = K.tanh(K.dot(x,self.W)+self.b)\n",
    "        # Remove dimension of size 1\n",
    "        e = K.squeeze(e, axis=-1)\n",
    "        # Compute the weights\n",
    "        alpha = K.softmax(e)\n",
    "        # Reshape to tensorFlow format\n",
    "        alpha = K.expand_dims(alpha, axis=-1)\n",
    "        # Compute the context vector\n",
    "        context = x * alpha\n",
    "        context = K.sum(context, axis=1)\n",
    "        return context\n"
   ],
   "metadata": {
    "collapsed": false,
    "ExecuteTime": {
     "end_time": "2023-09-05T11:44:07.327974700Z",
     "start_time": "2023-09-05T11:44:07.297833Z"
    }
   },
   "id": "9695354164d80ed7"
  },
  {
   "cell_type": "code",
   "execution_count": 16,
   "outputs": [
    {
     "name": "stdout",
     "output_type": "stream",
     "text": [
      "Model: \"Time-Series-Model\"\n",
      "_________________________________________________________________\n",
      " Layer (type)                Output Shape              Param #   \n",
      "=================================================================\n",
      " bidirectional (Bidirectiona  (None, 50, 128)          33792     \n",
      " l)                                                              \n",
      "                                                                 \n",
      " bidirectional_1 (Bidirectio  (None, 50, 64)           41216     \n",
      " nal)                                                            \n",
      "                                                                 \n",
      " attention (attention)       (None, 64)                114       \n",
      "                                                                 \n",
      " dense (Dense)               (None, 1)                 65        \n",
      "                                                                 \n",
      "=================================================================\n",
      "Total params: 75,187\n",
      "Trainable params: 75,187\n",
      "Non-trainable params: 0\n",
      "_________________________________________________________________\n"
     ]
    }
   ],
   "source": [
    "model=Sequential([\n",
    "    Bidirectional(tf.keras.layers.LSTM(64,return_sequences=True) ,input_shape=(X_train.shape[1],1)),# 64\n",
    "    Bidirectional(tf.keras.layers.LSTM(32,return_sequences=True)),\n",
    "    attention(),\n",
    "    tf.keras.layers.Dense(1,activation='sigmoid')\n",
    "],name=\"Time-Series-Model\")\n",
    "model.summary()"
   ],
   "metadata": {
    "collapsed": false,
    "ExecuteTime": {
     "end_time": "2023-09-05T11:44:32.798823100Z",
     "start_time": "2023-09-05T11:44:31.107757400Z"
    }
   },
   "id": "37938fbac013fe6"
  },
  {
   "cell_type": "code",
   "execution_count": 17,
   "outputs": [],
   "source": [
    "model.load_weights('Sequence-model.h5')"
   ],
   "metadata": {
    "collapsed": false,
    "ExecuteTime": {
     "end_time": "2023-09-05T11:44:43.155456200Z",
     "start_time": "2023-09-05T11:44:43.107059900Z"
    }
   },
   "id": "c4ca266e2383a629"
  },
  {
   "cell_type": "code",
   "execution_count": 18,
   "outputs": [],
   "source": [
    "early_stopping=tf.keras.callbacks.EarlyStopping(monitor='val_loss', patience=5, mode='min', verbose=1)"
   ],
   "metadata": {
    "collapsed": false,
    "ExecuteTime": {
     "end_time": "2023-09-05T11:45:14.018028800Z",
     "start_time": "2023-09-05T11:45:13.782348200Z"
    }
   },
   "id": "e0d0cd0fe3ebce67"
  },
  {
   "cell_type": "code",
   "execution_count": 19,
   "outputs": [],
   "source": [
    "optimizer=tf.keras.optimizers.Adam(learning_rate=0.00001)#0.0005,0.001\n",
    "model.compile(optimizer=optimizer, loss=tf.keras.losses.BinaryCrossentropy(), metrics=['accuracy'])"
   ],
   "metadata": {
    "collapsed": false,
    "ExecuteTime": {
     "end_time": "2023-09-05T11:45:23.032108200Z",
     "start_time": "2023-09-05T11:45:22.868778800Z"
    }
   },
   "id": "601c180bb9cdf9d0"
  },
  {
   "cell_type": "code",
   "execution_count": 20,
   "outputs": [
    {
     "name": "stdout",
     "output_type": "stream",
     "text": [
      "Epoch 1/100\n",
      "15/15 [==============================] - 10s 163ms/step - loss: 0.2937 - accuracy: 0.9004 - val_loss: 0.2729 - val_accuracy: 0.9138\n",
      "Epoch 2/100\n",
      "15/15 [==============================] - 1s 55ms/step - loss: 0.2855 - accuracy: 0.8961 - val_loss: 0.2700 - val_accuracy: 0.9138\n",
      "Epoch 3/100\n",
      "15/15 [==============================] - 1s 51ms/step - loss: 0.2825 - accuracy: 0.9004 - val_loss: 0.2734 - val_accuracy: 0.9138\n",
      "Epoch 4/100\n",
      "15/15 [==============================] - 1s 46ms/step - loss: 0.2818 - accuracy: 0.9004 - val_loss: 0.2694 - val_accuracy: 0.9138\n",
      "Epoch 5/100\n",
      "15/15 [==============================] - 1s 48ms/step - loss: 0.2873 - accuracy: 0.8961 - val_loss: 0.2651 - val_accuracy: 0.9138\n",
      "Epoch 6/100\n",
      "15/15 [==============================] - 1s 47ms/step - loss: 0.2909 - accuracy: 0.8918 - val_loss: 0.2649 - val_accuracy: 0.9138\n",
      "Epoch 7/100\n",
      "15/15 [==============================] - 1s 44ms/step - loss: 0.2842 - accuracy: 0.9004 - val_loss: 0.2637 - val_accuracy: 0.9138\n",
      "Epoch 8/100\n",
      "15/15 [==============================] - 1s 55ms/step - loss: 0.3081 - accuracy: 0.8788 - val_loss: 0.2644 - val_accuracy: 0.9138\n",
      "Epoch 9/100\n",
      "15/15 [==============================] - 1s 49ms/step - loss: 0.2791 - accuracy: 0.9048 - val_loss: 0.2633 - val_accuracy: 0.9138\n",
      "Epoch 10/100\n",
      "15/15 [==============================] - 1s 47ms/step - loss: 0.3261 - accuracy: 0.8658 - val_loss: 0.2629 - val_accuracy: 0.9138\n",
      "Epoch 11/100\n",
      "15/15 [==============================] - 1s 52ms/step - loss: 0.3012 - accuracy: 0.8874 - val_loss: 0.2632 - val_accuracy: 0.9138\n",
      "Epoch 12/100\n",
      "15/15 [==============================] - 1s 45ms/step - loss: 0.2832 - accuracy: 0.9004 - val_loss: 0.2624 - val_accuracy: 0.9138\n",
      "Epoch 13/100\n",
      "15/15 [==============================] - 1s 49ms/step - loss: 0.2747 - accuracy: 0.9048 - val_loss: 0.2624 - val_accuracy: 0.9138\n",
      "Epoch 14/100\n",
      "15/15 [==============================] - 1s 45ms/step - loss: 0.2814 - accuracy: 0.9004 - val_loss: 0.2626 - val_accuracy: 0.9310\n",
      "Epoch 15/100\n",
      "15/15 [==============================] - 1s 52ms/step - loss: 0.2831 - accuracy: 0.9004 - val_loss: 0.2612 - val_accuracy: 0.9138\n",
      "Epoch 16/100\n",
      "15/15 [==============================] - 1s 46ms/step - loss: 0.3308 - accuracy: 0.8615 - val_loss: 0.2607 - val_accuracy: 0.9138\n",
      "Epoch 17/100\n",
      "15/15 [==============================] - 1s 53ms/step - loss: 0.3094 - accuracy: 0.8788 - val_loss: 0.2616 - val_accuracy: 0.9138\n",
      "Epoch 18/100\n",
      "15/15 [==============================] - 1s 49ms/step - loss: 0.2867 - accuracy: 0.8961 - val_loss: 0.2605 - val_accuracy: 0.9138\n",
      "Epoch 19/100\n",
      "15/15 [==============================] - 1s 56ms/step - loss: 0.2925 - accuracy: 0.8918 - val_loss: 0.2935 - val_accuracy: 0.8966\n",
      "Epoch 20/100\n",
      "15/15 [==============================] - 1s 45ms/step - loss: 0.3802 - accuracy: 0.8398 - val_loss: 0.3497 - val_accuracy: 0.8621\n",
      "Epoch 21/100\n",
      "15/15 [==============================] - 1s 54ms/step - loss: 0.3748 - accuracy: 0.8398 - val_loss: 0.2859 - val_accuracy: 0.8966\n",
      "Epoch 22/100\n",
      "15/15 [==============================] - 1s 44ms/step - loss: 0.2997 - accuracy: 0.8831 - val_loss: 0.4604 - val_accuracy: 0.4483\n",
      "Epoch 23/100\n",
      "15/15 [==============================] - 1s 58ms/step - loss: 0.3346 - accuracy: 0.8485 - val_loss: 0.2802 - val_accuracy: 0.8966\n",
      "Epoch 23: early stopping\n"
     ]
    }
   ],
   "source": [
    "model_history=model.fit(X_train,y_train,epochs=100,batch_size=16,validation_data=(X_test,y_test),callbacks=[early_stopping])# batch_size=32"
   ],
   "metadata": {
    "collapsed": false,
    "ExecuteTime": {
     "end_time": "2023-09-05T11:46:06.786624300Z",
     "start_time": "2023-09-05T11:45:40.079018200Z"
    }
   },
   "id": "33a0aa72b47b2f3f"
  },
  {
   "cell_type": "code",
   "execution_count": null,
   "outputs": [],
   "source": [],
   "metadata": {
    "collapsed": false
   },
   "id": "c6b18f9906d57da6"
  }
 ],
 "metadata": {
  "kernelspec": {
   "display_name": "Python 3",
   "language": "python",
   "name": "python3"
  },
  "language_info": {
   "codemirror_mode": {
    "name": "ipython",
    "version": 2
   },
   "file_extension": ".py",
   "mimetype": "text/x-python",
   "name": "python",
   "nbconvert_exporter": "python",
   "pygments_lexer": "ipython2",
   "version": "2.7.6"
  }
 },
 "nbformat": 4,
 "nbformat_minor": 5
}
