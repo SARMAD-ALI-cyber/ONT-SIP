{
 "cells": [
  {
   "cell_type": "code",
   "execution_count": 1,
   "id": "initial_id",
   "metadata": {
    "collapsed": true,
    "ExecuteTime": {
     "end_time": "2023-09-11T19:52:37.518768200Z",
     "start_time": "2023-09-11T19:52:16.966423400Z"
    }
   },
   "outputs": [
    {
     "data": {
      "text/plain": "<IPython.core.display.HTML object>",
      "text/html": "\n        <style>\n            .support_message_main_box {\n                position: relative;\n                display: table-cell;\n                vertical-align: middle;\n                width: 100%;\n                height: 8em;\n                padding: 1em;\n                padding-left: 11em;\n                background-color: #f7f7f7;\n                border: 1px solid #cfcfcf;\n                border-radius: 2px;\n            }\n            .support_message_main_box img {\n                position: absolute;\n                height: 9em;\n                width: 9em;\n                left: 0.5em;\n                top: 0.5em;\n                border-radius: 1em;\n            }\n        </style>\n        <div class=\"support_message_main_box\">\n            <img src=\"https://avatars.githubusercontent.com/u/7738570?v=4\" />\n            <p>\n            <b>Hi!</b><br/>\n            <span>I am the author of\n            <a href=\"https://github.com/LucaCappelletti94/plot_keras_history\" target=\"_blank\">\n                plot_keras_history\n            </a>, which you use in this Notebook.\n            </span><br/>\n            \n        <span>I hope my work has saved you some time!</span><br/>\n        \n            <span>I love to code, but I also need coffee.</span>\n            <a href=\"https://github.com/sponsors/LucaCappelletti94\" target=\"_blank\">\n                Please sponsor me on GitHub ❤️\n            </a><br/>\n            <i>Good luck in your coding 🍀!</i>\n            <br/>\n            <i>- Luca</i>\n            </p>\n        <div>\n        "
     },
     "metadata": {},
     "output_type": "display_data"
    }
   ],
   "source": [
    "import numpy as np\n",
    "import  pandas as pd\n",
    "import tensorflow as tf\n",
    "from sklearn.model_selection import train_test_split\n",
    "from keras.utils import pad_sequences\n",
    "from sklearn.metrics import classification_report\n",
    "from plot_keras_history import plot_history\n",
    "from sklearn.preprocessing import MinMaxScaler\n",
    "import matplotlib.pyplot as plt\n",
    "%matplotlib notebook"
   ]
  },
  {
   "cell_type": "code",
   "execution_count": 2,
   "outputs": [],
   "source": [
    "data=pd.read_csv('DATA.csv')"
   ],
   "metadata": {
    "collapsed": false,
    "ExecuteTime": {
     "end_time": "2023-09-11T19:52:43.413139500Z",
     "start_time": "2023-09-11T19:52:43.301621100Z"
    }
   },
   "id": "ebc798a7dec5a979"
  },
  {
   "cell_type": "code",
   "execution_count": 3,
   "outputs": [],
   "source": [
    "data.drop(columns=['Unnamed: 0'],axis=1,inplace=True)"
   ],
   "metadata": {
    "collapsed": false,
    "ExecuteTime": {
     "end_time": "2023-09-11T19:52:52.862876900Z",
     "start_time": "2023-09-11T19:52:52.815450500Z"
    }
   },
   "id": "91ba1d73b7689e94"
  },
  {
   "cell_type": "code",
   "execution_count": 4,
   "outputs": [],
   "source": [
    "data['label']=data['label'].replace(2,1)"
   ],
   "metadata": {
    "collapsed": false,
    "ExecuteTime": {
     "end_time": "2023-09-11T19:53:00.763343200Z",
     "start_time": "2023-09-11T19:53:00.731467100Z"
    }
   },
   "id": "ef1c69d4310b62"
  },
  {
   "cell_type": "code",
   "execution_count": 5,
   "outputs": [],
   "source": [
    "X=data['combined_result']\n",
    "y=data['label']\n",
    "time_series=data['t_dist']"
   ],
   "metadata": {
    "collapsed": false,
    "ExecuteTime": {
     "end_time": "2023-09-11T19:53:11.272610500Z",
     "start_time": "2023-09-11T19:53:11.235301400Z"
    }
   },
   "id": "c5eeeb860878fdbb"
  },
  {
   "cell_type": "code",
   "execution_count": 6,
   "outputs": [],
   "source": [
    "std_X = X.std()\n",
    "desired_snr = 0.1\n",
    "std_noise = std_X * desired_snr\n",
    "noise = np.random.normal(0, std_noise, X.shape)"
   ],
   "metadata": {
    "collapsed": false,
    "ExecuteTime": {
     "end_time": "2023-09-11T19:53:18.597177600Z",
     "start_time": "2023-09-11T19:53:18.518900500Z"
    }
   },
   "id": "a4aea9c06177cfec"
  },
  {
   "cell_type": "code",
   "execution_count": 7,
   "outputs": [],
   "source": [
    "data['noisy_feature_column'] = X + noise\n",
    "noisy_signal=data['noisy_feature_column']"
   ],
   "metadata": {
    "collapsed": false,
    "ExecuteTime": {
     "end_time": "2023-09-11T19:55:04.075023700Z",
     "start_time": "2023-09-11T19:55:04.058912300Z"
    }
   },
   "id": "30715b6fa442a1d5"
  },
  {
   "cell_type": "code",
   "execution_count": 8,
   "outputs": [],
   "source": [
    "from sklearn.pipeline import Pipeline\n",
    "from sklearn.compose import ColumnTransformer"
   ],
   "metadata": {
    "collapsed": false,
    "ExecuteTime": {
     "end_time": "2023-09-11T19:55:22.855922900Z",
     "start_time": "2023-09-11T19:55:22.835257500Z"
    }
   },
   "id": "85f8ec558dd65445"
  },
  {
   "cell_type": "code",
   "execution_count": 15,
   "outputs": [],
   "source": [
    "noisy_signal=noisy_signal.to_frame()"
   ],
   "metadata": {
    "collapsed": false,
    "ExecuteTime": {
     "end_time": "2023-09-11T20:06:27.990192800Z",
     "start_time": "2023-09-11T20:06:27.955575600Z"
    }
   },
   "id": "a98d7c9143e747"
  },
  {
   "cell_type": "code",
   "execution_count": 16,
   "outputs": [],
   "source": [
    "trf1=ColumnTransformer(transformers=[\n",
    "    ('Scaling',MinMaxScaler(feature_range=(0.0, 10.789)),[0])\n",
    "],remainder='passthrough')"
   ],
   "metadata": {
    "collapsed": false,
    "ExecuteTime": {
     "end_time": "2023-09-11T20:06:38.478281700Z",
     "start_time": "2023-09-11T20:06:38.446931700Z"
    }
   },
   "id": "d536801015adcdff"
  },
  {
   "cell_type": "code",
   "execution_count": 17,
   "outputs": [],
   "source": [
    "pipe = Pipeline([\n",
    "    ('trf1', trf1)\n",
    "])"
   ],
   "metadata": {
    "collapsed": false,
    "ExecuteTime": {
     "end_time": "2023-09-11T20:06:38.907035100Z",
     "start_time": "2023-09-11T20:06:38.874762100Z"
    }
   },
   "id": "ef73a6a82d3d6b09"
  },
  {
   "cell_type": "code",
   "execution_count": 18,
   "outputs": [],
   "source": [
    "X_transformed=pipe.fit_transform(noisy_signal)"
   ],
   "metadata": {
    "collapsed": false,
    "ExecuteTime": {
     "end_time": "2023-09-11T20:06:39.761968900Z",
     "start_time": "2023-09-11T20:06:39.746346Z"
    }
   },
   "id": "b49e685fc4827606"
  },
  {
   "cell_type": "code",
   "execution_count": 21,
   "outputs": [
    {
     "name": "stdout",
     "output_type": "stream",
     "text": [
      "(299995, 1)\n"
     ]
    }
   ],
   "source": [
    "print(X_transformed.shape)"
   ],
   "metadata": {
    "collapsed": false,
    "ExecuteTime": {
     "end_time": "2023-09-11T20:07:26.138822Z",
     "start_time": "2023-09-11T20:07:26.107487800Z"
    }
   },
   "id": "75cd78cdff771b64"
  },
  {
   "cell_type": "code",
   "execution_count": 22,
   "outputs": [],
   "source": [
    "X_transformed_series = pd.Series(X_transformed[:, 0], name='Transformed Data')"
   ],
   "metadata": {
    "collapsed": false,
    "ExecuteTime": {
     "end_time": "2023-09-11T20:08:42.069377300Z",
     "start_time": "2023-09-11T20:08:42.038094200Z"
    }
   },
   "id": "c8f9c0021b2efecd"
  },
  {
   "cell_type": "code",
   "execution_count": 31,
   "outputs": [
    {
     "data": {
      "text/plain": "0.0"
     },
     "execution_count": 31,
     "metadata": {},
     "output_type": "execute_result"
    }
   ],
   "source": [
    "X_transformed_series.min()"
   ],
   "metadata": {
    "collapsed": false,
    "ExecuteTime": {
     "end_time": "2023-09-11T20:16:46.562768900Z",
     "start_time": "2023-09-11T20:16:46.519903Z"
    }
   },
   "id": "1d27e1288bb64ec1"
  },
  {
   "cell_type": "code",
   "execution_count": 28,
   "outputs": [
    {
     "data": {
      "text/plain": "   Transformed-Data  Labels\n0          0.058865     1.0\n1          0.039261     1.0\n2          0.063650     1.0\n3          0.072294     1.0\n4          0.046934     1.0\n5          0.051019     1.0\n6          0.051612     1.0\n7          0.041134     1.0\n8          0.062973     1.0\n9          0.070713     1.0",
      "text/html": "<div>\n<style scoped>\n    .dataframe tbody tr th:only-of-type {\n        vertical-align: middle;\n    }\n\n    .dataframe tbody tr th {\n        vertical-align: top;\n    }\n\n    .dataframe thead th {\n        text-align: right;\n    }\n</style>\n<table border=\"1\" class=\"dataframe\">\n  <thead>\n    <tr style=\"text-align: right;\">\n      <th></th>\n      <th>Transformed-Data</th>\n      <th>Labels</th>\n    </tr>\n  </thead>\n  <tbody>\n    <tr>\n      <th>0</th>\n      <td>0.058865</td>\n      <td>1.0</td>\n    </tr>\n    <tr>\n      <th>1</th>\n      <td>0.039261</td>\n      <td>1.0</td>\n    </tr>\n    <tr>\n      <th>2</th>\n      <td>0.063650</td>\n      <td>1.0</td>\n    </tr>\n    <tr>\n      <th>3</th>\n      <td>0.072294</td>\n      <td>1.0</td>\n    </tr>\n    <tr>\n      <th>4</th>\n      <td>0.046934</td>\n      <td>1.0</td>\n    </tr>\n    <tr>\n      <th>5</th>\n      <td>0.051019</td>\n      <td>1.0</td>\n    </tr>\n    <tr>\n      <th>6</th>\n      <td>0.051612</td>\n      <td>1.0</td>\n    </tr>\n    <tr>\n      <th>7</th>\n      <td>0.041134</td>\n      <td>1.0</td>\n    </tr>\n    <tr>\n      <th>8</th>\n      <td>0.062973</td>\n      <td>1.0</td>\n    </tr>\n    <tr>\n      <th>9</th>\n      <td>0.070713</td>\n      <td>1.0</td>\n    </tr>\n  </tbody>\n</table>\n</div>"
     },
     "execution_count": 28,
     "metadata": {},
     "output_type": "execute_result"
    }
   ],
   "source": [
    "# Combining X_transformed and y to Data Frame for Illustration\n",
    "df=pd.DataFrame({\"Transformed-Data\":X_transformed_series,\"Labels\":y})\n",
    "df.head(10)"
   ],
   "metadata": {
    "collapsed": false,
    "ExecuteTime": {
     "end_time": "2023-09-11T20:11:46.551370Z",
     "start_time": "2023-09-11T20:11:46.488791800Z"
    }
   },
   "id": "f940ecee57c47ae7"
  },
  {
   "cell_type": "code",
   "execution_count": 29,
   "outputs": [],
   "source": [
    "df.to_csv('Transformed-Data.csv')"
   ],
   "metadata": {
    "collapsed": false,
    "ExecuteTime": {
     "end_time": "2023-09-11T20:12:19.820003600Z",
     "start_time": "2023-09-11T20:12:19.076225200Z"
    }
   },
   "id": "d05096ae105a401d"
  },
  {
   "cell_type": "code",
   "execution_count": 32,
   "outputs": [],
   "source": [
    "# Extracting sequences from the dataset\n",
    "sequences=[]\n",
    "labels=[]\n",
    "temp=[]\n",
    "\n",
    "for index,value in y.items():\n",
    "    if value==1:\n",
    "        temp.append(X_transformed_series[index])\n",
    "        if (index+1)<len(y) and y[index+1]==0:\n",
    "            sequences.append(temp)\n",
    "            labels.append(1)\n",
    "            temp=[]\n",
    "    if value==0:\n",
    "        temp.append(X_transformed_series[index])\n",
    "        if (index+1)<len(y) and y[index+1]==1:\n",
    "            sequences.append(temp)\n",
    "            labels.append(0)\n",
    "            temp=[]"
   ],
   "metadata": {
    "collapsed": false,
    "ExecuteTime": {
     "end_time": "2023-09-11T20:20:47.709151500Z",
     "start_time": "2023-09-11T20:20:45.857390300Z"
    }
   },
   "id": "652ada97a5b2af1b"
  },
  {
   "cell_type": "code",
   "execution_count": 33,
   "outputs": [],
   "source": [
    "# Padding and reshaping\n",
    "X_train=pad_sequences(sequences,padding='post',truncating='post',dtype=float,maxlen=50)"
   ],
   "metadata": {
    "collapsed": false,
    "ExecuteTime": {
     "end_time": "2023-09-11T20:21:51.903514200Z",
     "start_time": "2023-09-11T20:21:51.872174700Z"
    }
   },
   "id": "376f04850c376a23"
  },
  {
   "cell_type": "code",
   "execution_count": 34,
   "outputs": [],
   "source": [
    "y_train = np.array(labels)\n",
    "y_train = y_train.reshape(-1, 1)"
   ],
   "metadata": {
    "collapsed": false,
    "ExecuteTime": {
     "end_time": "2023-09-11T20:22:12.880802500Z",
     "start_time": "2023-09-11T20:22:12.848189Z"
    }
   },
   "id": "e4f9bb0ad2ebb827"
  },
  {
   "cell_type": "code",
   "execution_count": 35,
   "outputs": [
    {
     "data": {
      "text/plain": "(1449, 50, 1)"
     },
     "execution_count": 35,
     "metadata": {},
     "output_type": "execute_result"
    }
   ],
   "source": [
    "X_train=X_train.reshape(X_train.shape[0], X_train.shape[1], 1)\n",
    "X_train.shape"
   ],
   "metadata": {
    "collapsed": false,
    "ExecuteTime": {
     "end_time": "2023-09-11T20:22:28.768504300Z",
     "start_time": "2023-09-11T20:22:28.737330600Z"
    }
   },
   "id": "2c7ae4172728d2f1"
  },
  {
   "cell_type": "code",
   "execution_count": 50,
   "outputs": [
    {
     "name": "stdout",
     "output_type": "stream",
     "text": [
      "[[0.08125645]\n",
      " [0.0358537 ]\n",
      " [0.0388303 ]\n",
      " [0.05880582]\n",
      " [0.10365053]\n",
      " [0.06793716]\n",
      " [0.04521443]\n",
      " [0.0408228 ]\n",
      " [0.07437759]\n",
      " [0.04560736]\n",
      " [0.05141161]\n",
      " [0.05392243]\n",
      " [0.05161588]\n",
      " [0.04900899]\n",
      " [0.04284856]\n",
      " [0.06524419]\n",
      " [0.05475102]\n",
      " [0.05840395]\n",
      " [0.0535378 ]\n",
      " [0.04324242]\n",
      " [0.04984779]\n",
      " [0.04974488]\n",
      " [0.06637587]\n",
      " [0.06025826]\n",
      " [0.04266726]\n",
      " [0.05787961]\n",
      " [0.05824339]\n",
      " [0.04649168]\n",
      " [0.03594983]\n",
      " [0.08872858]\n",
      " [0.04454339]\n",
      " [0.05573022]\n",
      " [0.0573265 ]\n",
      " [0.08281195]\n",
      " [0.05781499]\n",
      " [0.05177692]\n",
      " [0.07175849]\n",
      " [0.08091755]\n",
      " [0.05370321]\n",
      " [0.0574853 ]\n",
      " [0.06051083]\n",
      " [0.07675408]\n",
      " [0.05575863]\n",
      " [0.04899016]\n",
      " [0.0652386 ]\n",
      " [0.08198168]\n",
      " [0.05288592]\n",
      " [0.06027841]\n",
      " [0.04917005]\n",
      " [0.04905803]]\n"
     ]
    }
   ],
   "source": [
    "print(X_train[90])"
   ],
   "metadata": {
    "collapsed": false,
    "ExecuteTime": {
     "end_time": "2023-09-11T20:28:55.281630200Z",
     "start_time": "2023-09-11T20:28:55.234762Z"
    }
   },
   "id": "e4177da94e2183d7"
  },
  {
   "cell_type": "code",
   "execution_count": 59,
   "outputs": [],
   "source": [
    "# It is because Our each  sequence has max laength of 50 and in output we want to predict a label\n",
    "Tx=50\n",
    "Ty=1\n",
    "repeator = tf.keras.layers.RepeatVector(Tx)\n",
    "concatenator = tf.keras.layers.Concatenate(axis=-1)\n",
    "densor1 =tf.keras.layers. Dense(10, activation = \"tanh\")\n",
    "densor2 = tf.keras.layers.Dense(1, activation = \"relu\")\n",
    "activator = tf.keras.layers.Activation('softmax', name='attention_weights') # We are using a custom softmax(axis = 1) loaded in this notebook\n",
    "dotor =tf.keras.layers. Dot(axes = 1)"
   ],
   "metadata": {
    "collapsed": false,
    "ExecuteTime": {
     "end_time": "2023-09-11T20:31:29.461142500Z",
     "start_time": "2023-09-11T20:31:29.398603200Z"
    }
   },
   "id": "62f24fdfecb999bc"
  },
  {
   "cell_type": "code",
   "execution_count": 60,
   "outputs": [],
   "source": [
    "def one_step_attention(a,s_prev):\n",
    "    # We done this to change s_prev to shape of(m,Tx,n_s) for cocatination with a, because concatenation requires all dimension same accept concat axis in this \n",
    "    # case is last one so a and s_prev have same first two dims (m,Tx) but last one is changed\n",
    "    s_prev=repeator(s_prev)\n",
    "    # We will here concatenate a and s_prev\n",
    "    concat=concatenator([a,s_prev])\n",
    "    # here i will calculate energies with 2 dense layers\n",
    "    e=densor1(concat)\n",
    "    energies=densor2(e)\n",
    "    # we know alpha is softmax of this energy\n",
    "    alpha=activator(energies)\n",
    "    # to calculate context vector we take dot product of alpha and a\n",
    "    context_vector=dotor([alpha,a])\n",
    "    return context_vector"
   ],
   "metadata": {
    "collapsed": false,
    "ExecuteTime": {
     "end_time": "2023-09-11T20:31:29.725159200Z",
     "start_time": "2023-09-11T20:31:29.693878500Z"
    }
   },
   "id": "2a41293e2da5db9"
  },
  {
   "cell_type": "code",
   "execution_count": 61,
   "outputs": [],
   "source": [
    "n_a = 32 # number of units for the pre-attention, bi-directional LSTM's hidden state 'a'\n",
    "n_s = 64 # number of units for the post-attention LSTM's hidden state \"s\"\n",
    "\n",
    "# Please note, this is the post attention LSTM cell.\n",
    "post_activation_LSTM_cell = tf.keras.layers.LSTM(n_s, return_state = True) # Please do not modify this global variable.\n",
    "output_layer = tf.keras.layers.Dense(1, activation='sigmoid')"
   ],
   "metadata": {
    "collapsed": false,
    "ExecuteTime": {
     "end_time": "2023-09-11T20:31:30.022499500Z",
     "start_time": "2023-09-11T20:31:29.991253600Z"
    }
   },
   "id": "cbb7e4e090a667fc"
  },
  {
   "cell_type": "code",
   "execution_count": 62,
   "outputs": [],
   "source": [
    "def modelf(Tx,Ty,n_a, n_s):\n",
    "    X=tf.keras.layers.Input(shape=(X_train.shape[1],1)) # because embedding layer only demands the sequence length if i give full shape like (m,Tx) the\n",
    "    # ouput of embedding layer will be 4D which can not be fed into BILSTM\n",
    "    # hidden state for post LSTM\n",
    "    s0 = tf.keras.layers.Input(shape=(n_s,), name='s0')\n",
    "    # cell state for post lstm\n",
    "    # because we know From CampusX that shape of hidden and cell state of lstm are equal\n",
    "    c0 = tf.keras.layers.Input(shape=(n_s,), name='c0')\n",
    "    s=s0\n",
    "    c=c0\n",
    "    outputs = []\n",
    "\n",
    "    a = tf.keras.layers.Bidirectional(tf.keras.layers.LSTM(n_a,return_sequences=True),input_shape=(X_train.shape[1],1))(X)\n",
    "\n",
    "    for t in range(Ty):\n",
    "        context=one_step_attention(a,s)\n",
    "        _,s,c=post_activation_LSTM_cell(context,initial_state = [s,c] )\n",
    "        out = output_layer(s)\n",
    "        outputs.append(out)\n",
    "\n",
    "\n",
    "\n",
    "    print(outputs)\n",
    "    model=tf.keras.models.Model(inputs=[X,s0,c0],outputs=outputs)\n",
    "\n",
    "    return model"
   ],
   "metadata": {
    "collapsed": false,
    "ExecuteTime": {
     "end_time": "2023-09-11T20:31:30.308147300Z",
     "start_time": "2023-09-11T20:31:30.292571600Z"
    }
   },
   "id": "aaa94933159e95f7"
  },
  {
   "cell_type": "code",
   "execution_count": 63,
   "outputs": [
    {
     "name": "stdout",
     "output_type": "stream",
     "text": [
      "[<KerasTensor: shape=(None, 1) dtype=float32 (created by layer 'dense_8')>]\n"
     ]
    }
   ],
   "source": [
    "model = modelf(Tx, Ty, n_a, n_s)"
   ],
   "metadata": {
    "collapsed": false,
    "ExecuteTime": {
     "end_time": "2023-09-11T20:31:31.306892200Z",
     "start_time": "2023-09-11T20:31:30.596389400Z"
    }
   },
   "id": "92d60db340d1feef"
  },
  {
   "cell_type": "code",
   "execution_count": 64,
   "outputs": [],
   "source": [
    "opt = tf.keras.optimizers.Adam(learning_rate=0.00001,beta_1=0.9,beta_2=0.999)#0.00001\n",
    "model.compile(loss = tf.keras.losses.BinaryCrossentropy(), optimizer = opt, metrics = ['accuracy'])"
   ],
   "metadata": {
    "collapsed": false,
    "ExecuteTime": {
     "end_time": "2023-09-11T20:31:32.181304Z",
     "start_time": "2023-09-11T20:31:32.149619700Z"
    }
   },
   "id": "cea761f4ce1823b6"
  },
  {
   "cell_type": "code",
   "execution_count": 65,
   "outputs": [],
   "source": [
    "# For Training Set\n",
    "m=X_train.shape[0]\n",
    "s0 = np.zeros((m, n_s))\n",
    "c0 = np.zeros((m, n_s))"
   ],
   "metadata": {
    "collapsed": false,
    "ExecuteTime": {
     "end_time": "2023-09-11T20:31:32.532230700Z",
     "start_time": "2023-09-11T20:31:32.500906300Z"
    }
   },
   "id": "5d5ad00a23bda8c6"
  },
  {
   "cell_type": "code",
   "execution_count": 66,
   "outputs": [
    {
     "name": "stdout",
     "output_type": "stream",
     "text": [
      "Epoch 1/500\n",
      "15/15 [==============================] - 5s 23ms/step - loss: 0.6966 - accuracy: 0.5003\n",
      "Epoch 2/500\n",
      "15/15 [==============================] - 0s 24ms/step - loss: 0.6956 - accuracy: 0.5059\n",
      "Epoch 3/500\n",
      "15/15 [==============================] - 0s 23ms/step - loss: 0.6946 - accuracy: 0.5155\n",
      "Epoch 4/500\n",
      "15/15 [==============================] - 0s 23ms/step - loss: 0.6936 - accuracy: 0.5321\n",
      "Epoch 5/500\n",
      "15/15 [==============================] - 0s 24ms/step - loss: 0.6928 - accuracy: 0.5694\n",
      "Epoch 6/500\n",
      "15/15 [==============================] - 0s 23ms/step - loss: 0.6919 - accuracy: 0.4251\n",
      "Epoch 7/500\n",
      "15/15 [==============================] - 0s 23ms/step - loss: 0.6910 - accuracy: 0.3582\n",
      "Epoch 8/500\n",
      "15/15 [==============================] - 0s 23ms/step - loss: 0.6902 - accuracy: 0.3872\n",
      "Epoch 9/500\n",
      "15/15 [==============================] - 0s 23ms/step - loss: 0.6894 - accuracy: 0.4030\n",
      "Epoch 10/500\n",
      "15/15 [==============================] - 0s 21ms/step - loss: 0.6886 - accuracy: 0.4175\n",
      "Epoch 11/500\n",
      "15/15 [==============================] - 0s 22ms/step - loss: 0.6878 - accuracy: 0.4175\n",
      "Epoch 12/500\n",
      "15/15 [==============================] - 0s 23ms/step - loss: 0.6871 - accuracy: 0.4196\n",
      "Epoch 13/500\n",
      "15/15 [==============================] - 0s 25ms/step - loss: 0.6863 - accuracy: 0.4251\n",
      "Epoch 14/500\n",
      "15/15 [==============================] - 0s 24ms/step - loss: 0.6856 - accuracy: 0.4265\n",
      "Epoch 15/500\n",
      "15/15 [==============================] - 0s 24ms/step - loss: 0.6849 - accuracy: 0.4327\n",
      "Epoch 16/500\n",
      "15/15 [==============================] - 0s 24ms/step - loss: 0.6841 - accuracy: 0.4341\n",
      "Epoch 17/500\n",
      "15/15 [==============================] - 0s 22ms/step - loss: 0.6834 - accuracy: 0.4320\n",
      "Epoch 18/500\n",
      "15/15 [==============================] - 0s 22ms/step - loss: 0.6828 - accuracy: 0.4265\n",
      "Epoch 19/500\n",
      "15/15 [==============================] - 0s 24ms/step - loss: 0.6821 - accuracy: 0.4251\n",
      "Epoch 20/500\n",
      "15/15 [==============================] - 0s 25ms/step - loss: 0.6814 - accuracy: 0.4224\n",
      "Epoch 21/500\n",
      "15/15 [==============================] - 0s 23ms/step - loss: 0.6808 - accuracy: 0.4224\n",
      "Epoch 22/500\n",
      "15/15 [==============================] - 0s 24ms/step - loss: 0.6801 - accuracy: 0.4210\n",
      "Epoch 23/500\n",
      "15/15 [==============================] - 0s 29ms/step - loss: 0.6794 - accuracy: 0.4182\n",
      "Epoch 24/500\n",
      "15/15 [==============================] - 0s 28ms/step - loss: 0.6788 - accuracy: 0.4168\n",
      "Epoch 25/500\n",
      "15/15 [==============================] - 0s 29ms/step - loss: 0.6782 - accuracy: 0.4168\n",
      "Epoch 26/500\n",
      "15/15 [==============================] - 0s 28ms/step - loss: 0.6775 - accuracy: 0.4161\n",
      "Epoch 27/500\n",
      "15/15 [==============================] - 0s 29ms/step - loss: 0.6769 - accuracy: 0.4182\n",
      "Epoch 28/500\n",
      "15/15 [==============================] - 0s 29ms/step - loss: 0.6763 - accuracy: 0.4279\n",
      "Epoch 29/500\n",
      "15/15 [==============================] - 0s 29ms/step - loss: 0.6757 - accuracy: 0.4300\n",
      "Epoch 30/500\n",
      "15/15 [==============================] - 0s 28ms/step - loss: 0.6751 - accuracy: 0.4403\n",
      "Epoch 31/500\n",
      "15/15 [==============================] - 0s 26ms/step - loss: 0.6745 - accuracy: 0.5335\n",
      "Epoch 32/500\n",
      "15/15 [==============================] - 0s 28ms/step - loss: 0.6739 - accuracy: 0.5583\n",
      "Epoch 33/500\n",
      "15/15 [==============================] - 0s 28ms/step - loss: 0.6732 - accuracy: 0.5728\n",
      "Epoch 34/500\n",
      "15/15 [==============================] - 0s 28ms/step - loss: 0.6727 - accuracy: 0.6170\n",
      "Epoch 35/500\n",
      "15/15 [==============================] - 0s 27ms/step - loss: 0.6720 - accuracy: 0.6398\n",
      "Epoch 36/500\n",
      "15/15 [==============================] - 0s 26ms/step - loss: 0.6714 - accuracy: 0.6805\n",
      "Epoch 37/500\n",
      "15/15 [==============================] - 0s 29ms/step - loss: 0.6708 - accuracy: 0.6901\n",
      "Epoch 38/500\n",
      "15/15 [==============================] - 0s 28ms/step - loss: 0.6703 - accuracy: 0.7246\n",
      "Epoch 39/500\n",
      "15/15 [==============================] - 0s 29ms/step - loss: 0.6697 - accuracy: 0.7398\n",
      "Epoch 40/500\n",
      "15/15 [==============================] - 0s 28ms/step - loss: 0.6691 - accuracy: 0.7398\n",
      "Epoch 41/500\n",
      "15/15 [==============================] - 0s 27ms/step - loss: 0.6685 - accuracy: 0.7440\n",
      "Epoch 42/500\n",
      "15/15 [==============================] - 0s 27ms/step - loss: 0.6679 - accuracy: 0.7419\n",
      "Epoch 43/500\n",
      "15/15 [==============================] - 0s 26ms/step - loss: 0.6673 - accuracy: 0.7384\n",
      "Epoch 44/500\n",
      "15/15 [==============================] - 0s 27ms/step - loss: 0.6668 - accuracy: 0.7384\n",
      "Epoch 45/500\n",
      "15/15 [==============================] - 0s 26ms/step - loss: 0.6662 - accuracy: 0.7364\n",
      "Epoch 46/500\n",
      "15/15 [==============================] - 0s 27ms/step - loss: 0.6656 - accuracy: 0.7336\n",
      "Epoch 47/500\n",
      "15/15 [==============================] - 0s 26ms/step - loss: 0.6651 - accuracy: 0.7274\n",
      "Epoch 48/500\n",
      "15/15 [==============================] - 0s 26ms/step - loss: 0.6644 - accuracy: 0.7288\n",
      "Epoch 49/500\n",
      "15/15 [==============================] - 0s 27ms/step - loss: 0.6639 - accuracy: 0.7295\n",
      "Epoch 50/500\n",
      "15/15 [==============================] - 0s 26ms/step - loss: 0.6633 - accuracy: 0.7267\n",
      "Epoch 51/500\n",
      "15/15 [==============================] - 0s 27ms/step - loss: 0.6627 - accuracy: 0.7226\n",
      "Epoch 52/500\n",
      "15/15 [==============================] - 0s 26ms/step - loss: 0.6621 - accuracy: 0.7205\n",
      "Epoch 53/500\n",
      "15/15 [==============================] - 0s 27ms/step - loss: 0.6616 - accuracy: 0.7184\n",
      "Epoch 54/500\n",
      "15/15 [==============================] - 0s 28ms/step - loss: 0.6610 - accuracy: 0.7136\n",
      "Epoch 55/500\n",
      "15/15 [==============================] - 0s 26ms/step - loss: 0.6605 - accuracy: 0.7108\n",
      "Epoch 56/500\n",
      "15/15 [==============================] - 0s 27ms/step - loss: 0.6599 - accuracy: 0.7115\n",
      "Epoch 57/500\n",
      "15/15 [==============================] - 0s 27ms/step - loss: 0.6593 - accuracy: 0.7101\n",
      "Epoch 58/500\n",
      "15/15 [==============================] - 0s 27ms/step - loss: 0.6587 - accuracy: 0.7101\n",
      "Epoch 59/500\n",
      "15/15 [==============================] - 0s 28ms/step - loss: 0.6582 - accuracy: 0.7005\n",
      "Epoch 60/500\n",
      "15/15 [==============================] - 0s 27ms/step - loss: 0.6576 - accuracy: 0.6991\n",
      "Epoch 61/500\n",
      "15/15 [==============================] - 0s 27ms/step - loss: 0.6571 - accuracy: 0.7005\n",
      "Epoch 62/500\n",
      "15/15 [==============================] - 0s 27ms/step - loss: 0.6565 - accuracy: 0.7012\n",
      "Epoch 63/500\n",
      "15/15 [==============================] - 0s 28ms/step - loss: 0.6560 - accuracy: 0.6984\n",
      "Epoch 64/500\n",
      "15/15 [==============================] - 0s 27ms/step - loss: 0.6554 - accuracy: 0.6963\n",
      "Epoch 65/500\n",
      "15/15 [==============================] - 0s 27ms/step - loss: 0.6548 - accuracy: 0.6957\n",
      "Epoch 66/500\n",
      "15/15 [==============================] - 0s 27ms/step - loss: 0.6543 - accuracy: 0.6957\n",
      "Epoch 67/500\n",
      "15/15 [==============================] - 0s 27ms/step - loss: 0.6538 - accuracy: 0.6950\n",
      "Epoch 68/500\n",
      "15/15 [==============================] - 0s 27ms/step - loss: 0.6532 - accuracy: 0.6963\n",
      "Epoch 69/500\n",
      "15/15 [==============================] - 0s 27ms/step - loss: 0.6527 - accuracy: 0.6929\n",
      "Epoch 70/500\n",
      "15/15 [==============================] - 0s 26ms/step - loss: 0.6521 - accuracy: 0.6929\n",
      "Epoch 71/500\n",
      "15/15 [==============================] - 0s 26ms/step - loss: 0.6516 - accuracy: 0.6929\n",
      "Epoch 72/500\n",
      "15/15 [==============================] - 0s 26ms/step - loss: 0.6510 - accuracy: 0.6929\n",
      "Epoch 73/500\n",
      "15/15 [==============================] - 0s 27ms/step - loss: 0.6505 - accuracy: 0.6950\n",
      "Epoch 74/500\n",
      "15/15 [==============================] - 0s 27ms/step - loss: 0.6500 - accuracy: 0.6929\n",
      "Epoch 75/500\n",
      "15/15 [==============================] - 0s 26ms/step - loss: 0.6494 - accuracy: 0.6936\n",
      "Epoch 76/500\n",
      "15/15 [==============================] - 0s 26ms/step - loss: 0.6489 - accuracy: 0.6950\n",
      "Epoch 77/500\n",
      "15/15 [==============================] - 0s 26ms/step - loss: 0.6484 - accuracy: 0.6915\n",
      "Epoch 78/500\n",
      "15/15 [==============================] - 0s 26ms/step - loss: 0.6478 - accuracy: 0.6915\n",
      "Epoch 79/500\n",
      "15/15 [==============================] - 0s 27ms/step - loss: 0.6473 - accuracy: 0.6915\n",
      "Epoch 80/500\n",
      "15/15 [==============================] - 0s 27ms/step - loss: 0.6468 - accuracy: 0.6929\n",
      "Epoch 81/500\n",
      "15/15 [==============================] - 0s 27ms/step - loss: 0.6462 - accuracy: 0.6908\n",
      "Epoch 82/500\n",
      "15/15 [==============================] - 0s 27ms/step - loss: 0.6457 - accuracy: 0.6922\n",
      "Epoch 83/500\n",
      "15/15 [==============================] - 0s 26ms/step - loss: 0.6452 - accuracy: 0.6950\n",
      "Epoch 84/500\n",
      "15/15 [==============================] - 0s 26ms/step - loss: 0.6447 - accuracy: 0.6970\n",
      "Epoch 85/500\n",
      "15/15 [==============================] - 0s 26ms/step - loss: 0.6442 - accuracy: 0.6950\n",
      "Epoch 86/500\n",
      "15/15 [==============================] - 0s 27ms/step - loss: 0.6436 - accuracy: 0.6950\n",
      "Epoch 87/500\n",
      "15/15 [==============================] - 0s 28ms/step - loss: 0.6431 - accuracy: 0.6957\n",
      "Epoch 88/500\n",
      "15/15 [==============================] - 0s 29ms/step - loss: 0.6426 - accuracy: 0.6915\n",
      "Epoch 89/500\n",
      "15/15 [==============================] - 0s 28ms/step - loss: 0.6421 - accuracy: 0.6922\n",
      "Epoch 90/500\n",
      "15/15 [==============================] - 0s 26ms/step - loss: 0.6416 - accuracy: 0.6943\n",
      "Epoch 91/500\n",
      "15/15 [==============================] - 0s 27ms/step - loss: 0.6411 - accuracy: 0.6950\n",
      "Epoch 92/500\n",
      "15/15 [==============================] - 0s 29ms/step - loss: 0.6406 - accuracy: 0.6950\n",
      "Epoch 93/500\n",
      "15/15 [==============================] - 0s 26ms/step - loss: 0.6400 - accuracy: 0.6957\n",
      "Epoch 94/500\n",
      "15/15 [==============================] - 0s 28ms/step - loss: 0.6396 - accuracy: 0.6929\n",
      "Epoch 95/500\n",
      "15/15 [==============================] - 0s 28ms/step - loss: 0.6390 - accuracy: 0.6908\n",
      "Epoch 96/500\n",
      "15/15 [==============================] - 0s 27ms/step - loss: 0.6386 - accuracy: 0.6908\n",
      "Epoch 97/500\n",
      "15/15 [==============================] - 0s 29ms/step - loss: 0.6380 - accuracy: 0.6950\n",
      "Epoch 98/500\n",
      "15/15 [==============================] - 0s 32ms/step - loss: 0.6375 - accuracy: 0.6943\n",
      "Epoch 99/500\n",
      "15/15 [==============================] - 1s 36ms/step - loss: 0.6371 - accuracy: 0.6908\n",
      "Epoch 100/500\n",
      "15/15 [==============================] - 0s 32ms/step - loss: 0.6365 - accuracy: 0.6922\n",
      "Epoch 101/500\n",
      "15/15 [==============================] - 0s 26ms/step - loss: 0.6360 - accuracy: 0.6950\n",
      "Epoch 102/500\n",
      "15/15 [==============================] - 0s 26ms/step - loss: 0.6356 - accuracy: 0.6929\n",
      "Epoch 103/500\n",
      "15/15 [==============================] - 0s 26ms/step - loss: 0.6350 - accuracy: 0.6936\n",
      "Epoch 104/500\n",
      "15/15 [==============================] - 0s 27ms/step - loss: 0.6345 - accuracy: 0.6950\n",
      "Epoch 105/500\n",
      "15/15 [==============================] - 0s 27ms/step - loss: 0.6342 - accuracy: 0.6929\n",
      "Epoch 106/500\n",
      "15/15 [==============================] - 0s 26ms/step - loss: 0.6335 - accuracy: 0.6936\n",
      "Epoch 107/500\n",
      "15/15 [==============================] - 0s 27ms/step - loss: 0.6331 - accuracy: 0.6970\n",
      "Epoch 108/500\n",
      "15/15 [==============================] - 0s 27ms/step - loss: 0.6326 - accuracy: 0.6977\n",
      "Epoch 109/500\n",
      "15/15 [==============================] - 0s 28ms/step - loss: 0.6321 - accuracy: 0.6970\n",
      "Epoch 110/500\n",
      "15/15 [==============================] - 0s 26ms/step - loss: 0.6317 - accuracy: 0.6936\n",
      "Epoch 111/500\n",
      "15/15 [==============================] - 0s 26ms/step - loss: 0.6312 - accuracy: 0.6936\n",
      "Epoch 112/500\n",
      "15/15 [==============================] - 0s 26ms/step - loss: 0.6306 - accuracy: 0.6950\n",
      "Epoch 113/500\n",
      "15/15 [==============================] - 0s 27ms/step - loss: 0.6302 - accuracy: 0.6963\n",
      "Epoch 114/500\n",
      "15/15 [==============================] - 0s 27ms/step - loss: 0.6298 - accuracy: 0.6977\n",
      "Epoch 115/500\n",
      "15/15 [==============================] - 0s 26ms/step - loss: 0.6292 - accuracy: 0.6950\n",
      "Epoch 116/500\n",
      "15/15 [==============================] - 0s 27ms/step - loss: 0.6288 - accuracy: 0.6963\n",
      "Epoch 117/500\n",
      "15/15 [==============================] - 0s 26ms/step - loss: 0.6283 - accuracy: 0.6963\n",
      "Epoch 118/500\n",
      "15/15 [==============================] - 0s 27ms/step - loss: 0.6278 - accuracy: 0.6957\n",
      "Epoch 119/500\n",
      "15/15 [==============================] - 0s 27ms/step - loss: 0.6273 - accuracy: 0.6977\n",
      "Epoch 120/500\n",
      "15/15 [==============================] - 0s 29ms/step - loss: 0.6269 - accuracy: 0.6950\n",
      "Epoch 121/500\n",
      "15/15 [==============================] - 0s 27ms/step - loss: 0.6263 - accuracy: 0.6950\n",
      "Epoch 122/500\n",
      "15/15 [==============================] - 0s 27ms/step - loss: 0.6259 - accuracy: 0.6970\n",
      "Epoch 123/500\n",
      "15/15 [==============================] - 0s 29ms/step - loss: 0.6254 - accuracy: 0.6970\n",
      "Epoch 124/500\n",
      "15/15 [==============================] - 0s 28ms/step - loss: 0.6250 - accuracy: 0.6970\n",
      "Epoch 125/500\n",
      "15/15 [==============================] - 0s 27ms/step - loss: 0.6244 - accuracy: 0.6977\n",
      "Epoch 126/500\n",
      "15/15 [==============================] - 0s 28ms/step - loss: 0.6239 - accuracy: 0.6970\n",
      "Epoch 127/500\n",
      "15/15 [==============================] - 0s 29ms/step - loss: 0.6235 - accuracy: 0.6984\n",
      "Epoch 128/500\n",
      "15/15 [==============================] - 0s 27ms/step - loss: 0.6230 - accuracy: 0.6998\n",
      "Epoch 129/500\n",
      "15/15 [==============================] - 0s 28ms/step - loss: 0.6225 - accuracy: 0.6963\n",
      "Epoch 130/500\n",
      "15/15 [==============================] - 0s 26ms/step - loss: 0.6220 - accuracy: 0.6998\n",
      "Epoch 131/500\n",
      "15/15 [==============================] - 0s 26ms/step - loss: 0.6215 - accuracy: 0.7005\n",
      "Epoch 132/500\n",
      "15/15 [==============================] - 0s 27ms/step - loss: 0.6211 - accuracy: 0.6970\n",
      "Epoch 133/500\n",
      "15/15 [==============================] - 0s 26ms/step - loss: 0.6205 - accuracy: 0.6998\n",
      "Epoch 134/500\n",
      "15/15 [==============================] - 0s 26ms/step - loss: 0.6200 - accuracy: 0.7019\n",
      "Epoch 135/500\n",
      "15/15 [==============================] - 0s 27ms/step - loss: 0.6195 - accuracy: 0.7032\n",
      "Epoch 136/500\n",
      "15/15 [==============================] - 0s 27ms/step - loss: 0.6191 - accuracy: 0.7019\n",
      "Epoch 137/500\n",
      "15/15 [==============================] - 0s 27ms/step - loss: 0.6187 - accuracy: 0.7026\n",
      "Epoch 138/500\n",
      "15/15 [==============================] - 0s 27ms/step - loss: 0.6181 - accuracy: 0.7026\n",
      "Epoch 139/500\n",
      "15/15 [==============================] - 0s 26ms/step - loss: 0.6175 - accuracy: 0.7019\n",
      "Epoch 140/500\n",
      "15/15 [==============================] - 0s 26ms/step - loss: 0.6171 - accuracy: 0.6991\n",
      "Epoch 141/500\n",
      "15/15 [==============================] - 0s 26ms/step - loss: 0.6166 - accuracy: 0.7005\n",
      "Epoch 142/500\n",
      "15/15 [==============================] - 0s 26ms/step - loss: 0.6160 - accuracy: 0.7012\n",
      "Epoch 143/500\n",
      "15/15 [==============================] - 0s 27ms/step - loss: 0.6155 - accuracy: 0.7005\n",
      "Epoch 144/500\n",
      "15/15 [==============================] - 0s 28ms/step - loss: 0.6151 - accuracy: 0.7019\n",
      "Epoch 145/500\n",
      "15/15 [==============================] - 0s 27ms/step - loss: 0.6144 - accuracy: 0.7039\n",
      "Epoch 146/500\n",
      "15/15 [==============================] - 0s 28ms/step - loss: 0.6140 - accuracy: 0.7019\n",
      "Epoch 147/500\n",
      "15/15 [==============================] - 0s 29ms/step - loss: 0.6133 - accuracy: 0.7039\n",
      "Epoch 148/500\n",
      "15/15 [==============================] - 0s 28ms/step - loss: 0.6129 - accuracy: 0.6998\n",
      "Epoch 149/500\n",
      "15/15 [==============================] - 0s 27ms/step - loss: 0.6123 - accuracy: 0.6998\n",
      "Epoch 150/500\n",
      "15/15 [==============================] - 0s 27ms/step - loss: 0.6118 - accuracy: 0.7019\n",
      "Epoch 151/500\n",
      "15/15 [==============================] - 0s 27ms/step - loss: 0.6112 - accuracy: 0.7032\n",
      "Epoch 152/500\n",
      "15/15 [==============================] - 0s 29ms/step - loss: 0.6106 - accuracy: 0.7026\n",
      "Epoch 153/500\n",
      "15/15 [==============================] - 0s 28ms/step - loss: 0.6103 - accuracy: 0.7053\n",
      "Epoch 154/500\n",
      "15/15 [==============================] - 0s 26ms/step - loss: 0.6097 - accuracy: 0.7019\n",
      "Epoch 155/500\n",
      "15/15 [==============================] - 0s 26ms/step - loss: 0.6090 - accuracy: 0.6998\n",
      "Epoch 156/500\n",
      "15/15 [==============================] - 0s 27ms/step - loss: 0.6083 - accuracy: 0.7039\n",
      "Epoch 157/500\n",
      "15/15 [==============================] - 0s 26ms/step - loss: 0.6078 - accuracy: 0.7053\n",
      "Epoch 158/500\n",
      "15/15 [==============================] - 0s 27ms/step - loss: 0.6071 - accuracy: 0.7081\n",
      "Epoch 159/500\n",
      "15/15 [==============================] - 0s 27ms/step - loss: 0.6065 - accuracy: 0.7074\n",
      "Epoch 160/500\n",
      "15/15 [==============================] - 0s 27ms/step - loss: 0.6061 - accuracy: 0.7081\n",
      "Epoch 161/500\n",
      "15/15 [==============================] - 0s 28ms/step - loss: 0.6053 - accuracy: 0.7095\n",
      "Epoch 162/500\n",
      "15/15 [==============================] - 0s 27ms/step - loss: 0.6048 - accuracy: 0.7053\n",
      "Epoch 163/500\n",
      "15/15 [==============================] - 0s 28ms/step - loss: 0.6041 - accuracy: 0.7060\n",
      "Epoch 164/500\n",
      "15/15 [==============================] - 0s 28ms/step - loss: 0.6034 - accuracy: 0.7060\n",
      "Epoch 165/500\n",
      "15/15 [==============================] - 0s 27ms/step - loss: 0.6027 - accuracy: 0.7060\n",
      "Epoch 166/500\n",
      "15/15 [==============================] - 0s 27ms/step - loss: 0.6023 - accuracy: 0.7088\n",
      "Epoch 167/500\n",
      "15/15 [==============================] - 0s 31ms/step - loss: 0.6013 - accuracy: 0.7081\n",
      "Epoch 168/500\n",
      "15/15 [==============================] - 0s 28ms/step - loss: 0.6006 - accuracy: 0.7081\n",
      "Epoch 169/500\n",
      "15/15 [==============================] - 0s 28ms/step - loss: 0.6000 - accuracy: 0.7060\n",
      "Epoch 170/500\n",
      "15/15 [==============================] - 0s 26ms/step - loss: 0.5993 - accuracy: 0.7060\n",
      "Epoch 171/500\n",
      "15/15 [==============================] - 0s 28ms/step - loss: 0.5986 - accuracy: 0.7081\n",
      "Epoch 172/500\n",
      "15/15 [==============================] - 0s 26ms/step - loss: 0.5977 - accuracy: 0.7101\n",
      "Epoch 173/500\n",
      "15/15 [==============================] - 0s 26ms/step - loss: 0.5970 - accuracy: 0.7095\n",
      "Epoch 174/500\n",
      "15/15 [==============================] - 0s 27ms/step - loss: 0.5962 - accuracy: 0.7095\n",
      "Epoch 175/500\n",
      "15/15 [==============================] - 0s 27ms/step - loss: 0.5956 - accuracy: 0.7081\n",
      "Epoch 176/500\n",
      "15/15 [==============================] - 0s 27ms/step - loss: 0.5949 - accuracy: 0.7136\n",
      "Epoch 177/500\n",
      "15/15 [==============================] - 0s 26ms/step - loss: 0.5940 - accuracy: 0.7212\n",
      "Epoch 178/500\n",
      "15/15 [==============================] - 0s 26ms/step - loss: 0.5929 - accuracy: 0.7157\n",
      "Epoch 179/500\n",
      "15/15 [==============================] - 0s 27ms/step - loss: 0.5921 - accuracy: 0.7108\n",
      "Epoch 180/500\n",
      "15/15 [==============================] - 1s 47ms/step - loss: 0.5914 - accuracy: 0.7108\n",
      "Epoch 181/500\n",
      "15/15 [==============================] - 1s 35ms/step - loss: 0.5906 - accuracy: 0.7115\n",
      "Epoch 182/500\n",
      "15/15 [==============================] - 0s 31ms/step - loss: 0.5894 - accuracy: 0.7143\n",
      "Epoch 183/500\n",
      "15/15 [==============================] - 0s 31ms/step - loss: 0.5888 - accuracy: 0.7239\n",
      "Epoch 184/500\n",
      "15/15 [==============================] - 0s 29ms/step - loss: 0.5878 - accuracy: 0.7226\n",
      "Epoch 185/500\n",
      "15/15 [==============================] - 0s 28ms/step - loss: 0.5871 - accuracy: 0.7233\n",
      "Epoch 186/500\n",
      "15/15 [==============================] - 0s 30ms/step - loss: 0.5858 - accuracy: 0.7198\n",
      "Epoch 187/500\n",
      "15/15 [==============================] - 0s 28ms/step - loss: 0.5850 - accuracy: 0.7177\n",
      "Epoch 188/500\n",
      "15/15 [==============================] - 0s 29ms/step - loss: 0.5843 - accuracy: 0.7150\n",
      "Epoch 189/500\n",
      "15/15 [==============================] - 0s 30ms/step - loss: 0.5831 - accuracy: 0.7219\n",
      "Epoch 190/500\n",
      "15/15 [==============================] - 0s 29ms/step - loss: 0.5820 - accuracy: 0.7281\n",
      "Epoch 191/500\n",
      "15/15 [==============================] - 0s 31ms/step - loss: 0.5809 - accuracy: 0.7226\n",
      "Epoch 192/500\n",
      "15/15 [==============================] - 1s 34ms/step - loss: 0.5799 - accuracy: 0.7253\n",
      "Epoch 193/500\n",
      "15/15 [==============================] - 1s 37ms/step - loss: 0.5787 - accuracy: 0.7233\n",
      "Epoch 194/500\n",
      "15/15 [==============================] - 0s 28ms/step - loss: 0.5777 - accuracy: 0.7233\n",
      "Epoch 195/500\n",
      "15/15 [==============================] - 0s 29ms/step - loss: 0.5766 - accuracy: 0.7239\n",
      "Epoch 196/500\n",
      "15/15 [==============================] - 0s 27ms/step - loss: 0.5754 - accuracy: 0.7281\n",
      "Epoch 197/500\n",
      "15/15 [==============================] - 0s 28ms/step - loss: 0.5742 - accuracy: 0.7308\n",
      "Epoch 198/500\n",
      "15/15 [==============================] - 0s 29ms/step - loss: 0.5729 - accuracy: 0.7308\n",
      "Epoch 199/500\n",
      "15/15 [==============================] - 0s 30ms/step - loss: 0.5718 - accuracy: 0.7329\n",
      "Epoch 200/500\n",
      "15/15 [==============================] - 0s 29ms/step - loss: 0.5706 - accuracy: 0.7288\n",
      "Epoch 201/500\n",
      "15/15 [==============================] - 0s 29ms/step - loss: 0.5693 - accuracy: 0.7295\n",
      "Epoch 202/500\n",
      "15/15 [==============================] - 0s 29ms/step - loss: 0.5681 - accuracy: 0.7308\n",
      "Epoch 203/500\n",
      "15/15 [==============================] - 0s 27ms/step - loss: 0.5670 - accuracy: 0.7350\n",
      "Epoch 204/500\n",
      "15/15 [==============================] - 0s 27ms/step - loss: 0.5655 - accuracy: 0.7364\n",
      "Epoch 205/500\n",
      "15/15 [==============================] - 0s 28ms/step - loss: 0.5640 - accuracy: 0.7357\n",
      "Epoch 206/500\n",
      "15/15 [==============================] - 0s 27ms/step - loss: 0.5628 - accuracy: 0.7350\n",
      "Epoch 207/500\n",
      "15/15 [==============================] - 0s 27ms/step - loss: 0.5614 - accuracy: 0.7371\n",
      "Epoch 208/500\n",
      "15/15 [==============================] - 0s 27ms/step - loss: 0.5599 - accuracy: 0.7357\n",
      "Epoch 209/500\n",
      "15/15 [==============================] - 0s 28ms/step - loss: 0.5585 - accuracy: 0.7384\n",
      "Epoch 210/500\n",
      "15/15 [==============================] - 0s 28ms/step - loss: 0.5570 - accuracy: 0.7412\n",
      "Epoch 211/500\n",
      "15/15 [==============================] - 0s 30ms/step - loss: 0.5557 - accuracy: 0.7384\n",
      "Epoch 212/500\n",
      "15/15 [==============================] - 0s 29ms/step - loss: 0.5540 - accuracy: 0.7371\n",
      "Epoch 213/500\n",
      "15/15 [==============================] - 0s 31ms/step - loss: 0.5526 - accuracy: 0.7467\n",
      "Epoch 214/500\n",
      "15/15 [==============================] - 0s 30ms/step - loss: 0.5514 - accuracy: 0.7488\n",
      "Epoch 215/500\n",
      "15/15 [==============================] - 0s 30ms/step - loss: 0.5496 - accuracy: 0.7467\n",
      "Epoch 216/500\n",
      "15/15 [==============================] - 0s 28ms/step - loss: 0.5482 - accuracy: 0.7419\n",
      "Epoch 217/500\n",
      "15/15 [==============================] - 0s 28ms/step - loss: 0.5465 - accuracy: 0.7447\n",
      "Epoch 218/500\n",
      "15/15 [==============================] - 0s 30ms/step - loss: 0.5450 - accuracy: 0.7481\n",
      "Epoch 219/500\n",
      "15/15 [==============================] - 1s 34ms/step - loss: 0.5436 - accuracy: 0.7474\n",
      "Epoch 220/500\n",
      "15/15 [==============================] - 0s 29ms/step - loss: 0.5423 - accuracy: 0.7453\n",
      "Epoch 221/500\n",
      "15/15 [==============================] - 0s 27ms/step - loss: 0.5406 - accuracy: 0.7495\n",
      "Epoch 222/500\n",
      "15/15 [==============================] - 0s 28ms/step - loss: 0.5393 - accuracy: 0.7467\n",
      "Epoch 223/500\n",
      "15/15 [==============================] - 0s 29ms/step - loss: 0.5373 - accuracy: 0.7516\n",
      "Epoch 224/500\n",
      "15/15 [==============================] - 0s 28ms/step - loss: 0.5359 - accuracy: 0.7536\n",
      "Epoch 225/500\n",
      "15/15 [==============================] - 0s 28ms/step - loss: 0.5344 - accuracy: 0.7522\n",
      "Epoch 226/500\n",
      "15/15 [==============================] - 0s 28ms/step - loss: 0.5327 - accuracy: 0.7543\n",
      "Epoch 227/500\n",
      "15/15 [==============================] - 0s 29ms/step - loss: 0.5312 - accuracy: 0.7550\n",
      "Epoch 228/500\n",
      "15/15 [==============================] - 0s 28ms/step - loss: 0.5300 - accuracy: 0.7557\n",
      "Epoch 229/500\n",
      "15/15 [==============================] - 0s 29ms/step - loss: 0.5281 - accuracy: 0.7578\n",
      "Epoch 230/500\n",
      "15/15 [==============================] - 0s 31ms/step - loss: 0.5269 - accuracy: 0.7550\n",
      "Epoch 231/500\n",
      "15/15 [==============================] - 0s 28ms/step - loss: 0.5253 - accuracy: 0.7578\n",
      "Epoch 232/500\n",
      "15/15 [==============================] - 0s 28ms/step - loss: 0.5238 - accuracy: 0.7591\n",
      "Epoch 233/500\n",
      "15/15 [==============================] - 0s 27ms/step - loss: 0.5222 - accuracy: 0.7571\n",
      "Epoch 234/500\n",
      "15/15 [==============================] - 0s 27ms/step - loss: 0.5207 - accuracy: 0.7571\n",
      "Epoch 235/500\n",
      "15/15 [==============================] - 0s 29ms/step - loss: 0.5193 - accuracy: 0.7591\n",
      "Epoch 236/500\n",
      "15/15 [==============================] - 0s 28ms/step - loss: 0.5178 - accuracy: 0.7674\n",
      "Epoch 237/500\n",
      "15/15 [==============================] - 0s 28ms/step - loss: 0.5160 - accuracy: 0.7640\n",
      "Epoch 238/500\n",
      "15/15 [==============================] - 0s 29ms/step - loss: 0.5150 - accuracy: 0.7626\n",
      "Epoch 239/500\n",
      "15/15 [==============================] - 0s 29ms/step - loss: 0.5135 - accuracy: 0.7667\n",
      "Epoch 240/500\n",
      "15/15 [==============================] - 0s 27ms/step - loss: 0.5121 - accuracy: 0.7674\n",
      "Epoch 241/500\n",
      "15/15 [==============================] - 0s 27ms/step - loss: 0.5109 - accuracy: 0.7667\n",
      "Epoch 242/500\n",
      "15/15 [==============================] - 0s 28ms/step - loss: 0.5103 - accuracy: 0.7716\n",
      "Epoch 243/500\n",
      "15/15 [==============================] - 0s 29ms/step - loss: 0.5081 - accuracy: 0.7674\n",
      "Epoch 244/500\n",
      "15/15 [==============================] - 0s 28ms/step - loss: 0.5068 - accuracy: 0.7723\n",
      "Epoch 245/500\n",
      "15/15 [==============================] - 0s 27ms/step - loss: 0.5053 - accuracy: 0.7716\n",
      "Epoch 246/500\n",
      "15/15 [==============================] - 0s 28ms/step - loss: 0.5038 - accuracy: 0.7729\n",
      "Epoch 247/500\n",
      "15/15 [==============================] - 0s 29ms/step - loss: 0.5026 - accuracy: 0.7764\n",
      "Epoch 248/500\n",
      "15/15 [==============================] - 0s 28ms/step - loss: 0.5013 - accuracy: 0.7757\n",
      "Epoch 249/500\n",
      "15/15 [==============================] - 0s 28ms/step - loss: 0.5012 - accuracy: 0.7702\n",
      "Epoch 250/500\n",
      "15/15 [==============================] - 0s 28ms/step - loss: 0.4985 - accuracy: 0.7792\n",
      "Epoch 251/500\n",
      "15/15 [==============================] - 0s 28ms/step - loss: 0.4978 - accuracy: 0.7785\n",
      "Epoch 252/500\n",
      "15/15 [==============================] - 0s 27ms/step - loss: 0.4966 - accuracy: 0.7792\n",
      "Epoch 253/500\n",
      "15/15 [==============================] - 0s 28ms/step - loss: 0.4950 - accuracy: 0.7771\n",
      "Epoch 254/500\n",
      "15/15 [==============================] - 0s 28ms/step - loss: 0.4942 - accuracy: 0.7785\n",
      "Epoch 255/500\n",
      "15/15 [==============================] - 0s 28ms/step - loss: 0.4928 - accuracy: 0.7792\n",
      "Epoch 256/500\n",
      "15/15 [==============================] - 0s 28ms/step - loss: 0.4918 - accuracy: 0.7826\n",
      "Epoch 257/500\n",
      "15/15 [==============================] - 0s 28ms/step - loss: 0.4911 - accuracy: 0.7778\n",
      "Epoch 258/500\n",
      "15/15 [==============================] - 0s 28ms/step - loss: 0.4891 - accuracy: 0.7798\n",
      "Epoch 259/500\n",
      "15/15 [==============================] - 0s 30ms/step - loss: 0.4886 - accuracy: 0.7819\n",
      "Epoch 260/500\n",
      "15/15 [==============================] - 0s 28ms/step - loss: 0.4873 - accuracy: 0.7826\n",
      "Epoch 261/500\n",
      "15/15 [==============================] - 0s 28ms/step - loss: 0.4860 - accuracy: 0.7819\n",
      "Epoch 262/500\n",
      "15/15 [==============================] - 0s 28ms/step - loss: 0.4855 - accuracy: 0.7798\n",
      "Epoch 263/500\n",
      "15/15 [==============================] - 0s 29ms/step - loss: 0.4840 - accuracy: 0.7826\n",
      "Epoch 264/500\n",
      "15/15 [==============================] - 0s 28ms/step - loss: 0.4844 - accuracy: 0.7771\n",
      "Epoch 265/500\n",
      "15/15 [==============================] - 0s 28ms/step - loss: 0.4821 - accuracy: 0.7798\n",
      "Epoch 266/500\n",
      "15/15 [==============================] - 0s 28ms/step - loss: 0.4819 - accuracy: 0.7792\n",
      "Epoch 267/500\n",
      "15/15 [==============================] - 0s 28ms/step - loss: 0.4810 - accuracy: 0.7812\n",
      "Epoch 268/500\n",
      "15/15 [==============================] - 0s 28ms/step - loss: 0.4786 - accuracy: 0.7812\n",
      "Epoch 269/500\n",
      "15/15 [==============================] - 0s 28ms/step - loss: 0.4783 - accuracy: 0.7833\n",
      "Epoch 270/500\n",
      "15/15 [==============================] - 0s 28ms/step - loss: 0.4776 - accuracy: 0.7826\n",
      "Epoch 271/500\n",
      "15/15 [==============================] - 0s 28ms/step - loss: 0.4759 - accuracy: 0.7840\n",
      "Epoch 272/500\n",
      "15/15 [==============================] - 0s 28ms/step - loss: 0.4756 - accuracy: 0.7833\n",
      "Epoch 273/500\n",
      "15/15 [==============================] - 0s 28ms/step - loss: 0.4742 - accuracy: 0.7826\n",
      "Epoch 274/500\n",
      "15/15 [==============================] - 0s 28ms/step - loss: 0.4733 - accuracy: 0.7840\n",
      "Epoch 275/500\n",
      "15/15 [==============================] - 0s 27ms/step - loss: 0.4724 - accuracy: 0.7833\n",
      "Epoch 276/500\n",
      "15/15 [==============================] - 0s 28ms/step - loss: 0.4715 - accuracy: 0.7847\n",
      "Epoch 277/500\n",
      "15/15 [==============================] - 0s 27ms/step - loss: 0.4705 - accuracy: 0.7847\n",
      "Epoch 278/500\n",
      "15/15 [==============================] - 0s 28ms/step - loss: 0.4700 - accuracy: 0.7805\n",
      "Epoch 279/500\n",
      "15/15 [==============================] - 0s 27ms/step - loss: 0.4691 - accuracy: 0.7847\n",
      "Epoch 280/500\n",
      "15/15 [==============================] - 0s 28ms/step - loss: 0.4681 - accuracy: 0.7833\n",
      "Epoch 281/500\n",
      "15/15 [==============================] - 0s 31ms/step - loss: 0.4673 - accuracy: 0.7798\n",
      "Epoch 282/500\n",
      "15/15 [==============================] - 1s 35ms/step - loss: 0.4666 - accuracy: 0.7826\n",
      "Epoch 283/500\n",
      "15/15 [==============================] - 0s 32ms/step - loss: 0.4655 - accuracy: 0.7826\n",
      "Epoch 284/500\n",
      "15/15 [==============================] - 0s 27ms/step - loss: 0.4659 - accuracy: 0.7819\n",
      "Epoch 285/500\n",
      "15/15 [==============================] - 0s 26ms/step - loss: 0.4645 - accuracy: 0.7874\n",
      "Epoch 286/500\n",
      "15/15 [==============================] - 0s 27ms/step - loss: 0.4630 - accuracy: 0.7819\n",
      "Epoch 287/500\n",
      "15/15 [==============================] - 0s 27ms/step - loss: 0.4625 - accuracy: 0.7805\n",
      "Epoch 288/500\n",
      "15/15 [==============================] - 0s 28ms/step - loss: 0.4612 - accuracy: 0.7847\n",
      "Epoch 289/500\n",
      "15/15 [==============================] - 0s 28ms/step - loss: 0.4607 - accuracy: 0.7812\n",
      "Epoch 290/500\n",
      "15/15 [==============================] - 0s 27ms/step - loss: 0.4596 - accuracy: 0.7840\n",
      "Epoch 291/500\n",
      "15/15 [==============================] - 0s 29ms/step - loss: 0.4592 - accuracy: 0.7847\n",
      "Epoch 292/500\n",
      "15/15 [==============================] - 0s 28ms/step - loss: 0.4583 - accuracy: 0.7833\n",
      "Epoch 293/500\n",
      "15/15 [==============================] - 0s 28ms/step - loss: 0.4572 - accuracy: 0.7833\n",
      "Epoch 294/500\n",
      "15/15 [==============================] - 0s 28ms/step - loss: 0.4564 - accuracy: 0.7833\n",
      "Epoch 295/500\n",
      "15/15 [==============================] - 0s 27ms/step - loss: 0.4555 - accuracy: 0.7847\n",
      "Epoch 296/500\n",
      "15/15 [==============================] - 0s 27ms/step - loss: 0.4562 - accuracy: 0.7840\n",
      "Epoch 297/500\n",
      "15/15 [==============================] - 0s 27ms/step - loss: 0.4554 - accuracy: 0.7854\n",
      "Epoch 298/500\n",
      "15/15 [==============================] - 0s 26ms/step - loss: 0.4527 - accuracy: 0.7840\n",
      "Epoch 299/500\n",
      "15/15 [==============================] - 0s 26ms/step - loss: 0.4532 - accuracy: 0.7861\n",
      "Epoch 300/500\n",
      "15/15 [==============================] - 0s 27ms/step - loss: 0.4514 - accuracy: 0.7833\n",
      "Epoch 301/500\n",
      "15/15 [==============================] - 0s 27ms/step - loss: 0.4506 - accuracy: 0.7840\n",
      "Epoch 302/500\n",
      "15/15 [==============================] - 0s 27ms/step - loss: 0.4497 - accuracy: 0.7854\n",
      "Epoch 303/500\n",
      "15/15 [==============================] - 0s 26ms/step - loss: 0.4488 - accuracy: 0.7867\n",
      "Epoch 304/500\n",
      "15/15 [==============================] - 0s 27ms/step - loss: 0.4479 - accuracy: 0.7854\n",
      "Epoch 305/500\n",
      "15/15 [==============================] - 0s 27ms/step - loss: 0.4466 - accuracy: 0.7840\n",
      "Epoch 306/500\n",
      "15/15 [==============================] - 0s 27ms/step - loss: 0.4461 - accuracy: 0.7847\n",
      "Epoch 307/500\n",
      "15/15 [==============================] - 0s 26ms/step - loss: 0.4446 - accuracy: 0.7854\n",
      "Epoch 308/500\n",
      "15/15 [==============================] - 0s 29ms/step - loss: 0.4441 - accuracy: 0.7854\n",
      "Epoch 309/500\n",
      "15/15 [==============================] - 0s 28ms/step - loss: 0.4428 - accuracy: 0.7867\n",
      "Epoch 310/500\n",
      "15/15 [==============================] - 0s 28ms/step - loss: 0.4419 - accuracy: 0.7867\n",
      "Epoch 311/500\n",
      "15/15 [==============================] - 0s 27ms/step - loss: 0.4405 - accuracy: 0.7874\n",
      "Epoch 312/500\n",
      "15/15 [==============================] - 0s 27ms/step - loss: 0.4408 - accuracy: 0.7909\n",
      "Epoch 313/500\n",
      "15/15 [==============================] - 0s 26ms/step - loss: 0.4396 - accuracy: 0.7867\n",
      "Epoch 314/500\n",
      "15/15 [==============================] - 0s 28ms/step - loss: 0.4380 - accuracy: 0.7916\n",
      "Epoch 315/500\n",
      "15/15 [==============================] - 0s 27ms/step - loss: 0.4367 - accuracy: 0.7909\n",
      "Epoch 316/500\n",
      "15/15 [==============================] - 0s 27ms/step - loss: 0.4355 - accuracy: 0.7909\n",
      "Epoch 317/500\n",
      "15/15 [==============================] - 0s 27ms/step - loss: 0.4348 - accuracy: 0.7881\n",
      "Epoch 318/500\n",
      "15/15 [==============================] - 0s 28ms/step - loss: 0.4331 - accuracy: 0.7888\n",
      "Epoch 319/500\n",
      "15/15 [==============================] - 0s 30ms/step - loss: 0.4327 - accuracy: 0.7881\n",
      "Epoch 320/500\n",
      "15/15 [==============================] - 0s 26ms/step - loss: 0.4313 - accuracy: 0.7916\n",
      "Epoch 321/500\n",
      "15/15 [==============================] - 0s 27ms/step - loss: 0.4297 - accuracy: 0.7923\n",
      "Epoch 322/500\n",
      "15/15 [==============================] - 0s 27ms/step - loss: 0.4284 - accuracy: 0.7943\n",
      "Epoch 323/500\n",
      "15/15 [==============================] - 0s 28ms/step - loss: 0.4275 - accuracy: 0.7937\n",
      "Epoch 324/500\n",
      "15/15 [==============================] - 0s 27ms/step - loss: 0.4264 - accuracy: 0.7964\n",
      "Epoch 325/500\n",
      "15/15 [==============================] - 0s 27ms/step - loss: 0.4254 - accuracy: 0.7978\n",
      "Epoch 326/500\n",
      "15/15 [==============================] - 0s 28ms/step - loss: 0.4238 - accuracy: 0.8026\n",
      "Epoch 327/500\n",
      "15/15 [==============================] - 0s 29ms/step - loss: 0.4225 - accuracy: 0.8054\n",
      "Epoch 328/500\n",
      "15/15 [==============================] - 0s 29ms/step - loss: 0.4221 - accuracy: 0.8075\n",
      "Epoch 329/500\n",
      "15/15 [==============================] - 0s 28ms/step - loss: 0.4203 - accuracy: 0.8144\n",
      "Epoch 330/500\n",
      "15/15 [==============================] - 0s 28ms/step - loss: 0.4196 - accuracy: 0.8164\n",
      "Epoch 331/500\n",
      "15/15 [==============================] - 0s 28ms/step - loss: 0.4206 - accuracy: 0.8206\n",
      "Epoch 332/500\n",
      "15/15 [==============================] - 0s 27ms/step - loss: 0.4184 - accuracy: 0.8185\n",
      "Epoch 333/500\n",
      "15/15 [==============================] - 0s 27ms/step - loss: 0.4153 - accuracy: 0.8275\n",
      "Epoch 334/500\n",
      "15/15 [==============================] - 0s 27ms/step - loss: 0.4150 - accuracy: 0.8275\n",
      "Epoch 335/500\n",
      "15/15 [==============================] - 0s 28ms/step - loss: 0.4137 - accuracy: 0.8268\n",
      "Epoch 336/500\n",
      "15/15 [==============================] - 0s 27ms/step - loss: 0.4131 - accuracy: 0.8275\n",
      "Epoch 337/500\n",
      "15/15 [==============================] - 0s 30ms/step - loss: 0.4115 - accuracy: 0.8330\n",
      "Epoch 338/500\n",
      "15/15 [==============================] - 0s 28ms/step - loss: 0.4115 - accuracy: 0.8344\n",
      "Epoch 339/500\n",
      "15/15 [==============================] - 0s 27ms/step - loss: 0.4111 - accuracy: 0.8302\n",
      "Epoch 340/500\n",
      "15/15 [==============================] - 0s 28ms/step - loss: 0.4082 - accuracy: 0.8337\n",
      "Epoch 341/500\n",
      "15/15 [==============================] - 0s 29ms/step - loss: 0.4081 - accuracy: 0.8357\n",
      "Epoch 342/500\n",
      "15/15 [==============================] - 0s 29ms/step - loss: 0.4073 - accuracy: 0.8357\n",
      "Epoch 343/500\n",
      "15/15 [==============================] - 0s 28ms/step - loss: 0.4065 - accuracy: 0.8364\n",
      "Epoch 344/500\n",
      "15/15 [==============================] - 0s 28ms/step - loss: 0.4052 - accuracy: 0.8364\n",
      "Epoch 345/500\n",
      "15/15 [==============================] - 0s 28ms/step - loss: 0.4054 - accuracy: 0.8357\n",
      "Epoch 346/500\n",
      "15/15 [==============================] - 0s 28ms/step - loss: 0.4047 - accuracy: 0.8385\n",
      "Epoch 347/500\n",
      "15/15 [==============================] - 0s 27ms/step - loss: 0.4045 - accuracy: 0.8378\n",
      "Epoch 348/500\n",
      "15/15 [==============================] - 0s 29ms/step - loss: 0.4036 - accuracy: 0.8378\n",
      "Epoch 349/500\n",
      "15/15 [==============================] - 0s 27ms/step - loss: 0.4030 - accuracy: 0.8406\n",
      "Epoch 350/500\n",
      "15/15 [==============================] - 0s 29ms/step - loss: 0.4013 - accuracy: 0.8433\n",
      "Epoch 351/500\n",
      "15/15 [==============================] - 0s 29ms/step - loss: 0.4010 - accuracy: 0.8427\n",
      "Epoch 352/500\n",
      "15/15 [==============================] - 0s 29ms/step - loss: 0.4003 - accuracy: 0.8427\n",
      "Epoch 353/500\n",
      "15/15 [==============================] - 0s 27ms/step - loss: 0.4003 - accuracy: 0.8447\n",
      "Epoch 354/500\n",
      "15/15 [==============================] - 0s 29ms/step - loss: 0.4016 - accuracy: 0.8399\n",
      "Epoch 355/500\n",
      "15/15 [==============================] - 0s 28ms/step - loss: 0.3997 - accuracy: 0.8454\n",
      "Epoch 356/500\n",
      "15/15 [==============================] - 0s 28ms/step - loss: 0.3974 - accuracy: 0.8433\n",
      "Epoch 357/500\n",
      "15/15 [==============================] - 0s 28ms/step - loss: 0.3983 - accuracy: 0.8420\n",
      "Epoch 358/500\n",
      "15/15 [==============================] - 0s 29ms/step - loss: 0.3977 - accuracy: 0.8427\n",
      "Epoch 359/500\n",
      "15/15 [==============================] - 0s 29ms/step - loss: 0.3975 - accuracy: 0.8420\n",
      "Epoch 360/500\n",
      "15/15 [==============================] - 0s 30ms/step - loss: 0.3967 - accuracy: 0.8433\n",
      "Epoch 361/500\n",
      "15/15 [==============================] - 0s 28ms/step - loss: 0.3964 - accuracy: 0.8427\n",
      "Epoch 362/500\n",
      "15/15 [==============================] - 0s 29ms/step - loss: 0.3970 - accuracy: 0.8427\n",
      "Epoch 363/500\n",
      "15/15 [==============================] - 0s 29ms/step - loss: 0.3966 - accuracy: 0.8406\n",
      "Epoch 364/500\n",
      "15/15 [==============================] - 0s 28ms/step - loss: 0.3951 - accuracy: 0.8433\n",
      "Epoch 365/500\n",
      "15/15 [==============================] - 0s 28ms/step - loss: 0.3947 - accuracy: 0.8433\n",
      "Epoch 366/500\n",
      "15/15 [==============================] - 0s 27ms/step - loss: 0.3946 - accuracy: 0.8433\n",
      "Epoch 367/500\n",
      "15/15 [==============================] - 0s 29ms/step - loss: 0.3942 - accuracy: 0.8427\n",
      "Epoch 368/500\n",
      "15/15 [==============================] - 0s 28ms/step - loss: 0.3938 - accuracy: 0.8433\n",
      "Epoch 369/500\n",
      "15/15 [==============================] - 0s 28ms/step - loss: 0.3937 - accuracy: 0.8413\n",
      "Epoch 370/500\n",
      "15/15 [==============================] - 0s 27ms/step - loss: 0.3938 - accuracy: 0.8433\n",
      "Epoch 371/500\n",
      "15/15 [==============================] - 0s 31ms/step - loss: 0.3931 - accuracy: 0.8433\n",
      "Epoch 372/500\n",
      "15/15 [==============================] - 1s 36ms/step - loss: 0.3935 - accuracy: 0.8427\n",
      "Epoch 373/500\n",
      "15/15 [==============================] - 0s 28ms/step - loss: 0.3928 - accuracy: 0.8433\n",
      "Epoch 374/500\n",
      "15/15 [==============================] - 0s 28ms/step - loss: 0.3922 - accuracy: 0.8427\n",
      "Epoch 375/500\n",
      "15/15 [==============================] - 0s 28ms/step - loss: 0.3916 - accuracy: 0.8433\n",
      "Epoch 376/500\n",
      "15/15 [==============================] - 0s 27ms/step - loss: 0.3919 - accuracy: 0.8440\n",
      "Epoch 377/500\n",
      "15/15 [==============================] - 0s 26ms/step - loss: 0.3920 - accuracy: 0.8447\n",
      "Epoch 378/500\n",
      "15/15 [==============================] - 0s 28ms/step - loss: 0.3915 - accuracy: 0.8440\n",
      "Epoch 379/500\n",
      "15/15 [==============================] - 0s 29ms/step - loss: 0.3909 - accuracy: 0.8447\n",
      "Epoch 380/500\n",
      "15/15 [==============================] - 0s 28ms/step - loss: 0.3905 - accuracy: 0.8440\n",
      "Epoch 381/500\n",
      "15/15 [==============================] - 0s 29ms/step - loss: 0.3905 - accuracy: 0.8440\n",
      "Epoch 382/500\n",
      "15/15 [==============================] - 0s 28ms/step - loss: 0.3909 - accuracy: 0.8440\n",
      "Epoch 383/500\n",
      "15/15 [==============================] - 0s 28ms/step - loss: 0.3901 - accuracy: 0.8447\n",
      "Epoch 384/500\n",
      "15/15 [==============================] - 0s 28ms/step - loss: 0.3899 - accuracy: 0.8433\n",
      "Epoch 385/500\n",
      "15/15 [==============================] - 0s 28ms/step - loss: 0.3904 - accuracy: 0.8440\n",
      "Epoch 386/500\n",
      "15/15 [==============================] - 0s 29ms/step - loss: 0.3893 - accuracy: 0.8440\n",
      "Epoch 387/500\n",
      "15/15 [==============================] - 0s 28ms/step - loss: 0.3892 - accuracy: 0.8461\n",
      "Epoch 388/500\n",
      "15/15 [==============================] - 0s 28ms/step - loss: 0.3889 - accuracy: 0.8461\n",
      "Epoch 389/500\n",
      "15/15 [==============================] - 0s 29ms/step - loss: 0.3889 - accuracy: 0.8447\n",
      "Epoch 390/500\n",
      "15/15 [==============================] - 0s 28ms/step - loss: 0.3882 - accuracy: 0.8454\n",
      "Epoch 391/500\n",
      "15/15 [==============================] - 0s 29ms/step - loss: 0.3887 - accuracy: 0.8440\n",
      "Epoch 392/500\n",
      "15/15 [==============================] - 0s 29ms/step - loss: 0.3884 - accuracy: 0.8454\n",
      "Epoch 393/500\n",
      "15/15 [==============================] - 0s 28ms/step - loss: 0.3877 - accuracy: 0.8454\n",
      "Epoch 394/500\n",
      "15/15 [==============================] - 0s 28ms/step - loss: 0.3873 - accuracy: 0.8447\n",
      "Epoch 395/500\n",
      "15/15 [==============================] - 0s 27ms/step - loss: 0.3871 - accuracy: 0.8454\n",
      "Epoch 396/500\n",
      "15/15 [==============================] - 0s 28ms/step - loss: 0.3869 - accuracy: 0.8461\n",
      "Epoch 397/500\n",
      "15/15 [==============================] - 0s 29ms/step - loss: 0.3867 - accuracy: 0.8454\n",
      "Epoch 398/500\n",
      "15/15 [==============================] - 0s 27ms/step - loss: 0.3866 - accuracy: 0.8461\n",
      "Epoch 399/500\n",
      "15/15 [==============================] - 0s 28ms/step - loss: 0.3861 - accuracy: 0.8447\n",
      "Epoch 400/500\n",
      "15/15 [==============================] - 0s 27ms/step - loss: 0.3865 - accuracy: 0.8454\n",
      "Epoch 401/500\n",
      "15/15 [==============================] - 0s 30ms/step - loss: 0.3858 - accuracy: 0.8454\n",
      "Epoch 402/500\n",
      "15/15 [==============================] - 0s 28ms/step - loss: 0.3862 - accuracy: 0.8447\n",
      "Epoch 403/500\n",
      "15/15 [==============================] - 0s 28ms/step - loss: 0.3856 - accuracy: 0.8454\n",
      "Epoch 404/500\n",
      "15/15 [==============================] - 0s 28ms/step - loss: 0.3855 - accuracy: 0.8447\n",
      "Epoch 405/500\n",
      "15/15 [==============================] - 0s 28ms/step - loss: 0.3849 - accuracy: 0.8447\n",
      "Epoch 406/500\n",
      "15/15 [==============================] - 0s 29ms/step - loss: 0.3852 - accuracy: 0.8454\n",
      "Epoch 407/500\n",
      "15/15 [==============================] - 0s 28ms/step - loss: 0.3843 - accuracy: 0.8461\n",
      "Epoch 408/500\n",
      "15/15 [==============================] - 0s 29ms/step - loss: 0.3845 - accuracy: 0.8461\n",
      "Epoch 409/500\n",
      "15/15 [==============================] - 0s 29ms/step - loss: 0.3842 - accuracy: 0.8468\n",
      "Epoch 410/500\n",
      "15/15 [==============================] - 0s 28ms/step - loss: 0.3838 - accuracy: 0.8461\n",
      "Epoch 411/500\n",
      "15/15 [==============================] - 0s 31ms/step - loss: 0.3840 - accuracy: 0.8454\n",
      "Epoch 412/500\n",
      "15/15 [==============================] - 0s 28ms/step - loss: 0.3864 - accuracy: 0.8468\n",
      "Epoch 413/500\n",
      "15/15 [==============================] - 0s 28ms/step - loss: 0.3835 - accuracy: 0.8461\n",
      "Epoch 414/500\n",
      "15/15 [==============================] - 0s 29ms/step - loss: 0.3836 - accuracy: 0.8454\n",
      "Epoch 415/500\n",
      "15/15 [==============================] - 0s 29ms/step - loss: 0.3828 - accuracy: 0.8454\n",
      "Epoch 416/500\n",
      "15/15 [==============================] - 0s 29ms/step - loss: 0.3827 - accuracy: 0.8440\n",
      "Epoch 417/500\n",
      "15/15 [==============================] - 0s 28ms/step - loss: 0.3824 - accuracy: 0.8447\n",
      "Epoch 418/500\n",
      "15/15 [==============================] - 0s 28ms/step - loss: 0.3823 - accuracy: 0.8447\n",
      "Epoch 419/500\n",
      "15/15 [==============================] - 0s 28ms/step - loss: 0.3819 - accuracy: 0.8454\n",
      "Epoch 420/500\n",
      "15/15 [==============================] - 0s 28ms/step - loss: 0.3819 - accuracy: 0.8454\n",
      "Epoch 421/500\n",
      "15/15 [==============================] - 0s 29ms/step - loss: 0.3816 - accuracy: 0.8433\n",
      "Epoch 422/500\n",
      "15/15 [==============================] - 0s 30ms/step - loss: 0.3814 - accuracy: 0.8461\n",
      "Epoch 423/500\n",
      "15/15 [==============================] - 0s 29ms/step - loss: 0.3812 - accuracy: 0.8440\n",
      "Epoch 424/500\n",
      "15/15 [==============================] - 0s 29ms/step - loss: 0.3808 - accuracy: 0.8454\n",
      "Epoch 425/500\n",
      "15/15 [==============================] - 0s 28ms/step - loss: 0.3809 - accuracy: 0.8468\n",
      "Epoch 426/500\n",
      "15/15 [==============================] - 0s 30ms/step - loss: 0.3814 - accuracy: 0.8454\n",
      "Epoch 427/500\n",
      "15/15 [==============================] - 0s 28ms/step - loss: 0.3802 - accuracy: 0.8468\n",
      "Epoch 428/500\n",
      "15/15 [==============================] - 0s 28ms/step - loss: 0.3806 - accuracy: 0.8427\n",
      "Epoch 429/500\n",
      "15/15 [==============================] - 0s 29ms/step - loss: 0.3798 - accuracy: 0.8440\n",
      "Epoch 430/500\n",
      "15/15 [==============================] - 0s 29ms/step - loss: 0.3797 - accuracy: 0.8454\n",
      "Epoch 431/500\n",
      "15/15 [==============================] - 0s 29ms/step - loss: 0.3796 - accuracy: 0.8440\n",
      "Epoch 432/500\n",
      "15/15 [==============================] - 0s 28ms/step - loss: 0.3804 - accuracy: 0.8475\n",
      "Epoch 433/500\n",
      "15/15 [==============================] - 0s 28ms/step - loss: 0.3790 - accuracy: 0.8468\n",
      "Epoch 434/500\n",
      "15/15 [==============================] - 0s 29ms/step - loss: 0.3789 - accuracy: 0.8468\n",
      "Epoch 435/500\n",
      "15/15 [==============================] - 0s 29ms/step - loss: 0.3788 - accuracy: 0.8440\n",
      "Epoch 436/500\n",
      "15/15 [==============================] - 0s 27ms/step - loss: 0.3781 - accuracy: 0.8440\n",
      "Epoch 437/500\n",
      "15/15 [==============================] - 0s 27ms/step - loss: 0.3783 - accuracy: 0.8468\n",
      "Epoch 438/500\n",
      "15/15 [==============================] - 0s 26ms/step - loss: 0.3787 - accuracy: 0.8454\n",
      "Epoch 439/500\n",
      "15/15 [==============================] - 0s 27ms/step - loss: 0.3784 - accuracy: 0.8440\n",
      "Epoch 440/500\n",
      "15/15 [==============================] - 0s 27ms/step - loss: 0.3783 - accuracy: 0.8447\n",
      "Epoch 441/500\n",
      "15/15 [==============================] - 0s 27ms/step - loss: 0.3774 - accuracy: 0.8461\n",
      "Epoch 442/500\n",
      "15/15 [==============================] - 0s 28ms/step - loss: 0.3768 - accuracy: 0.8440\n",
      "Epoch 443/500\n",
      "15/15 [==============================] - 0s 28ms/step - loss: 0.3770 - accuracy: 0.8440\n",
      "Epoch 444/500\n",
      "15/15 [==============================] - 0s 28ms/step - loss: 0.3775 - accuracy: 0.8461\n",
      "Epoch 445/500\n",
      "15/15 [==============================] - 0s 28ms/step - loss: 0.3764 - accuracy: 0.8461\n",
      "Epoch 446/500\n",
      "15/15 [==============================] - 0s 30ms/step - loss: 0.3762 - accuracy: 0.8454\n",
      "Epoch 447/500\n",
      "15/15 [==============================] - 0s 29ms/step - loss: 0.3762 - accuracy: 0.8433\n",
      "Epoch 448/500\n",
      "15/15 [==============================] - 0s 29ms/step - loss: 0.3755 - accuracy: 0.8454\n",
      "Epoch 449/500\n",
      "15/15 [==============================] - 0s 29ms/step - loss: 0.3753 - accuracy: 0.8475\n",
      "Epoch 450/500\n",
      "15/15 [==============================] - 0s 28ms/step - loss: 0.3769 - accuracy: 0.8447\n",
      "Epoch 451/500\n",
      "15/15 [==============================] - 0s 28ms/step - loss: 0.3749 - accuracy: 0.8454\n",
      "Epoch 452/500\n",
      "15/15 [==============================] - 0s 28ms/step - loss: 0.3746 - accuracy: 0.8468\n",
      "Epoch 453/500\n",
      "15/15 [==============================] - 0s 29ms/step - loss: 0.3748 - accuracy: 0.8440\n",
      "Epoch 454/500\n",
      "15/15 [==============================] - 0s 28ms/step - loss: 0.3745 - accuracy: 0.8454\n",
      "Epoch 455/500\n",
      "15/15 [==============================] - 0s 29ms/step - loss: 0.3756 - accuracy: 0.8468\n",
      "Epoch 456/500\n",
      "15/15 [==============================] - 0s 29ms/step - loss: 0.3747 - accuracy: 0.8468\n",
      "Epoch 457/500\n",
      "15/15 [==============================] - 0s 32ms/step - loss: 0.3736 - accuracy: 0.8454\n",
      "Epoch 458/500\n",
      "15/15 [==============================] - 1s 34ms/step - loss: 0.3737 - accuracy: 0.8475\n",
      "Epoch 459/500\n",
      "15/15 [==============================] - 0s 28ms/step - loss: 0.3734 - accuracy: 0.8461\n",
      "Epoch 460/500\n",
      "15/15 [==============================] - 0s 27ms/step - loss: 0.3749 - accuracy: 0.8468\n",
      "Epoch 461/500\n",
      "15/15 [==============================] - 0s 28ms/step - loss: 0.3729 - accuracy: 0.8475\n",
      "Epoch 462/500\n",
      "15/15 [==============================] - 0s 28ms/step - loss: 0.3731 - accuracy: 0.8475\n",
      "Epoch 463/500\n",
      "15/15 [==============================] - 0s 27ms/step - loss: 0.3729 - accuracy: 0.8447\n",
      "Epoch 464/500\n",
      "15/15 [==============================] - 0s 28ms/step - loss: 0.3722 - accuracy: 0.8454\n",
      "Epoch 465/500\n",
      "15/15 [==============================] - 0s 27ms/step - loss: 0.3722 - accuracy: 0.8482\n",
      "Epoch 466/500\n",
      "15/15 [==============================] - 0s 27ms/step - loss: 0.3722 - accuracy: 0.8461\n",
      "Epoch 467/500\n",
      "15/15 [==============================] - 0s 28ms/step - loss: 0.3719 - accuracy: 0.8468\n",
      "Epoch 468/500\n",
      "15/15 [==============================] - 0s 29ms/step - loss: 0.3719 - accuracy: 0.8482\n",
      "Epoch 469/500\n",
      "15/15 [==============================] - 0s 28ms/step - loss: 0.3715 - accuracy: 0.8475\n",
      "Epoch 470/500\n",
      "15/15 [==============================] - 0s 29ms/step - loss: 0.3713 - accuracy: 0.8468\n",
      "Epoch 471/500\n",
      "15/15 [==============================] - 0s 28ms/step - loss: 0.3712 - accuracy: 0.8468\n",
      "Epoch 472/500\n",
      "15/15 [==============================] - 0s 28ms/step - loss: 0.3709 - accuracy: 0.8475\n",
      "Epoch 473/500\n",
      "15/15 [==============================] - 0s 28ms/step - loss: 0.3709 - accuracy: 0.8468\n",
      "Epoch 474/500\n",
      "15/15 [==============================] - 0s 29ms/step - loss: 0.3708 - accuracy: 0.8475\n",
      "Epoch 475/500\n",
      "15/15 [==============================] - 0s 28ms/step - loss: 0.3706 - accuracy: 0.8475\n",
      "Epoch 476/500\n",
      "15/15 [==============================] - 0s 29ms/step - loss: 0.3704 - accuracy: 0.8482\n",
      "Epoch 477/500\n",
      "15/15 [==============================] - 0s 29ms/step - loss: 0.3703 - accuracy: 0.8468\n",
      "Epoch 478/500\n",
      "15/15 [==============================] - 0s 29ms/step - loss: 0.3700 - accuracy: 0.8468\n",
      "Epoch 479/500\n",
      "15/15 [==============================] - 0s 28ms/step - loss: 0.3701 - accuracy: 0.8496\n",
      "Epoch 480/500\n",
      "15/15 [==============================] - 0s 28ms/step - loss: 0.3698 - accuracy: 0.8468\n",
      "Epoch 481/500\n",
      "15/15 [==============================] - 0s 29ms/step - loss: 0.3697 - accuracy: 0.8482\n",
      "Epoch 482/500\n",
      "15/15 [==============================] - 0s 28ms/step - loss: 0.3694 - accuracy: 0.8482\n",
      "Epoch 483/500\n",
      "15/15 [==============================] - 0s 29ms/step - loss: 0.3696 - accuracy: 0.8482\n",
      "Epoch 484/500\n",
      "15/15 [==============================] - 0s 28ms/step - loss: 0.3693 - accuracy: 0.8509\n",
      "Epoch 485/500\n",
      "15/15 [==============================] - 0s 29ms/step - loss: 0.3689 - accuracy: 0.8509\n",
      "Epoch 486/500\n",
      "15/15 [==============================] - 0s 28ms/step - loss: 0.3689 - accuracy: 0.8475\n",
      "Epoch 487/500\n",
      "15/15 [==============================] - 0s 28ms/step - loss: 0.3687 - accuracy: 0.8496\n",
      "Epoch 488/500\n",
      "15/15 [==============================] - 0s 28ms/step - loss: 0.3689 - accuracy: 0.8509\n",
      "Epoch 489/500\n",
      "15/15 [==============================] - 0s 30ms/step - loss: 0.3694 - accuracy: 0.8496\n",
      "Epoch 490/500\n",
      "15/15 [==============================] - 0s 29ms/step - loss: 0.3686 - accuracy: 0.8509\n",
      "Epoch 491/500\n",
      "15/15 [==============================] - 0s 28ms/step - loss: 0.3684 - accuracy: 0.8509\n",
      "Epoch 492/500\n",
      "15/15 [==============================] - 0s 28ms/step - loss: 0.3691 - accuracy: 0.8496\n",
      "Epoch 493/500\n",
      "15/15 [==============================] - 0s 28ms/step - loss: 0.3678 - accuracy: 0.8502\n",
      "Epoch 494/500\n",
      "15/15 [==============================] - 0s 28ms/step - loss: 0.3679 - accuracy: 0.8502\n",
      "Epoch 495/500\n",
      "15/15 [==============================] - 0s 28ms/step - loss: 0.3682 - accuracy: 0.8516\n",
      "Epoch 496/500\n",
      "15/15 [==============================] - 0s 28ms/step - loss: 0.3678 - accuracy: 0.8516\n",
      "Epoch 497/500\n",
      "15/15 [==============================] - 0s 29ms/step - loss: 0.3677 - accuracy: 0.8502\n",
      "Epoch 498/500\n",
      "15/15 [==============================] - 0s 27ms/step - loss: 0.3676 - accuracy: 0.8516\n",
      "Epoch 499/500\n",
      "15/15 [==============================] - 0s 27ms/step - loss: 0.3672 - accuracy: 0.8523\n",
      "Epoch 500/500\n",
      "15/15 [==============================] - 0s 28ms/step - loss: 0.3671 - accuracy: 0.8509\n"
     ]
    }
   ],
   "source": [
    "model_history=model.fit([X_train, s0, c0], y_train, epochs=500, batch_size=100)#350"
   ],
   "metadata": {
    "collapsed": false,
    "ExecuteTime": {
     "end_time": "2023-09-11T20:35:08.579048Z",
     "start_time": "2023-09-11T20:31:33.663930800Z"
    }
   },
   "id": "56c67fac820d97f4"
  },
  {
   "cell_type": "code",
   "execution_count": 67,
   "outputs": [
    {
     "data": {
      "text/plain": "<IPython.core.display.Javascript object>",
      "application/javascript": "/* Put everything inside the global mpl namespace */\n/* global mpl */\nwindow.mpl = {};\n\nmpl.get_websocket_type = function () {\n    if (typeof WebSocket !== 'undefined') {\n        return WebSocket;\n    } else if (typeof MozWebSocket !== 'undefined') {\n        return MozWebSocket;\n    } else {\n        alert(\n            'Your browser does not have WebSocket support. ' +\n                'Please try Chrome, Safari or Firefox ≥ 6. ' +\n                'Firefox 4 and 5 are also supported but you ' +\n                'have to enable WebSockets in about:config.'\n        );\n    }\n};\n\nmpl.figure = function (figure_id, websocket, ondownload, parent_element) {\n    this.id = figure_id;\n\n    this.ws = websocket;\n\n    this.supports_binary = this.ws.binaryType !== undefined;\n\n    if (!this.supports_binary) {\n        var warnings = document.getElementById('mpl-warnings');\n        if (warnings) {\n            warnings.style.display = 'block';\n            warnings.textContent =\n                'This browser does not support binary websocket messages. ' +\n                'Performance may be slow.';\n        }\n    }\n\n    this.imageObj = new Image();\n\n    this.context = undefined;\n    this.message = undefined;\n    this.canvas = undefined;\n    this.rubberband_canvas = undefined;\n    this.rubberband_context = undefined;\n    this.format_dropdown = undefined;\n\n    this.image_mode = 'full';\n\n    this.root = document.createElement('div');\n    this.root.setAttribute('style', 'display: inline-block');\n    this._root_extra_style(this.root);\n\n    parent_element.appendChild(this.root);\n\n    this._init_header(this);\n    this._init_canvas(this);\n    this._init_toolbar(this);\n\n    var fig = this;\n\n    this.waiting = false;\n\n    this.ws.onopen = function () {\n        fig.send_message('supports_binary', { value: fig.supports_binary });\n        fig.send_message('send_image_mode', {});\n        if (fig.ratio !== 1) {\n            fig.send_message('set_device_pixel_ratio', {\n                device_pixel_ratio: fig.ratio,\n            });\n        }\n        fig.send_message('refresh', {});\n    };\n\n    this.imageObj.onload = function () {\n        if (fig.image_mode === 'full') {\n            // Full images could contain transparency (where diff images\n            // almost always do), so we need to clear the canvas so that\n            // there is no ghosting.\n            fig.context.clearRect(0, 0, fig.canvas.width, fig.canvas.height);\n        }\n        fig.context.drawImage(fig.imageObj, 0, 0);\n    };\n\n    this.imageObj.onunload = function () {\n        fig.ws.close();\n    };\n\n    this.ws.onmessage = this._make_on_message_function(this);\n\n    this.ondownload = ondownload;\n};\n\nmpl.figure.prototype._init_header = function () {\n    var titlebar = document.createElement('div');\n    titlebar.classList =\n        'ui-dialog-titlebar ui-widget-header ui-corner-all ui-helper-clearfix';\n    var titletext = document.createElement('div');\n    titletext.classList = 'ui-dialog-title';\n    titletext.setAttribute(\n        'style',\n        'width: 100%; text-align: center; padding: 3px;'\n    );\n    titlebar.appendChild(titletext);\n    this.root.appendChild(titlebar);\n    this.header = titletext;\n};\n\nmpl.figure.prototype._canvas_extra_style = function (_canvas_div) {};\n\nmpl.figure.prototype._root_extra_style = function (_canvas_div) {};\n\nmpl.figure.prototype._init_canvas = function () {\n    var fig = this;\n\n    var canvas_div = (this.canvas_div = document.createElement('div'));\n    canvas_div.setAttribute('tabindex', '0');\n    canvas_div.setAttribute(\n        'style',\n        'border: 1px solid #ddd;' +\n            'box-sizing: content-box;' +\n            'clear: both;' +\n            'min-height: 1px;' +\n            'min-width: 1px;' +\n            'outline: 0;' +\n            'overflow: hidden;' +\n            'position: relative;' +\n            'resize: both;' +\n            'z-index: 2;'\n    );\n\n    function on_keyboard_event_closure(name) {\n        return function (event) {\n            return fig.key_event(event, name);\n        };\n    }\n\n    canvas_div.addEventListener(\n        'keydown',\n        on_keyboard_event_closure('key_press')\n    );\n    canvas_div.addEventListener(\n        'keyup',\n        on_keyboard_event_closure('key_release')\n    );\n\n    this._canvas_extra_style(canvas_div);\n    this.root.appendChild(canvas_div);\n\n    var canvas = (this.canvas = document.createElement('canvas'));\n    canvas.classList.add('mpl-canvas');\n    canvas.setAttribute(\n        'style',\n        'box-sizing: content-box;' +\n            'pointer-events: none;' +\n            'position: relative;' +\n            'z-index: 0;'\n    );\n\n    this.context = canvas.getContext('2d');\n\n    var backingStore =\n        this.context.backingStorePixelRatio ||\n        this.context.webkitBackingStorePixelRatio ||\n        this.context.mozBackingStorePixelRatio ||\n        this.context.msBackingStorePixelRatio ||\n        this.context.oBackingStorePixelRatio ||\n        this.context.backingStorePixelRatio ||\n        1;\n\n    this.ratio = (window.devicePixelRatio || 1) / backingStore;\n\n    var rubberband_canvas = (this.rubberband_canvas = document.createElement(\n        'canvas'\n    ));\n    rubberband_canvas.setAttribute(\n        'style',\n        'box-sizing: content-box;' +\n            'left: 0;' +\n            'pointer-events: none;' +\n            'position: absolute;' +\n            'top: 0;' +\n            'z-index: 1;'\n    );\n\n    // Apply a ponyfill if ResizeObserver is not implemented by browser.\n    if (this.ResizeObserver === undefined) {\n        if (window.ResizeObserver !== undefined) {\n            this.ResizeObserver = window.ResizeObserver;\n        } else {\n            var obs = _JSXTOOLS_RESIZE_OBSERVER({});\n            this.ResizeObserver = obs.ResizeObserver;\n        }\n    }\n\n    this.resizeObserverInstance = new this.ResizeObserver(function (entries) {\n        var nentries = entries.length;\n        for (var i = 0; i < nentries; i++) {\n            var entry = entries[i];\n            var width, height;\n            if (entry.contentBoxSize) {\n                if (entry.contentBoxSize instanceof Array) {\n                    // Chrome 84 implements new version of spec.\n                    width = entry.contentBoxSize[0].inlineSize;\n                    height = entry.contentBoxSize[0].blockSize;\n                } else {\n                    // Firefox implements old version of spec.\n                    width = entry.contentBoxSize.inlineSize;\n                    height = entry.contentBoxSize.blockSize;\n                }\n            } else {\n                // Chrome <84 implements even older version of spec.\n                width = entry.contentRect.width;\n                height = entry.contentRect.height;\n            }\n\n            // Keep the size of the canvas and rubber band canvas in sync with\n            // the canvas container.\n            if (entry.devicePixelContentBoxSize) {\n                // Chrome 84 implements new version of spec.\n                canvas.setAttribute(\n                    'width',\n                    entry.devicePixelContentBoxSize[0].inlineSize\n                );\n                canvas.setAttribute(\n                    'height',\n                    entry.devicePixelContentBoxSize[0].blockSize\n                );\n            } else {\n                canvas.setAttribute('width', width * fig.ratio);\n                canvas.setAttribute('height', height * fig.ratio);\n            }\n            /* This rescales the canvas back to display pixels, so that it\n             * appears correct on HiDPI screens. */\n            canvas.style.width = width + 'px';\n            canvas.style.height = height + 'px';\n\n            rubberband_canvas.setAttribute('width', width);\n            rubberband_canvas.setAttribute('height', height);\n\n            // And update the size in Python. We ignore the initial 0/0 size\n            // that occurs as the element is placed into the DOM, which should\n            // otherwise not happen due to the minimum size styling.\n            if (fig.ws.readyState == 1 && width != 0 && height != 0) {\n                fig.request_resize(width, height);\n            }\n        }\n    });\n    this.resizeObserverInstance.observe(canvas_div);\n\n    function on_mouse_event_closure(name) {\n        /* User Agent sniffing is bad, but WebKit is busted:\n         * https://bugs.webkit.org/show_bug.cgi?id=144526\n         * https://bugs.webkit.org/show_bug.cgi?id=181818\n         * The worst that happens here is that they get an extra browser\n         * selection when dragging, if this check fails to catch them.\n         */\n        var UA = navigator.userAgent;\n        var isWebKit = /AppleWebKit/.test(UA) && !/Chrome/.test(UA);\n        if(isWebKit) {\n            return function (event) {\n                /* This prevents the web browser from automatically changing to\n                 * the text insertion cursor when the button is pressed. We\n                 * want to control all of the cursor setting manually through\n                 * the 'cursor' event from matplotlib */\n                event.preventDefault()\n                return fig.mouse_event(event, name);\n            };\n        } else {\n            return function (event) {\n                return fig.mouse_event(event, name);\n            };\n        }\n    }\n\n    canvas_div.addEventListener(\n        'mousedown',\n        on_mouse_event_closure('button_press')\n    );\n    canvas_div.addEventListener(\n        'mouseup',\n        on_mouse_event_closure('button_release')\n    );\n    canvas_div.addEventListener(\n        'dblclick',\n        on_mouse_event_closure('dblclick')\n    );\n    // Throttle sequential mouse events to 1 every 20ms.\n    canvas_div.addEventListener(\n        'mousemove',\n        on_mouse_event_closure('motion_notify')\n    );\n\n    canvas_div.addEventListener(\n        'mouseenter',\n        on_mouse_event_closure('figure_enter')\n    );\n    canvas_div.addEventListener(\n        'mouseleave',\n        on_mouse_event_closure('figure_leave')\n    );\n\n    canvas_div.addEventListener('wheel', function (event) {\n        if (event.deltaY < 0) {\n            event.step = 1;\n        } else {\n            event.step = -1;\n        }\n        on_mouse_event_closure('scroll')(event);\n    });\n\n    canvas_div.appendChild(canvas);\n    canvas_div.appendChild(rubberband_canvas);\n\n    this.rubberband_context = rubberband_canvas.getContext('2d');\n    this.rubberband_context.strokeStyle = '#000000';\n\n    this._resize_canvas = function (width, height, forward) {\n        if (forward) {\n            canvas_div.style.width = width + 'px';\n            canvas_div.style.height = height + 'px';\n        }\n    };\n\n    // Disable right mouse context menu.\n    canvas_div.addEventListener('contextmenu', function (_e) {\n        event.preventDefault();\n        return false;\n    });\n\n    function set_focus() {\n        canvas.focus();\n        canvas_div.focus();\n    }\n\n    window.setTimeout(set_focus, 100);\n};\n\nmpl.figure.prototype._init_toolbar = function () {\n    var fig = this;\n\n    var toolbar = document.createElement('div');\n    toolbar.classList = 'mpl-toolbar';\n    this.root.appendChild(toolbar);\n\n    function on_click_closure(name) {\n        return function (_event) {\n            return fig.toolbar_button_onclick(name);\n        };\n    }\n\n    function on_mouseover_closure(tooltip) {\n        return function (event) {\n            if (!event.currentTarget.disabled) {\n                return fig.toolbar_button_onmouseover(tooltip);\n            }\n        };\n    }\n\n    fig.buttons = {};\n    var buttonGroup = document.createElement('div');\n    buttonGroup.classList = 'mpl-button-group';\n    for (var toolbar_ind in mpl.toolbar_items) {\n        var name = mpl.toolbar_items[toolbar_ind][0];\n        var tooltip = mpl.toolbar_items[toolbar_ind][1];\n        var image = mpl.toolbar_items[toolbar_ind][2];\n        var method_name = mpl.toolbar_items[toolbar_ind][3];\n\n        if (!name) {\n            /* Instead of a spacer, we start a new button group. */\n            if (buttonGroup.hasChildNodes()) {\n                toolbar.appendChild(buttonGroup);\n            }\n            buttonGroup = document.createElement('div');\n            buttonGroup.classList = 'mpl-button-group';\n            continue;\n        }\n\n        var button = (fig.buttons[name] = document.createElement('button'));\n        button.classList = 'mpl-widget';\n        button.setAttribute('role', 'button');\n        button.setAttribute('aria-disabled', 'false');\n        button.addEventListener('click', on_click_closure(method_name));\n        button.addEventListener('mouseover', on_mouseover_closure(tooltip));\n\n        var icon_img = document.createElement('img');\n        icon_img.src = '_images/' + image + '.png';\n        icon_img.srcset = '_images/' + image + '_large.png 2x';\n        icon_img.alt = tooltip;\n        button.appendChild(icon_img);\n\n        buttonGroup.appendChild(button);\n    }\n\n    if (buttonGroup.hasChildNodes()) {\n        toolbar.appendChild(buttonGroup);\n    }\n\n    var fmt_picker = document.createElement('select');\n    fmt_picker.classList = 'mpl-widget';\n    toolbar.appendChild(fmt_picker);\n    this.format_dropdown = fmt_picker;\n\n    for (var ind in mpl.extensions) {\n        var fmt = mpl.extensions[ind];\n        var option = document.createElement('option');\n        option.selected = fmt === mpl.default_extension;\n        option.innerHTML = fmt;\n        fmt_picker.appendChild(option);\n    }\n\n    var status_bar = document.createElement('span');\n    status_bar.classList = 'mpl-message';\n    toolbar.appendChild(status_bar);\n    this.message = status_bar;\n};\n\nmpl.figure.prototype.request_resize = function (x_pixels, y_pixels) {\n    // Request matplotlib to resize the figure. Matplotlib will then trigger a resize in the client,\n    // which will in turn request a refresh of the image.\n    this.send_message('resize', { width: x_pixels, height: y_pixels });\n};\n\nmpl.figure.prototype.send_message = function (type, properties) {\n    properties['type'] = type;\n    properties['figure_id'] = this.id;\n    this.ws.send(JSON.stringify(properties));\n};\n\nmpl.figure.prototype.send_draw_message = function () {\n    if (!this.waiting) {\n        this.waiting = true;\n        this.ws.send(JSON.stringify({ type: 'draw', figure_id: this.id }));\n    }\n};\n\nmpl.figure.prototype.handle_save = function (fig, _msg) {\n    var format_dropdown = fig.format_dropdown;\n    var format = format_dropdown.options[format_dropdown.selectedIndex].value;\n    fig.ondownload(fig, format);\n};\n\nmpl.figure.prototype.handle_resize = function (fig, msg) {\n    var size = msg['size'];\n    if (size[0] !== fig.canvas.width || size[1] !== fig.canvas.height) {\n        fig._resize_canvas(size[0], size[1], msg['forward']);\n        fig.send_message('refresh', {});\n    }\n};\n\nmpl.figure.prototype.handle_rubberband = function (fig, msg) {\n    var x0 = msg['x0'] / fig.ratio;\n    var y0 = (fig.canvas.height - msg['y0']) / fig.ratio;\n    var x1 = msg['x1'] / fig.ratio;\n    var y1 = (fig.canvas.height - msg['y1']) / fig.ratio;\n    x0 = Math.floor(x0) + 0.5;\n    y0 = Math.floor(y0) + 0.5;\n    x1 = Math.floor(x1) + 0.5;\n    y1 = Math.floor(y1) + 0.5;\n    var min_x = Math.min(x0, x1);\n    var min_y = Math.min(y0, y1);\n    var width = Math.abs(x1 - x0);\n    var height = Math.abs(y1 - y0);\n\n    fig.rubberband_context.clearRect(\n        0,\n        0,\n        fig.canvas.width / fig.ratio,\n        fig.canvas.height / fig.ratio\n    );\n\n    fig.rubberband_context.strokeRect(min_x, min_y, width, height);\n};\n\nmpl.figure.prototype.handle_figure_label = function (fig, msg) {\n    // Updates the figure title.\n    fig.header.textContent = msg['label'];\n};\n\nmpl.figure.prototype.handle_cursor = function (fig, msg) {\n    fig.canvas_div.style.cursor = msg['cursor'];\n};\n\nmpl.figure.prototype.handle_message = function (fig, msg) {\n    fig.message.textContent = msg['message'];\n};\n\nmpl.figure.prototype.handle_draw = function (fig, _msg) {\n    // Request the server to send over a new figure.\n    fig.send_draw_message();\n};\n\nmpl.figure.prototype.handle_image_mode = function (fig, msg) {\n    fig.image_mode = msg['mode'];\n};\n\nmpl.figure.prototype.handle_history_buttons = function (fig, msg) {\n    for (var key in msg) {\n        if (!(key in fig.buttons)) {\n            continue;\n        }\n        fig.buttons[key].disabled = !msg[key];\n        fig.buttons[key].setAttribute('aria-disabled', !msg[key]);\n    }\n};\n\nmpl.figure.prototype.handle_navigate_mode = function (fig, msg) {\n    if (msg['mode'] === 'PAN') {\n        fig.buttons['Pan'].classList.add('active');\n        fig.buttons['Zoom'].classList.remove('active');\n    } else if (msg['mode'] === 'ZOOM') {\n        fig.buttons['Pan'].classList.remove('active');\n        fig.buttons['Zoom'].classList.add('active');\n    } else {\n        fig.buttons['Pan'].classList.remove('active');\n        fig.buttons['Zoom'].classList.remove('active');\n    }\n};\n\nmpl.figure.prototype.updated_canvas_event = function () {\n    // Called whenever the canvas gets updated.\n    this.send_message('ack', {});\n};\n\n// A function to construct a web socket function for onmessage handling.\n// Called in the figure constructor.\nmpl.figure.prototype._make_on_message_function = function (fig) {\n    return function socket_on_message(evt) {\n        if (evt.data instanceof Blob) {\n            var img = evt.data;\n            if (img.type !== 'image/png') {\n                /* FIXME: We get \"Resource interpreted as Image but\n                 * transferred with MIME type text/plain:\" errors on\n                 * Chrome.  But how to set the MIME type?  It doesn't seem\n                 * to be part of the websocket stream */\n                img.type = 'image/png';\n            }\n\n            /* Free the memory for the previous frames */\n            if (fig.imageObj.src) {\n                (window.URL || window.webkitURL).revokeObjectURL(\n                    fig.imageObj.src\n                );\n            }\n\n            fig.imageObj.src = (window.URL || window.webkitURL).createObjectURL(\n                img\n            );\n            fig.updated_canvas_event();\n            fig.waiting = false;\n            return;\n        } else if (\n            typeof evt.data === 'string' &&\n            evt.data.slice(0, 21) === 'data:image/png;base64'\n        ) {\n            fig.imageObj.src = evt.data;\n            fig.updated_canvas_event();\n            fig.waiting = false;\n            return;\n        }\n\n        var msg = JSON.parse(evt.data);\n        var msg_type = msg['type'];\n\n        // Call the  \"handle_{type}\" callback, which takes\n        // the figure and JSON message as its only arguments.\n        try {\n            var callback = fig['handle_' + msg_type];\n        } catch (e) {\n            console.log(\n                \"No handler for the '\" + msg_type + \"' message type: \",\n                msg\n            );\n            return;\n        }\n\n        if (callback) {\n            try {\n                // console.log(\"Handling '\" + msg_type + \"' message: \", msg);\n                callback(fig, msg);\n            } catch (e) {\n                console.log(\n                    \"Exception inside the 'handler_\" + msg_type + \"' callback:\",\n                    e,\n                    e.stack,\n                    msg\n                );\n            }\n        }\n    };\n};\n\nfunction getModifiers(event) {\n    var mods = [];\n    if (event.ctrlKey) {\n        mods.push('ctrl');\n    }\n    if (event.altKey) {\n        mods.push('alt');\n    }\n    if (event.shiftKey) {\n        mods.push('shift');\n    }\n    if (event.metaKey) {\n        mods.push('meta');\n    }\n    return mods;\n}\n\n/*\n * return a copy of an object with only non-object keys\n * we need this to avoid circular references\n * https://stackoverflow.com/a/24161582/3208463\n */\nfunction simpleKeys(original) {\n    return Object.keys(original).reduce(function (obj, key) {\n        if (typeof original[key] !== 'object') {\n            obj[key] = original[key];\n        }\n        return obj;\n    }, {});\n}\n\nmpl.figure.prototype.mouse_event = function (event, name) {\n    if (name === 'button_press') {\n        this.canvas.focus();\n        this.canvas_div.focus();\n    }\n\n    // from https://stackoverflow.com/q/1114465\n    var boundingRect = this.canvas.getBoundingClientRect();\n    var x = (event.clientX - boundingRect.left) * this.ratio;\n    var y = (event.clientY - boundingRect.top) * this.ratio;\n\n    this.send_message(name, {\n        x: x,\n        y: y,\n        button: event.button,\n        step: event.step,\n        modifiers: getModifiers(event),\n        guiEvent: simpleKeys(event),\n    });\n\n    return false;\n};\n\nmpl.figure.prototype._key_event_extra = function (_event, _name) {\n    // Handle any extra behaviour associated with a key event\n};\n\nmpl.figure.prototype.key_event = function (event, name) {\n    // Prevent repeat events\n    if (name === 'key_press') {\n        if (event.key === this._key) {\n            return;\n        } else {\n            this._key = event.key;\n        }\n    }\n    if (name === 'key_release') {\n        this._key = null;\n    }\n\n    var value = '';\n    if (event.ctrlKey && event.key !== 'Control') {\n        value += 'ctrl+';\n    }\n    else if (event.altKey && event.key !== 'Alt') {\n        value += 'alt+';\n    }\n    else if (event.shiftKey && event.key !== 'Shift') {\n        value += 'shift+';\n    }\n\n    value += 'k' + event.key;\n\n    this._key_event_extra(event, name);\n\n    this.send_message(name, { key: value, guiEvent: simpleKeys(event) });\n    return false;\n};\n\nmpl.figure.prototype.toolbar_button_onclick = function (name) {\n    if (name === 'download') {\n        this.handle_save(this, null);\n    } else {\n        this.send_message('toolbar_button', { name: name });\n    }\n};\n\nmpl.figure.prototype.toolbar_button_onmouseover = function (tooltip) {\n    this.message.textContent = tooltip;\n};\n\n///////////////// REMAINING CONTENT GENERATED BY embed_js.py /////////////////\n// prettier-ignore\nvar _JSXTOOLS_RESIZE_OBSERVER=function(A){var t,i=new WeakMap,n=new WeakMap,a=new WeakMap,r=new WeakMap,o=new Set;function s(e){if(!(this instanceof s))throw new TypeError(\"Constructor requires 'new' operator\");i.set(this,e)}function h(){throw new TypeError(\"Function is not a constructor\")}function c(e,t,i,n){e=0 in arguments?Number(arguments[0]):0,t=1 in arguments?Number(arguments[1]):0,i=2 in arguments?Number(arguments[2]):0,n=3 in arguments?Number(arguments[3]):0,this.right=(this.x=this.left=e)+(this.width=i),this.bottom=(this.y=this.top=t)+(this.height=n),Object.freeze(this)}function d(){t=requestAnimationFrame(d);var s=new WeakMap,p=new Set;o.forEach((function(t){r.get(t).forEach((function(i){var r=t instanceof window.SVGElement,o=a.get(t),d=r?0:parseFloat(o.paddingTop),f=r?0:parseFloat(o.paddingRight),l=r?0:parseFloat(o.paddingBottom),u=r?0:parseFloat(o.paddingLeft),g=r?0:parseFloat(o.borderTopWidth),m=r?0:parseFloat(o.borderRightWidth),w=r?0:parseFloat(o.borderBottomWidth),b=u+f,F=d+l,v=(r?0:parseFloat(o.borderLeftWidth))+m,W=g+w,y=r?0:t.offsetHeight-W-t.clientHeight,E=r?0:t.offsetWidth-v-t.clientWidth,R=b+v,z=F+W,M=r?t.width:parseFloat(o.width)-R-E,O=r?t.height:parseFloat(o.height)-z-y;if(n.has(t)){var k=n.get(t);if(k[0]===M&&k[1]===O)return}n.set(t,[M,O]);var S=Object.create(h.prototype);S.target=t,S.contentRect=new c(u,d,M,O),s.has(i)||(s.set(i,[]),p.add(i)),s.get(i).push(S)}))})),p.forEach((function(e){i.get(e).call(e,s.get(e),e)}))}return s.prototype.observe=function(i){if(i instanceof window.Element){r.has(i)||(r.set(i,new Set),o.add(i),a.set(i,window.getComputedStyle(i)));var n=r.get(i);n.has(this)||n.add(this),cancelAnimationFrame(t),t=requestAnimationFrame(d)}},s.prototype.unobserve=function(i){if(i instanceof window.Element&&r.has(i)){var n=r.get(i);n.has(this)&&(n.delete(this),n.size||(r.delete(i),o.delete(i))),n.size||r.delete(i),o.size||cancelAnimationFrame(t)}},A.DOMRectReadOnly=c,A.ResizeObserver=s,A.ResizeObserverEntry=h,A}; // eslint-disable-line\nmpl.toolbar_items = [[\"Home\", \"Reset original view\", \"fa fa-home\", \"home\"], [\"Back\", \"Back to previous view\", \"fa fa-arrow-left\", \"back\"], [\"Forward\", \"Forward to next view\", \"fa fa-arrow-right\", \"forward\"], [\"\", \"\", \"\", \"\"], [\"Pan\", \"Left button pans, Right button zooms\\nx/y fixes axis, CTRL fixes aspect\", \"fa fa-arrows\", \"pan\"], [\"Zoom\", \"Zoom to rectangle\\nx/y fixes axis\", \"fa fa-square-o\", \"zoom\"], [\"\", \"\", \"\", \"\"], [\"Download\", \"Download plot\", \"fa fa-floppy-o\", \"download\"]];\n\nmpl.extensions = [\"eps\", \"jpeg\", \"pgf\", \"pdf\", \"png\", \"ps\", \"raw\", \"svg\", \"tif\", \"webp\"];\n\nmpl.default_extension = \"png\";/* global mpl */\n\nvar comm_websocket_adapter = function (comm) {\n    // Create a \"websocket\"-like object which calls the given IPython comm\n    // object with the appropriate methods. Currently this is a non binary\n    // socket, so there is still some room for performance tuning.\n    var ws = {};\n\n    ws.binaryType = comm.kernel.ws.binaryType;\n    ws.readyState = comm.kernel.ws.readyState;\n    function updateReadyState(_event) {\n        if (comm.kernel.ws) {\n            ws.readyState = comm.kernel.ws.readyState;\n        } else {\n            ws.readyState = 3; // Closed state.\n        }\n    }\n    comm.kernel.ws.addEventListener('open', updateReadyState);\n    comm.kernel.ws.addEventListener('close', updateReadyState);\n    comm.kernel.ws.addEventListener('error', updateReadyState);\n\n    ws.close = function () {\n        comm.close();\n    };\n    ws.send = function (m) {\n        //console.log('sending', m);\n        comm.send(m);\n    };\n    // Register the callback with on_msg.\n    comm.on_msg(function (msg) {\n        //console.log('receiving', msg['content']['data'], msg);\n        var data = msg['content']['data'];\n        if (data['blob'] !== undefined) {\n            data = {\n                data: new Blob(msg['buffers'], { type: data['blob'] }),\n            };\n        }\n        // Pass the mpl event to the overridden (by mpl) onmessage function.\n        ws.onmessage(data);\n    });\n    return ws;\n};\n\nmpl.mpl_figure_comm = function (comm, msg) {\n    // This is the function which gets called when the mpl process\n    // starts-up an IPython Comm through the \"matplotlib\" channel.\n\n    var id = msg.content.data.id;\n    // Get hold of the div created by the display call when the Comm\n    // socket was opened in Python.\n    var element = document.getElementById(id);\n    var ws_proxy = comm_websocket_adapter(comm);\n\n    function ondownload(figure, _format) {\n        window.open(figure.canvas.toDataURL());\n    }\n\n    var fig = new mpl.figure(id, ws_proxy, ondownload, element);\n\n    // Call onopen now - mpl needs it, as it is assuming we've passed it a real\n    // web socket which is closed, not our websocket->open comm proxy.\n    ws_proxy.onopen();\n\n    fig.parent_element = element;\n    fig.cell_info = mpl.find_output_cell(\"<div id='\" + id + \"'></div>\");\n    if (!fig.cell_info) {\n        console.error('Failed to find cell for figure', id, fig);\n        return;\n    }\n    fig.cell_info[0].output_area.element.on(\n        'cleared',\n        { fig: fig },\n        fig._remove_fig_handler\n    );\n};\n\nmpl.figure.prototype.handle_close = function (fig, msg) {\n    var width = fig.canvas.width / fig.ratio;\n    fig.cell_info[0].output_area.element.off(\n        'cleared',\n        fig._remove_fig_handler\n    );\n    fig.resizeObserverInstance.unobserve(fig.canvas_div);\n\n    // Update the output cell to use the data from the current canvas.\n    fig.push_to_output();\n    var dataURL = fig.canvas.toDataURL();\n    // Re-enable the keyboard manager in IPython - without this line, in FF,\n    // the notebook keyboard shortcuts fail.\n    IPython.keyboard_manager.enable();\n    fig.parent_element.innerHTML =\n        '<img src=\"' + dataURL + '\" width=\"' + width + '\">';\n    fig.close_ws(fig, msg);\n};\n\nmpl.figure.prototype.close_ws = function (fig, msg) {\n    fig.send_message('closing', msg);\n    // fig.ws.close()\n};\n\nmpl.figure.prototype.push_to_output = function (_remove_interactive) {\n    // Turn the data on the canvas into data in the output cell.\n    var width = this.canvas.width / this.ratio;\n    var dataURL = this.canvas.toDataURL();\n    this.cell_info[1]['text/html'] =\n        '<img src=\"' + dataURL + '\" width=\"' + width + '\">';\n};\n\nmpl.figure.prototype.updated_canvas_event = function () {\n    // Tell IPython that the notebook contents must change.\n    IPython.notebook.set_dirty(true);\n    this.send_message('ack', {});\n    var fig = this;\n    // Wait a second, then push the new image to the DOM so\n    // that it is saved nicely (might be nice to debounce this).\n    setTimeout(function () {\n        fig.push_to_output();\n    }, 1000);\n};\n\nmpl.figure.prototype._init_toolbar = function () {\n    var fig = this;\n\n    var toolbar = document.createElement('div');\n    toolbar.classList = 'btn-toolbar';\n    this.root.appendChild(toolbar);\n\n    function on_click_closure(name) {\n        return function (_event) {\n            return fig.toolbar_button_onclick(name);\n        };\n    }\n\n    function on_mouseover_closure(tooltip) {\n        return function (event) {\n            if (!event.currentTarget.disabled) {\n                return fig.toolbar_button_onmouseover(tooltip);\n            }\n        };\n    }\n\n    fig.buttons = {};\n    var buttonGroup = document.createElement('div');\n    buttonGroup.classList = 'btn-group';\n    var button;\n    for (var toolbar_ind in mpl.toolbar_items) {\n        var name = mpl.toolbar_items[toolbar_ind][0];\n        var tooltip = mpl.toolbar_items[toolbar_ind][1];\n        var image = mpl.toolbar_items[toolbar_ind][2];\n        var method_name = mpl.toolbar_items[toolbar_ind][3];\n\n        if (!name) {\n            /* Instead of a spacer, we start a new button group. */\n            if (buttonGroup.hasChildNodes()) {\n                toolbar.appendChild(buttonGroup);\n            }\n            buttonGroup = document.createElement('div');\n            buttonGroup.classList = 'btn-group';\n            continue;\n        }\n\n        button = fig.buttons[name] = document.createElement('button');\n        button.classList = 'btn btn-default';\n        button.href = '#';\n        button.title = name;\n        button.innerHTML = '<i class=\"fa ' + image + ' fa-lg\"></i>';\n        button.addEventListener('click', on_click_closure(method_name));\n        button.addEventListener('mouseover', on_mouseover_closure(tooltip));\n        buttonGroup.appendChild(button);\n    }\n\n    if (buttonGroup.hasChildNodes()) {\n        toolbar.appendChild(buttonGroup);\n    }\n\n    // Add the status bar.\n    var status_bar = document.createElement('span');\n    status_bar.classList = 'mpl-message pull-right';\n    toolbar.appendChild(status_bar);\n    this.message = status_bar;\n\n    // Add the close button to the window.\n    var buttongrp = document.createElement('div');\n    buttongrp.classList = 'btn-group inline pull-right';\n    button = document.createElement('button');\n    button.classList = 'btn btn-mini btn-primary';\n    button.href = '#';\n    button.title = 'Stop Interaction';\n    button.innerHTML = '<i class=\"fa fa-power-off icon-remove icon-large\"></i>';\n    button.addEventListener('click', function (_evt) {\n        fig.handle_close(fig, {});\n    });\n    button.addEventListener(\n        'mouseover',\n        on_mouseover_closure('Stop Interaction')\n    );\n    buttongrp.appendChild(button);\n    var titlebar = this.root.querySelector('.ui-dialog-titlebar');\n    titlebar.insertBefore(buttongrp, titlebar.firstChild);\n};\n\nmpl.figure.prototype._remove_fig_handler = function (event) {\n    var fig = event.data.fig;\n    if (event.target !== this) {\n        // Ignore bubbled events from children.\n        return;\n    }\n    fig.close_ws(fig, {});\n};\n\nmpl.figure.prototype._root_extra_style = function (el) {\n    el.style.boxSizing = 'content-box'; // override notebook setting of border-box.\n};\n\nmpl.figure.prototype._canvas_extra_style = function (el) {\n    // this is important to make the div 'focusable\n    el.setAttribute('tabindex', 0);\n    // reach out to IPython and tell the keyboard manager to turn it's self\n    // off when our div gets focus\n\n    // location in version 3\n    if (IPython.notebook.keyboard_manager) {\n        IPython.notebook.keyboard_manager.register_events(el);\n    } else {\n        // location in version 2\n        IPython.keyboard_manager.register_events(el);\n    }\n};\n\nmpl.figure.prototype._key_event_extra = function (event, _name) {\n    // Check for shift+enter\n    if (event.shiftKey && event.which === 13) {\n        this.canvas_div.blur();\n        // select the cell after this one\n        var index = IPython.notebook.find_cell_index(this.cell_info[0]);\n        IPython.notebook.select(index + 1);\n    }\n};\n\nmpl.figure.prototype.handle_save = function (fig, _msg) {\n    fig.ondownload(fig, null);\n};\n\nmpl.find_output_cell = function (html_output) {\n    // Return the cell and output element which can be found *uniquely* in the notebook.\n    // Note - this is a bit hacky, but it is done because the \"notebook_saving.Notebook\"\n    // IPython event is triggered only after the cells have been serialised, which for\n    // our purposes (turning an active figure into a static one), is too late.\n    var cells = IPython.notebook.get_cells();\n    var ncells = cells.length;\n    for (var i = 0; i < ncells; i++) {\n        var cell = cells[i];\n        if (cell.cell_type === 'code') {\n            for (var j = 0; j < cell.output_area.outputs.length; j++) {\n                var data = cell.output_area.outputs[j];\n                if (data.data) {\n                    // IPython >= 3 moved mimebundle to data attribute of output\n                    data = data.data;\n                }\n                if (data['text/html'] === html_output) {\n                    return [cell, data, j];\n                }\n            }\n        }\n    }\n};\n\n// Register the function which deals with the matplotlib target/channel.\n// The kernel may be null if the page has been refreshed.\nif (IPython.notebook.kernel !== null) {\n    IPython.notebook.kernel.comm_manager.register_target(\n        'matplotlib',\n        mpl.mpl_figure_comm\n    );\n}\n"
     },
     "metadata": {},
     "output_type": "display_data"
    },
    {
     "data": {
      "text/plain": "<IPython.core.display.HTML object>",
      "text/html": "<div id='0e027958-0ed4-4111-b0b7-c70096af63d9'></div>"
     },
     "metadata": {},
     "output_type": "display_data"
    },
    {
     "data": {
      "text/plain": "(<Figure size 1000x500 with 2 Axes>,\n array([<Axes: title={'center': 'Loss'}, xlabel='Epochs', ylabel='Loss'>,\n        <Axes: title={'center': 'Accuracy'}, xlabel='Epochs', ylabel='Accuracy'>],\n       dtype=object))"
     },
     "execution_count": 67,
     "metadata": {},
     "output_type": "execute_result"
    }
   ],
   "source": [
    "plot_history(model_history,show_standard_deviation=False,show_average=True)"
   ],
   "metadata": {
    "collapsed": false,
    "ExecuteTime": {
     "end_time": "2023-09-11T20:35:12.796868500Z",
     "start_time": "2023-09-11T20:35:12.605916200Z"
    }
   },
   "id": "82044be1bcd135ef"
  },
  {
   "cell_type": "code",
   "execution_count": 68,
   "outputs": [],
   "source": [
    "#model.save_weights('Scikit-Learn-PipeLine-Model.h5')\n",
    "model.load_weights('Scikit-Learn-PipeLine-Model.h5')"
   ],
   "metadata": {
    "collapsed": false,
    "ExecuteTime": {
     "end_time": "2023-09-11T20:36:42.572094400Z",
     "start_time": "2023-09-11T20:36:42.483830100Z"
    }
   },
   "id": "cce71897c419853f"
  },
  {
   "cell_type": "markdown",
   "source": [
    "**Testing On 10 Min Set**"
   ],
   "metadata": {
    "collapsed": false
   },
   "id": "2589f93614264019"
  },
  {
   "cell_type": "code",
   "execution_count": 90,
   "outputs": [],
   "source": [
    "min_10_data=pd.read_csv('10_minutes_final_processed_gsmfloor_data5.csv')"
   ],
   "metadata": {
    "collapsed": false,
    "ExecuteTime": {
     "end_time": "2023-09-11T20:46:51.353771900Z",
     "start_time": "2023-09-11T20:46:51.270480Z"
    }
   },
   "id": "f4f08683e075b962"
  },
  {
   "cell_type": "code",
   "execution_count": 91,
   "outputs": [
    {
     "data": {
      "text/plain": "(59999, 3)"
     },
     "execution_count": 91,
     "metadata": {},
     "output_type": "execute_result"
    }
   ],
   "source": [
    "min_10_data.drop(columns=['Unnamed: 0'],axis=1,inplace=True)\n",
    "min_10_data.shape"
   ],
   "metadata": {
    "collapsed": false,
    "ExecuteTime": {
     "end_time": "2023-09-11T20:46:51.906312900Z",
     "start_time": "2023-09-11T20:46:51.859118500Z"
    }
   },
   "id": "4a9e0d71b2821eb5"
  },
  {
   "cell_type": "code",
   "execution_count": 92,
   "outputs": [],
   "source": [
    "min_10_data['label']=min_10_data['label'].replace(2,1)"
   ],
   "metadata": {
    "collapsed": false,
    "ExecuteTime": {
     "end_time": "2023-09-11T20:46:53.009035Z",
     "start_time": "2023-09-11T20:46:52.931082800Z"
    }
   },
   "id": "d15de79360f177fb"
  },
  {
   "cell_type": "code",
   "execution_count": 93,
   "outputs": [],
   "source": [
    "x_values=min_10_data['combined_result']\n",
    "y_values=min_10_data['label']"
   ],
   "metadata": {
    "collapsed": false,
    "ExecuteTime": {
     "end_time": "2023-09-11T20:46:53.386976800Z",
     "start_time": "2023-09-11T20:46:53.341430500Z"
    }
   },
   "id": "a5231f787e6d9374"
  },
  {
   "cell_type": "code",
   "execution_count": 94,
   "outputs": [
    {
     "data": {
      "text/plain": "3.148"
     },
     "execution_count": 94,
     "metadata": {},
     "output_type": "execute_result"
    }
   ],
   "source": [
    "x_values.max()"
   ],
   "metadata": {
    "collapsed": false,
    "ExecuteTime": {
     "end_time": "2023-09-11T20:46:53.973363500Z",
     "start_time": "2023-09-11T20:46:53.941770600Z"
    }
   },
   "id": "9417f46e9f75c874"
  },
  {
   "cell_type": "code",
   "execution_count": 95,
   "outputs": [],
   "source": [
    "std_X = x_values.std()\n",
    "desired_snr = 0.1\n",
    "std_noise = std_X * desired_snr\n",
    "noise = np.random.normal(0, std_noise, x_values.shape)"
   ],
   "metadata": {
    "collapsed": false,
    "ExecuteTime": {
     "end_time": "2023-09-11T20:46:54.514578600Z",
     "start_time": "2023-09-11T20:46:54.466885900Z"
    }
   },
   "id": "a988d501dd6f7d8e"
  },
  {
   "cell_type": "code",
   "execution_count": 96,
   "outputs": [],
   "source": [
    "min_10_data['noisy_feature_column'] = x_values + noise\n",
    "noisy_signal=min_10_data['noisy_feature_column']"
   ],
   "metadata": {
    "collapsed": false,
    "ExecuteTime": {
     "end_time": "2023-09-11T20:46:55.059730100Z",
     "start_time": "2023-09-11T20:46:55.012517400Z"
    }
   },
   "id": "449014672249e049"
  },
  {
   "cell_type": "code",
   "execution_count": 97,
   "outputs": [],
   "source": [
    "noisy_signal=noisy_signal.to_frame()"
   ],
   "metadata": {
    "collapsed": false,
    "ExecuteTime": {
     "end_time": "2023-09-11T20:46:55.617015900Z",
     "start_time": "2023-09-11T20:46:55.569686Z"
    }
   },
   "id": "bfe468ba938166bf"
  },
  {
   "cell_type": "code",
   "execution_count": 98,
   "outputs": [],
   "source": [
    "trf1=ColumnTransformer(transformers=[\n",
    "    ('Scaling',MinMaxScaler(feature_range=(0.0, 3.14)),[0])\n",
    "],remainder='passthrough')"
   ],
   "metadata": {
    "collapsed": false,
    "ExecuteTime": {
     "end_time": "2023-09-11T20:46:56.590403900Z",
     "start_time": "2023-09-11T20:46:56.543431800Z"
    }
   },
   "id": "ec98590cecd0df79"
  },
  {
   "cell_type": "code",
   "execution_count": 99,
   "outputs": [],
   "source": [
    "pipe = Pipeline([\n",
    "    ('trf1', trf1)\n",
    "])"
   ],
   "metadata": {
    "collapsed": false,
    "ExecuteTime": {
     "end_time": "2023-09-11T20:46:57.008426100Z",
     "start_time": "2023-09-11T20:46:56.945595100Z"
    }
   },
   "id": "fb25fd0da6665e9d"
  },
  {
   "cell_type": "code",
   "execution_count": 100,
   "outputs": [],
   "source": [
    "X_transformed=pipe.fit_transform(noisy_signal)"
   ],
   "metadata": {
    "collapsed": false,
    "ExecuteTime": {
     "end_time": "2023-09-11T20:46:57.430814Z",
     "start_time": "2023-09-11T20:46:57.383756400Z"
    }
   },
   "id": "464385cc2bf4121e"
  },
  {
   "cell_type": "code",
   "execution_count": 101,
   "outputs": [],
   "source": [
    "X_transformed_series = pd.Series(X_transformed[:, 0], name='Transformed Data')"
   ],
   "metadata": {
    "collapsed": false,
    "ExecuteTime": {
     "end_time": "2023-09-11T20:46:58.051134500Z",
     "start_time": "2023-09-11T20:46:58.019534300Z"
    }
   },
   "id": "e4090ee826e8ddd5"
  },
  {
   "cell_type": "code",
   "execution_count": 102,
   "outputs": [],
   "source": [
    "event=[]\n",
    "labe=[]\n",
    "temp=[]\n",
    "for index,value in y_values.items():\n",
    "    if value==1:\n",
    "        temp.append(X_transformed_series[index])\n",
    "        if (index+1)<len(y_values) and y_values[index+1]==0:\n",
    "            event.append(temp)\n",
    "            labe.append(1)\n",
    "            temp=[]\n",
    "    if value==0:\n",
    "        temp.append(X_transformed_series[index])\n",
    "        if (index+1)<len(y_values) and y_values[index+1]==1:\n",
    "            event.append(temp)\n",
    "            labe.append(0)\n",
    "            temp=[]"
   ],
   "metadata": {
    "collapsed": false,
    "ExecuteTime": {
     "end_time": "2023-09-11T20:46:59.214122900Z",
     "start_time": "2023-09-11T20:46:58.385327400Z"
    }
   },
   "id": "260fa895207d1b14"
  },
  {
   "cell_type": "code",
   "execution_count": 103,
   "outputs": [],
   "source": [
    "event=pad_sequences(event,padding='post',truncating='post',dtype=float,maxlen=50)\n",
    "labe=np.array(labe)\n",
    "labe=labe.reshape(-1,1)\n",
    "event=event.reshape(event.shape[0], event.shape[1], 1)"
   ],
   "metadata": {
    "collapsed": false,
    "ExecuteTime": {
     "end_time": "2023-09-11T20:47:00.193688200Z",
     "start_time": "2023-09-11T20:47:00.131062200Z"
    }
   },
   "id": "52228230ebee027f"
  },
  {
   "cell_type": "code",
   "execution_count": 104,
   "outputs": [],
   "source": [
    "# For 10 Min Data set\n",
    "m_10=event.shape[0]\n",
    "s0_10 = np.zeros((m_10, n_s))\n",
    "c0_10 = np.zeros((m_10, n_s))"
   ],
   "metadata": {
    "collapsed": false,
    "ExecuteTime": {
     "end_time": "2023-09-11T20:47:00.635854400Z",
     "start_time": "2023-09-11T20:47:00.604592Z"
    }
   },
   "id": "e864c69319fdff5b"
  },
  {
   "cell_type": "code",
   "execution_count": 105,
   "outputs": [
    {
     "name": "stdout",
     "output_type": "stream",
     "text": [
      "10/10 [==============================] - 0s 8ms/step\n"
     ]
    }
   ],
   "source": [
    "predictions_10 = model.predict([event, s0_10, c0_10])\n",
    "predictions_10 = np.round(predictions_10)"
   ],
   "metadata": {
    "collapsed": false,
    "ExecuteTime": {
     "end_time": "2023-09-11T20:47:01.176875500Z",
     "start_time": "2023-09-11T20:47:00.991152600Z"
    }
   },
   "id": "7077f003db23a4c"
  },
  {
   "cell_type": "code",
   "execution_count": 106,
   "outputs": [
    {
     "name": "stdout",
     "output_type": "stream",
     "text": [
      "1.986206896551724\n"
     ]
    }
   ],
   "source": [
    "predictions_10_count=np.count_nonzero(predictions_10==1)\n",
    "actual_10_count=np.count_nonzero(labe==1)\n",
    "print(predictions_10_count/actual_10_count)"
   ],
   "metadata": {
    "collapsed": false,
    "ExecuteTime": {
     "end_time": "2023-09-11T20:47:02.093857500Z",
     "start_time": "2023-09-11T20:47:02.042633400Z"
    }
   },
   "id": "3d08bf5ad3f34d0c"
  },
  {
   "cell_type": "code",
   "execution_count": 107,
   "outputs": [
    {
     "name": "stdout",
     "output_type": "stream",
     "text": [
      "              precision    recall  f1-score   support\n",
      "\n",
      "         0.0       0.00      0.00      0.00         1\n",
      "         1.0       0.99      0.50      0.67       288\n",
      "\n",
      "    accuracy                           0.50       289\n",
      "   macro avg       0.50      0.25      0.33       289\n",
      "weighted avg       0.99      0.50      0.66       289\n"
     ]
    }
   ],
   "source": [
    "report = classification_report(predictions_10,labe)\n",
    "print(report)"
   ],
   "metadata": {
    "collapsed": false,
    "ExecuteTime": {
     "end_time": "2023-09-11T20:47:03.718680700Z",
     "start_time": "2023-09-11T20:47:03.655955900Z"
    }
   },
   "id": "b991e98ba17e08aa"
  },
  {
   "cell_type": "code",
   "execution_count": null,
   "outputs": [],
   "source": [],
   "metadata": {
    "collapsed": false
   },
   "id": "725ce458e368c800"
  }
 ],
 "metadata": {
  "kernelspec": {
   "display_name": "Python 3",
   "language": "python",
   "name": "python3"
  },
  "language_info": {
   "codemirror_mode": {
    "name": "ipython",
    "version": 2
   },
   "file_extension": ".py",
   "mimetype": "text/x-python",
   "name": "python",
   "nbconvert_exporter": "python",
   "pygments_lexer": "ipython2",
   "version": "2.7.6"
  }
 },
 "nbformat": 4,
 "nbformat_minor": 5
}
