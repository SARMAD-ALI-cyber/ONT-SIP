{
 "cells": [
  {
   "cell_type": "code",
   "execution_count": 1,
   "id": "initial_id",
   "metadata": {
    "ExecuteTime": {
     "end_time": "2023-09-13T13:18:29.882495500Z",
     "start_time": "2023-09-13T13:18:26.340681500Z"
    },
    "collapsed": true
   },
   "outputs": [],
   "source": [
    "import numpy as np\n",
    "import  pandas as pd\n",
    "import tensorflow as tf\n",
    "from sklearn.model_selection import train_test_split\n",
    "from keras.utils import pad_sequences\n",
    "from sklearn.metrics import classification_report\n",
    "from plot_keras_history import plot_history\n",
    "from sklearn.preprocessing import MinMaxScaler\n",
    "import matplotlib.pyplot as plt\n",
    "%matplotlib notebook"
   ]
  },
  {
   "cell_type": "code",
   "execution_count": 2,
   "id": "db7345d503c559ce",
   "metadata": {
    "ExecuteTime": {
     "end_time": "2023-09-13T13:18:30.873289900Z",
     "start_time": "2023-09-13T13:18:30.657940300Z"
    }
   },
   "outputs": [],
   "source": [
    "data=pd.read_csv('DATA.csv')"
   ]
  },
  {
   "cell_type": "code",
   "execution_count": 3,
   "id": "256b1664c2d324c0",
   "metadata": {
    "ExecuteTime": {
     "end_time": "2023-09-13T13:18:31.543176100Z",
     "start_time": "2023-09-13T13:18:31.509701500Z"
    }
   },
   "outputs": [],
   "source": [
    "data.drop(columns=['Unnamed: 0'],axis=1,inplace=True)"
   ]
  },
  {
   "cell_type": "code",
   "execution_count": 4,
   "id": "b43978861b71e834",
   "metadata": {
    "ExecuteTime": {
     "end_time": "2023-09-13T13:18:32.216525900Z",
     "start_time": "2023-09-13T13:18:32.170269100Z"
    }
   },
   "outputs": [],
   "source": [
    "data['label']=data['label'].replace(2,1)"
   ]
  },
  {
   "cell_type": "code",
   "execution_count": 5,
   "id": "2773a1c733a1b299",
   "metadata": {
    "ExecuteTime": {
     "end_time": "2023-09-13T13:18:32.672797Z",
     "start_time": "2023-09-13T13:18:32.647746700Z"
    }
   },
   "outputs": [],
   "source": [
    "X=data['combined_result']\n",
    "y=data['label']\n",
    "time_series=data['t_dist']"
   ]
  },
  {
   "cell_type": "code",
   "execution_count": 6,
   "id": "26065a759cd1f26b",
   "metadata": {
    "ExecuteTime": {
     "end_time": "2023-09-13T13:18:33.202272500Z",
     "start_time": "2023-09-13T13:18:33.119371100Z"
    }
   },
   "outputs": [],
   "source": [
    "std_X = X.std()\n",
    "desired_snr = 0.1\n",
    "std_noise = std_X * desired_snr\n",
    "noise = np.random.normal(0, std_noise, X.shape)"
   ]
  },
  {
   "cell_type": "code",
   "execution_count": 7,
   "id": "336e44346fe4f865",
   "metadata": {
    "ExecuteTime": {
     "end_time": "2023-09-13T13:18:33.975568100Z",
     "start_time": "2023-09-13T13:18:33.940215800Z"
    }
   },
   "outputs": [],
   "source": [
    "data['noisy_feature_column'] = X + noise\n",
    "noisy_signal=data['noisy_feature_column']"
   ]
  },
  {
   "cell_type": "code",
   "execution_count": 8,
   "id": "b76ed46716217991",
   "metadata": {
    "ExecuteTime": {
     "end_time": "2023-09-13T13:18:34.468558200Z",
     "start_time": "2023-09-13T13:18:34.410616900Z"
    }
   },
   "outputs": [
    {
     "data": {
      "text/plain": [
       "(299995,)"
      ]
     },
     "execution_count": 8,
     "metadata": {},
     "output_type": "execute_result"
    }
   ],
   "source": [
    "X.shape"
   ]
  },
  {
   "cell_type": "code",
   "execution_count": 9,
   "id": "a29458f725816380",
   "metadata": {
    "ExecuteTime": {
     "end_time": "2023-09-13T13:18:34.918455100Z",
     "start_time": "2023-09-13T13:18:34.838169Z"
    }
   },
   "outputs": [],
   "source": [
    "X=pd.concat([X, noisy_signal], ignore_index=True)\n",
    "y=pd.concat([y, y], ignore_index=True)"
   ]
  },
  {
   "cell_type": "code",
   "execution_count": 10,
   "id": "9b9ee5c23f3b612c",
   "metadata": {
    "ExecuteTime": {
     "end_time": "2023-09-13T13:18:35.684530900Z",
     "start_time": "2023-09-13T13:18:35.640321Z"
    }
   },
   "outputs": [
    {
     "data": {
      "text/plain": [
       "(599990,)"
      ]
     },
     "execution_count": 10,
     "metadata": {},
     "output_type": "execute_result"
    }
   ],
   "source": [
    "X.shape"
   ]
  },
  {
   "cell_type": "code",
   "execution_count": 11,
   "id": "966793e622ff3a45",
   "metadata": {
    "ExecuteTime": {
     "end_time": "2023-09-13T13:18:42.918114200Z",
     "start_time": "2023-09-13T13:18:36.471048700Z"
    }
   },
   "outputs": [],
   "source": [
    "# Extracting sequences from the dataset\n",
    "sequences=[]\n",
    "labels=[]\n",
    "temp=[]\n",
    "\n",
    "for index,value in y.items():\n",
    "    if value==1:\n",
    "        temp.append(X[index])\n",
    "        if (index+1)<len(y) and y[index+1]==0:\n",
    "            sequences.append(temp)\n",
    "            labels.append(1)\n",
    "            temp=[]\n",
    "    if value==0:\n",
    "        temp.append(X[index])\n",
    "        if (index+1)<len(y) and y[index+1]==1:\n",
    "            sequences.append(temp)\n",
    "            labels.append(0)\n",
    "            temp=[]"
   ]
  },
  {
   "cell_type": "code",
   "execution_count": 12,
   "id": "784ebe7792539e",
   "metadata": {
    "ExecuteTime": {
     "end_time": "2023-09-13T13:18:45.615378500Z",
     "start_time": "2023-09-13T13:18:45.521212100Z"
    }
   },
   "outputs": [],
   "source": [
    "# Not a sequence but label is 1 \n",
    "zero_seq_label_one=[]\n",
    "for position, sublist in enumerate(sequences):\n",
    "    if all(element == 0 for element in sublist):\n",
    "        if labels[position]==1:\n",
    "            zero_seq_label_one.append(position)"
   ]
  },
  {
   "cell_type": "code",
   "execution_count": 13,
   "id": "749915d13b83e199",
   "metadata": {
    "ExecuteTime": {
     "end_time": "2023-09-13T13:18:50.380500200Z",
     "start_time": "2023-09-13T13:18:50.314405800Z"
    }
   },
   "outputs": [
    {
     "name": "stdout",
     "output_type": "stream",
     "text": [
      "58\n"
     ]
    }
   ],
   "source": [
    "print(len(zero_seq_label_one))"
   ]
  },
  {
   "cell_type": "code",
   "execution_count": 14,
   "id": "8411f03442af5e5a",
   "metadata": {
    "ExecuteTime": {
     "end_time": "2023-09-13T13:18:54.515616600Z",
     "start_time": "2023-09-13T13:18:54.489535200Z"
    }
   },
   "outputs": [],
   "source": [
    "# Replacing those with 0\n",
    "for value in zero_seq_label_one:\n",
    "    labels[value]=0"
   ]
  },
  {
   "cell_type": "markdown",
   "id": "57120a8240ef156e",
   "metadata": {},
   "source": [
    "We are replacing labels of non sequences to zero because it is possible that due to combine data we still have the previous data problem.\n",
    "But we are not correcting the 2nd scenerio where is a sequence but label 0 because after noise addition there are some sequences that were not sequence in orignal form and after noise they are still not sequence so if we replace labels for those sequences they also get changed. It is also clear from number of those sequences previously in orignal data they were 127  here they are 800 something. "
   ]
  },
  {
   "cell_type": "code",
   "execution_count": 15,
   "id": "8ec6386d8cc1aa11",
   "metadata": {
    "ExecuteTime": {
     "end_time": "2023-09-13T13:18:55.976325100Z",
     "start_time": "2023-09-13T13:18:55.912888200Z"
    }
   },
   "outputs": [],
   "source": [
    "# Padding and reshaping\n",
    "X_train=pad_sequences(sequences,padding='post',truncating='post',dtype=float,maxlen=50)"
   ]
  },
  {
   "cell_type": "code",
   "execution_count": 16,
   "id": "84cd04c5eedefe2b",
   "metadata": {
    "ExecuteTime": {
     "end_time": "2023-09-13T13:18:56.536850500Z",
     "start_time": "2023-09-13T13:18:56.488978700Z"
    }
   },
   "outputs": [],
   "source": [
    "y_train = np.array(labels)\n",
    "y_train = y_train.reshape(-1, 1)"
   ]
  },
  {
   "cell_type": "code",
   "execution_count": 17,
   "id": "4581ead1e48d2d8c",
   "metadata": {
    "ExecuteTime": {
     "end_time": "2023-09-13T13:18:57.170192700Z",
     "start_time": "2023-09-13T13:18:57.076157500Z"
    }
   },
   "outputs": [
    {
     "data": {
      "text/plain": [
       "(2899, 1)"
      ]
     },
     "execution_count": 17,
     "metadata": {},
     "output_type": "execute_result"
    }
   ],
   "source": [
    "y_train.shape"
   ]
  },
  {
   "cell_type": "code",
   "execution_count": 18,
   "id": "74ef69e8ae772451",
   "metadata": {
    "ExecuteTime": {
     "end_time": "2023-09-13T13:18:57.633548700Z",
     "start_time": "2023-09-13T13:18:57.601755500Z"
    }
   },
   "outputs": [
    {
     "data": {
      "text/plain": [
       "(2899, 50, 1)"
      ]
     },
     "execution_count": 18,
     "metadata": {},
     "output_type": "execute_result"
    }
   ],
   "source": [
    "X_train=X_train.reshape(X_train.shape[0], X_train.shape[1], 1)\n",
    "X_train.shape"
   ]
  },
  {
   "cell_type": "code",
   "execution_count": 19,
   "id": "b96bbd3fc6395525",
   "metadata": {
    "ExecuteTime": {
     "end_time": "2023-09-13T13:18:57.998298200Z",
     "start_time": "2023-09-13T13:18:57.936569100Z"
    }
   },
   "outputs": [],
   "source": [
    "# It is because Our each  sequence has max laength of 50 and in output we want to predict a label\n",
    "Tx=50\n",
    "Ty=1\n",
    "repeator = tf.keras.layers.RepeatVector(Tx)\n",
    "concatenator = tf.keras.layers.Concatenate(axis=-1)\n",
    "densor1 =tf.keras.layers. Dense(10, activation = \"tanh\")\n",
    "densor2 = tf.keras.layers.Dense(1, activation = \"relu\")\n",
    "activator = tf.keras.layers.Activation('softmax', name='attention_weights') # We are using a custom softmax(axis = 1) loaded in this notebook\n",
    "dotor =tf.keras.layers. Dot(axes = 1)"
   ]
  },
  {
   "cell_type": "code",
   "execution_count": 20,
   "id": "624da56213e37103",
   "metadata": {
    "ExecuteTime": {
     "end_time": "2023-09-13T13:18:58.575127300Z",
     "start_time": "2023-09-13T13:18:58.512280500Z"
    }
   },
   "outputs": [],
   "source": [
    "def one_step_attention(a,s_prev):\n",
    "    # We done this to change s_prev to shape of(m,Tx,n_s) for cocatination with a, because concatenation requires all dimension same accept concat axis in this \n",
    "    # case is last one so a and s_prev have same first two dims (m,Tx) but last one is changed\n",
    "    s_prev=repeator(s_prev)\n",
    "    # We will here concatenate a and s_prev\n",
    "    concat=concatenator([a,s_prev])\n",
    "    # here i will calculate energies with 2 dense layers\n",
    "    e=densor1(concat)\n",
    "    energies=densor2(e)\n",
    "    # we know alpha is softmax of this energy\n",
    "    alpha=activator(energies)\n",
    "    # to calculate context vector we take dot product of alpha and a\n",
    "    context_vector=dotor([alpha,a])\n",
    "    return context_vector"
   ]
  },
  {
   "cell_type": "code",
   "execution_count": 21,
   "id": "70af3ed2466768d3",
   "metadata": {
    "ExecuteTime": {
     "end_time": "2023-09-13T13:18:59.002804200Z",
     "start_time": "2023-09-13T13:18:58.971267200Z"
    }
   },
   "outputs": [],
   "source": [
    "n_a = 32 # number of units for the pre-attention, bi-directional LSTM's hidden state 'a'\n",
    "n_s = 64 # number of units for the post-attention LSTM's hidden state \"s\"\n",
    "\n",
    "# Please note, this is the post attention LSTM cell.\n",
    "post_activation_LSTM_cell = tf.keras.layers.LSTM(n_s, return_state = True) # Please do not modify this global variable.\n",
    "output_layer = tf.keras.layers.Dense(1, activation='sigmoid')"
   ]
  },
  {
   "cell_type": "code",
   "execution_count": 22,
   "id": "bca55558ffc9c691",
   "metadata": {
    "ExecuteTime": {
     "end_time": "2023-09-13T13:18:59.585908700Z",
     "start_time": "2023-09-13T13:18:59.517999400Z"
    }
   },
   "outputs": [],
   "source": [
    "def modelf(Tx,Ty,n_a, n_s):\n",
    "    X=tf.keras.layers.Input(shape=(X_train.shape[1],1)) # because embedding layer only demands the sequence length if i give full shape like (m,Tx) the\n",
    "    # ouput of embedding layer will be 4D which can not be fed into BILSTM\n",
    "    # hidden state for post LSTM\n",
    "    s0 = tf.keras.layers.Input(shape=(n_s,), name='s0')\n",
    "    # cell state for post lstm\n",
    "    # because we know From CampusX that shape of hidden and cell state of lstm are equal\n",
    "    c0 = tf.keras.layers.Input(shape=(n_s,), name='c0')\n",
    "    s=s0\n",
    "    c=c0\n",
    "    outputs = []\n",
    "\n",
    "    a = tf.keras.layers.Bidirectional(tf.keras.layers.LSTM(n_a,return_sequences=True),input_shape=(X_train.shape[1],1))(X)\n",
    "\n",
    "    for t in range(Ty):\n",
    "        context=one_step_attention(a,s)\n",
    "        _,s,c=post_activation_LSTM_cell(context,initial_state = [s,c] )\n",
    "        out = output_layer(s)\n",
    "        outputs.append(out)\n",
    "\n",
    "\n",
    "\n",
    "    print(outputs)\n",
    "    model=tf.keras.models.Model(inputs=[X,s0,c0],outputs=outputs)\n",
    "\n",
    "    return model"
   ]
  },
  {
   "cell_type": "code",
   "execution_count": 23,
   "id": "cd0ac5d18ff2204",
   "metadata": {
    "ExecuteTime": {
     "end_time": "2023-09-13T13:19:01.618962Z",
     "start_time": "2023-09-13T13:19:00.203547400Z"
    }
   },
   "outputs": [
    {
     "name": "stdout",
     "output_type": "stream",
     "text": [
      "[<KerasTensor: shape=(None, 1) dtype=float32 (created by layer 'dense_2')>]\n"
     ]
    }
   ],
   "source": [
    "model = modelf(Tx, Ty, n_a, n_s)"
   ]
  },
  {
   "cell_type": "code",
   "execution_count": 24,
   "id": "1d664c80ae9c392e",
   "metadata": {
    "ExecuteTime": {
     "end_time": "2023-09-13T13:19:03.794463800Z",
     "start_time": "2023-09-13T13:19:03.736218900Z"
    }
   },
   "outputs": [],
   "source": [
    "opt = tf.keras.optimizers.Adam(learning_rate=0.00001,beta_1=0.9,beta_2=0.999)#0.00001\n",
    "model.compile(loss = tf.keras.losses.BinaryCrossentropy(), optimizer = opt, metrics = ['accuracy'])"
   ]
  },
  {
   "cell_type": "code",
   "execution_count": 25,
   "id": "156859f60cc7d893",
   "metadata": {
    "ExecuteTime": {
     "end_time": "2023-09-13T13:19:07.262358700Z",
     "start_time": "2023-09-13T13:19:07.185393Z"
    }
   },
   "outputs": [],
   "source": [
    "# For Training Set\n",
    "m=X_train.shape[0]\n",
    "s0 = np.zeros((m, n_s))\n",
    "c0 = np.zeros((m, n_s))"
   ]
  },
  {
   "cell_type": "code",
   "execution_count": 33,
   "id": "89409533cc1cc9bf",
   "metadata": {
    "ExecuteTime": {
     "end_time": "2023-09-11T19:13:34.176329Z",
     "start_time": "2023-09-11T19:10:56.660087600Z"
    }
   },
   "outputs": [
    {
     "name": "stdout",
     "output_type": "stream",
     "text": [
      "Epoch 1/200\n",
      "29/29 [==============================] - 5s 22ms/step - loss: 0.6936 - accuracy: 0.5412\n",
      "Epoch 2/200\n",
      "29/29 [==============================] - 1s 22ms/step - loss: 0.6903 - accuracy: 0.5847\n",
      "Epoch 3/200\n",
      "29/29 [==============================] - 1s 22ms/step - loss: 0.6871 - accuracy: 0.6199\n",
      "Epoch 4/200\n",
      "29/29 [==============================] - 1s 22ms/step - loss: 0.6840 - accuracy: 0.6371\n",
      "Epoch 5/200\n",
      "29/29 [==============================] - 1s 22ms/step - loss: 0.6811 - accuracy: 0.6444\n",
      "Epoch 6/200\n",
      "29/29 [==============================] - 1s 22ms/step - loss: 0.6781 - accuracy: 0.6475\n",
      "Epoch 7/200\n",
      "29/29 [==============================] - 1s 23ms/step - loss: 0.6753 - accuracy: 0.6513\n",
      "Epoch 8/200\n",
      "29/29 [==============================] - 1s 22ms/step - loss: 0.6725 - accuracy: 0.6516\n",
      "Epoch 9/200\n",
      "29/29 [==============================] - 1s 23ms/step - loss: 0.6697 - accuracy: 0.6530\n",
      "Epoch 10/200\n",
      "29/29 [==============================] - 1s 23ms/step - loss: 0.6670 - accuracy: 0.6561\n",
      "Epoch 11/200\n",
      "29/29 [==============================] - 1s 23ms/step - loss: 0.6644 - accuracy: 0.6644\n",
      "Epoch 12/200\n",
      "29/29 [==============================] - 1s 24ms/step - loss: 0.6618 - accuracy: 0.6657\n",
      "Epoch 13/200\n",
      "29/29 [==============================] - 1s 23ms/step - loss: 0.6592 - accuracy: 0.6695\n",
      "Epoch 14/200\n",
      "29/29 [==============================] - 1s 23ms/step - loss: 0.6566 - accuracy: 0.6709\n",
      "Epoch 15/200\n",
      "29/29 [==============================] - 1s 23ms/step - loss: 0.6541 - accuracy: 0.6720\n",
      "Epoch 16/200\n",
      "29/29 [==============================] - 1s 23ms/step - loss: 0.6515 - accuracy: 0.6723\n",
      "Epoch 17/200\n",
      "29/29 [==============================] - 1s 28ms/step - loss: 0.6490 - accuracy: 0.6754\n",
      "Epoch 18/200\n",
      "29/29 [==============================] - 1s 23ms/step - loss: 0.6465 - accuracy: 0.6771\n",
      "Epoch 19/200\n",
      "29/29 [==============================] - 1s 22ms/step - loss: 0.6439 - accuracy: 0.6809\n",
      "Epoch 20/200\n",
      "29/29 [==============================] - 1s 22ms/step - loss: 0.6414 - accuracy: 0.6826\n",
      "Epoch 21/200\n",
      "29/29 [==============================] - 1s 22ms/step - loss: 0.6389 - accuracy: 0.6847\n",
      "Epoch 22/200\n",
      "29/29 [==============================] - 1s 23ms/step - loss: 0.6363 - accuracy: 0.6878\n",
      "Epoch 23/200\n",
      "29/29 [==============================] - 1s 22ms/step - loss: 0.6338 - accuracy: 0.6895\n",
      "Epoch 24/200\n",
      "29/29 [==============================] - 1s 24ms/step - loss: 0.6313 - accuracy: 0.6923\n",
      "Epoch 25/200\n",
      "29/29 [==============================] - 1s 26ms/step - loss: 0.6287 - accuracy: 0.6940\n",
      "Epoch 26/200\n",
      "29/29 [==============================] - 1s 24ms/step - loss: 0.6261 - accuracy: 0.6947\n",
      "Epoch 27/200\n",
      "29/29 [==============================] - 1s 24ms/step - loss: 0.6236 - accuracy: 0.6961\n",
      "Epoch 28/200\n",
      "29/29 [==============================] - 1s 26ms/step - loss: 0.6209 - accuracy: 0.6996\n",
      "Epoch 29/200\n",
      "29/29 [==============================] - 1s 24ms/step - loss: 0.6183 - accuracy: 0.7009\n",
      "Epoch 30/200\n",
      "29/29 [==============================] - 1s 23ms/step - loss: 0.6158 - accuracy: 0.7061\n",
      "Epoch 31/200\n",
      "29/29 [==============================] - 1s 29ms/step - loss: 0.6131 - accuracy: 0.7030\n",
      "Epoch 32/200\n",
      "29/29 [==============================] - 1s 25ms/step - loss: 0.6104 - accuracy: 0.7058\n",
      "Epoch 33/200\n",
      "29/29 [==============================] - 1s 24ms/step - loss: 0.6077 - accuracy: 0.7096\n",
      "Epoch 34/200\n",
      "29/29 [==============================] - 1s 28ms/step - loss: 0.6051 - accuracy: 0.7092\n",
      "Epoch 35/200\n",
      "29/29 [==============================] - 1s 28ms/step - loss: 0.6023 - accuracy: 0.7113\n",
      "Epoch 36/200\n",
      "29/29 [==============================] - 1s 26ms/step - loss: 0.5995 - accuracy: 0.7116\n",
      "Epoch 37/200\n",
      "29/29 [==============================] - 1s 26ms/step - loss: 0.5968 - accuracy: 0.7137\n",
      "Epoch 38/200\n",
      "29/29 [==============================] - 1s 29ms/step - loss: 0.5939 - accuracy: 0.7144\n",
      "Epoch 39/200\n",
      "29/29 [==============================] - 1s 29ms/step - loss: 0.5912 - accuracy: 0.7196\n",
      "Epoch 40/200\n",
      "29/29 [==============================] - 1s 29ms/step - loss: 0.5883 - accuracy: 0.7178\n",
      "Epoch 41/200\n",
      "29/29 [==============================] - 1s 30ms/step - loss: 0.5853 - accuracy: 0.7178\n",
      "Epoch 42/200\n",
      "29/29 [==============================] - 1s 27ms/step - loss: 0.5825 - accuracy: 0.7216\n",
      "Epoch 43/200\n",
      "29/29 [==============================] - 1s 27ms/step - loss: 0.5796 - accuracy: 0.7196\n",
      "Epoch 44/200\n",
      "29/29 [==============================] - 1s 26ms/step - loss: 0.5765 - accuracy: 0.7213\n",
      "Epoch 45/200\n",
      "29/29 [==============================] - 1s 26ms/step - loss: 0.5734 - accuracy: 0.7244\n",
      "Epoch 46/200\n",
      "29/29 [==============================] - 1s 25ms/step - loss: 0.5704 - accuracy: 0.7271\n",
      "Epoch 47/200\n",
      "29/29 [==============================] - 1s 26ms/step - loss: 0.5673 - accuracy: 0.7268\n",
      "Epoch 48/200\n",
      "29/29 [==============================] - 1s 25ms/step - loss: 0.5644 - accuracy: 0.7247\n",
      "Epoch 49/200\n",
      "29/29 [==============================] - 1s 26ms/step - loss: 0.5611 - accuracy: 0.7316\n",
      "Epoch 50/200\n",
      "29/29 [==============================] - 1s 25ms/step - loss: 0.5578 - accuracy: 0.7323\n",
      "Epoch 51/200\n",
      "29/29 [==============================] - 1s 25ms/step - loss: 0.5546 - accuracy: 0.7399\n",
      "Epoch 52/200\n",
      "29/29 [==============================] - 1s 26ms/step - loss: 0.5513 - accuracy: 0.7385\n",
      "Epoch 53/200\n",
      "29/29 [==============================] - 1s 26ms/step - loss: 0.5480 - accuracy: 0.7382\n",
      "Epoch 54/200\n",
      "29/29 [==============================] - 1s 27ms/step - loss: 0.5446 - accuracy: 0.7399\n",
      "Epoch 55/200\n",
      "29/29 [==============================] - 1s 26ms/step - loss: 0.5411 - accuracy: 0.7461\n",
      "Epoch 56/200\n",
      "29/29 [==============================] - 1s 26ms/step - loss: 0.5377 - accuracy: 0.7472\n",
      "Epoch 57/200\n",
      "29/29 [==============================] - 1s 26ms/step - loss: 0.5343 - accuracy: 0.7447\n",
      "Epoch 58/200\n",
      "29/29 [==============================] - 1s 34ms/step - loss: 0.5307 - accuracy: 0.7492\n",
      "Epoch 59/200\n",
      "29/29 [==============================] - 1s 27ms/step - loss: 0.5272 - accuracy: 0.7492\n",
      "Epoch 60/200\n",
      "29/29 [==============================] - 1s 27ms/step - loss: 0.5236 - accuracy: 0.7568\n",
      "Epoch 61/200\n",
      "29/29 [==============================] - 1s 27ms/step - loss: 0.5198 - accuracy: 0.7541\n",
      "Epoch 62/200\n",
      "29/29 [==============================] - 1s 27ms/step - loss: 0.5161 - accuracy: 0.7610\n",
      "Epoch 63/200\n",
      "29/29 [==============================] - 1s 26ms/step - loss: 0.5122 - accuracy: 0.7589\n",
      "Epoch 64/200\n",
      "29/29 [==============================] - 1s 27ms/step - loss: 0.5083 - accuracy: 0.7620\n",
      "Epoch 65/200\n",
      "29/29 [==============================] - 1s 27ms/step - loss: 0.5044 - accuracy: 0.7634\n",
      "Epoch 66/200\n",
      "29/29 [==============================] - 1s 27ms/step - loss: 0.5006 - accuracy: 0.7716\n",
      "Epoch 67/200\n",
      "29/29 [==============================] - 1s 27ms/step - loss: 0.4965 - accuracy: 0.7679\n",
      "Epoch 68/200\n",
      "29/29 [==============================] - 1s 27ms/step - loss: 0.4926 - accuracy: 0.7723\n",
      "Epoch 69/200\n",
      "29/29 [==============================] - 1s 27ms/step - loss: 0.4886 - accuracy: 0.7741\n",
      "Epoch 70/200\n",
      "29/29 [==============================] - 1s 27ms/step - loss: 0.4846 - accuracy: 0.7782\n",
      "Epoch 71/200\n",
      "29/29 [==============================] - 1s 27ms/step - loss: 0.4805 - accuracy: 0.7830\n",
      "Epoch 72/200\n",
      "29/29 [==============================] - 1s 27ms/step - loss: 0.4765 - accuracy: 0.7813\n",
      "Epoch 73/200\n",
      "29/29 [==============================] - 1s 26ms/step - loss: 0.4726 - accuracy: 0.7875\n",
      "Epoch 74/200\n",
      "29/29 [==============================] - 1s 27ms/step - loss: 0.4686 - accuracy: 0.7882\n",
      "Epoch 75/200\n",
      "29/29 [==============================] - 1s 27ms/step - loss: 0.4649 - accuracy: 0.7896\n",
      "Epoch 76/200\n",
      "29/29 [==============================] - 1s 27ms/step - loss: 0.4614 - accuracy: 0.7961\n",
      "Epoch 77/200\n",
      "29/29 [==============================] - 1s 27ms/step - loss: 0.4576 - accuracy: 0.7930\n",
      "Epoch 78/200\n",
      "29/29 [==============================] - 1s 27ms/step - loss: 0.4536 - accuracy: 0.7996\n",
      "Epoch 79/200\n",
      "29/29 [==============================] - 1s 27ms/step - loss: 0.4504 - accuracy: 0.8027\n",
      "Epoch 80/200\n",
      "29/29 [==============================] - 1s 26ms/step - loss: 0.4470 - accuracy: 0.7989\n",
      "Epoch 81/200\n",
      "29/29 [==============================] - 1s 27ms/step - loss: 0.4435 - accuracy: 0.8065\n",
      "Epoch 82/200\n",
      "29/29 [==============================] - 1s 26ms/step - loss: 0.4405 - accuracy: 0.8079\n",
      "Epoch 83/200\n",
      "29/29 [==============================] - 1s 27ms/step - loss: 0.4378 - accuracy: 0.8065\n",
      "Epoch 84/200\n",
      "29/29 [==============================] - 1s 27ms/step - loss: 0.4346 - accuracy: 0.8110\n",
      "Epoch 85/200\n",
      "29/29 [==============================] - 1s 26ms/step - loss: 0.4321 - accuracy: 0.8127\n",
      "Epoch 86/200\n",
      "29/29 [==============================] - 1s 26ms/step - loss: 0.4296 - accuracy: 0.8110\n",
      "Epoch 87/200\n",
      "29/29 [==============================] - 1s 27ms/step - loss: 0.4271 - accuracy: 0.8141\n",
      "Epoch 88/200\n",
      "29/29 [==============================] - 1s 27ms/step - loss: 0.4252 - accuracy: 0.8158\n",
      "Epoch 89/200\n",
      "29/29 [==============================] - 1s 26ms/step - loss: 0.4233 - accuracy: 0.8155\n",
      "Epoch 90/200\n",
      "29/29 [==============================] - 1s 26ms/step - loss: 0.4216 - accuracy: 0.8192\n",
      "Epoch 91/200\n",
      "29/29 [==============================] - 1s 27ms/step - loss: 0.4195 - accuracy: 0.8199\n",
      "Epoch 92/200\n",
      "29/29 [==============================] - 1s 27ms/step - loss: 0.4177 - accuracy: 0.8196\n",
      "Epoch 93/200\n",
      "29/29 [==============================] - 1s 26ms/step - loss: 0.4165 - accuracy: 0.8196\n",
      "Epoch 94/200\n",
      "29/29 [==============================] - 1s 26ms/step - loss: 0.4157 - accuracy: 0.8237\n",
      "Epoch 95/200\n",
      "29/29 [==============================] - 1s 26ms/step - loss: 0.4142 - accuracy: 0.8272\n",
      "Epoch 96/200\n",
      "29/29 [==============================] - 1s 26ms/step - loss: 0.4127 - accuracy: 0.8224\n",
      "Epoch 97/200\n",
      "29/29 [==============================] - 1s 27ms/step - loss: 0.4115 - accuracy: 0.8241\n",
      "Epoch 98/200\n",
      "29/29 [==============================] - 1s 26ms/step - loss: 0.4105 - accuracy: 0.8265\n",
      "Epoch 99/200\n",
      "29/29 [==============================] - 1s 34ms/step - loss: 0.4097 - accuracy: 0.8261\n",
      "Epoch 100/200\n",
      "29/29 [==============================] - 1s 27ms/step - loss: 0.4094 - accuracy: 0.8272\n",
      "Epoch 101/200\n",
      "29/29 [==============================] - 1s 26ms/step - loss: 0.4077 - accuracy: 0.8293\n",
      "Epoch 102/200\n",
      "29/29 [==============================] - 1s 27ms/step - loss: 0.4078 - accuracy: 0.8286\n",
      "Epoch 103/200\n",
      "29/29 [==============================] - 1s 29ms/step - loss: 0.4065 - accuracy: 0.8299\n",
      "Epoch 104/200\n",
      "29/29 [==============================] - 1s 27ms/step - loss: 0.4069 - accuracy: 0.8299\n",
      "Epoch 105/200\n",
      "29/29 [==============================] - 1s 27ms/step - loss: 0.4059 - accuracy: 0.8272\n",
      "Epoch 106/200\n",
      "29/29 [==============================] - 1s 27ms/step - loss: 0.4053 - accuracy: 0.8299\n",
      "Epoch 107/200\n",
      "29/29 [==============================] - 1s 27ms/step - loss: 0.4060 - accuracy: 0.8275\n",
      "Epoch 108/200\n",
      "29/29 [==============================] - 1s 27ms/step - loss: 0.4044 - accuracy: 0.8310\n",
      "Epoch 109/200\n",
      "29/29 [==============================] - 1s 27ms/step - loss: 0.4042 - accuracy: 0.8303\n",
      "Epoch 110/200\n",
      "29/29 [==============================] - 1s 27ms/step - loss: 0.4036 - accuracy: 0.8306\n",
      "Epoch 111/200\n",
      "29/29 [==============================] - 1s 27ms/step - loss: 0.4042 - accuracy: 0.8296\n",
      "Epoch 112/200\n",
      "29/29 [==============================] - 1s 27ms/step - loss: 0.4036 - accuracy: 0.8313\n",
      "Epoch 113/200\n",
      "29/29 [==============================] - 1s 27ms/step - loss: 0.4029 - accuracy: 0.8289\n",
      "Epoch 114/200\n",
      "29/29 [==============================] - 1s 27ms/step - loss: 0.4037 - accuracy: 0.8310\n",
      "Epoch 115/200\n",
      "29/29 [==============================] - 1s 27ms/step - loss: 0.4023 - accuracy: 0.8330\n",
      "Epoch 116/200\n",
      "29/29 [==============================] - 1s 27ms/step - loss: 0.4029 - accuracy: 0.8299\n",
      "Epoch 117/200\n",
      "29/29 [==============================] - 1s 27ms/step - loss: 0.4027 - accuracy: 0.8310\n",
      "Epoch 118/200\n",
      "29/29 [==============================] - 1s 27ms/step - loss: 0.4020 - accuracy: 0.8303\n",
      "Epoch 119/200\n",
      "29/29 [==============================] - 1s 27ms/step - loss: 0.4023 - accuracy: 0.8306\n",
      "Epoch 120/200\n",
      "29/29 [==============================] - 1s 27ms/step - loss: 0.4024 - accuracy: 0.8310\n",
      "Epoch 121/200\n",
      "29/29 [==============================] - 1s 27ms/step - loss: 0.4026 - accuracy: 0.8327\n",
      "Epoch 122/200\n",
      "29/29 [==============================] - 1s 27ms/step - loss: 0.4008 - accuracy: 0.8310\n",
      "Epoch 123/200\n",
      "29/29 [==============================] - 1s 27ms/step - loss: 0.4013 - accuracy: 0.8320\n",
      "Epoch 124/200\n",
      "29/29 [==============================] - 1s 27ms/step - loss: 0.4020 - accuracy: 0.8317\n",
      "Epoch 125/200\n",
      "29/29 [==============================] - 1s 27ms/step - loss: 0.4007 - accuracy: 0.8303\n",
      "Epoch 126/200\n",
      "29/29 [==============================] - 1s 27ms/step - loss: 0.4008 - accuracy: 0.8320\n",
      "Epoch 127/200\n",
      "29/29 [==============================] - 1s 26ms/step - loss: 0.4008 - accuracy: 0.8327\n",
      "Epoch 128/200\n",
      "29/29 [==============================] - 1s 27ms/step - loss: 0.4020 - accuracy: 0.8306\n",
      "Epoch 129/200\n",
      "29/29 [==============================] - 1s 27ms/step - loss: 0.4014 - accuracy: 0.8313\n",
      "Epoch 130/200\n",
      "29/29 [==============================] - 1s 27ms/step - loss: 0.4001 - accuracy: 0.8313\n",
      "Epoch 131/200\n",
      "29/29 [==============================] - 1s 27ms/step - loss: 0.4003 - accuracy: 0.8310\n",
      "Epoch 132/200\n",
      "29/29 [==============================] - 1s 27ms/step - loss: 0.4000 - accuracy: 0.8317\n",
      "Epoch 133/200\n",
      "29/29 [==============================] - 1s 27ms/step - loss: 0.4001 - accuracy: 0.8324\n",
      "Epoch 134/200\n",
      "29/29 [==============================] - 1s 27ms/step - loss: 0.4000 - accuracy: 0.8310\n",
      "Epoch 135/200\n",
      "29/29 [==============================] - 1s 26ms/step - loss: 0.4001 - accuracy: 0.8317\n",
      "Epoch 136/200\n",
      "29/29 [==============================] - 1s 26ms/step - loss: 0.3997 - accuracy: 0.8317\n",
      "Epoch 137/200\n",
      "29/29 [==============================] - 1s 27ms/step - loss: 0.3993 - accuracy: 0.8317\n",
      "Epoch 138/200\n",
      "29/29 [==============================] - 1s 27ms/step - loss: 0.3994 - accuracy: 0.8313\n",
      "Epoch 139/200\n",
      "29/29 [==============================] - 1s 33ms/step - loss: 0.3989 - accuracy: 0.8313\n",
      "Epoch 140/200\n",
      "29/29 [==============================] - 1s 29ms/step - loss: 0.3988 - accuracy: 0.8324\n",
      "Epoch 141/200\n",
      "29/29 [==============================] - 1s 27ms/step - loss: 0.4000 - accuracy: 0.8299\n",
      "Epoch 142/200\n",
      "29/29 [==============================] - 1s 26ms/step - loss: 0.3988 - accuracy: 0.8341\n",
      "Epoch 143/200\n",
      "29/29 [==============================] - 1s 27ms/step - loss: 0.3999 - accuracy: 0.8330\n",
      "Epoch 144/200\n",
      "29/29 [==============================] - 1s 28ms/step - loss: 0.3996 - accuracy: 0.8330\n",
      "Epoch 145/200\n",
      "29/29 [==============================] - 1s 26ms/step - loss: 0.3988 - accuracy: 0.8310\n",
      "Epoch 146/200\n",
      "29/29 [==============================] - 1s 27ms/step - loss: 0.3984 - accuracy: 0.8324\n",
      "Epoch 147/200\n",
      "29/29 [==============================] - 1s 27ms/step - loss: 0.3983 - accuracy: 0.8320\n",
      "Epoch 148/200\n",
      "29/29 [==============================] - 1s 27ms/step - loss: 0.3984 - accuracy: 0.8341\n",
      "Epoch 149/200\n",
      "29/29 [==============================] - 1s 27ms/step - loss: 0.3988 - accuracy: 0.8306\n",
      "Epoch 150/200\n",
      "29/29 [==============================] - 1s 27ms/step - loss: 0.3990 - accuracy: 0.8306\n",
      "Epoch 151/200\n",
      "29/29 [==============================] - 1s 27ms/step - loss: 0.3982 - accuracy: 0.8320\n",
      "Epoch 152/200\n",
      "29/29 [==============================] - 1s 27ms/step - loss: 0.3976 - accuracy: 0.8317\n",
      "Epoch 153/200\n",
      "29/29 [==============================] - 1s 27ms/step - loss: 0.3978 - accuracy: 0.8317\n",
      "Epoch 154/200\n",
      "29/29 [==============================] - 1s 27ms/step - loss: 0.3977 - accuracy: 0.8334\n",
      "Epoch 155/200\n",
      "29/29 [==============================] - 1s 27ms/step - loss: 0.3972 - accuracy: 0.8330\n",
      "Epoch 156/200\n",
      "29/29 [==============================] - 1s 27ms/step - loss: 0.3975 - accuracy: 0.8327\n",
      "Epoch 157/200\n",
      "29/29 [==============================] - 1s 27ms/step - loss: 0.3976 - accuracy: 0.8324\n",
      "Epoch 158/200\n",
      "29/29 [==============================] - 1s 27ms/step - loss: 0.3973 - accuracy: 0.8334\n",
      "Epoch 159/200\n",
      "29/29 [==============================] - 1s 27ms/step - loss: 0.3970 - accuracy: 0.8320\n",
      "Epoch 160/200\n",
      "29/29 [==============================] - 1s 27ms/step - loss: 0.3969 - accuracy: 0.8317\n",
      "Epoch 161/200\n",
      "29/29 [==============================] - 1s 27ms/step - loss: 0.3972 - accuracy: 0.8324\n",
      "Epoch 162/200\n",
      "29/29 [==============================] - 1s 27ms/step - loss: 0.3967 - accuracy: 0.8320\n",
      "Epoch 163/200\n",
      "29/29 [==============================] - 1s 27ms/step - loss: 0.3970 - accuracy: 0.8334\n",
      "Epoch 164/200\n",
      "29/29 [==============================] - 1s 27ms/step - loss: 0.3977 - accuracy: 0.8320\n",
      "Epoch 165/200\n",
      "29/29 [==============================] - 1s 27ms/step - loss: 0.3969 - accuracy: 0.8327\n",
      "Epoch 166/200\n",
      "29/29 [==============================] - 1s 27ms/step - loss: 0.3968 - accuracy: 0.8327\n",
      "Epoch 167/200\n",
      "29/29 [==============================] - 1s 27ms/step - loss: 0.3966 - accuracy: 0.8327\n",
      "Epoch 168/200\n",
      "29/29 [==============================] - 1s 27ms/step - loss: 0.3964 - accuracy: 0.8313\n",
      "Epoch 169/200\n",
      "29/29 [==============================] - 1s 27ms/step - loss: 0.3961 - accuracy: 0.8330\n",
      "Epoch 170/200\n",
      "29/29 [==============================] - 1s 26ms/step - loss: 0.3956 - accuracy: 0.8320\n",
      "Epoch 171/200\n",
      "29/29 [==============================] - 1s 27ms/step - loss: 0.3956 - accuracy: 0.8348\n",
      "Epoch 172/200\n",
      "29/29 [==============================] - 1s 27ms/step - loss: 0.3958 - accuracy: 0.8327\n",
      "Epoch 173/200\n",
      "29/29 [==============================] - 1s 27ms/step - loss: 0.3954 - accuracy: 0.8341\n",
      "Epoch 174/200\n",
      "29/29 [==============================] - 1s 27ms/step - loss: 0.3962 - accuracy: 0.8313\n",
      "Epoch 175/200\n",
      "29/29 [==============================] - 1s 27ms/step - loss: 0.3951 - accuracy: 0.8330\n",
      "Epoch 176/200\n",
      "29/29 [==============================] - 1s 27ms/step - loss: 0.3955 - accuracy: 0.8330\n",
      "Epoch 177/200\n",
      "29/29 [==============================] - 1s 26ms/step - loss: 0.3949 - accuracy: 0.8324\n",
      "Epoch 178/200\n",
      "29/29 [==============================] - 1s 26ms/step - loss: 0.3949 - accuracy: 0.8330\n",
      "Epoch 179/200\n",
      "29/29 [==============================] - 1s 34ms/step - loss: 0.3950 - accuracy: 0.8327\n",
      "Epoch 180/200\n",
      "29/29 [==============================] - 1s 27ms/step - loss: 0.3945 - accuracy: 0.8351\n",
      "Epoch 181/200\n",
      "29/29 [==============================] - 1s 29ms/step - loss: 0.3943 - accuracy: 0.8344\n",
      "Epoch 182/200\n",
      "29/29 [==============================] - 1s 27ms/step - loss: 0.3943 - accuracy: 0.8334\n",
      "Epoch 183/200\n",
      "29/29 [==============================] - 1s 27ms/step - loss: 0.3942 - accuracy: 0.8344\n",
      "Epoch 184/200\n",
      "29/29 [==============================] - 1s 27ms/step - loss: 0.3942 - accuracy: 0.8337\n",
      "Epoch 185/200\n",
      "29/29 [==============================] - 1s 27ms/step - loss: 0.3941 - accuracy: 0.8344\n",
      "Epoch 186/200\n",
      "29/29 [==============================] - 1s 27ms/step - loss: 0.3939 - accuracy: 0.8348\n",
      "Epoch 187/200\n",
      "29/29 [==============================] - 1s 27ms/step - loss: 0.3943 - accuracy: 0.8344\n",
      "Epoch 188/200\n",
      "29/29 [==============================] - 1s 27ms/step - loss: 0.3936 - accuracy: 0.8337\n",
      "Epoch 189/200\n",
      "29/29 [==============================] - 1s 27ms/step - loss: 0.3936 - accuracy: 0.8344\n",
      "Epoch 190/200\n",
      "29/29 [==============================] - 1s 27ms/step - loss: 0.3933 - accuracy: 0.8334\n",
      "Epoch 191/200\n",
      "29/29 [==============================] - 1s 28ms/step - loss: 0.3936 - accuracy: 0.8337\n",
      "Epoch 192/200\n",
      "29/29 [==============================] - 1s 27ms/step - loss: 0.3931 - accuracy: 0.8341\n",
      "Epoch 193/200\n",
      "29/29 [==============================] - 1s 27ms/step - loss: 0.3935 - accuracy: 0.8327\n",
      "Epoch 194/200\n",
      "29/29 [==============================] - 1s 27ms/step - loss: 0.3929 - accuracy: 0.8334\n",
      "Epoch 195/200\n",
      "29/29 [==============================] - 1s 27ms/step - loss: 0.3927 - accuracy: 0.8337\n",
      "Epoch 196/200\n",
      "29/29 [==============================] - 1s 27ms/step - loss: 0.3929 - accuracy: 0.8344\n",
      "Epoch 197/200\n",
      "29/29 [==============================] - 1s 27ms/step - loss: 0.3928 - accuracy: 0.8324\n",
      "Epoch 198/200\n",
      "29/29 [==============================] - 1s 27ms/step - loss: 0.3930 - accuracy: 0.8330\n",
      "Epoch 199/200\n",
      "29/29 [==============================] - 1s 27ms/step - loss: 0.3925 - accuracy: 0.8348\n",
      "Epoch 200/200\n",
      "29/29 [==============================] - 1s 27ms/step - loss: 0.3920 - accuracy: 0.8337\n"
     ]
    }
   ],
   "source": [
    "model_history=model.fit([X_train, s0, c0], y_train, epochs=200, batch_size=100)#350"
   ]
  },
  {
   "cell_type": "code",
   "execution_count": 34,
   "id": "2040533107957be6",
   "metadata": {
    "ExecuteTime": {
     "end_time": "2023-09-11T19:13:51.440085300Z",
     "start_time": "2023-09-11T19:13:51.207014Z"
    }
   },
   "outputs": [
    {
     "data": {
      "application/javascript": [
       "/* Put everything inside the global mpl namespace */\n",
       "/* global mpl */\n",
       "window.mpl = {};\n",
       "\n",
       "mpl.get_websocket_type = function () {\n",
       "    if (typeof WebSocket !== 'undefined') {\n",
       "        return WebSocket;\n",
       "    } else if (typeof MozWebSocket !== 'undefined') {\n",
       "        return MozWebSocket;\n",
       "    } else {\n",
       "        alert(\n",
       "            'Your browser does not have WebSocket support. ' +\n",
       "                'Please try Chrome, Safari or Firefox ≥ 6. ' +\n",
       "                'Firefox 4 and 5 are also supported but you ' +\n",
       "                'have to enable WebSockets in about:config.'\n",
       "        );\n",
       "    }\n",
       "};\n",
       "\n",
       "mpl.figure = function (figure_id, websocket, ondownload, parent_element) {\n",
       "    this.id = figure_id;\n",
       "\n",
       "    this.ws = websocket;\n",
       "\n",
       "    this.supports_binary = this.ws.binaryType !== undefined;\n",
       "\n",
       "    if (!this.supports_binary) {\n",
       "        var warnings = document.getElementById('mpl-warnings');\n",
       "        if (warnings) {\n",
       "            warnings.style.display = 'block';\n",
       "            warnings.textContent =\n",
       "                'This browser does not support binary websocket messages. ' +\n",
       "                'Performance may be slow.';\n",
       "        }\n",
       "    }\n",
       "\n",
       "    this.imageObj = new Image();\n",
       "\n",
       "    this.context = undefined;\n",
       "    this.message = undefined;\n",
       "    this.canvas = undefined;\n",
       "    this.rubberband_canvas = undefined;\n",
       "    this.rubberband_context = undefined;\n",
       "    this.format_dropdown = undefined;\n",
       "\n",
       "    this.image_mode = 'full';\n",
       "\n",
       "    this.root = document.createElement('div');\n",
       "    this.root.setAttribute('style', 'display: inline-block');\n",
       "    this._root_extra_style(this.root);\n",
       "\n",
       "    parent_element.appendChild(this.root);\n",
       "\n",
       "    this._init_header(this);\n",
       "    this._init_canvas(this);\n",
       "    this._init_toolbar(this);\n",
       "\n",
       "    var fig = this;\n",
       "\n",
       "    this.waiting = false;\n",
       "\n",
       "    this.ws.onopen = function () {\n",
       "        fig.send_message('supports_binary', { value: fig.supports_binary });\n",
       "        fig.send_message('send_image_mode', {});\n",
       "        if (fig.ratio !== 1) {\n",
       "            fig.send_message('set_device_pixel_ratio', {\n",
       "                device_pixel_ratio: fig.ratio,\n",
       "            });\n",
       "        }\n",
       "        fig.send_message('refresh', {});\n",
       "    };\n",
       "\n",
       "    this.imageObj.onload = function () {\n",
       "        if (fig.image_mode === 'full') {\n",
       "            // Full images could contain transparency (where diff images\n",
       "            // almost always do), so we need to clear the canvas so that\n",
       "            // there is no ghosting.\n",
       "            fig.context.clearRect(0, 0, fig.canvas.width, fig.canvas.height);\n",
       "        }\n",
       "        fig.context.drawImage(fig.imageObj, 0, 0);\n",
       "    };\n",
       "\n",
       "    this.imageObj.onunload = function () {\n",
       "        fig.ws.close();\n",
       "    };\n",
       "\n",
       "    this.ws.onmessage = this._make_on_message_function(this);\n",
       "\n",
       "    this.ondownload = ondownload;\n",
       "};\n",
       "\n",
       "mpl.figure.prototype._init_header = function () {\n",
       "    var titlebar = document.createElement('div');\n",
       "    titlebar.classList =\n",
       "        'ui-dialog-titlebar ui-widget-header ui-corner-all ui-helper-clearfix';\n",
       "    var titletext = document.createElement('div');\n",
       "    titletext.classList = 'ui-dialog-title';\n",
       "    titletext.setAttribute(\n",
       "        'style',\n",
       "        'width: 100%; text-align: center; padding: 3px;'\n",
       "    );\n",
       "    titlebar.appendChild(titletext);\n",
       "    this.root.appendChild(titlebar);\n",
       "    this.header = titletext;\n",
       "};\n",
       "\n",
       "mpl.figure.prototype._canvas_extra_style = function (_canvas_div) {};\n",
       "\n",
       "mpl.figure.prototype._root_extra_style = function (_canvas_div) {};\n",
       "\n",
       "mpl.figure.prototype._init_canvas = function () {\n",
       "    var fig = this;\n",
       "\n",
       "    var canvas_div = (this.canvas_div = document.createElement('div'));\n",
       "    canvas_div.setAttribute('tabindex', '0');\n",
       "    canvas_div.setAttribute(\n",
       "        'style',\n",
       "        'border: 1px solid #ddd;' +\n",
       "            'box-sizing: content-box;' +\n",
       "            'clear: both;' +\n",
       "            'min-height: 1px;' +\n",
       "            'min-width: 1px;' +\n",
       "            'outline: 0;' +\n",
       "            'overflow: hidden;' +\n",
       "            'position: relative;' +\n",
       "            'resize: both;' +\n",
       "            'z-index: 2;'\n",
       "    );\n",
       "\n",
       "    function on_keyboard_event_closure(name) {\n",
       "        return function (event) {\n",
       "            return fig.key_event(event, name);\n",
       "        };\n",
       "    }\n",
       "\n",
       "    canvas_div.addEventListener(\n",
       "        'keydown',\n",
       "        on_keyboard_event_closure('key_press')\n",
       "    );\n",
       "    canvas_div.addEventListener(\n",
       "        'keyup',\n",
       "        on_keyboard_event_closure('key_release')\n",
       "    );\n",
       "\n",
       "    this._canvas_extra_style(canvas_div);\n",
       "    this.root.appendChild(canvas_div);\n",
       "\n",
       "    var canvas = (this.canvas = document.createElement('canvas'));\n",
       "    canvas.classList.add('mpl-canvas');\n",
       "    canvas.setAttribute(\n",
       "        'style',\n",
       "        'box-sizing: content-box;' +\n",
       "            'pointer-events: none;' +\n",
       "            'position: relative;' +\n",
       "            'z-index: 0;'\n",
       "    );\n",
       "\n",
       "    this.context = canvas.getContext('2d');\n",
       "\n",
       "    var backingStore =\n",
       "        this.context.backingStorePixelRatio ||\n",
       "        this.context.webkitBackingStorePixelRatio ||\n",
       "        this.context.mozBackingStorePixelRatio ||\n",
       "        this.context.msBackingStorePixelRatio ||\n",
       "        this.context.oBackingStorePixelRatio ||\n",
       "        this.context.backingStorePixelRatio ||\n",
       "        1;\n",
       "\n",
       "    this.ratio = (window.devicePixelRatio || 1) / backingStore;\n",
       "\n",
       "    var rubberband_canvas = (this.rubberband_canvas = document.createElement(\n",
       "        'canvas'\n",
       "    ));\n",
       "    rubberband_canvas.setAttribute(\n",
       "        'style',\n",
       "        'box-sizing: content-box;' +\n",
       "            'left: 0;' +\n",
       "            'pointer-events: none;' +\n",
       "            'position: absolute;' +\n",
       "            'top: 0;' +\n",
       "            'z-index: 1;'\n",
       "    );\n",
       "\n",
       "    // Apply a ponyfill if ResizeObserver is not implemented by browser.\n",
       "    if (this.ResizeObserver === undefined) {\n",
       "        if (window.ResizeObserver !== undefined) {\n",
       "            this.ResizeObserver = window.ResizeObserver;\n",
       "        } else {\n",
       "            var obs = _JSXTOOLS_RESIZE_OBSERVER({});\n",
       "            this.ResizeObserver = obs.ResizeObserver;\n",
       "        }\n",
       "    }\n",
       "\n",
       "    this.resizeObserverInstance = new this.ResizeObserver(function (entries) {\n",
       "        var nentries = entries.length;\n",
       "        for (var i = 0; i < nentries; i++) {\n",
       "            var entry = entries[i];\n",
       "            var width, height;\n",
       "            if (entry.contentBoxSize) {\n",
       "                if (entry.contentBoxSize instanceof Array) {\n",
       "                    // Chrome 84 implements new version of spec.\n",
       "                    width = entry.contentBoxSize[0].inlineSize;\n",
       "                    height = entry.contentBoxSize[0].blockSize;\n",
       "                } else {\n",
       "                    // Firefox implements old version of spec.\n",
       "                    width = entry.contentBoxSize.inlineSize;\n",
       "                    height = entry.contentBoxSize.blockSize;\n",
       "                }\n",
       "            } else {\n",
       "                // Chrome <84 implements even older version of spec.\n",
       "                width = entry.contentRect.width;\n",
       "                height = entry.contentRect.height;\n",
       "            }\n",
       "\n",
       "            // Keep the size of the canvas and rubber band canvas in sync with\n",
       "            // the canvas container.\n",
       "            if (entry.devicePixelContentBoxSize) {\n",
       "                // Chrome 84 implements new version of spec.\n",
       "                canvas.setAttribute(\n",
       "                    'width',\n",
       "                    entry.devicePixelContentBoxSize[0].inlineSize\n",
       "                );\n",
       "                canvas.setAttribute(\n",
       "                    'height',\n",
       "                    entry.devicePixelContentBoxSize[0].blockSize\n",
       "                );\n",
       "            } else {\n",
       "                canvas.setAttribute('width', width * fig.ratio);\n",
       "                canvas.setAttribute('height', height * fig.ratio);\n",
       "            }\n",
       "            /* This rescales the canvas back to display pixels, so that it\n",
       "             * appears correct on HiDPI screens. */\n",
       "            canvas.style.width = width + 'px';\n",
       "            canvas.style.height = height + 'px';\n",
       "\n",
       "            rubberband_canvas.setAttribute('width', width);\n",
       "            rubberband_canvas.setAttribute('height', height);\n",
       "\n",
       "            // And update the size in Python. We ignore the initial 0/0 size\n",
       "            // that occurs as the element is placed into the DOM, which should\n",
       "            // otherwise not happen due to the minimum size styling.\n",
       "            if (fig.ws.readyState == 1 && width != 0 && height != 0) {\n",
       "                fig.request_resize(width, height);\n",
       "            }\n",
       "        }\n",
       "    });\n",
       "    this.resizeObserverInstance.observe(canvas_div);\n",
       "\n",
       "    function on_mouse_event_closure(name) {\n",
       "        /* User Agent sniffing is bad, but WebKit is busted:\n",
       "         * https://bugs.webkit.org/show_bug.cgi?id=144526\n",
       "         * https://bugs.webkit.org/show_bug.cgi?id=181818\n",
       "         * The worst that happens here is that they get an extra browser\n",
       "         * selection when dragging, if this check fails to catch them.\n",
       "         */\n",
       "        var UA = navigator.userAgent;\n",
       "        var isWebKit = /AppleWebKit/.test(UA) && !/Chrome/.test(UA);\n",
       "        if(isWebKit) {\n",
       "            return function (event) {\n",
       "                /* This prevents the web browser from automatically changing to\n",
       "                 * the text insertion cursor when the button is pressed. We\n",
       "                 * want to control all of the cursor setting manually through\n",
       "                 * the 'cursor' event from matplotlib */\n",
       "                event.preventDefault()\n",
       "                return fig.mouse_event(event, name);\n",
       "            };\n",
       "        } else {\n",
       "            return function (event) {\n",
       "                return fig.mouse_event(event, name);\n",
       "            };\n",
       "        }\n",
       "    }\n",
       "\n",
       "    canvas_div.addEventListener(\n",
       "        'mousedown',\n",
       "        on_mouse_event_closure('button_press')\n",
       "    );\n",
       "    canvas_div.addEventListener(\n",
       "        'mouseup',\n",
       "        on_mouse_event_closure('button_release')\n",
       "    );\n",
       "    canvas_div.addEventListener(\n",
       "        'dblclick',\n",
       "        on_mouse_event_closure('dblclick')\n",
       "    );\n",
       "    // Throttle sequential mouse events to 1 every 20ms.\n",
       "    canvas_div.addEventListener(\n",
       "        'mousemove',\n",
       "        on_mouse_event_closure('motion_notify')\n",
       "    );\n",
       "\n",
       "    canvas_div.addEventListener(\n",
       "        'mouseenter',\n",
       "        on_mouse_event_closure('figure_enter')\n",
       "    );\n",
       "    canvas_div.addEventListener(\n",
       "        'mouseleave',\n",
       "        on_mouse_event_closure('figure_leave')\n",
       "    );\n",
       "\n",
       "    canvas_div.addEventListener('wheel', function (event) {\n",
       "        if (event.deltaY < 0) {\n",
       "            event.step = 1;\n",
       "        } else {\n",
       "            event.step = -1;\n",
       "        }\n",
       "        on_mouse_event_closure('scroll')(event);\n",
       "    });\n",
       "\n",
       "    canvas_div.appendChild(canvas);\n",
       "    canvas_div.appendChild(rubberband_canvas);\n",
       "\n",
       "    this.rubberband_context = rubberband_canvas.getContext('2d');\n",
       "    this.rubberband_context.strokeStyle = '#000000';\n",
       "\n",
       "    this._resize_canvas = function (width, height, forward) {\n",
       "        if (forward) {\n",
       "            canvas_div.style.width = width + 'px';\n",
       "            canvas_div.style.height = height + 'px';\n",
       "        }\n",
       "    };\n",
       "\n",
       "    // Disable right mouse context menu.\n",
       "    canvas_div.addEventListener('contextmenu', function (_e) {\n",
       "        event.preventDefault();\n",
       "        return false;\n",
       "    });\n",
       "\n",
       "    function set_focus() {\n",
       "        canvas.focus();\n",
       "        canvas_div.focus();\n",
       "    }\n",
       "\n",
       "    window.setTimeout(set_focus, 100);\n",
       "};\n",
       "\n",
       "mpl.figure.prototype._init_toolbar = function () {\n",
       "    var fig = this;\n",
       "\n",
       "    var toolbar = document.createElement('div');\n",
       "    toolbar.classList = 'mpl-toolbar';\n",
       "    this.root.appendChild(toolbar);\n",
       "\n",
       "    function on_click_closure(name) {\n",
       "        return function (_event) {\n",
       "            return fig.toolbar_button_onclick(name);\n",
       "        };\n",
       "    }\n",
       "\n",
       "    function on_mouseover_closure(tooltip) {\n",
       "        return function (event) {\n",
       "            if (!event.currentTarget.disabled) {\n",
       "                return fig.toolbar_button_onmouseover(tooltip);\n",
       "            }\n",
       "        };\n",
       "    }\n",
       "\n",
       "    fig.buttons = {};\n",
       "    var buttonGroup = document.createElement('div');\n",
       "    buttonGroup.classList = 'mpl-button-group';\n",
       "    for (var toolbar_ind in mpl.toolbar_items) {\n",
       "        var name = mpl.toolbar_items[toolbar_ind][0];\n",
       "        var tooltip = mpl.toolbar_items[toolbar_ind][1];\n",
       "        var image = mpl.toolbar_items[toolbar_ind][2];\n",
       "        var method_name = mpl.toolbar_items[toolbar_ind][3];\n",
       "\n",
       "        if (!name) {\n",
       "            /* Instead of a spacer, we start a new button group. */\n",
       "            if (buttonGroup.hasChildNodes()) {\n",
       "                toolbar.appendChild(buttonGroup);\n",
       "            }\n",
       "            buttonGroup = document.createElement('div');\n",
       "            buttonGroup.classList = 'mpl-button-group';\n",
       "            continue;\n",
       "        }\n",
       "\n",
       "        var button = (fig.buttons[name] = document.createElement('button'));\n",
       "        button.classList = 'mpl-widget';\n",
       "        button.setAttribute('role', 'button');\n",
       "        button.setAttribute('aria-disabled', 'false');\n",
       "        button.addEventListener('click', on_click_closure(method_name));\n",
       "        button.addEventListener('mouseover', on_mouseover_closure(tooltip));\n",
       "\n",
       "        var icon_img = document.createElement('img');\n",
       "        icon_img.src = '_images/' + image + '.png';\n",
       "        icon_img.srcset = '_images/' + image + '_large.png 2x';\n",
       "        icon_img.alt = tooltip;\n",
       "        button.appendChild(icon_img);\n",
       "\n",
       "        buttonGroup.appendChild(button);\n",
       "    }\n",
       "\n",
       "    if (buttonGroup.hasChildNodes()) {\n",
       "        toolbar.appendChild(buttonGroup);\n",
       "    }\n",
       "\n",
       "    var fmt_picker = document.createElement('select');\n",
       "    fmt_picker.classList = 'mpl-widget';\n",
       "    toolbar.appendChild(fmt_picker);\n",
       "    this.format_dropdown = fmt_picker;\n",
       "\n",
       "    for (var ind in mpl.extensions) {\n",
       "        var fmt = mpl.extensions[ind];\n",
       "        var option = document.createElement('option');\n",
       "        option.selected = fmt === mpl.default_extension;\n",
       "        option.innerHTML = fmt;\n",
       "        fmt_picker.appendChild(option);\n",
       "    }\n",
       "\n",
       "    var status_bar = document.createElement('span');\n",
       "    status_bar.classList = 'mpl-message';\n",
       "    toolbar.appendChild(status_bar);\n",
       "    this.message = status_bar;\n",
       "};\n",
       "\n",
       "mpl.figure.prototype.request_resize = function (x_pixels, y_pixels) {\n",
       "    // Request matplotlib to resize the figure. Matplotlib will then trigger a resize in the client,\n",
       "    // which will in turn request a refresh of the image.\n",
       "    this.send_message('resize', { width: x_pixels, height: y_pixels });\n",
       "};\n",
       "\n",
       "mpl.figure.prototype.send_message = function (type, properties) {\n",
       "    properties['type'] = type;\n",
       "    properties['figure_id'] = this.id;\n",
       "    this.ws.send(JSON.stringify(properties));\n",
       "};\n",
       "\n",
       "mpl.figure.prototype.send_draw_message = function () {\n",
       "    if (!this.waiting) {\n",
       "        this.waiting = true;\n",
       "        this.ws.send(JSON.stringify({ type: 'draw', figure_id: this.id }));\n",
       "    }\n",
       "};\n",
       "\n",
       "mpl.figure.prototype.handle_save = function (fig, _msg) {\n",
       "    var format_dropdown = fig.format_dropdown;\n",
       "    var format = format_dropdown.options[format_dropdown.selectedIndex].value;\n",
       "    fig.ondownload(fig, format);\n",
       "};\n",
       "\n",
       "mpl.figure.prototype.handle_resize = function (fig, msg) {\n",
       "    var size = msg['size'];\n",
       "    if (size[0] !== fig.canvas.width || size[1] !== fig.canvas.height) {\n",
       "        fig._resize_canvas(size[0], size[1], msg['forward']);\n",
       "        fig.send_message('refresh', {});\n",
       "    }\n",
       "};\n",
       "\n",
       "mpl.figure.prototype.handle_rubberband = function (fig, msg) {\n",
       "    var x0 = msg['x0'] / fig.ratio;\n",
       "    var y0 = (fig.canvas.height - msg['y0']) / fig.ratio;\n",
       "    var x1 = msg['x1'] / fig.ratio;\n",
       "    var y1 = (fig.canvas.height - msg['y1']) / fig.ratio;\n",
       "    x0 = Math.floor(x0) + 0.5;\n",
       "    y0 = Math.floor(y0) + 0.5;\n",
       "    x1 = Math.floor(x1) + 0.5;\n",
       "    y1 = Math.floor(y1) + 0.5;\n",
       "    var min_x = Math.min(x0, x1);\n",
       "    var min_y = Math.min(y0, y1);\n",
       "    var width = Math.abs(x1 - x0);\n",
       "    var height = Math.abs(y1 - y0);\n",
       "\n",
       "    fig.rubberband_context.clearRect(\n",
       "        0,\n",
       "        0,\n",
       "        fig.canvas.width / fig.ratio,\n",
       "        fig.canvas.height / fig.ratio\n",
       "    );\n",
       "\n",
       "    fig.rubberband_context.strokeRect(min_x, min_y, width, height);\n",
       "};\n",
       "\n",
       "mpl.figure.prototype.handle_figure_label = function (fig, msg) {\n",
       "    // Updates the figure title.\n",
       "    fig.header.textContent = msg['label'];\n",
       "};\n",
       "\n",
       "mpl.figure.prototype.handle_cursor = function (fig, msg) {\n",
       "    fig.canvas_div.style.cursor = msg['cursor'];\n",
       "};\n",
       "\n",
       "mpl.figure.prototype.handle_message = function (fig, msg) {\n",
       "    fig.message.textContent = msg['message'];\n",
       "};\n",
       "\n",
       "mpl.figure.prototype.handle_draw = function (fig, _msg) {\n",
       "    // Request the server to send over a new figure.\n",
       "    fig.send_draw_message();\n",
       "};\n",
       "\n",
       "mpl.figure.prototype.handle_image_mode = function (fig, msg) {\n",
       "    fig.image_mode = msg['mode'];\n",
       "};\n",
       "\n",
       "mpl.figure.prototype.handle_history_buttons = function (fig, msg) {\n",
       "    for (var key in msg) {\n",
       "        if (!(key in fig.buttons)) {\n",
       "            continue;\n",
       "        }\n",
       "        fig.buttons[key].disabled = !msg[key];\n",
       "        fig.buttons[key].setAttribute('aria-disabled', !msg[key]);\n",
       "    }\n",
       "};\n",
       "\n",
       "mpl.figure.prototype.handle_navigate_mode = function (fig, msg) {\n",
       "    if (msg['mode'] === 'PAN') {\n",
       "        fig.buttons['Pan'].classList.add('active');\n",
       "        fig.buttons['Zoom'].classList.remove('active');\n",
       "    } else if (msg['mode'] === 'ZOOM') {\n",
       "        fig.buttons['Pan'].classList.remove('active');\n",
       "        fig.buttons['Zoom'].classList.add('active');\n",
       "    } else {\n",
       "        fig.buttons['Pan'].classList.remove('active');\n",
       "        fig.buttons['Zoom'].classList.remove('active');\n",
       "    }\n",
       "};\n",
       "\n",
       "mpl.figure.prototype.updated_canvas_event = function () {\n",
       "    // Called whenever the canvas gets updated.\n",
       "    this.send_message('ack', {});\n",
       "};\n",
       "\n",
       "// A function to construct a web socket function for onmessage handling.\n",
       "// Called in the figure constructor.\n",
       "mpl.figure.prototype._make_on_message_function = function (fig) {\n",
       "    return function socket_on_message(evt) {\n",
       "        if (evt.data instanceof Blob) {\n",
       "            var img = evt.data;\n",
       "            if (img.type !== 'image/png') {\n",
       "                /* FIXME: We get \"Resource interpreted as Image but\n",
       "                 * transferred with MIME type text/plain:\" errors on\n",
       "                 * Chrome.  But how to set the MIME type?  It doesn't seem\n",
       "                 * to be part of the websocket stream */\n",
       "                img.type = 'image/png';\n",
       "            }\n",
       "\n",
       "            /* Free the memory for the previous frames */\n",
       "            if (fig.imageObj.src) {\n",
       "                (window.URL || window.webkitURL).revokeObjectURL(\n",
       "                    fig.imageObj.src\n",
       "                );\n",
       "            }\n",
       "\n",
       "            fig.imageObj.src = (window.URL || window.webkitURL).createObjectURL(\n",
       "                img\n",
       "            );\n",
       "            fig.updated_canvas_event();\n",
       "            fig.waiting = false;\n",
       "            return;\n",
       "        } else if (\n",
       "            typeof evt.data === 'string' &&\n",
       "            evt.data.slice(0, 21) === 'data:image/png;base64'\n",
       "        ) {\n",
       "            fig.imageObj.src = evt.data;\n",
       "            fig.updated_canvas_event();\n",
       "            fig.waiting = false;\n",
       "            return;\n",
       "        }\n",
       "\n",
       "        var msg = JSON.parse(evt.data);\n",
       "        var msg_type = msg['type'];\n",
       "\n",
       "        // Call the  \"handle_{type}\" callback, which takes\n",
       "        // the figure and JSON message as its only arguments.\n",
       "        try {\n",
       "            var callback = fig['handle_' + msg_type];\n",
       "        } catch (e) {\n",
       "            console.log(\n",
       "                \"No handler for the '\" + msg_type + \"' message type: \",\n",
       "                msg\n",
       "            );\n",
       "            return;\n",
       "        }\n",
       "\n",
       "        if (callback) {\n",
       "            try {\n",
       "                // console.log(\"Handling '\" + msg_type + \"' message: \", msg);\n",
       "                callback(fig, msg);\n",
       "            } catch (e) {\n",
       "                console.log(\n",
       "                    \"Exception inside the 'handler_\" + msg_type + \"' callback:\",\n",
       "                    e,\n",
       "                    e.stack,\n",
       "                    msg\n",
       "                );\n",
       "            }\n",
       "        }\n",
       "    };\n",
       "};\n",
       "\n",
       "function getModifiers(event) {\n",
       "    var mods = [];\n",
       "    if (event.ctrlKey) {\n",
       "        mods.push('ctrl');\n",
       "    }\n",
       "    if (event.altKey) {\n",
       "        mods.push('alt');\n",
       "    }\n",
       "    if (event.shiftKey) {\n",
       "        mods.push('shift');\n",
       "    }\n",
       "    if (event.metaKey) {\n",
       "        mods.push('meta');\n",
       "    }\n",
       "    return mods;\n",
       "}\n",
       "\n",
       "/*\n",
       " * return a copy of an object with only non-object keys\n",
       " * we need this to avoid circular references\n",
       " * https://stackoverflow.com/a/24161582/3208463\n",
       " */\n",
       "function simpleKeys(original) {\n",
       "    return Object.keys(original).reduce(function (obj, key) {\n",
       "        if (typeof original[key] !== 'object') {\n",
       "            obj[key] = original[key];\n",
       "        }\n",
       "        return obj;\n",
       "    }, {});\n",
       "}\n",
       "\n",
       "mpl.figure.prototype.mouse_event = function (event, name) {\n",
       "    if (name === 'button_press') {\n",
       "        this.canvas.focus();\n",
       "        this.canvas_div.focus();\n",
       "    }\n",
       "\n",
       "    // from https://stackoverflow.com/q/1114465\n",
       "    var boundingRect = this.canvas.getBoundingClientRect();\n",
       "    var x = (event.clientX - boundingRect.left) * this.ratio;\n",
       "    var y = (event.clientY - boundingRect.top) * this.ratio;\n",
       "\n",
       "    this.send_message(name, {\n",
       "        x: x,\n",
       "        y: y,\n",
       "        button: event.button,\n",
       "        step: event.step,\n",
       "        modifiers: getModifiers(event),\n",
       "        guiEvent: simpleKeys(event),\n",
       "    });\n",
       "\n",
       "    return false;\n",
       "};\n",
       "\n",
       "mpl.figure.prototype._key_event_extra = function (_event, _name) {\n",
       "    // Handle any extra behaviour associated with a key event\n",
       "};\n",
       "\n",
       "mpl.figure.prototype.key_event = function (event, name) {\n",
       "    // Prevent repeat events\n",
       "    if (name === 'key_press') {\n",
       "        if (event.key === this._key) {\n",
       "            return;\n",
       "        } else {\n",
       "            this._key = event.key;\n",
       "        }\n",
       "    }\n",
       "    if (name === 'key_release') {\n",
       "        this._key = null;\n",
       "    }\n",
       "\n",
       "    var value = '';\n",
       "    if (event.ctrlKey && event.key !== 'Control') {\n",
       "        value += 'ctrl+';\n",
       "    }\n",
       "    else if (event.altKey && event.key !== 'Alt') {\n",
       "        value += 'alt+';\n",
       "    }\n",
       "    else if (event.shiftKey && event.key !== 'Shift') {\n",
       "        value += 'shift+';\n",
       "    }\n",
       "\n",
       "    value += 'k' + event.key;\n",
       "\n",
       "    this._key_event_extra(event, name);\n",
       "\n",
       "    this.send_message(name, { key: value, guiEvent: simpleKeys(event) });\n",
       "    return false;\n",
       "};\n",
       "\n",
       "mpl.figure.prototype.toolbar_button_onclick = function (name) {\n",
       "    if (name === 'download') {\n",
       "        this.handle_save(this, null);\n",
       "    } else {\n",
       "        this.send_message('toolbar_button', { name: name });\n",
       "    }\n",
       "};\n",
       "\n",
       "mpl.figure.prototype.toolbar_button_onmouseover = function (tooltip) {\n",
       "    this.message.textContent = tooltip;\n",
       "};\n",
       "\n",
       "///////////////// REMAINING CONTENT GENERATED BY embed_js.py /////////////////\n",
       "// prettier-ignore\n",
       "var _JSXTOOLS_RESIZE_OBSERVER=function(A){var t,i=new WeakMap,n=new WeakMap,a=new WeakMap,r=new WeakMap,o=new Set;function s(e){if(!(this instanceof s))throw new TypeError(\"Constructor requires 'new' operator\");i.set(this,e)}function h(){throw new TypeError(\"Function is not a constructor\")}function c(e,t,i,n){e=0 in arguments?Number(arguments[0]):0,t=1 in arguments?Number(arguments[1]):0,i=2 in arguments?Number(arguments[2]):0,n=3 in arguments?Number(arguments[3]):0,this.right=(this.x=this.left=e)+(this.width=i),this.bottom=(this.y=this.top=t)+(this.height=n),Object.freeze(this)}function d(){t=requestAnimationFrame(d);var s=new WeakMap,p=new Set;o.forEach((function(t){r.get(t).forEach((function(i){var r=t instanceof window.SVGElement,o=a.get(t),d=r?0:parseFloat(o.paddingTop),f=r?0:parseFloat(o.paddingRight),l=r?0:parseFloat(o.paddingBottom),u=r?0:parseFloat(o.paddingLeft),g=r?0:parseFloat(o.borderTopWidth),m=r?0:parseFloat(o.borderRightWidth),w=r?0:parseFloat(o.borderBottomWidth),b=u+f,F=d+l,v=(r?0:parseFloat(o.borderLeftWidth))+m,W=g+w,y=r?0:t.offsetHeight-W-t.clientHeight,E=r?0:t.offsetWidth-v-t.clientWidth,R=b+v,z=F+W,M=r?t.width:parseFloat(o.width)-R-E,O=r?t.height:parseFloat(o.height)-z-y;if(n.has(t)){var k=n.get(t);if(k[0]===M&&k[1]===O)return}n.set(t,[M,O]);var S=Object.create(h.prototype);S.target=t,S.contentRect=new c(u,d,M,O),s.has(i)||(s.set(i,[]),p.add(i)),s.get(i).push(S)}))})),p.forEach((function(e){i.get(e).call(e,s.get(e),e)}))}return s.prototype.observe=function(i){if(i instanceof window.Element){r.has(i)||(r.set(i,new Set),o.add(i),a.set(i,window.getComputedStyle(i)));var n=r.get(i);n.has(this)||n.add(this),cancelAnimationFrame(t),t=requestAnimationFrame(d)}},s.prototype.unobserve=function(i){if(i instanceof window.Element&&r.has(i)){var n=r.get(i);n.has(this)&&(n.delete(this),n.size||(r.delete(i),o.delete(i))),n.size||r.delete(i),o.size||cancelAnimationFrame(t)}},A.DOMRectReadOnly=c,A.ResizeObserver=s,A.ResizeObserverEntry=h,A}; // eslint-disable-line\n",
       "mpl.toolbar_items = [[\"Home\", \"Reset original view\", \"fa fa-home\", \"home\"], [\"Back\", \"Back to previous view\", \"fa fa-arrow-left\", \"back\"], [\"Forward\", \"Forward to next view\", \"fa fa-arrow-right\", \"forward\"], [\"\", \"\", \"\", \"\"], [\"Pan\", \"Left button pans, Right button zooms\\nx/y fixes axis, CTRL fixes aspect\", \"fa fa-arrows\", \"pan\"], [\"Zoom\", \"Zoom to rectangle\\nx/y fixes axis\", \"fa fa-square-o\", \"zoom\"], [\"\", \"\", \"\", \"\"], [\"Download\", \"Download plot\", \"fa fa-floppy-o\", \"download\"]];\n",
       "\n",
       "mpl.extensions = [\"eps\", \"jpeg\", \"pgf\", \"pdf\", \"png\", \"ps\", \"raw\", \"svg\", \"tif\", \"webp\"];\n",
       "\n",
       "mpl.default_extension = \"png\";/* global mpl */\n",
       "\n",
       "var comm_websocket_adapter = function (comm) {\n",
       "    // Create a \"websocket\"-like object which calls the given IPython comm\n",
       "    // object with the appropriate methods. Currently this is a non binary\n",
       "    // socket, so there is still some room for performance tuning.\n",
       "    var ws = {};\n",
       "\n",
       "    ws.binaryType = comm.kernel.ws.binaryType;\n",
       "    ws.readyState = comm.kernel.ws.readyState;\n",
       "    function updateReadyState(_event) {\n",
       "        if (comm.kernel.ws) {\n",
       "            ws.readyState = comm.kernel.ws.readyState;\n",
       "        } else {\n",
       "            ws.readyState = 3; // Closed state.\n",
       "        }\n",
       "    }\n",
       "    comm.kernel.ws.addEventListener('open', updateReadyState);\n",
       "    comm.kernel.ws.addEventListener('close', updateReadyState);\n",
       "    comm.kernel.ws.addEventListener('error', updateReadyState);\n",
       "\n",
       "    ws.close = function () {\n",
       "        comm.close();\n",
       "    };\n",
       "    ws.send = function (m) {\n",
       "        //console.log('sending', m);\n",
       "        comm.send(m);\n",
       "    };\n",
       "    // Register the callback with on_msg.\n",
       "    comm.on_msg(function (msg) {\n",
       "        //console.log('receiving', msg['content']['data'], msg);\n",
       "        var data = msg['content']['data'];\n",
       "        if (data['blob'] !== undefined) {\n",
       "            data = {\n",
       "                data: new Blob(msg['buffers'], { type: data['blob'] }),\n",
       "            };\n",
       "        }\n",
       "        // Pass the mpl event to the overridden (by mpl) onmessage function.\n",
       "        ws.onmessage(data);\n",
       "    });\n",
       "    return ws;\n",
       "};\n",
       "\n",
       "mpl.mpl_figure_comm = function (comm, msg) {\n",
       "    // This is the function which gets called when the mpl process\n",
       "    // starts-up an IPython Comm through the \"matplotlib\" channel.\n",
       "\n",
       "    var id = msg.content.data.id;\n",
       "    // Get hold of the div created by the display call when the Comm\n",
       "    // socket was opened in Python.\n",
       "    var element = document.getElementById(id);\n",
       "    var ws_proxy = comm_websocket_adapter(comm);\n",
       "\n",
       "    function ondownload(figure, _format) {\n",
       "        window.open(figure.canvas.toDataURL());\n",
       "    }\n",
       "\n",
       "    var fig = new mpl.figure(id, ws_proxy, ondownload, element);\n",
       "\n",
       "    // Call onopen now - mpl needs it, as it is assuming we've passed it a real\n",
       "    // web socket which is closed, not our websocket->open comm proxy.\n",
       "    ws_proxy.onopen();\n",
       "\n",
       "    fig.parent_element = element;\n",
       "    fig.cell_info = mpl.find_output_cell(\"<div id='\" + id + \"'></div>\");\n",
       "    if (!fig.cell_info) {\n",
       "        console.error('Failed to find cell for figure', id, fig);\n",
       "        return;\n",
       "    }\n",
       "    fig.cell_info[0].output_area.element.on(\n",
       "        'cleared',\n",
       "        { fig: fig },\n",
       "        fig._remove_fig_handler\n",
       "    );\n",
       "};\n",
       "\n",
       "mpl.figure.prototype.handle_close = function (fig, msg) {\n",
       "    var width = fig.canvas.width / fig.ratio;\n",
       "    fig.cell_info[0].output_area.element.off(\n",
       "        'cleared',\n",
       "        fig._remove_fig_handler\n",
       "    );\n",
       "    fig.resizeObserverInstance.unobserve(fig.canvas_div);\n",
       "\n",
       "    // Update the output cell to use the data from the current canvas.\n",
       "    fig.push_to_output();\n",
       "    var dataURL = fig.canvas.toDataURL();\n",
       "    // Re-enable the keyboard manager in IPython - without this line, in FF,\n",
       "    // the notebook keyboard shortcuts fail.\n",
       "    IPython.keyboard_manager.enable();\n",
       "    fig.parent_element.innerHTML =\n",
       "        '<img src=\"' + dataURL + '\" width=\"' + width + '\">';\n",
       "    fig.close_ws(fig, msg);\n",
       "};\n",
       "\n",
       "mpl.figure.prototype.close_ws = function (fig, msg) {\n",
       "    fig.send_message('closing', msg);\n",
       "    // fig.ws.close()\n",
       "};\n",
       "\n",
       "mpl.figure.prototype.push_to_output = function (_remove_interactive) {\n",
       "    // Turn the data on the canvas into data in the output cell.\n",
       "    var width = this.canvas.width / this.ratio;\n",
       "    var dataURL = this.canvas.toDataURL();\n",
       "    this.cell_info[1]['text/html'] =\n",
       "        '<img src=\"' + dataURL + '\" width=\"' + width + '\">';\n",
       "};\n",
       "\n",
       "mpl.figure.prototype.updated_canvas_event = function () {\n",
       "    // Tell IPython that the notebook contents must change.\n",
       "    IPython.notebook.set_dirty(true);\n",
       "    this.send_message('ack', {});\n",
       "    var fig = this;\n",
       "    // Wait a second, then push the new image to the DOM so\n",
       "    // that it is saved nicely (might be nice to debounce this).\n",
       "    setTimeout(function () {\n",
       "        fig.push_to_output();\n",
       "    }, 1000);\n",
       "};\n",
       "\n",
       "mpl.figure.prototype._init_toolbar = function () {\n",
       "    var fig = this;\n",
       "\n",
       "    var toolbar = document.createElement('div');\n",
       "    toolbar.classList = 'btn-toolbar';\n",
       "    this.root.appendChild(toolbar);\n",
       "\n",
       "    function on_click_closure(name) {\n",
       "        return function (_event) {\n",
       "            return fig.toolbar_button_onclick(name);\n",
       "        };\n",
       "    }\n",
       "\n",
       "    function on_mouseover_closure(tooltip) {\n",
       "        return function (event) {\n",
       "            if (!event.currentTarget.disabled) {\n",
       "                return fig.toolbar_button_onmouseover(tooltip);\n",
       "            }\n",
       "        };\n",
       "    }\n",
       "\n",
       "    fig.buttons = {};\n",
       "    var buttonGroup = document.createElement('div');\n",
       "    buttonGroup.classList = 'btn-group';\n",
       "    var button;\n",
       "    for (var toolbar_ind in mpl.toolbar_items) {\n",
       "        var name = mpl.toolbar_items[toolbar_ind][0];\n",
       "        var tooltip = mpl.toolbar_items[toolbar_ind][1];\n",
       "        var image = mpl.toolbar_items[toolbar_ind][2];\n",
       "        var method_name = mpl.toolbar_items[toolbar_ind][3];\n",
       "\n",
       "        if (!name) {\n",
       "            /* Instead of a spacer, we start a new button group. */\n",
       "            if (buttonGroup.hasChildNodes()) {\n",
       "                toolbar.appendChild(buttonGroup);\n",
       "            }\n",
       "            buttonGroup = document.createElement('div');\n",
       "            buttonGroup.classList = 'btn-group';\n",
       "            continue;\n",
       "        }\n",
       "\n",
       "        button = fig.buttons[name] = document.createElement('button');\n",
       "        button.classList = 'btn btn-default';\n",
       "        button.href = '#';\n",
       "        button.title = name;\n",
       "        button.innerHTML = '<i class=\"fa ' + image + ' fa-lg\"></i>';\n",
       "        button.addEventListener('click', on_click_closure(method_name));\n",
       "        button.addEventListener('mouseover', on_mouseover_closure(tooltip));\n",
       "        buttonGroup.appendChild(button);\n",
       "    }\n",
       "\n",
       "    if (buttonGroup.hasChildNodes()) {\n",
       "        toolbar.appendChild(buttonGroup);\n",
       "    }\n",
       "\n",
       "    // Add the status bar.\n",
       "    var status_bar = document.createElement('span');\n",
       "    status_bar.classList = 'mpl-message pull-right';\n",
       "    toolbar.appendChild(status_bar);\n",
       "    this.message = status_bar;\n",
       "\n",
       "    // Add the close button to the window.\n",
       "    var buttongrp = document.createElement('div');\n",
       "    buttongrp.classList = 'btn-group inline pull-right';\n",
       "    button = document.createElement('button');\n",
       "    button.classList = 'btn btn-mini btn-primary';\n",
       "    button.href = '#';\n",
       "    button.title = 'Stop Interaction';\n",
       "    button.innerHTML = '<i class=\"fa fa-power-off icon-remove icon-large\"></i>';\n",
       "    button.addEventListener('click', function (_evt) {\n",
       "        fig.handle_close(fig, {});\n",
       "    });\n",
       "    button.addEventListener(\n",
       "        'mouseover',\n",
       "        on_mouseover_closure('Stop Interaction')\n",
       "    );\n",
       "    buttongrp.appendChild(button);\n",
       "    var titlebar = this.root.querySelector('.ui-dialog-titlebar');\n",
       "    titlebar.insertBefore(buttongrp, titlebar.firstChild);\n",
       "};\n",
       "\n",
       "mpl.figure.prototype._remove_fig_handler = function (event) {\n",
       "    var fig = event.data.fig;\n",
       "    if (event.target !== this) {\n",
       "        // Ignore bubbled events from children.\n",
       "        return;\n",
       "    }\n",
       "    fig.close_ws(fig, {});\n",
       "};\n",
       "\n",
       "mpl.figure.prototype._root_extra_style = function (el) {\n",
       "    el.style.boxSizing = 'content-box'; // override notebook setting of border-box.\n",
       "};\n",
       "\n",
       "mpl.figure.prototype._canvas_extra_style = function (el) {\n",
       "    // this is important to make the div 'focusable\n",
       "    el.setAttribute('tabindex', 0);\n",
       "    // reach out to IPython and tell the keyboard manager to turn it's self\n",
       "    // off when our div gets focus\n",
       "\n",
       "    // location in version 3\n",
       "    if (IPython.notebook.keyboard_manager) {\n",
       "        IPython.notebook.keyboard_manager.register_events(el);\n",
       "    } else {\n",
       "        // location in version 2\n",
       "        IPython.keyboard_manager.register_events(el);\n",
       "    }\n",
       "};\n",
       "\n",
       "mpl.figure.prototype._key_event_extra = function (event, _name) {\n",
       "    // Check for shift+enter\n",
       "    if (event.shiftKey && event.which === 13) {\n",
       "        this.canvas_div.blur();\n",
       "        // select the cell after this one\n",
       "        var index = IPython.notebook.find_cell_index(this.cell_info[0]);\n",
       "        IPython.notebook.select(index + 1);\n",
       "    }\n",
       "};\n",
       "\n",
       "mpl.figure.prototype.handle_save = function (fig, _msg) {\n",
       "    fig.ondownload(fig, null);\n",
       "};\n",
       "\n",
       "mpl.find_output_cell = function (html_output) {\n",
       "    // Return the cell and output element which can be found *uniquely* in the notebook.\n",
       "    // Note - this is a bit hacky, but it is done because the \"notebook_saving.Notebook\"\n",
       "    // IPython event is triggered only after the cells have been serialised, which for\n",
       "    // our purposes (turning an active figure into a static one), is too late.\n",
       "    var cells = IPython.notebook.get_cells();\n",
       "    var ncells = cells.length;\n",
       "    for (var i = 0; i < ncells; i++) {\n",
       "        var cell = cells[i];\n",
       "        if (cell.cell_type === 'code') {\n",
       "            for (var j = 0; j < cell.output_area.outputs.length; j++) {\n",
       "                var data = cell.output_area.outputs[j];\n",
       "                if (data.data) {\n",
       "                    // IPython >= 3 moved mimebundle to data attribute of output\n",
       "                    data = data.data;\n",
       "                }\n",
       "                if (data['text/html'] === html_output) {\n",
       "                    return [cell, data, j];\n",
       "                }\n",
       "            }\n",
       "        }\n",
       "    }\n",
       "};\n",
       "\n",
       "// Register the function which deals with the matplotlib target/channel.\n",
       "// The kernel may be null if the page has been refreshed.\n",
       "if (IPython.notebook.kernel !== null) {\n",
       "    IPython.notebook.kernel.comm_manager.register_target(\n",
       "        'matplotlib',\n",
       "        mpl.mpl_figure_comm\n",
       "    );\n",
       "}\n"
      ],
      "text/plain": [
       "<IPython.core.display.Javascript object>"
      ]
     },
     "metadata": {},
     "output_type": "display_data"
    },
    {
     "data": {
      "text/html": [
       "<div id='a6d2ebac-0137-40c4-af99-7587ecb61f10'></div>"
      ],
      "text/plain": [
       "<IPython.core.display.HTML object>"
      ]
     },
     "metadata": {},
     "output_type": "display_data"
    },
    {
     "data": {
      "text/plain": [
       "(<Figure size 1000x500 with 2 Axes>,\n",
       " array([<Axes: title={'center': 'Loss'}, xlabel='Epochs', ylabel='Loss'>,\n",
       "        <Axes: title={'center': 'Accuracy'}, xlabel='Epochs', ylabel='Accuracy'>],\n",
       "       dtype=object))"
      ]
     },
     "execution_count": 34,
     "metadata": {},
     "output_type": "execute_result"
    }
   ],
   "source": [
    "plot_history(model_history,show_standard_deviation=False,show_average=True)"
   ]
  },
  {
   "cell_type": "code",
   "execution_count": 26,
   "id": "4021df94b02fec8c",
   "metadata": {
    "ExecuteTime": {
     "end_time": "2023-09-13T13:19:12.143092400Z",
     "start_time": "2023-09-13T13:19:11.966764400Z"
    }
   },
   "outputs": [],
   "source": [
    "#model.save_weights('Model-Trained-On-Noise+Normal.h5')\n",
    "model.load_weights('Model-Trained-On-Noise+Normal.h5')"
   ]
  },
  {
   "cell_type": "markdown",
   "id": "3710588df797d953",
   "metadata": {},
   "source": [
    "**Testing On Clean Data**"
   ]
  },
  {
   "cell_type": "code",
   "execution_count": 27,
   "id": "32ab76300c161412",
   "metadata": {
    "ExecuteTime": {
     "end_time": "2023-09-13T13:19:16.478923800Z",
     "start_time": "2023-09-13T13:19:16.429644100Z"
    }
   },
   "outputs": [],
   "source": [
    "min_10_data=pd.read_csv('10_minutes_final_processed_gsmfloor_data5.csv')"
   ]
  },
  {
   "cell_type": "code",
   "execution_count": 28,
   "id": "a409bb41f8f29675",
   "metadata": {
    "ExecuteTime": {
     "end_time": "2023-09-13T13:19:17.003814300Z",
     "start_time": "2023-09-13T13:19:16.973709100Z"
    }
   },
   "outputs": [
    {
     "data": {
      "text/plain": [
       "(59999, 3)"
      ]
     },
     "execution_count": 28,
     "metadata": {},
     "output_type": "execute_result"
    }
   ],
   "source": [
    "min_10_data.drop(columns=['Unnamed: 0'],axis=1,inplace=True)\n",
    "min_10_data.shape"
   ]
  },
  {
   "cell_type": "code",
   "execution_count": 29,
   "id": "7d0c2263cc7531f0",
   "metadata": {
    "ExecuteTime": {
     "end_time": "2023-09-13T13:19:17.733352400Z",
     "start_time": "2023-09-13T13:19:17.694465200Z"
    }
   },
   "outputs": [],
   "source": [
    "min_10_data['label']=min_10_data['label'].replace(2,1)"
   ]
  },
  {
   "cell_type": "code",
   "execution_count": 30,
   "id": "4fd1a627e5b7060d",
   "metadata": {
    "ExecuteTime": {
     "end_time": "2023-09-13T13:19:18.467296500Z",
     "start_time": "2023-09-13T13:19:18.442662800Z"
    }
   },
   "outputs": [],
   "source": [
    "x_values=min_10_data['combined_result']\n",
    "y_values=min_10_data['label']"
   ]
  },
  {
   "cell_type": "code",
   "execution_count": 31,
   "id": "81e2bebf705d97b3",
   "metadata": {
    "ExecuteTime": {
     "end_time": "2023-09-13T13:19:20.304365100Z",
     "start_time": "2023-09-13T13:19:19.042075500Z"
    }
   },
   "outputs": [],
   "source": [
    "event=[]\n",
    "labe=[]\n",
    "temp=[]\n",
    "for index,value in y_values.items():\n",
    "    if value==1:\n",
    "        temp.append(x_values[index])\n",
    "        if (index+1)<len(y_values) and y_values[index+1]==0:\n",
    "            event.append(temp)\n",
    "            labe.append(1)\n",
    "            temp=[]\n",
    "    if value==0:\n",
    "        temp.append(x_values[index])\n",
    "        if (index+1)<len(y_values) and y_values[index+1]==1:\n",
    "            event.append(temp)\n",
    "            labe.append(0)\n",
    "            temp=[]"
   ]
  },
  {
   "cell_type": "code",
   "execution_count": 32,
   "id": "e5a45d6a58297b99",
   "metadata": {
    "ExecuteTime": {
     "end_time": "2023-09-13T13:19:22.255969300Z",
     "start_time": "2023-09-13T13:19:22.211251300Z"
    }
   },
   "outputs": [],
   "source": [
    "# Not a sequence but label is 1 \n",
    "zero_seq_label_one=[]\n",
    "for position, sublist in enumerate(event):\n",
    "    if all(element == 0 for element in sublist):\n",
    "        if labe[position]==1:\n",
    "            zero_seq_label_one.append(position)"
   ]
  },
  {
   "cell_type": "code",
   "execution_count": 33,
   "id": "e7f4def79da29fb8",
   "metadata": {
    "ExecuteTime": {
     "end_time": "2023-09-13T13:19:23.132685500Z",
     "start_time": "2023-09-13T13:19:23.085281400Z"
    }
   },
   "outputs": [],
   "source": [
    "# Replacing those with 0\n",
    "for value in zero_seq_label_one:\n",
    "    labe[value]=0"
   ]
  },
  {
   "cell_type": "code",
   "execution_count": 34,
   "id": "2351f959005aa051",
   "metadata": {
    "ExecuteTime": {
     "end_time": "2023-09-13T13:19:23.623657200Z",
     "start_time": "2023-09-13T13:19:23.592140800Z"
    }
   },
   "outputs": [],
   "source": [
    "# Is a sequence but label 0\n",
    "seq_label_zero=[]\n",
    "for position, sublist in enumerate(event):\n",
    "    if any(element != 0 for element in sublist):\n",
    "        if labe[position]==0:\n",
    "            seq_label_zero.append(position)"
   ]
  },
  {
   "cell_type": "code",
   "execution_count": 35,
   "id": "bd52a6661dddba54",
   "metadata": {
    "ExecuteTime": {
     "end_time": "2023-09-13T13:19:25.370666700Z",
     "start_time": "2023-09-13T13:19:25.323427200Z"
    }
   },
   "outputs": [],
   "source": [
    "# Replacing those with 1\n",
    "for value in seq_label_zero:\n",
    "    labe[value]=1"
   ]
  },
  {
   "cell_type": "code",
   "execution_count": 36,
   "id": "d6dad30c0c0c23a2",
   "metadata": {
    "ExecuteTime": {
     "end_time": "2023-09-13T13:19:28.166118900Z",
     "start_time": "2023-09-13T13:19:26.837499700Z"
    }
   },
   "outputs": [
    {
     "name": "stdout",
     "output_type": "stream",
     "text": [
      "140\n",
      "149\n"
     ]
    }
   ],
   "source": [
    "# Checking the Number of events\n",
    "zero=0\n",
    "one=0\n",
    "for value in labe:\n",
    "    if value==0:\n",
    "        zero+=1\n",
    "    if value==1:\n",
    "        one+=1\n",
    "print(zero)\n",
    "print(one)"
   ]
  },
  {
   "cell_type": "code",
   "execution_count": 38,
   "id": "5622c9d6c5fdd9b3",
   "metadata": {
    "ExecuteTime": {
     "end_time": "2023-09-13T13:19:44.883971900Z",
     "start_time": "2023-09-13T13:19:44.849036300Z"
    }
   },
   "outputs": [],
   "source": [
    "event=pad_sequences(event,padding='post',truncating='post',dtype=float,maxlen=50)\n",
    "labe=np.array(labe)\n",
    "labe=labe.reshape(-1,1)\n",
    "event=event.reshape(event.shape[0], event.shape[1], 1)"
   ]
  },
  {
   "cell_type": "code",
   "execution_count": 39,
   "id": "9ad0db4c2675196b",
   "metadata": {
    "ExecuteTime": {
     "end_time": "2023-09-13T13:21:15.820054600Z",
     "start_time": "2023-09-13T13:21:15.788190500Z"
    }
   },
   "outputs": [],
   "source": [
    "# For 10 Min Data set\n",
    "m_10=event.shape[0]\n",
    "s0_10 = np.zeros((m_10, n_s))\n",
    "c0_10 = np.zeros((m_10, n_s))"
   ]
  },
  {
   "cell_type": "code",
   "execution_count": 40,
   "id": "55283989c7f91a58",
   "metadata": {
    "ExecuteTime": {
     "end_time": "2023-09-13T13:21:18.390612800Z",
     "start_time": "2023-09-13T13:21:16.684494900Z"
    }
   },
   "outputs": [
    {
     "name": "stdout",
     "output_type": "stream",
     "text": [
      "10/10 [==============================] - 2s 6ms/step\n"
     ]
    }
   ],
   "source": [
    "predictions_10=model.predict([event, s0_10, c0_10])\n",
    "predictions_10=np.round(predictions_10)"
   ]
  },
  {
   "cell_type": "code",
   "execution_count": 41,
   "id": "4f49c71231e8633",
   "metadata": {
    "ExecuteTime": {
     "end_time": "2023-09-13T13:21:34.829427600Z",
     "start_time": "2023-09-13T13:21:34.808833100Z"
    }
   },
   "outputs": [],
   "source": [
    "from sklearn.metrics import confusion_matrix\n",
    "\n",
    "\n",
    "# Get the confusion matrix\n",
    "cm = confusion_matrix(labe, predictions_10)\n",
    "\n",
    "# We will store the results in a dictionary for easy access later\n",
    "per_class_accuracies = {}\n",
    "classes=[0,1]\n",
    "# Calculate the accuracy for each one of our classes\n",
    "for idx, cls in enumerate(classes):\n",
    "    # True negatives are all the samples that are not our current GT class (not the current row) \n",
    "    # and were not predicted as the current class (not the current column)\n",
    "    true_negatives = np.sum(np.delete(np.delete(cm, idx, axis=0), idx, axis=1))\n",
    "\n",
    "    # True positives are all the samples of our current GT class that were predicted as such\n",
    "    true_positives = cm[idx, idx]\n",
    "\n",
    "    # The accuracy for the current class is the ratio between correct predictions to all predictions\n",
    "    per_class_accuracies[cls] = (true_positives + true_negatives) / np.sum(cm)"
   ]
  },
  {
   "cell_type": "code",
   "execution_count": 42,
   "id": "2d23f581fd066ffd",
   "metadata": {
    "ExecuteTime": {
     "end_time": "2023-09-13T13:21:35.711882900Z",
     "start_time": "2023-09-13T13:21:35.620362300Z"
    }
   },
   "outputs": [
    {
     "name": "stdout",
     "output_type": "stream",
     "text": [
      "{0: 0.8408304498269896, 1: 0.8408304498269896}\n"
     ]
    }
   ],
   "source": [
    "# Correct Accuracy\n",
    "print(per_class_accuracies)"
   ]
  },
  {
   "cell_type": "code",
   "execution_count": 103,
   "id": "86ab42940d7add0e",
   "metadata": {
    "ExecuteTime": {
     "end_time": "2023-09-12T17:03:40.774677100Z",
     "start_time": "2023-09-12T17:03:40.668639100Z"
    }
   },
   "outputs": [
    {
     "name": "stdout",
     "output_type": "stream",
     "text": [
      "              precision    recall  f1-score   support\n",
      "\n",
      "         0.0       1.00      0.75      0.86       186\n",
      "         1.0       0.69      1.00      0.82       103\n",
      "\n",
      "    accuracy                           0.84       289\n",
      "   macro avg       0.85      0.88      0.84       289\n",
      "weighted avg       0.89      0.84      0.84       289\n"
     ]
    }
   ],
   "source": [
    "report = classification_report(predictions_10,labe)\n",
    "print(report)"
   ]
  },
  {
   "cell_type": "markdown",
   "id": "8633c089415bbbe6",
   "metadata": {},
   "source": [
    "**Testing On Combined Data**"
   ]
  },
  {
   "cell_type": "code",
   "execution_count": 43,
   "id": "84df9b04be3d8e1c",
   "metadata": {
    "ExecuteTime": {
     "end_time": "2023-09-13T13:22:20.550284100Z",
     "start_time": "2023-09-13T13:22:20.493288400Z"
    }
   },
   "outputs": [],
   "source": [
    "min_10_data=pd.read_csv('10_minutes_final_processed_gsmfloor_data5.csv')"
   ]
  },
  {
   "cell_type": "code",
   "execution_count": 44,
   "id": "bc8701cab2d29594",
   "metadata": {
    "ExecuteTime": {
     "end_time": "2023-09-13T13:22:21.480754100Z",
     "start_time": "2023-09-13T13:22:21.441345400Z"
    }
   },
   "outputs": [
    {
     "data": {
      "text/plain": [
       "(59999, 3)"
      ]
     },
     "execution_count": 44,
     "metadata": {},
     "output_type": "execute_result"
    }
   ],
   "source": [
    "min_10_data.drop(columns=['Unnamed: 0'],axis=1,inplace=True)\n",
    "min_10_data.shape"
   ]
  },
  {
   "cell_type": "code",
   "execution_count": 45,
   "id": "901d486c0a71e3d1",
   "metadata": {
    "ExecuteTime": {
     "end_time": "2023-09-13T13:22:21.893189500Z",
     "start_time": "2023-09-13T13:22:21.867297500Z"
    }
   },
   "outputs": [],
   "source": [
    "min_10_data['label']=min_10_data['label'].replace(2,1)"
   ]
  },
  {
   "cell_type": "code",
   "execution_count": 46,
   "id": "f21babc1729c221e",
   "metadata": {
    "ExecuteTime": {
     "end_time": "2023-09-13T13:22:22.358085700Z",
     "start_time": "2023-09-13T13:22:22.309319800Z"
    }
   },
   "outputs": [],
   "source": [
    "x_values=min_10_data['combined_result']\n",
    "y_values=min_10_data['label']"
   ]
  },
  {
   "cell_type": "code",
   "execution_count": 47,
   "id": "dc5a75a94e1c5f2c",
   "metadata": {
    "ExecuteTime": {
     "end_time": "2023-09-13T13:22:22.737670Z",
     "start_time": "2023-09-13T13:22:22.711303100Z"
    }
   },
   "outputs": [],
   "source": [
    "std_X = x_values.std()\n",
    "desired_snr = 0.1\n",
    "std_noise = std_X * desired_snr\n",
    "noise = np.random.normal(0, std_noise, x_values.shape)"
   ]
  },
  {
   "cell_type": "code",
   "execution_count": 48,
   "id": "d41cd38c862ff6ee",
   "metadata": {
    "ExecuteTime": {
     "end_time": "2023-09-13T13:22:23.317771100Z",
     "start_time": "2023-09-13T13:22:23.264880200Z"
    }
   },
   "outputs": [],
   "source": [
    "min_10_data['noisy_feature_column'] = x_values + noise\n",
    "noisy_signal=min_10_data['noisy_feature_column']"
   ]
  },
  {
   "cell_type": "code",
   "execution_count": 49,
   "id": "f1c019e5932b7e1f",
   "metadata": {
    "ExecuteTime": {
     "end_time": "2023-09-13T13:22:23.660588400Z",
     "start_time": "2023-09-13T13:22:23.630757800Z"
    }
   },
   "outputs": [],
   "source": [
    "x_values=pd.concat([x_values, noisy_signal], ignore_index=True)\n",
    "y_values=pd.concat([y_values, y_values], ignore_index=True)"
   ]
  },
  {
   "cell_type": "code",
   "execution_count": 50,
   "id": "a2455035bab91ff3",
   "metadata": {
    "ExecuteTime": {
     "end_time": "2023-09-13T13:22:26.019504200Z",
     "start_time": "2023-09-13T13:22:24.232368800Z"
    }
   },
   "outputs": [],
   "source": [
    "event=[]\n",
    "labe=[]\n",
    "temp=[]\n",
    "for index,value in y_values.items():\n",
    "    if value==1:\n",
    "        temp.append(x_values[index])\n",
    "        if (index+1)<len(y_values) and y_values[index+1]==0:\n",
    "            event.append(temp)\n",
    "            labe.append(1)\n",
    "            temp=[]\n",
    "    if value==0:\n",
    "        temp.append(x_values[index])\n",
    "        if (index+1)<len(y_values) and y_values[index+1]==1:\n",
    "            event.append(temp)\n",
    "            labe.append(0)\n",
    "            temp=[]"
   ]
  },
  {
   "cell_type": "code",
   "execution_count": 51,
   "id": "260ef07f2041c561",
   "metadata": {
    "ExecuteTime": {
     "end_time": "2023-09-13T13:22:29.772635300Z",
     "start_time": "2023-09-13T13:22:29.745490Z"
    }
   },
   "outputs": [],
   "source": [
    "# Not a sequence but label is 1 \n",
    "zero_seq_label_one=[]\n",
    "for position, sublist in enumerate(event):\n",
    "    if all(element == 0 for element in sublist):\n",
    "        if labe[position]==1:\n",
    "            zero_seq_label_one.append(position)"
   ]
  },
  {
   "cell_type": "code",
   "execution_count": 52,
   "id": "5629db90eebf106",
   "metadata": {
    "ExecuteTime": {
     "end_time": "2023-09-13T13:22:30.363977100Z",
     "start_time": "2023-09-13T13:22:30.336284300Z"
    }
   },
   "outputs": [],
   "source": [
    "# Replacing those with 0\n",
    "for value in zero_seq_label_one:\n",
    "    labe[value]=0"
   ]
  },
  {
   "cell_type": "code",
   "execution_count": 53,
   "id": "b70bae6a7a7fba4f",
   "metadata": {
    "ExecuteTime": {
     "end_time": "2023-09-13T13:22:30.731760300Z",
     "start_time": "2023-09-13T13:22:30.716097300Z"
    }
   },
   "outputs": [
    {
     "name": "stdout",
     "output_type": "stream",
     "text": [
      "301\n",
      "278\n"
     ]
    }
   ],
   "source": [
    "# Checking the Number of events\n",
    "zero=0\n",
    "one=0\n",
    "for value in labe:\n",
    "    if value==0:\n",
    "        zero+=1\n",
    "    if value==1:\n",
    "        one+=1\n",
    "print(zero)\n",
    "print(one)"
   ]
  },
  {
   "cell_type": "code",
   "execution_count": 54,
   "id": "7c0a0a824c368b3c",
   "metadata": {
    "ExecuteTime": {
     "end_time": "2023-09-13T13:22:32.788095600Z",
     "start_time": "2023-09-13T13:22:32.756840700Z"
    }
   },
   "outputs": [],
   "source": [
    "event=pad_sequences(event,padding='post',truncating='post',dtype=float,maxlen=50)\n",
    "labe=np.array(labe)\n",
    "labe=labe.reshape(-1,1)\n",
    "event=event.reshape(event.shape[0], event.shape[1], 1)"
   ]
  },
  {
   "cell_type": "code",
   "execution_count": 55,
   "id": "9665802bfe2c2488",
   "metadata": {
    "ExecuteTime": {
     "end_time": "2023-09-13T13:22:33.283681300Z",
     "start_time": "2023-09-13T13:22:33.254218800Z"
    }
   },
   "outputs": [],
   "source": [
    "# For 10 Min Data set\n",
    "m_10=event.shape[0]\n",
    "s0_10 = np.zeros((m_10, n_s))\n",
    "c0_10 = np.zeros((m_10, n_s))"
   ]
  },
  {
   "cell_type": "code",
   "execution_count": 56,
   "id": "dd95e8102bb9aadd",
   "metadata": {
    "ExecuteTime": {
     "end_time": "2023-09-13T13:22:33.934404100Z",
     "start_time": "2023-09-13T13:22:33.665064800Z"
    }
   },
   "outputs": [
    {
     "name": "stdout",
     "output_type": "stream",
     "text": [
      "19/19 [==============================] - 0s 8ms/step\n"
     ]
    }
   ],
   "source": [
    "predictions_10 = model.predict([event, s0_10, c0_10])\n",
    "predictions_10 = np.round(predictions_10)"
   ]
  },
  {
   "cell_type": "code",
   "execution_count": 57,
   "id": "99f720b01abc524",
   "metadata": {
    "ExecuteTime": {
     "end_time": "2023-09-13T13:22:41.891046500Z",
     "start_time": "2023-09-13T13:22:41.859723100Z"
    }
   },
   "outputs": [],
   "source": [
    "# Get the confusion matrix\n",
    "cm = confusion_matrix(labe, predictions_10)\n",
    "\n",
    "# We will store the results in a dictionary for easy access later\n",
    "per_class_accuracies = {}\n",
    "classes=[0,1]\n",
    "# Calculate the accuracy for each one of our classes\n",
    "for idx, cls in enumerate(classes):\n",
    "    # True negatives are all the samples that are not our current GT class (not the current row) \n",
    "    # and were not predicted as the current class (not the current column)\n",
    "    true_negatives = np.sum(np.delete(np.delete(cm, idx, axis=0), idx, axis=1))\n",
    "\n",
    "    # True positives are all the samples of our current GT class that were predicted as such\n",
    "    true_positives = cm[idx, idx]\n",
    "\n",
    "    # The accuracy for the current class is the ratio between correct predictions to all predictions\n",
    "    per_class_accuracies[cls] = (true_positives + true_negatives) / np.sum(cm)"
   ]
  },
  {
   "cell_type": "code",
   "execution_count": 58,
   "id": "55d483c240f2387a",
   "metadata": {
    "ExecuteTime": {
     "end_time": "2023-09-13T13:22:46.625394800Z",
     "start_time": "2023-09-13T13:22:46.573631300Z"
    }
   },
   "outputs": [
    {
     "name": "stdout",
     "output_type": "stream",
     "text": [
      "{0: 0.8169257340241797, 1: 0.8169257340241797}\n"
     ]
    }
   ],
   "source": [
    "# Correct Accuracy\n",
    "print(per_class_accuracies)"
   ]
  },
  {
   "cell_type": "code",
   "execution_count": 119,
   "id": "edaa6c3c842b2bc8",
   "metadata": {
    "ExecuteTime": {
     "end_time": "2023-09-12T17:04:40.677480700Z",
     "start_time": "2023-09-12T17:04:40.566227100Z"
    }
   },
   "outputs": [
    {
     "name": "stdout",
     "output_type": "stream",
     "text": [
      "              precision    recall  f1-score   support\n",
      "\n",
      "         0.0       0.94      0.77      0.85       370\n",
      "         1.0       0.69      0.92      0.79       209\n",
      "\n",
      "    accuracy                           0.82       579\n",
      "   macro avg       0.82      0.84      0.82       579\n",
      "weighted avg       0.85      0.82      0.83       579\n"
     ]
    }
   ],
   "source": [
    "report = classification_report(predictions_10,labe)\n",
    "print(report)"
   ]
  },
  {
   "cell_type": "markdown",
   "id": "bc6847627e5e9f64",
   "metadata": {},
   "source": [
    "**Testing On Noisy Data Only**"
   ]
  },
  {
   "cell_type": "code",
   "execution_count": 59,
   "id": "c194fdeadad79558",
   "metadata": {
    "ExecuteTime": {
     "end_time": "2023-09-13T13:23:16.669251100Z",
     "start_time": "2023-09-13T13:23:16.615375400Z"
    }
   },
   "outputs": [],
   "source": [
    "min_10_data=pd.read_csv('10_minutes_final_processed_gsmfloor_data5.csv')"
   ]
  },
  {
   "cell_type": "code",
   "execution_count": 60,
   "id": "119ecf32388d831d",
   "metadata": {
    "ExecuteTime": {
     "end_time": "2023-09-13T13:23:17.381459600Z",
     "start_time": "2023-09-13T13:23:17.350170Z"
    }
   },
   "outputs": [
    {
     "data": {
      "text/plain": [
       "(59999, 3)"
      ]
     },
     "execution_count": 60,
     "metadata": {},
     "output_type": "execute_result"
    }
   ],
   "source": [
    "min_10_data.drop(columns=['Unnamed: 0'],axis=1,inplace=True)\n",
    "min_10_data.shape"
   ]
  },
  {
   "cell_type": "code",
   "execution_count": 61,
   "id": "7fde305aee3afb8c",
   "metadata": {
    "ExecuteTime": {
     "end_time": "2023-09-13T13:23:18.050189400Z",
     "start_time": "2023-09-13T13:23:18.012487800Z"
    }
   },
   "outputs": [],
   "source": [
    "min_10_data['label']=min_10_data['label'].replace(2,1)"
   ]
  },
  {
   "cell_type": "code",
   "execution_count": 62,
   "id": "3dcb598ab54a15e7",
   "metadata": {
    "ExecuteTime": {
     "end_time": "2023-09-13T13:23:19.890908100Z",
     "start_time": "2023-09-13T13:23:19.874712800Z"
    }
   },
   "outputs": [],
   "source": [
    "x_values=min_10_data['combined_result']\n",
    "y_values=min_10_data['label']"
   ]
  },
  {
   "cell_type": "code",
   "execution_count": 63,
   "id": "5a0f3ebc425d1f4b",
   "metadata": {
    "ExecuteTime": {
     "end_time": "2023-09-13T13:23:20.688626400Z",
     "start_time": "2023-09-13T13:23:20.624969200Z"
    }
   },
   "outputs": [],
   "source": [
    "std_X = x_values.std()\n",
    "desired_snr = 0.1\n",
    "std_noise = std_X * desired_snr\n",
    "noise = np.random.normal(0, std_noise, x_values.shape)"
   ]
  },
  {
   "cell_type": "code",
   "execution_count": 64,
   "id": "a20cee306a5d0785",
   "metadata": {
    "ExecuteTime": {
     "end_time": "2023-09-13T13:23:21.063706Z",
     "start_time": "2023-09-13T13:23:21.032358100Z"
    }
   },
   "outputs": [],
   "source": [
    "min_10_data['noisy_feature_column'] = x_values + noise\n",
    "noisy_signal=min_10_data['noisy_feature_column']"
   ]
  },
  {
   "cell_type": "code",
   "execution_count": 65,
   "id": "3dd24bce8d5b38ad",
   "metadata": {
    "ExecuteTime": {
     "end_time": "2023-09-13T13:23:22.717982900Z",
     "start_time": "2023-09-13T13:23:21.533009600Z"
    }
   },
   "outputs": [],
   "source": [
    "event=[]\n",
    "labe=[]\n",
    "temp=[]\n",
    "for index,value in y_values.items():\n",
    "    if value==1:\n",
    "        temp.append(noisy_signal[index])\n",
    "        if (index+1)<len(y_values) and y_values[index+1]==0:\n",
    "            event.append(temp)\n",
    "            labe.append(1)\n",
    "            temp=[]\n",
    "    if value==0:\n",
    "        temp.append(noisy_signal[index])\n",
    "        if (index+1)<len(y_values) and y_values[index+1]==1:\n",
    "            event.append(temp)\n",
    "            labe.append(0)\n",
    "            temp=[]"
   ]
  },
  {
   "cell_type": "code",
   "execution_count": 66,
   "id": "6f73b9768670567c",
   "metadata": {
    "ExecuteTime": {
     "end_time": "2023-09-13T13:23:31.273428900Z",
     "start_time": "2023-09-13T13:23:31.241967800Z"
    }
   },
   "outputs": [],
   "source": [
    "event=pad_sequences(event,padding='post',truncating='post',dtype=float,maxlen=50)\n",
    "labe=np.array(labe)\n",
    "labe=labe.reshape(-1,1)\n",
    "event=event.reshape(event.shape[0], event.shape[1], 1)"
   ]
  },
  {
   "cell_type": "code",
   "execution_count": 67,
   "id": "92dafa75dd6dcb12",
   "metadata": {
    "ExecuteTime": {
     "end_time": "2023-09-13T13:23:31.732793700Z",
     "start_time": "2023-09-13T13:23:31.710005400Z"
    }
   },
   "outputs": [],
   "source": [
    "# For 10 Min Data set\n",
    "m_10=event.shape[0]\n",
    "s0_10 = np.zeros((m_10, n_s))\n",
    "c0_10 = np.zeros((m_10, n_s))"
   ]
  },
  {
   "cell_type": "code",
   "execution_count": 68,
   "id": "77e9741cb957a2e7",
   "metadata": {
    "ExecuteTime": {
     "end_time": "2023-09-13T13:23:32.229229300Z",
     "start_time": "2023-09-13T13:23:32.085491Z"
    }
   },
   "outputs": [
    {
     "name": "stdout",
     "output_type": "stream",
     "text": [
      "10/10 [==============================] - 0s 4ms/step\n"
     ]
    }
   ],
   "source": [
    "predictions_10 = model.predict([event, s0_10, c0_10])\n",
    "predictions_10 = np.round(predictions_10)"
   ]
  },
  {
   "cell_type": "code",
   "execution_count": 69,
   "id": "ce003daed5a6431",
   "metadata": {
    "ExecuteTime": {
     "end_time": "2023-09-13T13:23:33.074402300Z",
     "start_time": "2023-09-13T13:23:33.011385100Z"
    }
   },
   "outputs": [],
   "source": [
    "# Get the confusion matrix\n",
    "cm = confusion_matrix(labe, predictions_10)\n",
    "\n",
    "# We will store the results in a dictionary for easy access later\n",
    "per_class_accuracies = {}\n",
    "classes=[0,1]\n",
    "# Calculate the accuracy for each one of our classes\n",
    "for idx, cls in enumerate(classes):\n",
    "    # True negatives are all the samples that are not our current GT class (not the current row) \n",
    "    # and were not predicted as the current class (not the current column)\n",
    "    true_negatives = np.sum(np.delete(np.delete(cm, idx, axis=0), idx, axis=1))\n",
    "\n",
    "    # True positives are all the samples of our current GT class that were predicted as such\n",
    "    true_positives = cm[idx, idx]\n",
    "\n",
    "    # The accuracy for the current class is the ratio between correct predictions to all predictions\n",
    "    per_class_accuracies[cls] = (true_positives + true_negatives) / np.sum(cm)"
   ]
  },
  {
   "cell_type": "code",
   "execution_count": 70,
   "id": "a151ed8d5f0818c",
   "metadata": {
    "ExecuteTime": {
     "end_time": "2023-09-13T13:23:34.599646200Z",
     "start_time": "2023-09-13T13:23:34.576008500Z"
    }
   },
   "outputs": [
    {
     "name": "stdout",
     "output_type": "stream",
     "text": [
      "{0: 0.8027681660899654, 1: 0.8027681660899654}\n"
     ]
    }
   ],
   "source": [
    "print(per_class_accuracies)"
   ]
  },
  {
   "cell_type": "code",
   "execution_count": 177,
   "id": "c3711dca7a4595d8",
   "metadata": {
    "ExecuteTime": {
     "end_time": "2023-09-12T17:49:19.536189800Z",
     "start_time": "2023-09-12T17:49:19.435686400Z"
    }
   },
   "outputs": [
    {
     "name": "stdout",
     "output_type": "stream",
     "text": [
      "              precision    recall  f1-score   support\n",
      "\n",
      "         0.0       0.93      0.75      0.83       179\n",
      "         1.0       0.69      0.91      0.78       110\n",
      "\n",
      "    accuracy                           0.81       289\n",
      "   macro avg       0.81      0.83      0.81       289\n",
      "weighted avg       0.84      0.81      0.81       289\n"
     ]
    }
   ],
   "source": [
    "report = classification_report(predictions_10,labe)\n",
    "print(report)"
   ]
  },
  {
   "cell_type": "markdown",
   "id": "8ef3de3baedeb0b4",
   "metadata": {},
   "source": [
    "**Conclusion**\n",
    "It is clearn that training is easier if we have combination of Data and testing results are quite well they can get more better if we have less training loss\n",
    "moreover the testing shows it is performing good on Combined set"
   ]
  },
  {
   "cell_type": "code",
   "execution_count": null,
   "id": "474c8a3a68460038",
   "metadata": {},
   "outputs": [],
   "source": []
  }
 ],
 "metadata": {
  "kernelspec": {
   "display_name": "Python 3 (ipykernel)",
   "language": "python",
   "name": "python3"
  },
  "language_info": {
   "codemirror_mode": {
    "name": "ipython",
    "version": 3
   },
   "file_extension": ".py",
   "mimetype": "text/x-python",
   "name": "python",
   "nbconvert_exporter": "python",
   "pygments_lexer": "ipython3",
   "version": "3.10.7"
  }
 },
 "nbformat": 4,
 "nbformat_minor": 5
}
