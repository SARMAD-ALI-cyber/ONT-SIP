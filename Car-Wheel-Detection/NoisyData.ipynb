{
 "cells": [
  {
   "cell_type": "code",
   "execution_count": 1,
   "id": "initial_id",
   "metadata": {
    "ExecuteTime": {
     "end_time": "2023-09-11T15:43:31.403604900Z",
     "start_time": "2023-09-11T15:43:25.526471400Z"
    },
    "collapsed": true
   },
   "outputs": [],
   "source": [
    "import numpy as np\n",
    "import  pandas as pd\n",
    "import tensorflow as tf\n",
    "from sklearn.model_selection import train_test_split\n",
    "from keras.utils import pad_sequences\n",
    "from sklearn.metrics import classification_report\n",
    "from plot_keras_history import plot_history\n",
    "from sklearn.preprocessing import MinMaxScaler\n",
    "import matplotlib.pyplot as plt\n",
    "%matplotlib notebook"
   ]
  },
  {
   "cell_type": "code",
   "execution_count": 2,
   "id": "f27e7c996e49a3ab",
   "metadata": {
    "ExecuteTime": {
     "end_time": "2023-09-11T15:43:31.529743300Z",
     "start_time": "2023-09-11T15:43:31.403604900Z"
    }
   },
   "outputs": [],
   "source": [
    "data=pd.read_csv('DATA.csv')"
   ]
  },
  {
   "cell_type": "code",
   "execution_count": 3,
   "id": "6b6f2e81d40633b5",
   "metadata": {
    "ExecuteTime": {
     "end_time": "2023-09-11T15:43:31.562839800Z",
     "start_time": "2023-09-11T15:43:31.539077100Z"
    }
   },
   "outputs": [],
   "source": [
    "data.drop(columns=['Unnamed: 0'],axis=1,inplace=True)"
   ]
  },
  {
   "cell_type": "code",
   "execution_count": 4,
   "id": "b9bd5d2a6422662b",
   "metadata": {
    "ExecuteTime": {
     "end_time": "2023-09-11T15:43:31.579042100Z",
     "start_time": "2023-09-11T15:43:31.562839800Z"
    }
   },
   "outputs": [],
   "source": [
    "data['label']=data['label'].replace(2,1)"
   ]
  },
  {
   "cell_type": "code",
   "execution_count": 5,
   "id": "ea5510caace1b3c5",
   "metadata": {
    "ExecuteTime": {
     "end_time": "2023-09-11T15:43:31.602205100Z",
     "start_time": "2023-09-11T15:43:31.579042100Z"
    }
   },
   "outputs": [],
   "source": [
    "X=data['combined_result']\n",
    "y=data['label']\n",
    "time_series=data['t_dist']"
   ]
  },
  {
   "cell_type": "code",
   "execution_count": 6,
   "id": "3df3fc864de9c43c",
   "metadata": {
    "ExecuteTime": {
     "end_time": "2023-09-11T15:43:31.652599500Z",
     "start_time": "2023-09-11T15:43:31.601522900Z"
    }
   },
   "outputs": [],
   "source": [
    "std_X = X.std()\n",
    "desired_snr = 0.1\n",
    "std_noise = std_X * desired_snr\n",
    "noise = np.random.normal(0, std_noise, X.shape)\n",
    "#noise = np.clip(noise, a_min=0, a_max=None)"
   ]
  },
  {
   "cell_type": "code",
   "execution_count": 7,
   "id": "7789a5e1ccc87346",
   "metadata": {
    "ExecuteTime": {
     "end_time": "2023-09-11T15:43:31.652599500Z",
     "start_time": "2023-09-11T15:43:31.632762400Z"
    }
   },
   "outputs": [],
   "source": [
    "data['noisy_feature_column'] = X + noise\n",
    "noisy_signal=data['noisy_feature_column']"
   ]
  },
  {
   "cell_type": "code",
   "execution_count": 116,
   "id": "b91e1758228b1365",
   "metadata": {
    "ExecuteTime": {
     "end_time": "2023-09-11T17:29:41.829087600Z",
     "start_time": "2023-09-11T17:29:41.734547600Z"
    }
   },
   "outputs": [
    {
     "data": {
      "text/html": [
       "<div>\n",
       "<style scoped>\n",
       "    .dataframe tbody tr th:only-of-type {\n",
       "        vertical-align: middle;\n",
       "    }\n",
       "\n",
       "    .dataframe tbody tr th {\n",
       "        vertical-align: top;\n",
       "    }\n",
       "\n",
       "    .dataframe thead th {\n",
       "        text-align: right;\n",
       "    }\n",
       "</style>\n",
       "<table border=\"1\" class=\"dataframe\">\n",
       "  <thead>\n",
       "    <tr style=\"text-align: right;\">\n",
       "      <th></th>\n",
       "      <th>t_dist</th>\n",
       "      <th>combined_result</th>\n",
       "      <th>label</th>\n",
       "      <th>noisy_feature_column</th>\n",
       "    </tr>\n",
       "  </thead>\n",
       "  <tbody>\n",
       "    <tr>\n",
       "      <th>0</th>\n",
       "      <td>0.00</td>\n",
       "      <td>0.013</td>\n",
       "      <td>1.0</td>\n",
       "      <td>0.020998</td>\n",
       "    </tr>\n",
       "    <tr>\n",
       "      <th>1</th>\n",
       "      <td>0.01</td>\n",
       "      <td>0.000</td>\n",
       "      <td>1.0</td>\n",
       "      <td>0.020699</td>\n",
       "    </tr>\n",
       "    <tr>\n",
       "      <th>2</th>\n",
       "      <td>0.02</td>\n",
       "      <td>0.004</td>\n",
       "      <td>1.0</td>\n",
       "      <td>0.007873</td>\n",
       "    </tr>\n",
       "    <tr>\n",
       "      <th>3</th>\n",
       "      <td>0.03</td>\n",
       "      <td>0.005</td>\n",
       "      <td>1.0</td>\n",
       "      <td>0.004154</td>\n",
       "    </tr>\n",
       "    <tr>\n",
       "      <th>4</th>\n",
       "      <td>0.04</td>\n",
       "      <td>0.000</td>\n",
       "      <td>1.0</td>\n",
       "      <td>0.003660</td>\n",
       "    </tr>\n",
       "    <tr>\n",
       "      <th>5</th>\n",
       "      <td>0.05</td>\n",
       "      <td>0.000</td>\n",
       "      <td>1.0</td>\n",
       "      <td>-0.003166</td>\n",
       "    </tr>\n",
       "    <tr>\n",
       "      <th>6</th>\n",
       "      <td>0.06</td>\n",
       "      <td>0.000</td>\n",
       "      <td>1.0</td>\n",
       "      <td>-0.005002</td>\n",
       "    </tr>\n",
       "    <tr>\n",
       "      <th>7</th>\n",
       "      <td>0.07</td>\n",
       "      <td>0.000</td>\n",
       "      <td>1.0</td>\n",
       "      <td>0.001206</td>\n",
       "    </tr>\n",
       "    <tr>\n",
       "      <th>8</th>\n",
       "      <td>0.08</td>\n",
       "      <td>0.000</td>\n",
       "      <td>1.0</td>\n",
       "      <td>0.011198</td>\n",
       "    </tr>\n",
       "    <tr>\n",
       "      <th>9</th>\n",
       "      <td>0.09</td>\n",
       "      <td>0.000</td>\n",
       "      <td>1.0</td>\n",
       "      <td>-0.007104</td>\n",
       "    </tr>\n",
       "  </tbody>\n",
       "</table>\n",
       "</div>"
      ],
      "text/plain": [
       "   t_dist  combined_result  label  noisy_feature_column\n",
       "0    0.00            0.013    1.0              0.020998\n",
       "1    0.01            0.000    1.0              0.020699\n",
       "2    0.02            0.004    1.0              0.007873\n",
       "3    0.03            0.005    1.0              0.004154\n",
       "4    0.04            0.000    1.0              0.003660\n",
       "5    0.05            0.000    1.0             -0.003166\n",
       "6    0.06            0.000    1.0             -0.005002\n",
       "7    0.07            0.000    1.0              0.001206\n",
       "8    0.08            0.000    1.0              0.011198\n",
       "9    0.09            0.000    1.0             -0.007104"
      ]
     },
     "execution_count": 116,
     "metadata": {},
     "output_type": "execute_result"
    }
   ],
   "source": [
    "data.head(10)"
   ]
  },
  {
   "cell_type": "code",
   "execution_count": 9,
   "id": "587f9f440c48798b",
   "metadata": {
    "ExecuteTime": {
     "end_time": "2023-09-11T15:43:34.737204800Z",
     "start_time": "2023-09-11T15:43:31.731741300Z"
    }
   },
   "outputs": [],
   "source": [
    "# Extracting sequences from the dataset\n",
    "sequences=[]\n",
    "labels=[]\n",
    "temp=[]\n",
    "\n",
    "for index,value in y.items():\n",
    "    if value==1:\n",
    "        temp.append(noisy_signal[index])\n",
    "        if (index+1)<len(y) and y[index+1]==0:\n",
    "            sequences.append(temp)\n",
    "            labels.append(1)\n",
    "            temp=[]\n",
    "    if value==0:\n",
    "        temp.append(noisy_signal[index])\n",
    "        if (index+1)<len(y) and y[index+1]==1:\n",
    "            sequences.append(temp)\n",
    "            labels.append(0)\n",
    "            temp=[]"
   ]
  },
  {
   "cell_type": "code",
   "execution_count": 10,
   "id": "b71e9c7680d3d295",
   "metadata": {
    "ExecuteTime": {
     "end_time": "2023-09-11T15:43:34.766728600Z",
     "start_time": "2023-09-11T15:43:34.744254600Z"
    }
   },
   "outputs": [
    {
     "name": "stdout",
     "output_type": "stream",
     "text": [
      "724\n",
      "725\n"
     ]
    }
   ],
   "source": [
    "# Checking the Number of events\n",
    "zero=0\n",
    "one=0\n",
    "for value in labels:\n",
    "    if value==0:\n",
    "        zero+=1\n",
    "    if value==1:\n",
    "        one+=1\n",
    "print(zero)\n",
    "print(one)"
   ]
  },
  {
   "cell_type": "code",
   "execution_count": 11,
   "id": "e238fac7b7bd58f0",
   "metadata": {
    "ExecuteTime": {
     "end_time": "2023-09-11T15:43:34.800473Z",
     "start_time": "2023-09-11T15:43:34.766728600Z"
    }
   },
   "outputs": [],
   "source": [
    "# Padding and reshaping\n",
    "X_train=pad_sequences(sequences,padding='post',truncating='post',dtype=float,maxlen=50)"
   ]
  },
  {
   "cell_type": "code",
   "execution_count": 12,
   "id": "3f5724ee69d3407a",
   "metadata": {
    "ExecuteTime": {
     "end_time": "2023-09-11T15:43:34.811199700Z",
     "start_time": "2023-09-11T15:43:34.784709100Z"
    }
   },
   "outputs": [],
   "source": [
    "y_train = np.array(labels)\n",
    "y_train = y_train.reshape(-1, 1)"
   ]
  },
  {
   "cell_type": "code",
   "execution_count": 13,
   "id": "59435fb40e4b7e70",
   "metadata": {
    "ExecuteTime": {
     "end_time": "2023-09-11T15:43:34.854462300Z",
     "start_time": "2023-09-11T15:43:34.807662800Z"
    }
   },
   "outputs": [
    {
     "data": {
      "text/plain": [
       "(1449, 1)"
      ]
     },
     "execution_count": 13,
     "metadata": {},
     "output_type": "execute_result"
    }
   ],
   "source": [
    "y_train.shape"
   ]
  },
  {
   "cell_type": "code",
   "execution_count": 14,
   "id": "c254d824e54fdf3b",
   "metadata": {
    "ExecuteTime": {
     "end_time": "2023-09-11T15:43:34.861972200Z",
     "start_time": "2023-09-11T15:43:34.822708200Z"
    }
   },
   "outputs": [
    {
     "data": {
      "text/plain": [
       "(1449, 50, 1)"
      ]
     },
     "execution_count": 14,
     "metadata": {},
     "output_type": "execute_result"
    }
   ],
   "source": [
    "X_train=X_train.reshape(X_train.shape[0], X_train.shape[1], 1)\n",
    "X_train.shape"
   ]
  },
  {
   "cell_type": "code",
   "execution_count": 40,
   "id": "e0313995fd6f7e71",
   "metadata": {
    "ExecuteTime": {
     "end_time": "2023-09-11T16:23:09.305691100Z",
     "start_time": "2023-09-11T16:23:09.290054500Z"
    }
   },
   "outputs": [],
   "source": [
    "# It is because Our each  sequence has max laength of 50 and in output we want to predict a label\n",
    "Tx=50\n",
    "Ty=1\n",
    "repeator = tf.keras.layers.RepeatVector(Tx)\n",
    "concatenator = tf.keras.layers.Concatenate(axis=-1)\n",
    "densor1 =tf.keras.layers. Dense(10, activation = \"tanh\")\n",
    "densor2 = tf.keras.layers.Dense(1, activation = \"relu\")\n",
    "activator = tf.keras.layers.Activation('softmax', name='attention_weights') # We are using a custom softmax(axis = 1) loaded in this notebook\n",
    "dotor =tf.keras.layers. Dot(axes = 1)"
   ]
  },
  {
   "cell_type": "code",
   "execution_count": 41,
   "id": "58d34407af6d33dd",
   "metadata": {
    "ExecuteTime": {
     "end_time": "2023-09-11T16:23:09.678304Z",
     "start_time": "2023-09-11T16:23:09.675991800Z"
    }
   },
   "outputs": [],
   "source": [
    "def one_step_attention(a,s_prev):\n",
    "    # We done this to change s_prev to shape of(m,Tx,n_s) for cocatination with a, because concatenation requires all dimension same accept concat axis in this \n",
    "    # case is last one so a and s_prev have same first two dims (m,Tx) but last one is changed\n",
    "    s_prev=repeator(s_prev)\n",
    "    # We will here concatenate a and s_prev\n",
    "    concat=concatenator([a,s_prev])\n",
    "    # here i will calculate energies with 2 dense layers\n",
    "    e=densor1(concat)\n",
    "    energies=densor2(e)\n",
    "    # we know alpha is softmax of this energy\n",
    "    alpha=activator(energies)\n",
    "    # to calculate context vector we take dot product of alpha and a\n",
    "    context_vector=dotor([alpha,a])\n",
    "    return context_vector"
   ]
  },
  {
   "cell_type": "code",
   "execution_count": 42,
   "id": "5930c2ee5498cb48",
   "metadata": {
    "ExecuteTime": {
     "end_time": "2023-09-11T16:23:10.516576500Z",
     "start_time": "2023-09-11T16:23:10.516576500Z"
    }
   },
   "outputs": [],
   "source": [
    "n_a = 32 # number of units for the pre-attention, bi-directional LSTM's hidden state 'a'\n",
    "n_s = 64 # number of units for the post-attention LSTM's hidden state \"s\"\n",
    "\n",
    "# Please note, this is the post attention LSTM cell.\n",
    "post_activation_LSTM_cell = tf.keras.layers.LSTM(n_s, return_state = True) # Please do not modify this global variable.\n",
    "output_layer = tf.keras.layers.Dense(1, activation='sigmoid')"
   ]
  },
  {
   "cell_type": "code",
   "execution_count": 43,
   "id": "c9fe64fc34c17a57",
   "metadata": {
    "ExecuteTime": {
     "end_time": "2023-09-11T16:23:11.138084300Z",
     "start_time": "2023-09-11T16:23:11.122094700Z"
    }
   },
   "outputs": [],
   "source": [
    "def modelf(Tx,Ty,n_a, n_s):\n",
    "    X=tf.keras.layers.Input(shape=(X_train.shape[1],1)) # because embedding layer only demands the sequence length if i give full shape like (m,Tx) the\n",
    "    # ouput of embedding layer will be 4D which can not be fed into BILSTM\n",
    "    # hidden state for post LSTM\n",
    "    s0 = tf.keras.layers.Input(shape=(n_s,), name='s0')\n",
    "    # cell state for post lstm\n",
    "    # because we know From CampusX that shape of hidden and cell state of lstm are equal\n",
    "    c0 = tf.keras.layers.Input(shape=(n_s,), name='c0')\n",
    "    s=s0\n",
    "    c=c0\n",
    "    outputs = []\n",
    "\n",
    "    a = tf.keras.layers.Bidirectional(tf.keras.layers.LSTM(n_a,return_sequences=True),input_shape=(X_train.shape[1],1))(X)\n",
    "\n",
    "    for t in range(Ty):\n",
    "        context=one_step_attention(a,s)\n",
    "        _,s,c=post_activation_LSTM_cell(context,initial_state = [s,c] )\n",
    "        out = output_layer(s)\n",
    "        outputs.append(out)\n",
    "\n",
    "\n",
    "\n",
    "    print(outputs)\n",
    "    model=tf.keras.models.Model(inputs=[X,s0,c0],outputs=outputs)\n",
    "\n",
    "    return model"
   ]
  },
  {
   "cell_type": "code",
   "execution_count": 44,
   "id": "b3a6f686a5c3950c",
   "metadata": {
    "ExecuteTime": {
     "end_time": "2023-09-11T16:23:12.515822200Z",
     "start_time": "2023-09-11T16:23:11.678104500Z"
    }
   },
   "outputs": [
    {
     "name": "stdout",
     "output_type": "stream",
     "text": [
      "[<KerasTensor: shape=(None, 1) dtype=float32 (created by layer 'dense_9')>]\n"
     ]
    }
   ],
   "source": [
    "model = modelf(Tx, Ty, n_a, n_s)"
   ]
  },
  {
   "cell_type": "code",
   "execution_count": 45,
   "id": "126e008f5aadbdbd",
   "metadata": {
    "ExecuteTime": {
     "end_time": "2023-09-11T16:23:13.226948Z",
     "start_time": "2023-09-11T16:23:13.195246100Z"
    }
   },
   "outputs": [],
   "source": [
    "opt = tf.keras.optimizers.Adam(learning_rate=0.00001,beta_1=0.9,beta_2=0.999)#0.00001\n",
    "model.compile(loss = tf.keras.losses.BinaryCrossentropy(), optimizer = opt, metrics = ['accuracy'])"
   ]
  },
  {
   "cell_type": "code",
   "execution_count": 46,
   "id": "fbc3388f1c3fd704",
   "metadata": {
    "ExecuteTime": {
     "end_time": "2023-09-11T16:23:13.654152300Z",
     "start_time": "2023-09-11T16:23:13.622310500Z"
    }
   },
   "outputs": [],
   "source": [
    "# For Training Set\n",
    "m=X_train.shape[0]\n",
    "s0 = np.zeros((m, n_s))\n",
    "c0 = np.zeros((m, n_s))"
   ]
  },
  {
   "cell_type": "code",
   "execution_count": 47,
   "id": "2ce70a150d11dfb5",
   "metadata": {
    "ExecuteTime": {
     "end_time": "2023-09-11T16:25:51.674749700Z",
     "start_time": "2023-09-11T16:23:14.141276Z"
    }
   },
   "outputs": [
    {
     "name": "stdout",
     "output_type": "stream",
     "text": [
      "Epoch 1/300\n",
      "15/15 [==============================] - 5s 29ms/step - loss: 0.6914 - accuracy: 0.7322\n",
      "Epoch 2/300\n",
      "15/15 [==============================] - 0s 29ms/step - loss: 0.6897 - accuracy: 0.7798\n",
      "Epoch 3/300\n",
      "15/15 [==============================] - 0s 30ms/step - loss: 0.6881 - accuracy: 0.7674\n",
      "Epoch 4/300\n",
      "15/15 [==============================] - 0s 28ms/step - loss: 0.6864 - accuracy: 0.7764\n",
      "Epoch 5/300\n",
      "15/15 [==============================] - 0s 29ms/step - loss: 0.6849 - accuracy: 0.7792\n",
      "Epoch 6/300\n",
      "15/15 [==============================] - 0s 27ms/step - loss: 0.6833 - accuracy: 0.7688\n",
      "Epoch 7/300\n",
      "15/15 [==============================] - 0s 28ms/step - loss: 0.6818 - accuracy: 0.7640\n",
      "Epoch 8/300\n",
      "15/15 [==============================] - 0s 29ms/step - loss: 0.6803 - accuracy: 0.7585\n",
      "Epoch 9/300\n",
      "15/15 [==============================] - 0s 27ms/step - loss: 0.6789 - accuracy: 0.7585\n",
      "Epoch 10/300\n",
      "15/15 [==============================] - 0s 28ms/step - loss: 0.6774 - accuracy: 0.7550\n",
      "Epoch 11/300\n",
      "15/15 [==============================] - 0s 27ms/step - loss: 0.6760 - accuracy: 0.7564\n",
      "Epoch 12/300\n",
      "15/15 [==============================] - 0s 28ms/step - loss: 0.6746 - accuracy: 0.7550\n",
      "Epoch 13/300\n",
      "15/15 [==============================] - 0s 29ms/step - loss: 0.6733 - accuracy: 0.7557\n",
      "Epoch 14/300\n",
      "15/15 [==============================] - 0s 27ms/step - loss: 0.6719 - accuracy: 0.7550\n",
      "Epoch 15/300\n",
      "15/15 [==============================] - 0s 30ms/step - loss: 0.6706 - accuracy: 0.7536\n",
      "Epoch 16/300\n",
      "15/15 [==============================] - 0s 28ms/step - loss: 0.6692 - accuracy: 0.7516\n",
      "Epoch 17/300\n",
      "15/15 [==============================] - 0s 27ms/step - loss: 0.6679 - accuracy: 0.7481\n",
      "Epoch 18/300\n",
      "15/15 [==============================] - 0s 28ms/step - loss: 0.6666 - accuracy: 0.7467\n",
      "Epoch 19/300\n",
      "15/15 [==============================] - 0s 28ms/step - loss: 0.6653 - accuracy: 0.7426\n",
      "Epoch 20/300\n",
      "15/15 [==============================] - 0s 28ms/step - loss: 0.6641 - accuracy: 0.7426\n",
      "Epoch 21/300\n",
      "15/15 [==============================] - 0s 28ms/step - loss: 0.6627 - accuracy: 0.7412\n",
      "Epoch 22/300\n",
      "15/15 [==============================] - 0s 29ms/step - loss: 0.6615 - accuracy: 0.7378\n",
      "Epoch 23/300\n",
      "15/15 [==============================] - 0s 27ms/step - loss: 0.6602 - accuracy: 0.7350\n",
      "Epoch 24/300\n",
      "15/15 [==============================] - 0s 28ms/step - loss: 0.6590 - accuracy: 0.7350\n",
      "Epoch 25/300\n",
      "15/15 [==============================] - 0s 27ms/step - loss: 0.6577 - accuracy: 0.7322\n",
      "Epoch 26/300\n",
      "15/15 [==============================] - 0s 28ms/step - loss: 0.6564 - accuracy: 0.7302\n",
      "Epoch 27/300\n",
      "15/15 [==============================] - 0s 28ms/step - loss: 0.6552 - accuracy: 0.7288\n",
      "Epoch 28/300\n",
      "15/15 [==============================] - 0s 27ms/step - loss: 0.6539 - accuracy: 0.7302\n",
      "Epoch 29/300\n",
      "15/15 [==============================] - 0s 28ms/step - loss: 0.6527 - accuracy: 0.7295\n",
      "Epoch 30/300\n",
      "15/15 [==============================] - 0s 27ms/step - loss: 0.6514 - accuracy: 0.7295\n",
      "Epoch 31/300\n",
      "15/15 [==============================] - 0s 28ms/step - loss: 0.6501 - accuracy: 0.7274\n",
      "Epoch 32/300\n",
      "15/15 [==============================] - 0s 28ms/step - loss: 0.6489 - accuracy: 0.7239\n",
      "Epoch 33/300\n",
      "15/15 [==============================] - 0s 28ms/step - loss: 0.6477 - accuracy: 0.7239\n",
      "Epoch 34/300\n",
      "15/15 [==============================] - 0s 28ms/step - loss: 0.6464 - accuracy: 0.7239\n",
      "Epoch 35/300\n",
      "15/15 [==============================] - 0s 28ms/step - loss: 0.6452 - accuracy: 0.7239\n",
      "Epoch 36/300\n",
      "15/15 [==============================] - 0s 29ms/step - loss: 0.6439 - accuracy: 0.7226\n",
      "Epoch 37/300\n",
      "15/15 [==============================] - 0s 28ms/step - loss: 0.6427 - accuracy: 0.7198\n",
      "Epoch 38/300\n",
      "15/15 [==============================] - 0s 28ms/step - loss: 0.6414 - accuracy: 0.7205\n",
      "Epoch 39/300\n",
      "15/15 [==============================] - 0s 27ms/step - loss: 0.6401 - accuracy: 0.7205\n",
      "Epoch 40/300\n",
      "15/15 [==============================] - 0s 28ms/step - loss: 0.6388 - accuracy: 0.7191\n",
      "Epoch 41/300\n",
      "15/15 [==============================] - 0s 29ms/step - loss: 0.6376 - accuracy: 0.7191\n",
      "Epoch 42/300\n",
      "15/15 [==============================] - 0s 28ms/step - loss: 0.6363 - accuracy: 0.7184\n",
      "Epoch 43/300\n",
      "15/15 [==============================] - 0s 29ms/step - loss: 0.6350 - accuracy: 0.7164\n",
      "Epoch 44/300\n",
      "15/15 [==============================] - 0s 28ms/step - loss: 0.6337 - accuracy: 0.7177\n",
      "Epoch 45/300\n",
      "15/15 [==============================] - 0s 28ms/step - loss: 0.6324 - accuracy: 0.7157\n",
      "Epoch 46/300\n",
      "15/15 [==============================] - 0s 29ms/step - loss: 0.6310 - accuracy: 0.7150\n",
      "Epoch 47/300\n",
      "15/15 [==============================] - 0s 28ms/step - loss: 0.6297 - accuracy: 0.7150\n",
      "Epoch 48/300\n",
      "15/15 [==============================] - 0s 28ms/step - loss: 0.6283 - accuracy: 0.7150\n",
      "Epoch 49/300\n",
      "15/15 [==============================] - 0s 29ms/step - loss: 0.6270 - accuracy: 0.7136\n",
      "Epoch 50/300\n",
      "15/15 [==============================] - 0s 28ms/step - loss: 0.6257 - accuracy: 0.7170\n",
      "Epoch 51/300\n",
      "15/15 [==============================] - 0s 28ms/step - loss: 0.6243 - accuracy: 0.7150\n",
      "Epoch 52/300\n",
      "15/15 [==============================] - 0s 28ms/step - loss: 0.6229 - accuracy: 0.7150\n",
      "Epoch 53/300\n",
      "15/15 [==============================] - 0s 28ms/step - loss: 0.6214 - accuracy: 0.7143\n",
      "Epoch 54/300\n",
      "15/15 [==============================] - 0s 28ms/step - loss: 0.6201 - accuracy: 0.7108\n",
      "Epoch 55/300\n",
      "15/15 [==============================] - 0s 28ms/step - loss: 0.6186 - accuracy: 0.7150\n",
      "Epoch 56/300\n",
      "15/15 [==============================] - 0s 28ms/step - loss: 0.6172 - accuracy: 0.7157\n",
      "Epoch 57/300\n",
      "15/15 [==============================] - 0s 28ms/step - loss: 0.6158 - accuracy: 0.7177\n",
      "Epoch 58/300\n",
      "15/15 [==============================] - 0s 29ms/step - loss: 0.6143 - accuracy: 0.7170\n",
      "Epoch 59/300\n",
      "15/15 [==============================] - 0s 27ms/step - loss: 0.6128 - accuracy: 0.7177\n",
      "Epoch 60/300\n",
      "15/15 [==============================] - 0s 29ms/step - loss: 0.6113 - accuracy: 0.7157\n",
      "Epoch 61/300\n",
      "15/15 [==============================] - 0s 28ms/step - loss: 0.6098 - accuracy: 0.7170\n",
      "Epoch 62/300\n",
      "15/15 [==============================] - 0s 31ms/step - loss: 0.6082 - accuracy: 0.7157\n",
      "Epoch 63/300\n",
      "15/15 [==============================] - 0s 27ms/step - loss: 0.6067 - accuracy: 0.7157\n",
      "Epoch 64/300\n",
      "15/15 [==============================] - 0s 27ms/step - loss: 0.6051 - accuracy: 0.7157\n",
      "Epoch 65/300\n",
      "15/15 [==============================] - 0s 29ms/step - loss: 0.6035 - accuracy: 0.7164\n",
      "Epoch 66/300\n",
      "15/15 [==============================] - 0s 26ms/step - loss: 0.6020 - accuracy: 0.7157\n",
      "Epoch 67/300\n",
      "15/15 [==============================] - 0s 27ms/step - loss: 0.6004 - accuracy: 0.7164\n",
      "Epoch 68/300\n",
      "15/15 [==============================] - 0s 27ms/step - loss: 0.5987 - accuracy: 0.7198\n",
      "Epoch 69/300\n",
      "15/15 [==============================] - 0s 28ms/step - loss: 0.5971 - accuracy: 0.7212\n",
      "Epoch 70/300\n",
      "15/15 [==============================] - 0s 29ms/step - loss: 0.5953 - accuracy: 0.7219\n",
      "Epoch 71/300\n",
      "15/15 [==============================] - 0s 27ms/step - loss: 0.5937 - accuracy: 0.7198\n",
      "Epoch 72/300\n",
      "15/15 [==============================] - 0s 27ms/step - loss: 0.5919 - accuracy: 0.7198\n",
      "Epoch 73/300\n",
      "15/15 [==============================] - 0s 27ms/step - loss: 0.5901 - accuracy: 0.7212\n",
      "Epoch 74/300\n",
      "15/15 [==============================] - 0s 28ms/step - loss: 0.5884 - accuracy: 0.7233\n",
      "Epoch 75/300\n",
      "15/15 [==============================] - 0s 28ms/step - loss: 0.5865 - accuracy: 0.7233\n",
      "Epoch 76/300\n",
      "15/15 [==============================] - 0s 29ms/step - loss: 0.5847 - accuracy: 0.7226\n",
      "Epoch 77/300\n",
      "15/15 [==============================] - 0s 28ms/step - loss: 0.5830 - accuracy: 0.7239\n",
      "Epoch 78/300\n",
      "15/15 [==============================] - 0s 28ms/step - loss: 0.5810 - accuracy: 0.7226\n",
      "Epoch 79/300\n",
      "15/15 [==============================] - 0s 28ms/step - loss: 0.5792 - accuracy: 0.7226\n",
      "Epoch 80/300\n",
      "15/15 [==============================] - 0s 28ms/step - loss: 0.5773 - accuracy: 0.7226\n",
      "Epoch 81/300\n",
      "15/15 [==============================] - 0s 27ms/step - loss: 0.5754 - accuracy: 0.7226\n",
      "Epoch 82/300\n",
      "15/15 [==============================] - 0s 28ms/step - loss: 0.5734 - accuracy: 0.7233\n",
      "Epoch 83/300\n",
      "15/15 [==============================] - 0s 30ms/step - loss: 0.5714 - accuracy: 0.7226\n",
      "Epoch 84/300\n",
      "15/15 [==============================] - 0s 27ms/step - loss: 0.5694 - accuracy: 0.7253\n",
      "Epoch 85/300\n",
      "15/15 [==============================] - 0s 26ms/step - loss: 0.5674 - accuracy: 0.7260\n",
      "Epoch 86/300\n",
      "15/15 [==============================] - 0s 28ms/step - loss: 0.5653 - accuracy: 0.7288\n",
      "Epoch 87/300\n",
      "15/15 [==============================] - 0s 28ms/step - loss: 0.5632 - accuracy: 0.7288\n",
      "Epoch 88/300\n",
      "15/15 [==============================] - 0s 30ms/step - loss: 0.5611 - accuracy: 0.7260\n",
      "Epoch 89/300\n",
      "15/15 [==============================] - 0s 28ms/step - loss: 0.5589 - accuracy: 0.7288\n",
      "Epoch 90/300\n",
      "15/15 [==============================] - 0s 27ms/step - loss: 0.5568 - accuracy: 0.7322\n",
      "Epoch 91/300\n",
      "15/15 [==============================] - 0s 28ms/step - loss: 0.5545 - accuracy: 0.7343\n",
      "Epoch 92/300\n",
      "15/15 [==============================] - 0s 30ms/step - loss: 0.5523 - accuracy: 0.7357\n",
      "Epoch 93/300\n",
      "15/15 [==============================] - 0s 28ms/step - loss: 0.5502 - accuracy: 0.7398\n",
      "Epoch 94/300\n",
      "15/15 [==============================] - 0s 28ms/step - loss: 0.5478 - accuracy: 0.7405\n",
      "Epoch 95/300\n",
      "15/15 [==============================] - 0s 27ms/step - loss: 0.5455 - accuracy: 0.7405\n",
      "Epoch 96/300\n",
      "15/15 [==============================] - 0s 28ms/step - loss: 0.5432 - accuracy: 0.7405\n",
      "Epoch 97/300\n",
      "15/15 [==============================] - 0s 27ms/step - loss: 0.5407 - accuracy: 0.7433\n",
      "Epoch 98/300\n",
      "15/15 [==============================] - 0s 28ms/step - loss: 0.5385 - accuracy: 0.7453\n",
      "Epoch 99/300\n",
      "15/15 [==============================] - 0s 28ms/step - loss: 0.5361 - accuracy: 0.7426\n",
      "Epoch 100/300\n",
      "15/15 [==============================] - 0s 28ms/step - loss: 0.5336 - accuracy: 0.7426\n",
      "Epoch 101/300\n",
      "15/15 [==============================] - 0s 28ms/step - loss: 0.5311 - accuracy: 0.7460\n",
      "Epoch 102/300\n",
      "15/15 [==============================] - 0s 28ms/step - loss: 0.5287 - accuracy: 0.7481\n",
      "Epoch 103/300\n",
      "15/15 [==============================] - 0s 26ms/step - loss: 0.5264 - accuracy: 0.7529\n",
      "Epoch 104/300\n",
      "15/15 [==============================] - 0s 26ms/step - loss: 0.5238 - accuracy: 0.7516\n",
      "Epoch 105/300\n",
      "15/15 [==============================] - 0s 28ms/step - loss: 0.5214 - accuracy: 0.7509\n",
      "Epoch 106/300\n",
      "15/15 [==============================] - 0s 28ms/step - loss: 0.5191 - accuracy: 0.7516\n",
      "Epoch 107/300\n",
      "15/15 [==============================] - 0s 28ms/step - loss: 0.5168 - accuracy: 0.7626\n",
      "Epoch 108/300\n",
      "15/15 [==============================] - 0s 28ms/step - loss: 0.5140 - accuracy: 0.7640\n",
      "Epoch 109/300\n",
      "15/15 [==============================] - 0s 30ms/step - loss: 0.5113 - accuracy: 0.7640\n",
      "Epoch 110/300\n",
      "15/15 [==============================] - 0s 29ms/step - loss: 0.5088 - accuracy: 0.7626\n",
      "Epoch 111/300\n",
      "15/15 [==============================] - 0s 28ms/step - loss: 0.5068 - accuracy: 0.7571\n",
      "Epoch 112/300\n",
      "15/15 [==============================] - 0s 31ms/step - loss: 0.5043 - accuracy: 0.7709\n",
      "Epoch 113/300\n",
      "15/15 [==============================] - 0s 28ms/step - loss: 0.5016 - accuracy: 0.7723\n",
      "Epoch 114/300\n",
      "15/15 [==============================] - 0s 29ms/step - loss: 0.4991 - accuracy: 0.7729\n",
      "Epoch 115/300\n",
      "15/15 [==============================] - 0s 28ms/step - loss: 0.4967 - accuracy: 0.7743\n",
      "Epoch 116/300\n",
      "15/15 [==============================] - 0s 28ms/step - loss: 0.4944 - accuracy: 0.7736\n",
      "Epoch 117/300\n",
      "15/15 [==============================] - 0s 28ms/step - loss: 0.4922 - accuracy: 0.7729\n",
      "Epoch 118/300\n",
      "15/15 [==============================] - 0s 28ms/step - loss: 0.4897 - accuracy: 0.7736\n",
      "Epoch 119/300\n",
      "15/15 [==============================] - 0s 28ms/step - loss: 0.4876 - accuracy: 0.7764\n",
      "Epoch 120/300\n",
      "15/15 [==============================] - 0s 29ms/step - loss: 0.4853 - accuracy: 0.7764\n",
      "Epoch 121/300\n",
      "15/15 [==============================] - 0s 27ms/step - loss: 0.4830 - accuracy: 0.7750\n",
      "Epoch 122/300\n",
      "15/15 [==============================] - 0s 29ms/step - loss: 0.4809 - accuracy: 0.7778\n",
      "Epoch 123/300\n",
      "15/15 [==============================] - 0s 28ms/step - loss: 0.4790 - accuracy: 0.7847\n",
      "Epoch 124/300\n",
      "15/15 [==============================] - 0s 27ms/step - loss: 0.4768 - accuracy: 0.7805\n",
      "Epoch 125/300\n",
      "15/15 [==============================] - 0s 28ms/step - loss: 0.4748 - accuracy: 0.7792\n",
      "Epoch 126/300\n",
      "15/15 [==============================] - 0s 27ms/step - loss: 0.4730 - accuracy: 0.7909\n",
      "Epoch 127/300\n",
      "15/15 [==============================] - 0s 27ms/step - loss: 0.4709 - accuracy: 0.7895\n",
      "Epoch 128/300\n",
      "15/15 [==============================] - 0s 29ms/step - loss: 0.4694 - accuracy: 0.7916\n",
      "Epoch 129/300\n",
      "15/15 [==============================] - 0s 28ms/step - loss: 0.4670 - accuracy: 0.7930\n",
      "Epoch 130/300\n",
      "15/15 [==============================] - 0s 27ms/step - loss: 0.4655 - accuracy: 0.7937\n",
      "Epoch 131/300\n",
      "15/15 [==============================] - 0s 29ms/step - loss: 0.4638 - accuracy: 0.7957\n",
      "Epoch 132/300\n",
      "15/15 [==============================] - 0s 28ms/step - loss: 0.4623 - accuracy: 0.7971\n",
      "Epoch 133/300\n",
      "15/15 [==============================] - 0s 28ms/step - loss: 0.4606 - accuracy: 0.7971\n",
      "Epoch 134/300\n",
      "15/15 [==============================] - 0s 28ms/step - loss: 0.4592 - accuracy: 0.7971\n",
      "Epoch 135/300\n",
      "15/15 [==============================] - 0s 29ms/step - loss: 0.4578 - accuracy: 0.8006\n",
      "Epoch 136/300\n",
      "15/15 [==============================] - 0s 28ms/step - loss: 0.4566 - accuracy: 0.8019\n",
      "Epoch 137/300\n",
      "15/15 [==============================] - 0s 28ms/step - loss: 0.4552 - accuracy: 0.8019\n",
      "Epoch 138/300\n",
      "15/15 [==============================] - 0s 28ms/step - loss: 0.4541 - accuracy: 0.7978\n",
      "Epoch 139/300\n",
      "15/15 [==============================] - 0s 27ms/step - loss: 0.4530 - accuracy: 0.8054\n",
      "Epoch 140/300\n",
      "15/15 [==============================] - 0s 28ms/step - loss: 0.4525 - accuracy: 0.8019\n",
      "Epoch 141/300\n",
      "15/15 [==============================] - 0s 29ms/step - loss: 0.4508 - accuracy: 0.8047\n",
      "Epoch 142/300\n",
      "15/15 [==============================] - 0s 26ms/step - loss: 0.4498 - accuracy: 0.8047\n",
      "Epoch 143/300\n",
      "15/15 [==============================] - 0s 28ms/step - loss: 0.4490 - accuracy: 0.8054\n",
      "Epoch 144/300\n",
      "15/15 [==============================] - 0s 28ms/step - loss: 0.4488 - accuracy: 0.8047\n",
      "Epoch 145/300\n",
      "15/15 [==============================] - 0s 28ms/step - loss: 0.4475 - accuracy: 0.8054\n",
      "Epoch 146/300\n",
      "15/15 [==============================] - 0s 28ms/step - loss: 0.4474 - accuracy: 0.8047\n",
      "Epoch 147/300\n",
      "15/15 [==============================] - 0s 28ms/step - loss: 0.4465 - accuracy: 0.8047\n",
      "Epoch 148/300\n",
      "15/15 [==============================] - 0s 28ms/step - loss: 0.4457 - accuracy: 0.8054\n",
      "Epoch 149/300\n",
      "15/15 [==============================] - 0s 28ms/step - loss: 0.4451 - accuracy: 0.8075\n",
      "Epoch 150/300\n",
      "15/15 [==============================] - 0s 30ms/step - loss: 0.4443 - accuracy: 0.8040\n",
      "Epoch 151/300\n",
      "15/15 [==============================] - 0s 28ms/step - loss: 0.4438 - accuracy: 0.8047\n",
      "Epoch 152/300\n",
      "15/15 [==============================] - 0s 28ms/step - loss: 0.4439 - accuracy: 0.8054\n",
      "Epoch 153/300\n",
      "15/15 [==============================] - 0s 30ms/step - loss: 0.4433 - accuracy: 0.8068\n",
      "Epoch 154/300\n",
      "15/15 [==============================] - 0s 28ms/step - loss: 0.4429 - accuracy: 0.8068\n",
      "Epoch 155/300\n",
      "15/15 [==============================] - 0s 28ms/step - loss: 0.4427 - accuracy: 0.8054\n",
      "Epoch 156/300\n",
      "15/15 [==============================] - 0s 27ms/step - loss: 0.4421 - accuracy: 0.8040\n",
      "Epoch 157/300\n",
      "15/15 [==============================] - 0s 27ms/step - loss: 0.4421 - accuracy: 0.8061\n",
      "Epoch 158/300\n",
      "15/15 [==============================] - 0s 28ms/step - loss: 0.4436 - accuracy: 0.8095\n",
      "Epoch 159/300\n",
      "15/15 [==============================] - 0s 28ms/step - loss: 0.4428 - accuracy: 0.8068\n",
      "Epoch 160/300\n",
      "15/15 [==============================] - 0s 27ms/step - loss: 0.4420 - accuracy: 0.8054\n",
      "Epoch 161/300\n",
      "15/15 [==============================] - 0s 28ms/step - loss: 0.4408 - accuracy: 0.8088\n",
      "Epoch 162/300\n",
      "15/15 [==============================] - 0s 27ms/step - loss: 0.4408 - accuracy: 0.8061\n",
      "Epoch 163/300\n",
      "15/15 [==============================] - 0s 28ms/step - loss: 0.4408 - accuracy: 0.8095\n",
      "Epoch 164/300\n",
      "15/15 [==============================] - 0s 28ms/step - loss: 0.4405 - accuracy: 0.8081\n",
      "Epoch 165/300\n",
      "15/15 [==============================] - 0s 28ms/step - loss: 0.4402 - accuracy: 0.8081\n",
      "Epoch 166/300\n",
      "15/15 [==============================] - 0s 27ms/step - loss: 0.4411 - accuracy: 0.8033\n",
      "Epoch 167/300\n",
      "15/15 [==============================] - 0s 28ms/step - loss: 0.4405 - accuracy: 0.8075\n",
      "Epoch 168/300\n",
      "15/15 [==============================] - 0s 27ms/step - loss: 0.4424 - accuracy: 0.8040\n",
      "Epoch 169/300\n",
      "15/15 [==============================] - 0s 27ms/step - loss: 0.4411 - accuracy: 0.8068\n",
      "Epoch 170/300\n",
      "15/15 [==============================] - 0s 28ms/step - loss: 0.4396 - accuracy: 0.8081\n",
      "Epoch 171/300\n",
      "15/15 [==============================] - 0s 28ms/step - loss: 0.4399 - accuracy: 0.8061\n",
      "Epoch 172/300\n",
      "15/15 [==============================] - 0s 28ms/step - loss: 0.4395 - accuracy: 0.8068\n",
      "Epoch 173/300\n",
      "15/15 [==============================] - 0s 28ms/step - loss: 0.4395 - accuracy: 0.8081\n",
      "Epoch 174/300\n",
      "15/15 [==============================] - 0s 28ms/step - loss: 0.4394 - accuracy: 0.8081\n",
      "Epoch 175/300\n",
      "15/15 [==============================] - 0s 29ms/step - loss: 0.4392 - accuracy: 0.8081\n",
      "Epoch 176/300\n",
      "15/15 [==============================] - 0s 29ms/step - loss: 0.4397 - accuracy: 0.8068\n",
      "Epoch 177/300\n",
      "15/15 [==============================] - 0s 30ms/step - loss: 0.4395 - accuracy: 0.8061\n",
      "Epoch 178/300\n",
      "15/15 [==============================] - 0s 28ms/step - loss: 0.4391 - accuracy: 0.8081\n",
      "Epoch 179/300\n",
      "15/15 [==============================] - 0s 29ms/step - loss: 0.4391 - accuracy: 0.8068\n",
      "Epoch 180/300\n",
      "15/15 [==============================] - 0s 29ms/step - loss: 0.4392 - accuracy: 0.8081\n",
      "Epoch 181/300\n",
      "15/15 [==============================] - 0s 28ms/step - loss: 0.4399 - accuracy: 0.8061\n",
      "Epoch 182/300\n",
      "15/15 [==============================] - 0s 29ms/step - loss: 0.4395 - accuracy: 0.8054\n",
      "Epoch 183/300\n",
      "15/15 [==============================] - 0s 28ms/step - loss: 0.4397 - accuracy: 0.8054\n",
      "Epoch 184/300\n",
      "15/15 [==============================] - 0s 28ms/step - loss: 0.4395 - accuracy: 0.8033\n",
      "Epoch 185/300\n",
      "15/15 [==============================] - 0s 28ms/step - loss: 0.4385 - accuracy: 0.8068\n",
      "Epoch 186/300\n",
      "15/15 [==============================] - 0s 29ms/step - loss: 0.4393 - accuracy: 0.8075\n",
      "Epoch 187/300\n",
      "15/15 [==============================] - 0s 27ms/step - loss: 0.4392 - accuracy: 0.8047\n",
      "Epoch 188/300\n",
      "15/15 [==============================] - 0s 28ms/step - loss: 0.4390 - accuracy: 0.8068\n",
      "Epoch 189/300\n",
      "15/15 [==============================] - 0s 27ms/step - loss: 0.4389 - accuracy: 0.8081\n",
      "Epoch 190/300\n",
      "15/15 [==============================] - 0s 26ms/step - loss: 0.4388 - accuracy: 0.8075\n",
      "Epoch 191/300\n",
      "15/15 [==============================] - 0s 27ms/step - loss: 0.4387 - accuracy: 0.8075\n",
      "Epoch 192/300\n",
      "15/15 [==============================] - 0s 26ms/step - loss: 0.4386 - accuracy: 0.8061\n",
      "Epoch 193/300\n",
      "15/15 [==============================] - 0s 27ms/step - loss: 0.4392 - accuracy: 0.8054\n",
      "Epoch 194/300\n",
      "15/15 [==============================] - 0s 26ms/step - loss: 0.4389 - accuracy: 0.8054\n",
      "Epoch 195/300\n",
      "15/15 [==============================] - 0s 28ms/step - loss: 0.4387 - accuracy: 0.8075\n",
      "Epoch 196/300\n",
      "15/15 [==============================] - 0s 28ms/step - loss: 0.4388 - accuracy: 0.8040\n",
      "Epoch 197/300\n",
      "15/15 [==============================] - 0s 28ms/step - loss: 0.4403 - accuracy: 0.8061\n",
      "Epoch 198/300\n",
      "15/15 [==============================] - 0s 28ms/step - loss: 0.4392 - accuracy: 0.8061\n",
      "Epoch 199/300\n",
      "15/15 [==============================] - 0s 26ms/step - loss: 0.4385 - accuracy: 0.8075\n",
      "Epoch 200/300\n",
      "15/15 [==============================] - 0s 28ms/step - loss: 0.4388 - accuracy: 0.8068\n",
      "Epoch 201/300\n",
      "15/15 [==============================] - 0s 28ms/step - loss: 0.4388 - accuracy: 0.8061\n",
      "Epoch 202/300\n",
      "15/15 [==============================] - 0s 29ms/step - loss: 0.4388 - accuracy: 0.8068\n",
      "Epoch 203/300\n",
      "15/15 [==============================] - 0s 29ms/step - loss: 0.4388 - accuracy: 0.8040\n",
      "Epoch 204/300\n",
      "15/15 [==============================] - 0s 29ms/step - loss: 0.4385 - accuracy: 0.8054\n",
      "Epoch 205/300\n",
      "15/15 [==============================] - 0s 28ms/step - loss: 0.4389 - accuracy: 0.8047\n",
      "Epoch 206/300\n",
      "15/15 [==============================] - 0s 28ms/step - loss: 0.4384 - accuracy: 0.8054\n",
      "Epoch 207/300\n",
      "15/15 [==============================] - 0s 28ms/step - loss: 0.4384 - accuracy: 0.8068\n",
      "Epoch 208/300\n",
      "15/15 [==============================] - 0s 28ms/step - loss: 0.4385 - accuracy: 0.8075\n",
      "Epoch 209/300\n",
      "15/15 [==============================] - 0s 29ms/step - loss: 0.4384 - accuracy: 0.8061\n",
      "Epoch 210/300\n",
      "15/15 [==============================] - 0s 29ms/step - loss: 0.4382 - accuracy: 0.8068\n",
      "Epoch 211/300\n",
      "15/15 [==============================] - 0s 28ms/step - loss: 0.4383 - accuracy: 0.8061\n",
      "Epoch 212/300\n",
      "15/15 [==============================] - 0s 28ms/step - loss: 0.4386 - accuracy: 0.8054\n",
      "Epoch 213/300\n",
      "15/15 [==============================] - 0s 26ms/step - loss: 0.4386 - accuracy: 0.8068\n",
      "Epoch 214/300\n",
      "15/15 [==============================] - 0s 28ms/step - loss: 0.4385 - accuracy: 0.8061\n",
      "Epoch 215/300\n",
      "15/15 [==============================] - 0s 28ms/step - loss: 0.4381 - accuracy: 0.8061\n",
      "Epoch 216/300\n",
      "15/15 [==============================] - 0s 29ms/step - loss: 0.4382 - accuracy: 0.8061\n",
      "Epoch 217/300\n",
      "15/15 [==============================] - 0s 27ms/step - loss: 0.4389 - accuracy: 0.8075\n",
      "Epoch 218/300\n",
      "15/15 [==============================] - 0s 29ms/step - loss: 0.4381 - accuracy: 0.8061\n",
      "Epoch 219/300\n",
      "15/15 [==============================] - 0s 28ms/step - loss: 0.4384 - accuracy: 0.8054\n",
      "Epoch 220/300\n",
      "15/15 [==============================] - 0s 28ms/step - loss: 0.4389 - accuracy: 0.8047\n",
      "Epoch 221/300\n",
      "15/15 [==============================] - 0s 29ms/step - loss: 0.4384 - accuracy: 0.8075\n",
      "Epoch 222/300\n",
      "15/15 [==============================] - 0s 27ms/step - loss: 0.4386 - accuracy: 0.8075\n",
      "Epoch 223/300\n",
      "15/15 [==============================] - 0s 29ms/step - loss: 0.4382 - accuracy: 0.8054\n",
      "Epoch 224/300\n",
      "15/15 [==============================] - 0s 29ms/step - loss: 0.4383 - accuracy: 0.8068\n",
      "Epoch 225/300\n",
      "15/15 [==============================] - 0s 31ms/step - loss: 0.4381 - accuracy: 0.8075\n",
      "Epoch 226/300\n",
      "15/15 [==============================] - 1s 34ms/step - loss: 0.4384 - accuracy: 0.8061\n",
      "Epoch 227/300\n",
      "15/15 [==============================] - 0s 31ms/step - loss: 0.4388 - accuracy: 0.8075\n",
      "Epoch 228/300\n",
      "15/15 [==============================] - 0s 25ms/step - loss: 0.4379 - accuracy: 0.8061\n",
      "Epoch 229/300\n",
      "15/15 [==============================] - 0s 27ms/step - loss: 0.4382 - accuracy: 0.8075\n",
      "Epoch 230/300\n",
      "15/15 [==============================] - 0s 27ms/step - loss: 0.4381 - accuracy: 0.8054\n",
      "Epoch 231/300\n",
      "15/15 [==============================] - 0s 26ms/step - loss: 0.4380 - accuracy: 0.8054\n",
      "Epoch 232/300\n",
      "15/15 [==============================] - 0s 26ms/step - loss: 0.4381 - accuracy: 0.8054\n",
      "Epoch 233/300\n",
      "15/15 [==============================] - 0s 26ms/step - loss: 0.4384 - accuracy: 0.8068\n",
      "Epoch 234/300\n",
      "15/15 [==============================] - 0s 26ms/step - loss: 0.4389 - accuracy: 0.8047\n",
      "Epoch 235/300\n",
      "15/15 [==============================] - 0s 27ms/step - loss: 0.4379 - accuracy: 0.8040\n",
      "Epoch 236/300\n",
      "15/15 [==============================] - 0s 27ms/step - loss: 0.4381 - accuracy: 0.8026\n",
      "Epoch 237/300\n",
      "15/15 [==============================] - 0s 26ms/step - loss: 0.4379 - accuracy: 0.8068\n",
      "Epoch 238/300\n",
      "15/15 [==============================] - 0s 31ms/step - loss: 0.4384 - accuracy: 0.8081\n",
      "Epoch 239/300\n",
      "15/15 [==============================] - 1s 54ms/step - loss: 0.4381 - accuracy: 0.8061\n",
      "Epoch 240/300\n",
      "15/15 [==============================] - 1s 54ms/step - loss: 0.4382 - accuracy: 0.8061\n",
      "Epoch 241/300\n",
      "15/15 [==============================] - 1s 54ms/step - loss: 0.4381 - accuracy: 0.8047\n",
      "Epoch 242/300\n",
      "15/15 [==============================] - 1s 39ms/step - loss: 0.4382 - accuracy: 0.8061\n",
      "Epoch 243/300\n",
      "15/15 [==============================] - 1s 55ms/step - loss: 0.4385 - accuracy: 0.8054\n",
      "Epoch 244/300\n",
      "15/15 [==============================] - 1s 54ms/step - loss: 0.4380 - accuracy: 0.8068\n",
      "Epoch 245/300\n",
      "15/15 [==============================] - 1s 53ms/step - loss: 0.4388 - accuracy: 0.8088\n",
      "Epoch 246/300\n",
      "15/15 [==============================] - 1s 54ms/step - loss: 0.4378 - accuracy: 0.8061\n",
      "Epoch 247/300\n",
      "15/15 [==============================] - 1s 55ms/step - loss: 0.4379 - accuracy: 0.8081\n",
      "Epoch 248/300\n",
      "15/15 [==============================] - 1s 54ms/step - loss: 0.4378 - accuracy: 0.8054\n",
      "Epoch 249/300\n",
      "15/15 [==============================] - 1s 62ms/step - loss: 0.4379 - accuracy: 0.8068\n",
      "Epoch 250/300\n",
      "15/15 [==============================] - 1s 61ms/step - loss: 0.4378 - accuracy: 0.8054\n",
      "Epoch 251/300\n",
      "15/15 [==============================] - 1s 58ms/step - loss: 0.4377 - accuracy: 0.8061\n",
      "Epoch 252/300\n",
      "15/15 [==============================] - 1s 56ms/step - loss: 0.4377 - accuracy: 0.8061\n",
      "Epoch 253/300\n",
      "15/15 [==============================] - 1s 56ms/step - loss: 0.4379 - accuracy: 0.8047\n",
      "Epoch 254/300\n",
      "15/15 [==============================] - 1s 55ms/step - loss: 0.4377 - accuracy: 0.8061\n",
      "Epoch 255/300\n",
      "15/15 [==============================] - 1s 58ms/step - loss: 0.4387 - accuracy: 0.8033\n",
      "Epoch 256/300\n",
      "15/15 [==============================] - 1s 59ms/step - loss: 0.4379 - accuracy: 0.8047\n",
      "Epoch 257/300\n",
      "15/15 [==============================] - 1s 64ms/step - loss: 0.4375 - accuracy: 0.8047\n",
      "Epoch 258/300\n",
      "15/15 [==============================] - 1s 59ms/step - loss: 0.4379 - accuracy: 0.8040\n",
      "Epoch 259/300\n",
      "15/15 [==============================] - 1s 54ms/step - loss: 0.4378 - accuracy: 0.8047\n",
      "Epoch 260/300\n",
      "15/15 [==============================] - 1s 56ms/step - loss: 0.4376 - accuracy: 0.8047\n",
      "Epoch 261/300\n",
      "15/15 [==============================] - 1s 54ms/step - loss: 0.4389 - accuracy: 0.8061\n",
      "Epoch 262/300\n",
      "15/15 [==============================] - 1s 56ms/step - loss: 0.4380 - accuracy: 0.8054\n",
      "Epoch 263/300\n",
      "15/15 [==============================] - 1s 56ms/step - loss: 0.4382 - accuracy: 0.8040\n",
      "Epoch 264/300\n",
      "15/15 [==============================] - 1s 54ms/step - loss: 0.4377 - accuracy: 0.8068\n",
      "Epoch 265/300\n",
      "15/15 [==============================] - 1s 53ms/step - loss: 0.4379 - accuracy: 0.8061\n",
      "Epoch 266/300\n",
      "15/15 [==============================] - 1s 55ms/step - loss: 0.4375 - accuracy: 0.8061\n",
      "Epoch 267/300\n",
      "15/15 [==============================] - 1s 55ms/step - loss: 0.4377 - accuracy: 0.8068\n",
      "Epoch 268/300\n",
      "15/15 [==============================] - 1s 52ms/step - loss: 0.4376 - accuracy: 0.8075\n",
      "Epoch 269/300\n",
      "15/15 [==============================] - 1s 55ms/step - loss: 0.4376 - accuracy: 0.8075\n",
      "Epoch 270/300\n",
      "15/15 [==============================] - 1s 54ms/step - loss: 0.4377 - accuracy: 0.8075\n",
      "Epoch 271/300\n",
      "15/15 [==============================] - 1s 55ms/step - loss: 0.4375 - accuracy: 0.8061\n",
      "Epoch 272/300\n",
      "15/15 [==============================] - 1s 54ms/step - loss: 0.4375 - accuracy: 0.8061\n",
      "Epoch 273/300\n",
      "15/15 [==============================] - 1s 54ms/step - loss: 0.4375 - accuracy: 0.8061\n",
      "Epoch 274/300\n",
      "15/15 [==============================] - 1s 55ms/step - loss: 0.4378 - accuracy: 0.8040\n",
      "Epoch 275/300\n",
      "15/15 [==============================] - 1s 54ms/step - loss: 0.4373 - accuracy: 0.8054\n",
      "Epoch 276/300\n",
      "15/15 [==============================] - 1s 53ms/step - loss: 0.4374 - accuracy: 0.8061\n",
      "Epoch 277/300\n",
      "15/15 [==============================] - 1s 56ms/step - loss: 0.4376 - accuracy: 0.8061\n",
      "Epoch 278/300\n",
      "15/15 [==============================] - 1s 55ms/step - loss: 0.4374 - accuracy: 0.8068\n",
      "Epoch 279/300\n",
      "15/15 [==============================] - 1s 54ms/step - loss: 0.4374 - accuracy: 0.8068\n",
      "Epoch 280/300\n",
      "15/15 [==============================] - 1s 52ms/step - loss: 0.4377 - accuracy: 0.8054\n",
      "Epoch 281/300\n",
      "15/15 [==============================] - 1s 53ms/step - loss: 0.4373 - accuracy: 0.8068\n",
      "Epoch 282/300\n",
      "15/15 [==============================] - 1s 52ms/step - loss: 0.4373 - accuracy: 0.8061\n",
      "Epoch 283/300\n",
      "15/15 [==============================] - 1s 52ms/step - loss: 0.4373 - accuracy: 0.8075\n",
      "Epoch 284/300\n",
      "15/15 [==============================] - 1s 52ms/step - loss: 0.4372 - accuracy: 0.8054\n",
      "Epoch 285/300\n",
      "15/15 [==============================] - 1s 55ms/step - loss: 0.4374 - accuracy: 0.8061\n",
      "Epoch 286/300\n",
      "15/15 [==============================] - 1s 53ms/step - loss: 0.4372 - accuracy: 0.8061\n",
      "Epoch 287/300\n",
      "15/15 [==============================] - 1s 52ms/step - loss: 0.4373 - accuracy: 0.8068\n",
      "Epoch 288/300\n",
      "15/15 [==============================] - 1s 53ms/step - loss: 0.4372 - accuracy: 0.8061\n",
      "Epoch 289/300\n",
      "15/15 [==============================] - 1s 53ms/step - loss: 0.4373 - accuracy: 0.8068\n",
      "Epoch 290/300\n",
      "15/15 [==============================] - 1s 54ms/step - loss: 0.4377 - accuracy: 0.8075\n",
      "Epoch 291/300\n",
      "15/15 [==============================] - 1s 55ms/step - loss: 0.4372 - accuracy: 0.8061\n",
      "Epoch 292/300\n",
      "15/15 [==============================] - 1s 54ms/step - loss: 0.4374 - accuracy: 0.8068\n",
      "Epoch 293/300\n",
      "15/15 [==============================] - 1s 54ms/step - loss: 0.4372 - accuracy: 0.8061\n",
      "Epoch 294/300\n",
      "15/15 [==============================] - 1s 53ms/step - loss: 0.4374 - accuracy: 0.8061\n",
      "Epoch 295/300\n",
      "15/15 [==============================] - 1s 54ms/step - loss: 0.4373 - accuracy: 0.8054\n",
      "Epoch 296/300\n",
      "15/15 [==============================] - 1s 53ms/step - loss: 0.4371 - accuracy: 0.8068\n",
      "Epoch 297/300\n",
      "15/15 [==============================] - 1s 54ms/step - loss: 0.4372 - accuracy: 0.8075\n",
      "Epoch 298/300\n",
      "15/15 [==============================] - 1s 53ms/step - loss: 0.4372 - accuracy: 0.8075\n",
      "Epoch 299/300\n",
      "15/15 [==============================] - 1s 53ms/step - loss: 0.4373 - accuracy: 0.8054\n",
      "Epoch 300/300\n",
      "15/15 [==============================] - 1s 54ms/step - loss: 0.4369 - accuracy: 0.8068\n"
     ]
    }
   ],
   "source": [
    "model_history=model.fit([X_train, s0, c0], y_train, epochs=300, batch_size=100)#350"
   ]
  },
  {
   "cell_type": "code",
   "execution_count": 49,
   "id": "1f47a2947f97d1d0",
   "metadata": {
    "ExecuteTime": {
     "end_time": "2023-09-11T16:45:33.399348400Z",
     "start_time": "2023-09-11T16:45:33.270054600Z"
    }
   },
   "outputs": [
    {
     "data": {
      "application/javascript": [
       "/* Put everything inside the global mpl namespace */\n",
       "/* global mpl */\n",
       "window.mpl = {};\n",
       "\n",
       "mpl.get_websocket_type = function () {\n",
       "    if (typeof WebSocket !== 'undefined') {\n",
       "        return WebSocket;\n",
       "    } else if (typeof MozWebSocket !== 'undefined') {\n",
       "        return MozWebSocket;\n",
       "    } else {\n",
       "        alert(\n",
       "            'Your browser does not have WebSocket support. ' +\n",
       "                'Please try Chrome, Safari or Firefox ≥ 6. ' +\n",
       "                'Firefox 4 and 5 are also supported but you ' +\n",
       "                'have to enable WebSockets in about:config.'\n",
       "        );\n",
       "    }\n",
       "};\n",
       "\n",
       "mpl.figure = function (figure_id, websocket, ondownload, parent_element) {\n",
       "    this.id = figure_id;\n",
       "\n",
       "    this.ws = websocket;\n",
       "\n",
       "    this.supports_binary = this.ws.binaryType !== undefined;\n",
       "\n",
       "    if (!this.supports_binary) {\n",
       "        var warnings = document.getElementById('mpl-warnings');\n",
       "        if (warnings) {\n",
       "            warnings.style.display = 'block';\n",
       "            warnings.textContent =\n",
       "                'This browser does not support binary websocket messages. ' +\n",
       "                'Performance may be slow.';\n",
       "        }\n",
       "    }\n",
       "\n",
       "    this.imageObj = new Image();\n",
       "\n",
       "    this.context = undefined;\n",
       "    this.message = undefined;\n",
       "    this.canvas = undefined;\n",
       "    this.rubberband_canvas = undefined;\n",
       "    this.rubberband_context = undefined;\n",
       "    this.format_dropdown = undefined;\n",
       "\n",
       "    this.image_mode = 'full';\n",
       "\n",
       "    this.root = document.createElement('div');\n",
       "    this.root.setAttribute('style', 'display: inline-block');\n",
       "    this._root_extra_style(this.root);\n",
       "\n",
       "    parent_element.appendChild(this.root);\n",
       "\n",
       "    this._init_header(this);\n",
       "    this._init_canvas(this);\n",
       "    this._init_toolbar(this);\n",
       "\n",
       "    var fig = this;\n",
       "\n",
       "    this.waiting = false;\n",
       "\n",
       "    this.ws.onopen = function () {\n",
       "        fig.send_message('supports_binary', { value: fig.supports_binary });\n",
       "        fig.send_message('send_image_mode', {});\n",
       "        if (fig.ratio !== 1) {\n",
       "            fig.send_message('set_device_pixel_ratio', {\n",
       "                device_pixel_ratio: fig.ratio,\n",
       "            });\n",
       "        }\n",
       "        fig.send_message('refresh', {});\n",
       "    };\n",
       "\n",
       "    this.imageObj.onload = function () {\n",
       "        if (fig.image_mode === 'full') {\n",
       "            // Full images could contain transparency (where diff images\n",
       "            // almost always do), so we need to clear the canvas so that\n",
       "            // there is no ghosting.\n",
       "            fig.context.clearRect(0, 0, fig.canvas.width, fig.canvas.height);\n",
       "        }\n",
       "        fig.context.drawImage(fig.imageObj, 0, 0);\n",
       "    };\n",
       "\n",
       "    this.imageObj.onunload = function () {\n",
       "        fig.ws.close();\n",
       "    };\n",
       "\n",
       "    this.ws.onmessage = this._make_on_message_function(this);\n",
       "\n",
       "    this.ondownload = ondownload;\n",
       "};\n",
       "\n",
       "mpl.figure.prototype._init_header = function () {\n",
       "    var titlebar = document.createElement('div');\n",
       "    titlebar.classList =\n",
       "        'ui-dialog-titlebar ui-widget-header ui-corner-all ui-helper-clearfix';\n",
       "    var titletext = document.createElement('div');\n",
       "    titletext.classList = 'ui-dialog-title';\n",
       "    titletext.setAttribute(\n",
       "        'style',\n",
       "        'width: 100%; text-align: center; padding: 3px;'\n",
       "    );\n",
       "    titlebar.appendChild(titletext);\n",
       "    this.root.appendChild(titlebar);\n",
       "    this.header = titletext;\n",
       "};\n",
       "\n",
       "mpl.figure.prototype._canvas_extra_style = function (_canvas_div) {};\n",
       "\n",
       "mpl.figure.prototype._root_extra_style = function (_canvas_div) {};\n",
       "\n",
       "mpl.figure.prototype._init_canvas = function () {\n",
       "    var fig = this;\n",
       "\n",
       "    var canvas_div = (this.canvas_div = document.createElement('div'));\n",
       "    canvas_div.setAttribute('tabindex', '0');\n",
       "    canvas_div.setAttribute(\n",
       "        'style',\n",
       "        'border: 1px solid #ddd;' +\n",
       "            'box-sizing: content-box;' +\n",
       "            'clear: both;' +\n",
       "            'min-height: 1px;' +\n",
       "            'min-width: 1px;' +\n",
       "            'outline: 0;' +\n",
       "            'overflow: hidden;' +\n",
       "            'position: relative;' +\n",
       "            'resize: both;' +\n",
       "            'z-index: 2;'\n",
       "    );\n",
       "\n",
       "    function on_keyboard_event_closure(name) {\n",
       "        return function (event) {\n",
       "            return fig.key_event(event, name);\n",
       "        };\n",
       "    }\n",
       "\n",
       "    canvas_div.addEventListener(\n",
       "        'keydown',\n",
       "        on_keyboard_event_closure('key_press')\n",
       "    );\n",
       "    canvas_div.addEventListener(\n",
       "        'keyup',\n",
       "        on_keyboard_event_closure('key_release')\n",
       "    );\n",
       "\n",
       "    this._canvas_extra_style(canvas_div);\n",
       "    this.root.appendChild(canvas_div);\n",
       "\n",
       "    var canvas = (this.canvas = document.createElement('canvas'));\n",
       "    canvas.classList.add('mpl-canvas');\n",
       "    canvas.setAttribute(\n",
       "        'style',\n",
       "        'box-sizing: content-box;' +\n",
       "            'pointer-events: none;' +\n",
       "            'position: relative;' +\n",
       "            'z-index: 0;'\n",
       "    );\n",
       "\n",
       "    this.context = canvas.getContext('2d');\n",
       "\n",
       "    var backingStore =\n",
       "        this.context.backingStorePixelRatio ||\n",
       "        this.context.webkitBackingStorePixelRatio ||\n",
       "        this.context.mozBackingStorePixelRatio ||\n",
       "        this.context.msBackingStorePixelRatio ||\n",
       "        this.context.oBackingStorePixelRatio ||\n",
       "        this.context.backingStorePixelRatio ||\n",
       "        1;\n",
       "\n",
       "    this.ratio = (window.devicePixelRatio || 1) / backingStore;\n",
       "\n",
       "    var rubberband_canvas = (this.rubberband_canvas = document.createElement(\n",
       "        'canvas'\n",
       "    ));\n",
       "    rubberband_canvas.setAttribute(\n",
       "        'style',\n",
       "        'box-sizing: content-box;' +\n",
       "            'left: 0;' +\n",
       "            'pointer-events: none;' +\n",
       "            'position: absolute;' +\n",
       "            'top: 0;' +\n",
       "            'z-index: 1;'\n",
       "    );\n",
       "\n",
       "    // Apply a ponyfill if ResizeObserver is not implemented by browser.\n",
       "    if (this.ResizeObserver === undefined) {\n",
       "        if (window.ResizeObserver !== undefined) {\n",
       "            this.ResizeObserver = window.ResizeObserver;\n",
       "        } else {\n",
       "            var obs = _JSXTOOLS_RESIZE_OBSERVER({});\n",
       "            this.ResizeObserver = obs.ResizeObserver;\n",
       "        }\n",
       "    }\n",
       "\n",
       "    this.resizeObserverInstance = new this.ResizeObserver(function (entries) {\n",
       "        var nentries = entries.length;\n",
       "        for (var i = 0; i < nentries; i++) {\n",
       "            var entry = entries[i];\n",
       "            var width, height;\n",
       "            if (entry.contentBoxSize) {\n",
       "                if (entry.contentBoxSize instanceof Array) {\n",
       "                    // Chrome 84 implements new version of spec.\n",
       "                    width = entry.contentBoxSize[0].inlineSize;\n",
       "                    height = entry.contentBoxSize[0].blockSize;\n",
       "                } else {\n",
       "                    // Firefox implements old version of spec.\n",
       "                    width = entry.contentBoxSize.inlineSize;\n",
       "                    height = entry.contentBoxSize.blockSize;\n",
       "                }\n",
       "            } else {\n",
       "                // Chrome <84 implements even older version of spec.\n",
       "                width = entry.contentRect.width;\n",
       "                height = entry.contentRect.height;\n",
       "            }\n",
       "\n",
       "            // Keep the size of the canvas and rubber band canvas in sync with\n",
       "            // the canvas container.\n",
       "            if (entry.devicePixelContentBoxSize) {\n",
       "                // Chrome 84 implements new version of spec.\n",
       "                canvas.setAttribute(\n",
       "                    'width',\n",
       "                    entry.devicePixelContentBoxSize[0].inlineSize\n",
       "                );\n",
       "                canvas.setAttribute(\n",
       "                    'height',\n",
       "                    entry.devicePixelContentBoxSize[0].blockSize\n",
       "                );\n",
       "            } else {\n",
       "                canvas.setAttribute('width', width * fig.ratio);\n",
       "                canvas.setAttribute('height', height * fig.ratio);\n",
       "            }\n",
       "            /* This rescales the canvas back to display pixels, so that it\n",
       "             * appears correct on HiDPI screens. */\n",
       "            canvas.style.width = width + 'px';\n",
       "            canvas.style.height = height + 'px';\n",
       "\n",
       "            rubberband_canvas.setAttribute('width', width);\n",
       "            rubberband_canvas.setAttribute('height', height);\n",
       "\n",
       "            // And update the size in Python. We ignore the initial 0/0 size\n",
       "            // that occurs as the element is placed into the DOM, which should\n",
       "            // otherwise not happen due to the minimum size styling.\n",
       "            if (fig.ws.readyState == 1 && width != 0 && height != 0) {\n",
       "                fig.request_resize(width, height);\n",
       "            }\n",
       "        }\n",
       "    });\n",
       "    this.resizeObserverInstance.observe(canvas_div);\n",
       "\n",
       "    function on_mouse_event_closure(name) {\n",
       "        /* User Agent sniffing is bad, but WebKit is busted:\n",
       "         * https://bugs.webkit.org/show_bug.cgi?id=144526\n",
       "         * https://bugs.webkit.org/show_bug.cgi?id=181818\n",
       "         * The worst that happens here is that they get an extra browser\n",
       "         * selection when dragging, if this check fails to catch them.\n",
       "         */\n",
       "        var UA = navigator.userAgent;\n",
       "        var isWebKit = /AppleWebKit/.test(UA) && !/Chrome/.test(UA);\n",
       "        if(isWebKit) {\n",
       "            return function (event) {\n",
       "                /* This prevents the web browser from automatically changing to\n",
       "                 * the text insertion cursor when the button is pressed. We\n",
       "                 * want to control all of the cursor setting manually through\n",
       "                 * the 'cursor' event from matplotlib */\n",
       "                event.preventDefault()\n",
       "                return fig.mouse_event(event, name);\n",
       "            };\n",
       "        } else {\n",
       "            return function (event) {\n",
       "                return fig.mouse_event(event, name);\n",
       "            };\n",
       "        }\n",
       "    }\n",
       "\n",
       "    canvas_div.addEventListener(\n",
       "        'mousedown',\n",
       "        on_mouse_event_closure('button_press')\n",
       "    );\n",
       "    canvas_div.addEventListener(\n",
       "        'mouseup',\n",
       "        on_mouse_event_closure('button_release')\n",
       "    );\n",
       "    canvas_div.addEventListener(\n",
       "        'dblclick',\n",
       "        on_mouse_event_closure('dblclick')\n",
       "    );\n",
       "    // Throttle sequential mouse events to 1 every 20ms.\n",
       "    canvas_div.addEventListener(\n",
       "        'mousemove',\n",
       "        on_mouse_event_closure('motion_notify')\n",
       "    );\n",
       "\n",
       "    canvas_div.addEventListener(\n",
       "        'mouseenter',\n",
       "        on_mouse_event_closure('figure_enter')\n",
       "    );\n",
       "    canvas_div.addEventListener(\n",
       "        'mouseleave',\n",
       "        on_mouse_event_closure('figure_leave')\n",
       "    );\n",
       "\n",
       "    canvas_div.addEventListener('wheel', function (event) {\n",
       "        if (event.deltaY < 0) {\n",
       "            event.step = 1;\n",
       "        } else {\n",
       "            event.step = -1;\n",
       "        }\n",
       "        on_mouse_event_closure('scroll')(event);\n",
       "    });\n",
       "\n",
       "    canvas_div.appendChild(canvas);\n",
       "    canvas_div.appendChild(rubberband_canvas);\n",
       "\n",
       "    this.rubberband_context = rubberband_canvas.getContext('2d');\n",
       "    this.rubberband_context.strokeStyle = '#000000';\n",
       "\n",
       "    this._resize_canvas = function (width, height, forward) {\n",
       "        if (forward) {\n",
       "            canvas_div.style.width = width + 'px';\n",
       "            canvas_div.style.height = height + 'px';\n",
       "        }\n",
       "    };\n",
       "\n",
       "    // Disable right mouse context menu.\n",
       "    canvas_div.addEventListener('contextmenu', function (_e) {\n",
       "        event.preventDefault();\n",
       "        return false;\n",
       "    });\n",
       "\n",
       "    function set_focus() {\n",
       "        canvas.focus();\n",
       "        canvas_div.focus();\n",
       "    }\n",
       "\n",
       "    window.setTimeout(set_focus, 100);\n",
       "};\n",
       "\n",
       "mpl.figure.prototype._init_toolbar = function () {\n",
       "    var fig = this;\n",
       "\n",
       "    var toolbar = document.createElement('div');\n",
       "    toolbar.classList = 'mpl-toolbar';\n",
       "    this.root.appendChild(toolbar);\n",
       "\n",
       "    function on_click_closure(name) {\n",
       "        return function (_event) {\n",
       "            return fig.toolbar_button_onclick(name);\n",
       "        };\n",
       "    }\n",
       "\n",
       "    function on_mouseover_closure(tooltip) {\n",
       "        return function (event) {\n",
       "            if (!event.currentTarget.disabled) {\n",
       "                return fig.toolbar_button_onmouseover(tooltip);\n",
       "            }\n",
       "        };\n",
       "    }\n",
       "\n",
       "    fig.buttons = {};\n",
       "    var buttonGroup = document.createElement('div');\n",
       "    buttonGroup.classList = 'mpl-button-group';\n",
       "    for (var toolbar_ind in mpl.toolbar_items) {\n",
       "        var name = mpl.toolbar_items[toolbar_ind][0];\n",
       "        var tooltip = mpl.toolbar_items[toolbar_ind][1];\n",
       "        var image = mpl.toolbar_items[toolbar_ind][2];\n",
       "        var method_name = mpl.toolbar_items[toolbar_ind][3];\n",
       "\n",
       "        if (!name) {\n",
       "            /* Instead of a spacer, we start a new button group. */\n",
       "            if (buttonGroup.hasChildNodes()) {\n",
       "                toolbar.appendChild(buttonGroup);\n",
       "            }\n",
       "            buttonGroup = document.createElement('div');\n",
       "            buttonGroup.classList = 'mpl-button-group';\n",
       "            continue;\n",
       "        }\n",
       "\n",
       "        var button = (fig.buttons[name] = document.createElement('button'));\n",
       "        button.classList = 'mpl-widget';\n",
       "        button.setAttribute('role', 'button');\n",
       "        button.setAttribute('aria-disabled', 'false');\n",
       "        button.addEventListener('click', on_click_closure(method_name));\n",
       "        button.addEventListener('mouseover', on_mouseover_closure(tooltip));\n",
       "\n",
       "        var icon_img = document.createElement('img');\n",
       "        icon_img.src = '_images/' + image + '.png';\n",
       "        icon_img.srcset = '_images/' + image + '_large.png 2x';\n",
       "        icon_img.alt = tooltip;\n",
       "        button.appendChild(icon_img);\n",
       "\n",
       "        buttonGroup.appendChild(button);\n",
       "    }\n",
       "\n",
       "    if (buttonGroup.hasChildNodes()) {\n",
       "        toolbar.appendChild(buttonGroup);\n",
       "    }\n",
       "\n",
       "    var fmt_picker = document.createElement('select');\n",
       "    fmt_picker.classList = 'mpl-widget';\n",
       "    toolbar.appendChild(fmt_picker);\n",
       "    this.format_dropdown = fmt_picker;\n",
       "\n",
       "    for (var ind in mpl.extensions) {\n",
       "        var fmt = mpl.extensions[ind];\n",
       "        var option = document.createElement('option');\n",
       "        option.selected = fmt === mpl.default_extension;\n",
       "        option.innerHTML = fmt;\n",
       "        fmt_picker.appendChild(option);\n",
       "    }\n",
       "\n",
       "    var status_bar = document.createElement('span');\n",
       "    status_bar.classList = 'mpl-message';\n",
       "    toolbar.appendChild(status_bar);\n",
       "    this.message = status_bar;\n",
       "};\n",
       "\n",
       "mpl.figure.prototype.request_resize = function (x_pixels, y_pixels) {\n",
       "    // Request matplotlib to resize the figure. Matplotlib will then trigger a resize in the client,\n",
       "    // which will in turn request a refresh of the image.\n",
       "    this.send_message('resize', { width: x_pixels, height: y_pixels });\n",
       "};\n",
       "\n",
       "mpl.figure.prototype.send_message = function (type, properties) {\n",
       "    properties['type'] = type;\n",
       "    properties['figure_id'] = this.id;\n",
       "    this.ws.send(JSON.stringify(properties));\n",
       "};\n",
       "\n",
       "mpl.figure.prototype.send_draw_message = function () {\n",
       "    if (!this.waiting) {\n",
       "        this.waiting = true;\n",
       "        this.ws.send(JSON.stringify({ type: 'draw', figure_id: this.id }));\n",
       "    }\n",
       "};\n",
       "\n",
       "mpl.figure.prototype.handle_save = function (fig, _msg) {\n",
       "    var format_dropdown = fig.format_dropdown;\n",
       "    var format = format_dropdown.options[format_dropdown.selectedIndex].value;\n",
       "    fig.ondownload(fig, format);\n",
       "};\n",
       "\n",
       "mpl.figure.prototype.handle_resize = function (fig, msg) {\n",
       "    var size = msg['size'];\n",
       "    if (size[0] !== fig.canvas.width || size[1] !== fig.canvas.height) {\n",
       "        fig._resize_canvas(size[0], size[1], msg['forward']);\n",
       "        fig.send_message('refresh', {});\n",
       "    }\n",
       "};\n",
       "\n",
       "mpl.figure.prototype.handle_rubberband = function (fig, msg) {\n",
       "    var x0 = msg['x0'] / fig.ratio;\n",
       "    var y0 = (fig.canvas.height - msg['y0']) / fig.ratio;\n",
       "    var x1 = msg['x1'] / fig.ratio;\n",
       "    var y1 = (fig.canvas.height - msg['y1']) / fig.ratio;\n",
       "    x0 = Math.floor(x0) + 0.5;\n",
       "    y0 = Math.floor(y0) + 0.5;\n",
       "    x1 = Math.floor(x1) + 0.5;\n",
       "    y1 = Math.floor(y1) + 0.5;\n",
       "    var min_x = Math.min(x0, x1);\n",
       "    var min_y = Math.min(y0, y1);\n",
       "    var width = Math.abs(x1 - x0);\n",
       "    var height = Math.abs(y1 - y0);\n",
       "\n",
       "    fig.rubberband_context.clearRect(\n",
       "        0,\n",
       "        0,\n",
       "        fig.canvas.width / fig.ratio,\n",
       "        fig.canvas.height / fig.ratio\n",
       "    );\n",
       "\n",
       "    fig.rubberband_context.strokeRect(min_x, min_y, width, height);\n",
       "};\n",
       "\n",
       "mpl.figure.prototype.handle_figure_label = function (fig, msg) {\n",
       "    // Updates the figure title.\n",
       "    fig.header.textContent = msg['label'];\n",
       "};\n",
       "\n",
       "mpl.figure.prototype.handle_cursor = function (fig, msg) {\n",
       "    fig.canvas_div.style.cursor = msg['cursor'];\n",
       "};\n",
       "\n",
       "mpl.figure.prototype.handle_message = function (fig, msg) {\n",
       "    fig.message.textContent = msg['message'];\n",
       "};\n",
       "\n",
       "mpl.figure.prototype.handle_draw = function (fig, _msg) {\n",
       "    // Request the server to send over a new figure.\n",
       "    fig.send_draw_message();\n",
       "};\n",
       "\n",
       "mpl.figure.prototype.handle_image_mode = function (fig, msg) {\n",
       "    fig.image_mode = msg['mode'];\n",
       "};\n",
       "\n",
       "mpl.figure.prototype.handle_history_buttons = function (fig, msg) {\n",
       "    for (var key in msg) {\n",
       "        if (!(key in fig.buttons)) {\n",
       "            continue;\n",
       "        }\n",
       "        fig.buttons[key].disabled = !msg[key];\n",
       "        fig.buttons[key].setAttribute('aria-disabled', !msg[key]);\n",
       "    }\n",
       "};\n",
       "\n",
       "mpl.figure.prototype.handle_navigate_mode = function (fig, msg) {\n",
       "    if (msg['mode'] === 'PAN') {\n",
       "        fig.buttons['Pan'].classList.add('active');\n",
       "        fig.buttons['Zoom'].classList.remove('active');\n",
       "    } else if (msg['mode'] === 'ZOOM') {\n",
       "        fig.buttons['Pan'].classList.remove('active');\n",
       "        fig.buttons['Zoom'].classList.add('active');\n",
       "    } else {\n",
       "        fig.buttons['Pan'].classList.remove('active');\n",
       "        fig.buttons['Zoom'].classList.remove('active');\n",
       "    }\n",
       "};\n",
       "\n",
       "mpl.figure.prototype.updated_canvas_event = function () {\n",
       "    // Called whenever the canvas gets updated.\n",
       "    this.send_message('ack', {});\n",
       "};\n",
       "\n",
       "// A function to construct a web socket function for onmessage handling.\n",
       "// Called in the figure constructor.\n",
       "mpl.figure.prototype._make_on_message_function = function (fig) {\n",
       "    return function socket_on_message(evt) {\n",
       "        if (evt.data instanceof Blob) {\n",
       "            var img = evt.data;\n",
       "            if (img.type !== 'image/png') {\n",
       "                /* FIXME: We get \"Resource interpreted as Image but\n",
       "                 * transferred with MIME type text/plain:\" errors on\n",
       "                 * Chrome.  But how to set the MIME type?  It doesn't seem\n",
       "                 * to be part of the websocket stream */\n",
       "                img.type = 'image/png';\n",
       "            }\n",
       "\n",
       "            /* Free the memory for the previous frames */\n",
       "            if (fig.imageObj.src) {\n",
       "                (window.URL || window.webkitURL).revokeObjectURL(\n",
       "                    fig.imageObj.src\n",
       "                );\n",
       "            }\n",
       "\n",
       "            fig.imageObj.src = (window.URL || window.webkitURL).createObjectURL(\n",
       "                img\n",
       "            );\n",
       "            fig.updated_canvas_event();\n",
       "            fig.waiting = false;\n",
       "            return;\n",
       "        } else if (\n",
       "            typeof evt.data === 'string' &&\n",
       "            evt.data.slice(0, 21) === 'data:image/png;base64'\n",
       "        ) {\n",
       "            fig.imageObj.src = evt.data;\n",
       "            fig.updated_canvas_event();\n",
       "            fig.waiting = false;\n",
       "            return;\n",
       "        }\n",
       "\n",
       "        var msg = JSON.parse(evt.data);\n",
       "        var msg_type = msg['type'];\n",
       "\n",
       "        // Call the  \"handle_{type}\" callback, which takes\n",
       "        // the figure and JSON message as its only arguments.\n",
       "        try {\n",
       "            var callback = fig['handle_' + msg_type];\n",
       "        } catch (e) {\n",
       "            console.log(\n",
       "                \"No handler for the '\" + msg_type + \"' message type: \",\n",
       "                msg\n",
       "            );\n",
       "            return;\n",
       "        }\n",
       "\n",
       "        if (callback) {\n",
       "            try {\n",
       "                // console.log(\"Handling '\" + msg_type + \"' message: \", msg);\n",
       "                callback(fig, msg);\n",
       "            } catch (e) {\n",
       "                console.log(\n",
       "                    \"Exception inside the 'handler_\" + msg_type + \"' callback:\",\n",
       "                    e,\n",
       "                    e.stack,\n",
       "                    msg\n",
       "                );\n",
       "            }\n",
       "        }\n",
       "    };\n",
       "};\n",
       "\n",
       "function getModifiers(event) {\n",
       "    var mods = [];\n",
       "    if (event.ctrlKey) {\n",
       "        mods.push('ctrl');\n",
       "    }\n",
       "    if (event.altKey) {\n",
       "        mods.push('alt');\n",
       "    }\n",
       "    if (event.shiftKey) {\n",
       "        mods.push('shift');\n",
       "    }\n",
       "    if (event.metaKey) {\n",
       "        mods.push('meta');\n",
       "    }\n",
       "    return mods;\n",
       "}\n",
       "\n",
       "/*\n",
       " * return a copy of an object with only non-object keys\n",
       " * we need this to avoid circular references\n",
       " * https://stackoverflow.com/a/24161582/3208463\n",
       " */\n",
       "function simpleKeys(original) {\n",
       "    return Object.keys(original).reduce(function (obj, key) {\n",
       "        if (typeof original[key] !== 'object') {\n",
       "            obj[key] = original[key];\n",
       "        }\n",
       "        return obj;\n",
       "    }, {});\n",
       "}\n",
       "\n",
       "mpl.figure.prototype.mouse_event = function (event, name) {\n",
       "    if (name === 'button_press') {\n",
       "        this.canvas.focus();\n",
       "        this.canvas_div.focus();\n",
       "    }\n",
       "\n",
       "    // from https://stackoverflow.com/q/1114465\n",
       "    var boundingRect = this.canvas.getBoundingClientRect();\n",
       "    var x = (event.clientX - boundingRect.left) * this.ratio;\n",
       "    var y = (event.clientY - boundingRect.top) * this.ratio;\n",
       "\n",
       "    this.send_message(name, {\n",
       "        x: x,\n",
       "        y: y,\n",
       "        button: event.button,\n",
       "        step: event.step,\n",
       "        modifiers: getModifiers(event),\n",
       "        guiEvent: simpleKeys(event),\n",
       "    });\n",
       "\n",
       "    return false;\n",
       "};\n",
       "\n",
       "mpl.figure.prototype._key_event_extra = function (_event, _name) {\n",
       "    // Handle any extra behaviour associated with a key event\n",
       "};\n",
       "\n",
       "mpl.figure.prototype.key_event = function (event, name) {\n",
       "    // Prevent repeat events\n",
       "    if (name === 'key_press') {\n",
       "        if (event.key === this._key) {\n",
       "            return;\n",
       "        } else {\n",
       "            this._key = event.key;\n",
       "        }\n",
       "    }\n",
       "    if (name === 'key_release') {\n",
       "        this._key = null;\n",
       "    }\n",
       "\n",
       "    var value = '';\n",
       "    if (event.ctrlKey && event.key !== 'Control') {\n",
       "        value += 'ctrl+';\n",
       "    }\n",
       "    else if (event.altKey && event.key !== 'Alt') {\n",
       "        value += 'alt+';\n",
       "    }\n",
       "    else if (event.shiftKey && event.key !== 'Shift') {\n",
       "        value += 'shift+';\n",
       "    }\n",
       "\n",
       "    value += 'k' + event.key;\n",
       "\n",
       "    this._key_event_extra(event, name);\n",
       "\n",
       "    this.send_message(name, { key: value, guiEvent: simpleKeys(event) });\n",
       "    return false;\n",
       "};\n",
       "\n",
       "mpl.figure.prototype.toolbar_button_onclick = function (name) {\n",
       "    if (name === 'download') {\n",
       "        this.handle_save(this, null);\n",
       "    } else {\n",
       "        this.send_message('toolbar_button', { name: name });\n",
       "    }\n",
       "};\n",
       "\n",
       "mpl.figure.prototype.toolbar_button_onmouseover = function (tooltip) {\n",
       "    this.message.textContent = tooltip;\n",
       "};\n",
       "\n",
       "///////////////// REMAINING CONTENT GENERATED BY embed_js.py /////////////////\n",
       "// prettier-ignore\n",
       "var _JSXTOOLS_RESIZE_OBSERVER=function(A){var t,i=new WeakMap,n=new WeakMap,a=new WeakMap,r=new WeakMap,o=new Set;function s(e){if(!(this instanceof s))throw new TypeError(\"Constructor requires 'new' operator\");i.set(this,e)}function h(){throw new TypeError(\"Function is not a constructor\")}function c(e,t,i,n){e=0 in arguments?Number(arguments[0]):0,t=1 in arguments?Number(arguments[1]):0,i=2 in arguments?Number(arguments[2]):0,n=3 in arguments?Number(arguments[3]):0,this.right=(this.x=this.left=e)+(this.width=i),this.bottom=(this.y=this.top=t)+(this.height=n),Object.freeze(this)}function d(){t=requestAnimationFrame(d);var s=new WeakMap,p=new Set;o.forEach((function(t){r.get(t).forEach((function(i){var r=t instanceof window.SVGElement,o=a.get(t),d=r?0:parseFloat(o.paddingTop),f=r?0:parseFloat(o.paddingRight),l=r?0:parseFloat(o.paddingBottom),u=r?0:parseFloat(o.paddingLeft),g=r?0:parseFloat(o.borderTopWidth),m=r?0:parseFloat(o.borderRightWidth),w=r?0:parseFloat(o.borderBottomWidth),b=u+f,F=d+l,v=(r?0:parseFloat(o.borderLeftWidth))+m,W=g+w,y=r?0:t.offsetHeight-W-t.clientHeight,E=r?0:t.offsetWidth-v-t.clientWidth,R=b+v,z=F+W,M=r?t.width:parseFloat(o.width)-R-E,O=r?t.height:parseFloat(o.height)-z-y;if(n.has(t)){var k=n.get(t);if(k[0]===M&&k[1]===O)return}n.set(t,[M,O]);var S=Object.create(h.prototype);S.target=t,S.contentRect=new c(u,d,M,O),s.has(i)||(s.set(i,[]),p.add(i)),s.get(i).push(S)}))})),p.forEach((function(e){i.get(e).call(e,s.get(e),e)}))}return s.prototype.observe=function(i){if(i instanceof window.Element){r.has(i)||(r.set(i,new Set),o.add(i),a.set(i,window.getComputedStyle(i)));var n=r.get(i);n.has(this)||n.add(this),cancelAnimationFrame(t),t=requestAnimationFrame(d)}},s.prototype.unobserve=function(i){if(i instanceof window.Element&&r.has(i)){var n=r.get(i);n.has(this)&&(n.delete(this),n.size||(r.delete(i),o.delete(i))),n.size||r.delete(i),o.size||cancelAnimationFrame(t)}},A.DOMRectReadOnly=c,A.ResizeObserver=s,A.ResizeObserverEntry=h,A}; // eslint-disable-line\n",
       "mpl.toolbar_items = [[\"Home\", \"Reset original view\", \"fa fa-home\", \"home\"], [\"Back\", \"Back to previous view\", \"fa fa-arrow-left\", \"back\"], [\"Forward\", \"Forward to next view\", \"fa fa-arrow-right\", \"forward\"], [\"\", \"\", \"\", \"\"], [\"Pan\", \"Left button pans, Right button zooms\\nx/y fixes axis, CTRL fixes aspect\", \"fa fa-arrows\", \"pan\"], [\"Zoom\", \"Zoom to rectangle\\nx/y fixes axis\", \"fa fa-square-o\", \"zoom\"], [\"\", \"\", \"\", \"\"], [\"Download\", \"Download plot\", \"fa fa-floppy-o\", \"download\"]];\n",
       "\n",
       "mpl.extensions = [\"eps\", \"jpeg\", \"pgf\", \"pdf\", \"png\", \"ps\", \"raw\", \"svg\", \"tif\", \"webp\"];\n",
       "\n",
       "mpl.default_extension = \"png\";/* global mpl */\n",
       "\n",
       "var comm_websocket_adapter = function (comm) {\n",
       "    // Create a \"websocket\"-like object which calls the given IPython comm\n",
       "    // object with the appropriate methods. Currently this is a non binary\n",
       "    // socket, so there is still some room for performance tuning.\n",
       "    var ws = {};\n",
       "\n",
       "    ws.binaryType = comm.kernel.ws.binaryType;\n",
       "    ws.readyState = comm.kernel.ws.readyState;\n",
       "    function updateReadyState(_event) {\n",
       "        if (comm.kernel.ws) {\n",
       "            ws.readyState = comm.kernel.ws.readyState;\n",
       "        } else {\n",
       "            ws.readyState = 3; // Closed state.\n",
       "        }\n",
       "    }\n",
       "    comm.kernel.ws.addEventListener('open', updateReadyState);\n",
       "    comm.kernel.ws.addEventListener('close', updateReadyState);\n",
       "    comm.kernel.ws.addEventListener('error', updateReadyState);\n",
       "\n",
       "    ws.close = function () {\n",
       "        comm.close();\n",
       "    };\n",
       "    ws.send = function (m) {\n",
       "        //console.log('sending', m);\n",
       "        comm.send(m);\n",
       "    };\n",
       "    // Register the callback with on_msg.\n",
       "    comm.on_msg(function (msg) {\n",
       "        //console.log('receiving', msg['content']['data'], msg);\n",
       "        var data = msg['content']['data'];\n",
       "        if (data['blob'] !== undefined) {\n",
       "            data = {\n",
       "                data: new Blob(msg['buffers'], { type: data['blob'] }),\n",
       "            };\n",
       "        }\n",
       "        // Pass the mpl event to the overridden (by mpl) onmessage function.\n",
       "        ws.onmessage(data);\n",
       "    });\n",
       "    return ws;\n",
       "};\n",
       "\n",
       "mpl.mpl_figure_comm = function (comm, msg) {\n",
       "    // This is the function which gets called when the mpl process\n",
       "    // starts-up an IPython Comm through the \"matplotlib\" channel.\n",
       "\n",
       "    var id = msg.content.data.id;\n",
       "    // Get hold of the div created by the display call when the Comm\n",
       "    // socket was opened in Python.\n",
       "    var element = document.getElementById(id);\n",
       "    var ws_proxy = comm_websocket_adapter(comm);\n",
       "\n",
       "    function ondownload(figure, _format) {\n",
       "        window.open(figure.canvas.toDataURL());\n",
       "    }\n",
       "\n",
       "    var fig = new mpl.figure(id, ws_proxy, ondownload, element);\n",
       "\n",
       "    // Call onopen now - mpl needs it, as it is assuming we've passed it a real\n",
       "    // web socket which is closed, not our websocket->open comm proxy.\n",
       "    ws_proxy.onopen();\n",
       "\n",
       "    fig.parent_element = element;\n",
       "    fig.cell_info = mpl.find_output_cell(\"<div id='\" + id + \"'></div>\");\n",
       "    if (!fig.cell_info) {\n",
       "        console.error('Failed to find cell for figure', id, fig);\n",
       "        return;\n",
       "    }\n",
       "    fig.cell_info[0].output_area.element.on(\n",
       "        'cleared',\n",
       "        { fig: fig },\n",
       "        fig._remove_fig_handler\n",
       "    );\n",
       "};\n",
       "\n",
       "mpl.figure.prototype.handle_close = function (fig, msg) {\n",
       "    var width = fig.canvas.width / fig.ratio;\n",
       "    fig.cell_info[0].output_area.element.off(\n",
       "        'cleared',\n",
       "        fig._remove_fig_handler\n",
       "    );\n",
       "    fig.resizeObserverInstance.unobserve(fig.canvas_div);\n",
       "\n",
       "    // Update the output cell to use the data from the current canvas.\n",
       "    fig.push_to_output();\n",
       "    var dataURL = fig.canvas.toDataURL();\n",
       "    // Re-enable the keyboard manager in IPython - without this line, in FF,\n",
       "    // the notebook keyboard shortcuts fail.\n",
       "    IPython.keyboard_manager.enable();\n",
       "    fig.parent_element.innerHTML =\n",
       "        '<img src=\"' + dataURL + '\" width=\"' + width + '\">';\n",
       "    fig.close_ws(fig, msg);\n",
       "};\n",
       "\n",
       "mpl.figure.prototype.close_ws = function (fig, msg) {\n",
       "    fig.send_message('closing', msg);\n",
       "    // fig.ws.close()\n",
       "};\n",
       "\n",
       "mpl.figure.prototype.push_to_output = function (_remove_interactive) {\n",
       "    // Turn the data on the canvas into data in the output cell.\n",
       "    var width = this.canvas.width / this.ratio;\n",
       "    var dataURL = this.canvas.toDataURL();\n",
       "    this.cell_info[1]['text/html'] =\n",
       "        '<img src=\"' + dataURL + '\" width=\"' + width + '\">';\n",
       "};\n",
       "\n",
       "mpl.figure.prototype.updated_canvas_event = function () {\n",
       "    // Tell IPython that the notebook contents must change.\n",
       "    IPython.notebook.set_dirty(true);\n",
       "    this.send_message('ack', {});\n",
       "    var fig = this;\n",
       "    // Wait a second, then push the new image to the DOM so\n",
       "    // that it is saved nicely (might be nice to debounce this).\n",
       "    setTimeout(function () {\n",
       "        fig.push_to_output();\n",
       "    }, 1000);\n",
       "};\n",
       "\n",
       "mpl.figure.prototype._init_toolbar = function () {\n",
       "    var fig = this;\n",
       "\n",
       "    var toolbar = document.createElement('div');\n",
       "    toolbar.classList = 'btn-toolbar';\n",
       "    this.root.appendChild(toolbar);\n",
       "\n",
       "    function on_click_closure(name) {\n",
       "        return function (_event) {\n",
       "            return fig.toolbar_button_onclick(name);\n",
       "        };\n",
       "    }\n",
       "\n",
       "    function on_mouseover_closure(tooltip) {\n",
       "        return function (event) {\n",
       "            if (!event.currentTarget.disabled) {\n",
       "                return fig.toolbar_button_onmouseover(tooltip);\n",
       "            }\n",
       "        };\n",
       "    }\n",
       "\n",
       "    fig.buttons = {};\n",
       "    var buttonGroup = document.createElement('div');\n",
       "    buttonGroup.classList = 'btn-group';\n",
       "    var button;\n",
       "    for (var toolbar_ind in mpl.toolbar_items) {\n",
       "        var name = mpl.toolbar_items[toolbar_ind][0];\n",
       "        var tooltip = mpl.toolbar_items[toolbar_ind][1];\n",
       "        var image = mpl.toolbar_items[toolbar_ind][2];\n",
       "        var method_name = mpl.toolbar_items[toolbar_ind][3];\n",
       "\n",
       "        if (!name) {\n",
       "            /* Instead of a spacer, we start a new button group. */\n",
       "            if (buttonGroup.hasChildNodes()) {\n",
       "                toolbar.appendChild(buttonGroup);\n",
       "            }\n",
       "            buttonGroup = document.createElement('div');\n",
       "            buttonGroup.classList = 'btn-group';\n",
       "            continue;\n",
       "        }\n",
       "\n",
       "        button = fig.buttons[name] = document.createElement('button');\n",
       "        button.classList = 'btn btn-default';\n",
       "        button.href = '#';\n",
       "        button.title = name;\n",
       "        button.innerHTML = '<i class=\"fa ' + image + ' fa-lg\"></i>';\n",
       "        button.addEventListener('click', on_click_closure(method_name));\n",
       "        button.addEventListener('mouseover', on_mouseover_closure(tooltip));\n",
       "        buttonGroup.appendChild(button);\n",
       "    }\n",
       "\n",
       "    if (buttonGroup.hasChildNodes()) {\n",
       "        toolbar.appendChild(buttonGroup);\n",
       "    }\n",
       "\n",
       "    // Add the status bar.\n",
       "    var status_bar = document.createElement('span');\n",
       "    status_bar.classList = 'mpl-message pull-right';\n",
       "    toolbar.appendChild(status_bar);\n",
       "    this.message = status_bar;\n",
       "\n",
       "    // Add the close button to the window.\n",
       "    var buttongrp = document.createElement('div');\n",
       "    buttongrp.classList = 'btn-group inline pull-right';\n",
       "    button = document.createElement('button');\n",
       "    button.classList = 'btn btn-mini btn-primary';\n",
       "    button.href = '#';\n",
       "    button.title = 'Stop Interaction';\n",
       "    button.innerHTML = '<i class=\"fa fa-power-off icon-remove icon-large\"></i>';\n",
       "    button.addEventListener('click', function (_evt) {\n",
       "        fig.handle_close(fig, {});\n",
       "    });\n",
       "    button.addEventListener(\n",
       "        'mouseover',\n",
       "        on_mouseover_closure('Stop Interaction')\n",
       "    );\n",
       "    buttongrp.appendChild(button);\n",
       "    var titlebar = this.root.querySelector('.ui-dialog-titlebar');\n",
       "    titlebar.insertBefore(buttongrp, titlebar.firstChild);\n",
       "};\n",
       "\n",
       "mpl.figure.prototype._remove_fig_handler = function (event) {\n",
       "    var fig = event.data.fig;\n",
       "    if (event.target !== this) {\n",
       "        // Ignore bubbled events from children.\n",
       "        return;\n",
       "    }\n",
       "    fig.close_ws(fig, {});\n",
       "};\n",
       "\n",
       "mpl.figure.prototype._root_extra_style = function (el) {\n",
       "    el.style.boxSizing = 'content-box'; // override notebook setting of border-box.\n",
       "};\n",
       "\n",
       "mpl.figure.prototype._canvas_extra_style = function (el) {\n",
       "    // this is important to make the div 'focusable\n",
       "    el.setAttribute('tabindex', 0);\n",
       "    // reach out to IPython and tell the keyboard manager to turn it's self\n",
       "    // off when our div gets focus\n",
       "\n",
       "    // location in version 3\n",
       "    if (IPython.notebook.keyboard_manager) {\n",
       "        IPython.notebook.keyboard_manager.register_events(el);\n",
       "    } else {\n",
       "        // location in version 2\n",
       "        IPython.keyboard_manager.register_events(el);\n",
       "    }\n",
       "};\n",
       "\n",
       "mpl.figure.prototype._key_event_extra = function (event, _name) {\n",
       "    // Check for shift+enter\n",
       "    if (event.shiftKey && event.which === 13) {\n",
       "        this.canvas_div.blur();\n",
       "        // select the cell after this one\n",
       "        var index = IPython.notebook.find_cell_index(this.cell_info[0]);\n",
       "        IPython.notebook.select(index + 1);\n",
       "    }\n",
       "};\n",
       "\n",
       "mpl.figure.prototype.handle_save = function (fig, _msg) {\n",
       "    fig.ondownload(fig, null);\n",
       "};\n",
       "\n",
       "mpl.find_output_cell = function (html_output) {\n",
       "    // Return the cell and output element which can be found *uniquely* in the notebook.\n",
       "    // Note - this is a bit hacky, but it is done because the \"notebook_saving.Notebook\"\n",
       "    // IPython event is triggered only after the cells have been serialised, which for\n",
       "    // our purposes (turning an active figure into a static one), is too late.\n",
       "    var cells = IPython.notebook.get_cells();\n",
       "    var ncells = cells.length;\n",
       "    for (var i = 0; i < ncells; i++) {\n",
       "        var cell = cells[i];\n",
       "        if (cell.cell_type === 'code') {\n",
       "            for (var j = 0; j < cell.output_area.outputs.length; j++) {\n",
       "                var data = cell.output_area.outputs[j];\n",
       "                if (data.data) {\n",
       "                    // IPython >= 3 moved mimebundle to data attribute of output\n",
       "                    data = data.data;\n",
       "                }\n",
       "                if (data['text/html'] === html_output) {\n",
       "                    return [cell, data, j];\n",
       "                }\n",
       "            }\n",
       "        }\n",
       "    }\n",
       "};\n",
       "\n",
       "// Register the function which deals with the matplotlib target/channel.\n",
       "// The kernel may be null if the page has been refreshed.\n",
       "if (IPython.notebook.kernel !== null) {\n",
       "    IPython.notebook.kernel.comm_manager.register_target(\n",
       "        'matplotlib',\n",
       "        mpl.mpl_figure_comm\n",
       "    );\n",
       "}\n"
      ],
      "text/plain": [
       "<IPython.core.display.Javascript object>"
      ]
     },
     "metadata": {},
     "output_type": "display_data"
    },
    {
     "data": {
      "text/html": [
       "<div id='16b9874b-fd13-4eda-9ecf-7d30ebca1a2e'></div>"
      ],
      "text/plain": [
       "<IPython.core.display.HTML object>"
      ]
     },
     "metadata": {},
     "output_type": "display_data"
    },
    {
     "data": {
      "text/plain": [
       "(<Figure size 1000x500 with 2 Axes>,\n",
       " array([<Axes: title={'center': 'Loss'}, xlabel='Epochs', ylabel='Loss'>,\n",
       "        <Axes: title={'center': 'Accuracy'}, xlabel='Epochs', ylabel='Accuracy'>],\n",
       "       dtype=object))"
      ]
     },
     "execution_count": 49,
     "metadata": {},
     "output_type": "execute_result"
    }
   ],
   "source": [
    "plot_history(model_history,show_standard_deviation=False,show_average=True)"
   ]
  },
  {
   "cell_type": "code",
   "execution_count": 176,
   "id": "1d69d442111a70cb",
   "metadata": {
    "ExecuteTime": {
     "end_time": "2023-09-11T19:18:31.099061Z",
     "start_time": "2023-09-11T19:18:30.297653800Z"
    }
   },
   "outputs": [],
   "source": [
    "#model.save_weights('Model-Trained-On-Noise-Only.h5')\n",
    "model.load_weights('Model-Trained-On-Noise-Only.h5')"
   ]
  },
  {
   "cell_type": "markdown",
   "id": "fa583bf8761629b6",
   "metadata": {},
   "source": [
    "**Testing On Clean Data**"
   ]
  },
  {
   "cell_type": "code",
   "execution_count": 117,
   "id": "eba10f0eaefbdd0b",
   "metadata": {
    "ExecuteTime": {
     "end_time": "2023-09-11T17:35:44.514081100Z",
     "start_time": "2023-09-11T17:35:44.434806500Z"
    }
   },
   "outputs": [],
   "source": [
    "min_10_data=pd.read_csv('10_minutes_final_processed_gsmfloor_data5.csv')"
   ]
  },
  {
   "cell_type": "code",
   "execution_count": 118,
   "id": "ce8b37b4bf05a620",
   "metadata": {
    "ExecuteTime": {
     "end_time": "2023-09-11T17:35:45.514960600Z",
     "start_time": "2023-09-11T17:35:45.420296600Z"
    }
   },
   "outputs": [
    {
     "data": {
      "text/plain": [
       "(59999, 3)"
      ]
     },
     "execution_count": 118,
     "metadata": {},
     "output_type": "execute_result"
    }
   ],
   "source": [
    "min_10_data.drop(columns=['Unnamed: 0'],axis=1,inplace=True)\n",
    "min_10_data.shape"
   ]
  },
  {
   "cell_type": "code",
   "execution_count": 119,
   "id": "aba9ef2ad5346279",
   "metadata": {
    "ExecuteTime": {
     "end_time": "2023-09-11T17:35:46.240056900Z",
     "start_time": "2023-09-11T17:35:46.193165Z"
    }
   },
   "outputs": [],
   "source": [
    "min_10_data['label']=min_10_data['label'].replace(2,1)"
   ]
  },
  {
   "cell_type": "code",
   "execution_count": 120,
   "id": "fc19e8e0563f24ec",
   "metadata": {
    "ExecuteTime": {
     "end_time": "2023-09-11T17:35:47.442221200Z",
     "start_time": "2023-09-11T17:35:47.378663900Z"
    }
   },
   "outputs": [],
   "source": [
    "x_values=min_10_data['combined_result']\n",
    "y_values=min_10_data['label']"
   ]
  },
  {
   "cell_type": "code",
   "execution_count": 121,
   "id": "57f1f8967a6da1e8",
   "metadata": {
    "ExecuteTime": {
     "end_time": "2023-09-11T17:35:48.591948900Z",
     "start_time": "2023-09-11T17:35:47.830642500Z"
    }
   },
   "outputs": [],
   "source": [
    "event=[]\n",
    "labe=[]\n",
    "temp=[]\n",
    "for index,value in y_values.items():\n",
    "    if value==1:\n",
    "        temp.append(x_values[index])\n",
    "        if (index+1)<len(y_values) and y_values[index+1]==0:\n",
    "            event.append(temp)\n",
    "            labe.append(1)\n",
    "            temp=[]\n",
    "    if value==0:\n",
    "        temp.append(x_values[index])\n",
    "        if (index+1)<len(y_values) and y_values[index+1]==1:\n",
    "            event.append(temp)\n",
    "            labe.append(0)\n",
    "            temp=[]"
   ]
  },
  {
   "cell_type": "code",
   "execution_count": 122,
   "id": "ee2ad761b81cc301",
   "metadata": {
    "ExecuteTime": {
     "end_time": "2023-09-11T17:35:49.772074800Z",
     "start_time": "2023-09-11T17:35:49.693530900Z"
    }
   },
   "outputs": [],
   "source": [
    "# Not a sequence but label is 1 \n",
    "zero_seq_label_one=[]\n",
    "for position, sublist in enumerate(event):\n",
    "    if all(element == 0 for element in sublist):\n",
    "        if labe[position]==1:\n",
    "            zero_seq_label_one.append(position)"
   ]
  },
  {
   "cell_type": "code",
   "execution_count": 123,
   "id": "d2b61c2a59dde8d2",
   "metadata": {
    "ExecuteTime": {
     "end_time": "2023-09-11T17:35:50.178452Z",
     "start_time": "2023-09-11T17:35:50.146611700Z"
    }
   },
   "outputs": [
    {
     "name": "stdout",
     "output_type": "stream",
     "text": [
      "[4, 80, 86, 108, 146, 184, 190, 194, 206, 208, 230, 242]\n"
     ]
    }
   ],
   "source": [
    "print(zero_seq_label_one)"
   ]
  },
  {
   "cell_type": "code",
   "execution_count": 124,
   "id": "80f390f14b735991",
   "metadata": {
    "ExecuteTime": {
     "end_time": "2023-09-11T17:35:50.940851100Z",
     "start_time": "2023-09-11T17:35:50.877395Z"
    }
   },
   "outputs": [],
   "source": [
    "# Replacing those with 0\n",
    "for value in zero_seq_label_one:\n",
    "    labe[value]=0"
   ]
  },
  {
   "cell_type": "code",
   "execution_count": 125,
   "id": "bf2e90fb729d930f",
   "metadata": {
    "ExecuteTime": {
     "end_time": "2023-09-11T17:35:51.810241300Z",
     "start_time": "2023-09-11T17:35:51.731005300Z"
    }
   },
   "outputs": [],
   "source": [
    "# Is a sequence but label 0\n",
    "seq_label_zero=[]\n",
    "for position, sublist in enumerate(event):\n",
    "    if any(element != 0 for element in sublist):\n",
    "        if labe[position]==0:\n",
    "            seq_label_zero.append(position)"
   ]
  },
  {
   "cell_type": "code",
   "execution_count": 126,
   "id": "ff5b2b4580ad5e47",
   "metadata": {
    "ExecuteTime": {
     "end_time": "2023-09-11T17:35:52.645293600Z",
     "start_time": "2023-09-11T17:35:52.567726500Z"
    }
   },
   "outputs": [
    {
     "name": "stdout",
     "output_type": "stream",
     "text": [
      "[1, 23, 43, 69, 77, 85, 143, 151, 161, 167, 175, 217, 245, 251, 269, 285]\n"
     ]
    }
   ],
   "source": [
    "print(seq_label_zero)"
   ]
  },
  {
   "cell_type": "code",
   "execution_count": 127,
   "id": "8a7f3fc8f4551ae5",
   "metadata": {
    "ExecuteTime": {
     "end_time": "2023-09-11T17:35:53.180766700Z",
     "start_time": "2023-09-11T17:35:53.149346100Z"
    }
   },
   "outputs": [],
   "source": [
    "# Replacing those with 1\n",
    "for value in seq_label_zero:\n",
    "    labe[value]=1"
   ]
  },
  {
   "cell_type": "code",
   "execution_count": 128,
   "id": "ef0c90dac77c3bba",
   "metadata": {
    "ExecuteTime": {
     "end_time": "2023-09-11T17:35:55.547830Z",
     "start_time": "2023-09-11T17:35:55.448209800Z"
    }
   },
   "outputs": [
    {
     "name": "stdout",
     "output_type": "stream",
     "text": [
      "140\n",
      "149\n"
     ]
    }
   ],
   "source": [
    "# Checking the Number of events\n",
    "zero=0\n",
    "one=0\n",
    "for value in labe:\n",
    "    if value==0:\n",
    "        zero+=1\n",
    "    if value==1:\n",
    "        one+=1\n",
    "print(zero)\n",
    "print(one)"
   ]
  },
  {
   "cell_type": "code",
   "execution_count": 129,
   "id": "73b56d1857b251c6",
   "metadata": {
    "ExecuteTime": {
     "end_time": "2023-09-11T17:36:02.400706Z",
     "start_time": "2023-09-11T17:36:02.337804200Z"
    }
   },
   "outputs": [],
   "source": [
    "event=pad_sequences(event,padding='post',truncating='post',dtype=float,maxlen=50)\n",
    "labe=np.array(labe)\n",
    "labe=labe.reshape(-1,1)\n",
    "event=event.reshape(event.shape[0], event.shape[1], 1)"
   ]
  },
  {
   "cell_type": "code",
   "execution_count": 130,
   "id": "d8001bff4f4aeb13",
   "metadata": {
    "ExecuteTime": {
     "end_time": "2023-09-11T17:36:02.891983800Z",
     "start_time": "2023-09-11T17:36:02.844399Z"
    }
   },
   "outputs": [],
   "source": [
    "# For 10 Min Data set\n",
    "m_10=event.shape[0]\n",
    "s0_10 = np.zeros((m_10, n_s))\n",
    "c0_10 = np.zeros((m_10, n_s))"
   ]
  },
  {
   "cell_type": "code",
   "execution_count": 174,
   "id": "279e73c9dbd2d117",
   "metadata": {
    "ExecuteTime": {
     "end_time": "2023-09-11T19:16:20.896509100Z",
     "start_time": "2023-09-11T19:16:20.643709800Z"
    }
   },
   "outputs": [
    {
     "name": "stdout",
     "output_type": "stream",
     "text": [
      "10/10 [==============================] - 0s 5ms/step\n"
     ]
    }
   ],
   "source": [
    "predictions_10=model.predict([event, s0_10, c0_10])\n",
    "predictions_10=np.round(predictions_10)"
   ]
  },
  {
   "cell_type": "code",
   "execution_count": 175,
   "id": "26988082b0a31ba6",
   "metadata": {
    "ExecuteTime": {
     "end_time": "2023-09-11T19:16:24.109352600Z",
     "start_time": "2023-09-11T19:16:24.077991400Z"
    }
   },
   "outputs": [
    {
     "name": "stdout",
     "output_type": "stream",
     "text": [
      "0.6620689655172414\n"
     ]
    }
   ],
   "source": [
    "predictions_10_count=np.count_nonzero(predictions_10==1)\n",
    "actual_10_count=np.count_nonzero(labe==1)\n",
    "print(predictions_10_count/actual_10_count)"
   ]
  },
  {
   "cell_type": "code",
   "execution_count": 133,
   "id": "378560efb50474f",
   "metadata": {
    "ExecuteTime": {
     "end_time": "2023-09-11T17:36:06.060493Z",
     "start_time": "2023-09-11T17:36:05.950566700Z"
    }
   },
   "outputs": [
    {
     "name": "stdout",
     "output_type": "stream",
     "text": [
      "              precision    recall  f1-score   support\n",
      "\n",
      "         0.0       1.00      0.73      0.85       191\n",
      "         1.0       0.66      1.00      0.79        98\n",
      "\n",
      "    accuracy                           0.82       289\n",
      "   macro avg       0.83      0.87      0.82       289\n",
      "weighted avg       0.88      0.82      0.83       289\n"
     ]
    }
   ],
   "source": [
    "report = classification_report(predictions_10,labe)\n",
    "print(report)"
   ]
  },
  {
   "cell_type": "markdown",
   "id": "ed31ec3c1b429343",
   "metadata": {},
   "source": [
    "**Testing On Noisy Data**"
   ]
  },
  {
   "cell_type": "code",
   "execution_count": 160,
   "id": "ad9544ecc0e4f3",
   "metadata": {
    "ExecuteTime": {
     "end_time": "2023-09-11T17:38:46.741998400Z",
     "start_time": "2023-09-11T17:38:46.666861600Z"
    }
   },
   "outputs": [],
   "source": [
    "min_10_data=pd.read_csv('10_minutes_final_processed_gsmfloor_data5.csv')"
   ]
  },
  {
   "cell_type": "code",
   "execution_count": 161,
   "id": "f5f6310cfa4cadf7",
   "metadata": {
    "ExecuteTime": {
     "end_time": "2023-09-11T17:38:47.174791Z",
     "start_time": "2023-09-11T17:38:47.127623200Z"
    }
   },
   "outputs": [
    {
     "data": {
      "text/plain": [
       "(59999, 3)"
      ]
     },
     "execution_count": 161,
     "metadata": {},
     "output_type": "execute_result"
    }
   ],
   "source": [
    "min_10_data.drop(columns=['Unnamed: 0'],axis=1,inplace=True)\n",
    "min_10_data.shape"
   ]
  },
  {
   "cell_type": "code",
   "execution_count": 162,
   "id": "e1878d2bc7c8ccc9",
   "metadata": {
    "ExecuteTime": {
     "end_time": "2023-09-11T17:38:48.293898500Z",
     "start_time": "2023-09-11T17:38:48.246739500Z"
    }
   },
   "outputs": [],
   "source": [
    "min_10_data['label']=min_10_data['label'].replace(2,1)"
   ]
  },
  {
   "cell_type": "code",
   "execution_count": 163,
   "id": "b05e1f8c35d8bd2a",
   "metadata": {
    "ExecuteTime": {
     "end_time": "2023-09-11T17:38:49.196968900Z",
     "start_time": "2023-09-11T17:38:49.133914400Z"
    }
   },
   "outputs": [],
   "source": [
    "x_values=min_10_data['combined_result']\n",
    "y_values=min_10_data['label']"
   ]
  },
  {
   "cell_type": "code",
   "execution_count": 164,
   "id": "82fc1b44cbd4da55",
   "metadata": {
    "ExecuteTime": {
     "end_time": "2023-09-11T17:39:05.308004400Z",
     "start_time": "2023-09-11T17:39:05.244526800Z"
    }
   },
   "outputs": [],
   "source": [
    "std_X = x_values.std()\n",
    "desired_snr = 0.1\n",
    "std_noise = std_X * desired_snr\n",
    "noise = np.random.normal(0, std_noise, x_values.shape)"
   ]
  },
  {
   "cell_type": "code",
   "execution_count": 165,
   "id": "42e976d336eed60a",
   "metadata": {
    "ExecuteTime": {
     "end_time": "2023-09-11T17:39:06.046730900Z",
     "start_time": "2023-09-11T17:39:06.014987800Z"
    }
   },
   "outputs": [],
   "source": [
    "min_10_data['noisy_feature_column'] = x_values + noise\n",
    "noisy_signal=min_10_data['noisy_feature_column']"
   ]
  },
  {
   "cell_type": "code",
   "execution_count": 166,
   "id": "be32237c2c92ef89",
   "metadata": {
    "ExecuteTime": {
     "end_time": "2023-09-11T17:39:07.500876100Z",
     "start_time": "2023-09-11T17:39:06.697873600Z"
    }
   },
   "outputs": [],
   "source": [
    "event=[]\n",
    "labe=[]\n",
    "temp=[]\n",
    "for index,value in y_values.items():\n",
    "    if value==1:\n",
    "        temp.append(noisy_signal[index])\n",
    "        if (index+1)<len(y_values) and y_values[index+1]==0:\n",
    "            event.append(temp)\n",
    "            labe.append(1)\n",
    "            temp=[]\n",
    "    if value==0:\n",
    "        temp.append(noisy_signal[index])\n",
    "        if (index+1)<len(y_values) and y_values[index+1]==1:\n",
    "            event.append(temp)\n",
    "            labe.append(0)\n",
    "            temp=[]"
   ]
  },
  {
   "cell_type": "code",
   "execution_count": 167,
   "id": "57ba202a0e231025",
   "metadata": {
    "ExecuteTime": {
     "end_time": "2023-09-11T17:39:08.566984900Z",
     "start_time": "2023-09-11T17:39:08.519571100Z"
    }
   },
   "outputs": [
    {
     "name": "stdout",
     "output_type": "stream",
     "text": [
      "144\n",
      "145\n"
     ]
    }
   ],
   "source": [
    "# Checking the Number of events\n",
    "zero=0\n",
    "one=0\n",
    "for value in labe:\n",
    "    if value==0:\n",
    "        zero+=1\n",
    "    if value==1:\n",
    "        one+=1\n",
    "print(zero)\n",
    "print(one)"
   ]
  },
  {
   "cell_type": "code",
   "execution_count": 168,
   "id": "b3c90a5b69075594",
   "metadata": {
    "ExecuteTime": {
     "end_time": "2023-09-11T17:39:09.426354Z",
     "start_time": "2023-09-11T17:39:09.378892600Z"
    }
   },
   "outputs": [],
   "source": [
    "event=pad_sequences(event,padding='post',truncating='post',dtype=float,maxlen=50)\n",
    "labe=np.array(labe)\n",
    "labe=labe.reshape(-1,1)\n",
    "event=event.reshape(event.shape[0], event.shape[1], 1)"
   ]
  },
  {
   "cell_type": "code",
   "execution_count": 169,
   "id": "cdb1884e84e78325",
   "metadata": {
    "ExecuteTime": {
     "end_time": "2023-09-11T17:39:10.652805400Z",
     "start_time": "2023-09-11T17:39:10.598071700Z"
    }
   },
   "outputs": [],
   "source": [
    "# For 10 Min Data set\n",
    "m_10=event.shape[0]\n",
    "s0_10 = np.zeros((m_10, n_s))\n",
    "c0_10 = np.zeros((m_10, n_s))"
   ]
  },
  {
   "cell_type": "code",
   "execution_count": 170,
   "id": "7aca533c15237dc0",
   "metadata": {
    "ExecuteTime": {
     "end_time": "2023-09-11T17:39:11.387959400Z",
     "start_time": "2023-09-11T17:39:11.202982700Z"
    }
   },
   "outputs": [
    {
     "name": "stdout",
     "output_type": "stream",
     "text": [
      "10/10 [==============================] - 0s 7ms/step\n"
     ]
    }
   ],
   "source": [
    "predictions_10 = model.predict([event, s0_10, c0_10])\n",
    "predictions_10 = np.round(predictions_10)"
   ]
  },
  {
   "cell_type": "code",
   "execution_count": 171,
   "id": "22cfa27a901622ba",
   "metadata": {
    "ExecuteTime": {
     "end_time": "2023-09-11T17:39:12.258351400Z",
     "start_time": "2023-09-11T17:39:12.226778400Z"
    }
   },
   "outputs": [
    {
     "name": "stdout",
     "output_type": "stream",
     "text": [
      "0.6620689655172414\n"
     ]
    }
   ],
   "source": [
    "predictions_10_count=np.count_nonzero(predictions_10==1)\n",
    "actual_10_count=np.count_nonzero(labe==1)\n",
    "print(predictions_10_count/actual_10_count)"
   ]
  },
  {
   "cell_type": "code",
   "execution_count": 172,
   "id": "be6d7f59e3fc9735",
   "metadata": {
    "ExecuteTime": {
     "end_time": "2023-09-11T17:39:14.121752500Z",
     "start_time": "2023-09-11T17:39:14.039909500Z"
    }
   },
   "outputs": [
    {
     "name": "stdout",
     "output_type": "stream",
     "text": [
      "              precision    recall  f1-score   support\n",
      "\n",
      "         0.0       0.95      0.71      0.81       193\n",
      "         1.0       0.61      0.93      0.74        96\n",
      "\n",
      "    accuracy                           0.78       289\n",
      "   macro avg       0.78      0.82      0.78       289\n",
      "weighted avg       0.84      0.78      0.79       289\n"
     ]
    }
   ],
   "source": [
    "report = classification_report(predictions_10,labe)\n",
    "print(report)"
   ]
  },
  {
   "cell_type": "markdown",
   "id": "274ea19878ec8cc2",
   "metadata": {},
   "source": [
    "**Conclusion**\n",
    "As of the testing results these are some my point of views:\n",
    "1- As you see while testing on noisy that every time noise is different in real world the case is also same. Every time when you run the noise addition cell\n",
    "the noise comes different so the accuracy and F1 score also increases or decreases.\n",
    "2- As results are not quite good predictable because the model is not generalizing well on Train set.\n",
    "3- The reason is also same here because the noise is different every time and model is not getting generalized well."
   ]
  },
  {
   "cell_type": "code",
   "execution_count": null,
   "id": "f4c8df0b27562c17",
   "metadata": {},
   "outputs": [],
   "source": []
  }
 ],
 "metadata": {
  "kernelspec": {
   "display_name": "Python 3 (ipykernel)",
   "language": "python",
   "name": "python3"
  },
  "language_info": {
   "codemirror_mode": {
    "name": "ipython",
    "version": 3
   },
   "file_extension": ".py",
   "mimetype": "text/x-python",
   "name": "python",
   "nbconvert_exporter": "python",
   "pygments_lexer": "ipython3",
   "version": "3.10.7"
  }
 },
 "nbformat": 4,
 "nbformat_minor": 5
}
